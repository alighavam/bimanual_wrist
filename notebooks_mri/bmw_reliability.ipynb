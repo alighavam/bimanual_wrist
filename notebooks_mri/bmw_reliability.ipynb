{
 "cells": [
  {
   "cell_type": "code",
   "execution_count": 3,
   "metadata": {},
   "outputs": [],
   "source": [
    "import os\n",
    "import sys\n",
    "sys.path.append('/Users/aghavamp/Desktop/Projects')\n",
    "sys.path.append('/Users/aghavamp/Desktop/Projects/Functional_Fusion')\n",
    "import getpass\n",
    "import importlib\n",
    "\n",
    "import scipy.io as sio\n",
    "import rsatoolbox as rsa\n",
    "from rsatoolbox.io import spm as spm_io\n",
    "import matplotlib.pyplot as plt\n",
    "import numpy as np\n",
    "import pandas as pd\n",
    "import surfAnalysisPy as surf\n",
    "import SUITPy as suit\n",
    "import nibabel as nb\n",
    "import nitools as nt\n",
    "from matplotlib.cm import ScalarMappable\n",
    "import matplotlib.cm as cm\n",
    "import matplotlib.colors as mcolors\n",
    "from pathlib import Path\n",
    "import seaborn as sns\n",
    "import PcmPy as pcm\n",
    "import Functional_Fusion.atlas_map as am\n",
    "import Functional_Fusion.reliability as rel\n",
    "import glob\n",
    "import matplotlib.patches as patches\n",
    "\n",
    "# SET PATHS:\n",
    "baseDir = os.path.join('/Users', getpass.getuser(), 'Desktop', 'Projects', 'bimanual_wrist', 'data', 'fMRI')\n",
    "bidsDir = 'BIDS'\n",
    "anatomicalDir = 'anatomicals'\n",
    "freesurferDir = 'surfaceFreesurfer'\n",
    "surfacewbDir = 'surfaceWB' \n",
    "behavDir = 'behavioural'\n",
    "regDir = 'ROI'\n",
    "atlasDir = '/Volumes/diedrichsen_data$/data/Atlas_templates/fs_LR_32'\n"
   ]
  },
  {
   "cell_type": "markdown",
   "metadata": {},
   "source": [
    "## Get region data"
   ]
  },
  {
   "cell_type": "code",
   "execution_count": 9,
   "metadata": {},
   "outputs": [
    {
     "name": "stdout",
     "output_type": "stream",
     "text": [
      "Extracting region S1 (1)\n",
      "Extracting region M1 (2)\n",
      "Extracting region PMd (3)\n",
      "Extracting region PMv (4)\n",
      "Extracting region SMA (5)\n",
      "Extracting region V1 (6)\n",
      "Extracting region SPLa (7)\n",
      "Extracting region SPLp (8)\n"
     ]
    }
   ],
   "source": [
    "sn = 8\n",
    "glm = 3\n",
    "region_labels = [1, 2, 3, 4, 5, 6, 7, 8]\n",
    "region_names = ['S1', 'M1', 'PMd', 'PMv', 'SMA', 'V1', 'SPLa', 'SPLp']\n",
    "\n",
    "#  Define atlas map\n",
    "white = os.path.join(baseDir, surfacewbDir, f's{sn:02d}', f's{sn:02d}.L.white.32k.surf.gii') # Individual white surface\n",
    "pial = os.path.join(baseDir, surfacewbDir, f's{sn:02d}', f's{sn:02d}.L.pial.32k.surf.gii') # Invividual pial surface\n",
    "mask = os.path.join(baseDir, f'glm{glm}', f's{sn:02d}', 'mask.nii') # Mask in functional space for that subject\n",
    "\n",
    "# File names for data extraction\n",
    "nii_names = sorted(glob.glob(os.path.join(baseDir, f'glm{glm}', f's{sn:02d}', \"beta_*.nii\")))\n",
    "nii_names = nii_names[0:480] # remove the run constant regressors\n",
    "resMS_name = [os.path.join(baseDir, f'glm{glm}', f's{sn:02d}', 'ResMS.nii')]\n",
    "spmT_names = glob.glob(os.path.join(baseDir, f'glm{glm}', f's{sn:02d}', \"spmT*.nii\"))\n",
    "\n",
    "beta = []\n",
    "resMS = []\n",
    "beta_white = []\n",
    "spmT = []\n",
    "for i, r in enumerate(region_labels):\n",
    "    print(f'Extracting region {region_names[i]} ({r})')\n",
    "    atlas,_ = am.get_atlas('fs32k')\n",
    "    atlas_left = atlas.get_hemisphere(0)\n",
    "    subatlas = atlas_left.get_subatlas_image(os.path.join(atlasDir,'ROI.32k.L.label.gii'), value=r)\n",
    "    amap = am.AtlasMapSurf(subatlas.vertex[0],white,pial,mask) # Atlas map\n",
    "    # Compute the voxels in native space\n",
    "    amap.build()\n",
    "\n",
    "    # save the ROI mask in native space for checking purposes\n",
    "    amap.save_as_image(os.path.join(baseDir, regDir, f's{sn:02d}', f'amap_ROI_{sn:02d}_glm{glm}_{region_names[i]}.nii'))\n",
    "    \n",
    "    # This extract all the relevant voxels in native space (use for RSA)\n",
    "    beta.append(amap.extract_data_native(nii_names))\n",
    "    resMS.append(amap.extract_data_native(resMS_name))\n",
    "    beta_white.append(beta[i]/np.sqrt(resMS[i]))\n",
    "    spmT.append(amap.extract_data_native(spmT_names))\n",
    "\n",
    "regressor_info = pd.read_table(os.path.join(baseDir, f'glm{glm}', f's{sn:02d}', 'reginfo.tsv'))\n"
   ]
  },
  {
   "cell_type": "markdown",
   "metadata": {},
   "source": [
    "## Reliability"
   ]
  },
  {
   "cell_type": "code",
   "execution_count": 10,
   "metadata": {},
   "outputs": [
    {
     "data": {
      "image/png": "[encoded data removed]",
      "text/plain": [
       "<Figure size 500x300 with 1 Axes>"
      ]
     },
     "metadata": {},
     "output_type": "display_data"
    },
    {
     "name": "stdout",
     "output_type": "stream",
     "text": [
      "M1+S1 SNR: mean = 17.28100409821075\n"
     ]
    }
   ],
   "source": [
    "snr_dict = {\n",
    "    'ROI': [],\n",
    "    'ROI_name': [],\n",
    "    'SNR': []\n",
    "}\n",
    "\n",
    "part_vec = regressor_info['run'].values.flatten()\n",
    "conds = regressor_info['name'].values.flatten()\n",
    "# conds_shortened = [s.split(\":\")[1].split(\",\")[0] + \"_r\" + s.split(\":\")[2] for s in conds]\n",
    "# conds_chords_only = [s.split(\":\")[1].split(\",\")[0] for s in conds]\n",
    "# conds = np.array(conds_chords_only)\n",
    "# conds = np.array(conds_shortened)\n",
    "\n",
    "for i, r in enumerate(region_labels):\n",
    "    X = beta_white[i]   # region data: N by P matrix\n",
    "    # remove nan columns:\n",
    "    X = X[:, ~np.isnan(X).all(axis=0)]\n",
    "    \n",
    "    snr = rel.within_subj(X, conds, part_vec, separate='none',\n",
    "                                            subtract_mean=True)\n",
    "    \n",
    "    # Make a n_partition X n_cond X n_voxels matrix:\n",
    "    # Determine unique conditions and number of partitions\n",
    "    # N = X.shape[0]\n",
    "    # P = X.shape[1]\n",
    "    # unique_conds = np.unique(conds)\n",
    "    # n_cond = len(unique_conds)\n",
    "    # n_partition = N // n_cond  # Assumes conditions are evenly distributed across partitions\n",
    "\n",
    "    # # Create Y by grouping rows based on condition labels\n",
    "    # Y = np.zeros((n_partition, n_cond, P))  # Initialize output\n",
    "    # for j, cond in enumerate(unique_conds):  # Loop over conditions\n",
    "    #     Y[:, j, :] = X[conds == cond]  # Select rows where condition matches\n",
    "\n",
    "    # snr = ds.decompose_pattern_into_group_indiv_noise([Y], criterion='condition_wise') # DOES NOT WORK WITH ONE SUBEJCT\n",
    "    \n",
    "    # Append to data list\n",
    "    for s in snr:\n",
    "        snr_dict['ROI'].append(r)\n",
    "        snr_dict['ROI_name'].append(region_names[i])\n",
    "        snr_dict['SNR'].append(s)\n",
    "\n",
    "# Convert to DataFrame\n",
    "snr_df = pd.DataFrame(snr_dict)\n",
    "\n",
    "# Define custom properties for the box plot\n",
    "boxprops = dict(edgecolor='#000000', linewidth=1)\n",
    "whiskerprops = dict(color='#000000', linewidth=1)\n",
    "capprops = dict(visible=False)  # Remove the caps\n",
    "medianprops = dict(color='#000000', linewidth=1)\n",
    "\n",
    "fig, ax = plt.subplots(1, 1, figsize=(5, 3))\n",
    "sns.boxplot(data=snr_df, x='ROI_name', y='SNR', dodge=True, width=0.4, color='#ffffff', ax=ax,\n",
    "            boxprops=boxprops, whiskerprops=whiskerprops, capprops=capprops, medianprops=medianprops)\n",
    "\n",
    "ax.set_xlim([-1, 10])\n",
    "# ax.set_ylim([0, 0.1])\n",
    "ax.set_ylabel('within subj reliability (SNR)')\n",
    "\n",
    "# Make it pretty:\n",
    "ax.spines['top'].set_visible(False)\n",
    "ax.spines['right'].set_visible(False)\n",
    "ax.spines['left'].set_linewidth(1)\n",
    "ax.spines['bottom'].set_linewidth(1)\n",
    "\n",
    "ax.spines[\"left\"].set_bounds(ax.get_ylim()[0], ax.get_ylim()[-1])\n",
    "ax.spines[\"bottom\"].set_bounds(ax.get_xticks()[0], ax.get_xticks()[-1])\n",
    "\n",
    "plt.savefig(os.path.join('figures',f'bmw_snr_s{sn:02d}_glm{glm}.pdf'), format='pdf', bbox_inches='tight')\n",
    "\n",
    "plt.show()\n",
    "\n",
    "# print M1 and S1 SNR:\n",
    "avg_snr = np.mean(snr_df[snr_df['ROI'].isin([1,2])]['SNR'].values)\n",
    "print(f'M1+S1 SNR: mean = {avg_snr.mean()*100}')"
   ]
  }
 ],
 "metadata": {
  "kernelspec": {
   "display_name": "Python 3",
   "language": "python",
   "name": "python3"
  },
  "language_info": {
   "codemirror_mode": {
    "name": "ipython",
    "version": 3
   },
   "file_extension": ".py",
   "mimetype": "text/x-python",
   "name": "python",
   "nbconvert_exporter": "python",
   "pygments_lexer": "ipython3",
   "version": "3.11.11"
  }
 },
 "nbformat": 4,
 "nbformat_minor": 2
}
