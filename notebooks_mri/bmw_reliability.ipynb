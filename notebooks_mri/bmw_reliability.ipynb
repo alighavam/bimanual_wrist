{
 "cells": [
  {
   "cell_type": "code",
   "execution_count": 17,
   "metadata": {},
   "outputs": [],
   "source": [
    "import os\n",
    "import sys\n",
    "sys.path.append('/Users/aghavamp/Desktop/Projects')\n",
    "sys.path.append('/Users/aghavamp/Desktop/Projects/Functional_Fusion')\n",
    "import getpass\n",
    "import importlib\n",
    "import tqdm\n",
    "\n",
    "import scipy.io as sio\n",
    "import rsatoolbox as rsa\n",
    "from rsatoolbox.io import spm as spm_io\n",
    "import matplotlib.pyplot as plt\n",
    "import numpy as np\n",
    "import pandas as pd\n",
    "import surfAnalysisPy as surf\n",
    "import SUITPy as suit\n",
    "import nibabel as nb\n",
    "import nitools as nt\n",
    "from matplotlib.cm import ScalarMappable\n",
    "import matplotlib.cm as cm\n",
    "import matplotlib.colors as mcolors\n",
    "from pathlib import Path\n",
    "import seaborn as sns\n",
    "import PcmPy as pcm\n",
    "import Functional_Fusion.atlas_map as am\n",
    "import Functional_Fusion.reliability as rel\n",
    "import glob\n",
    "import matplotlib.patches as patches\n",
    "\n",
    "# SET PATHS:\n",
    "baseDir = os.path.join('/Users', getpass.getuser(), 'Desktop', 'Projects', 'bimanual_wrist', 'data', 'fMRI')\n",
    "bidsDir = 'BIDS'\n",
    "anatomicalDir = 'anatomicals'\n",
    "freesurferDir = 'surfaceFreesurfer'\n",
    "surfacewbDir = 'surfaceWB' \n",
    "behavDir = 'behavioural'\n",
    "regDir = 'ROI'\n",
    "atlasDir = '/Volumes/diedrichsen_data$/data/Atlas_templates/fs_LR_32'\n"
   ]
  },
  {
   "cell_type": "markdown",
   "metadata": {},
   "source": [
    "## ESTIMATE RELIABILITY"
   ]
  },
  {
   "cell_type": "code",
   "execution_count": null,
   "metadata": {},
   "outputs": [
    {
     "name": "stdout",
     "output_type": "stream",
     "text": [
      "sn_101, hem_L, Extracting region S1\n"
     ]
    },
    {
     "name": "stderr",
     "output_type": "stream",
     "text": [
      "/Users/aghavamp/Desktop/Projects/bimanual_wrist/.conda/lib/python3.11/site-packages/nitools/volume.py:122: RuntimeWarning: divide by zero encountered in matmul\n",
      "  ijk = mat[0:3,0:3] @ coords + mat[0:3,3:]\n",
      "/Users/aghavamp/Desktop/Projects/bimanual_wrist/.conda/lib/python3.11/site-packages/nitools/volume.py:122: RuntimeWarning: overflow encountered in matmul\n",
      "  ijk = mat[0:3,0:3] @ coords + mat[0:3,3:]\n",
      "/Users/aghavamp/Desktop/Projects/bimanual_wrist/.conda/lib/python3.11/site-packages/nitools/volume.py:122: RuntimeWarning: invalid value encountered in matmul\n",
      "  ijk = mat[0:3,0:3] @ coords + mat[0:3,3:]\n"
     ]
    },
    {
     "name": "stdout",
     "output_type": "stream",
     "text": [
      "sn_101, hem_L, Extracting region M1\n",
      "sn_101, hem_L, Extracting region PMd\n",
      "sn_101, hem_L, Extracting region PMv\n",
      "sn_101, hem_L, Extracting region SMA\n",
      "sn_101, hem_L, Extracting region V1\n",
      "sn_101, hem_L, Extracting region SPLa\n",
      "sn_101, hem_L, Extracting region SPLp\n",
      "sn_101, hem_R, Extracting region S1\n",
      "sn_101, hem_R, Extracting region M1\n",
      "sn_101, hem_R, Extracting region PMd\n",
      "sn_101, hem_R, Extracting region PMv\n",
      "sn_101, hem_R, Extracting region SMA\n",
      "sn_101, hem_R, Extracting region V1\n",
      "sn_101, hem_R, Extracting region SPLa\n",
      "sn_101, hem_R, Extracting region SPLp\n",
      "sn_102, hem_L, Extracting region S1\n"
     ]
    },
    {
     "name": "stderr",
     "output_type": "stream",
     "text": [
      "/Users/aghavamp/Desktop/Projects/bimanual_wrist/.conda/lib/python3.11/site-packages/nitools/volume.py:122: RuntimeWarning: divide by zero encountered in matmul\n",
      "  ijk = mat[0:3,0:3] @ coords + mat[0:3,3:]\n",
      "/Users/aghavamp/Desktop/Projects/bimanual_wrist/.conda/lib/python3.11/site-packages/nitools/volume.py:122: RuntimeWarning: overflow encountered in matmul\n",
      "  ijk = mat[0:3,0:3] @ coords + mat[0:3,3:]\n",
      "/Users/aghavamp/Desktop/Projects/bimanual_wrist/.conda/lib/python3.11/site-packages/nitools/volume.py:122: RuntimeWarning: invalid value encountered in matmul\n",
      "  ijk = mat[0:3,0:3] @ coords + mat[0:3,3:]\n"
     ]
    },
    {
     "name": "stdout",
     "output_type": "stream",
     "text": [
      "sn_102, hem_L, Extracting region M1\n",
      "sn_102, hem_L, Extracting region PMd\n",
      "sn_102, hem_L, Extracting region PMv\n",
      "sn_102, hem_L, Extracting region SMA\n",
      "sn_102, hem_L, Extracting region V1\n",
      "sn_102, hem_L, Extracting region SPLa\n",
      "sn_102, hem_L, Extracting region SPLp\n",
      "sn_102, hem_R, Extracting region S1\n",
      "sn_102, hem_R, Extracting region M1\n",
      "sn_102, hem_R, Extracting region PMd\n",
      "sn_102, hem_R, Extracting region PMv\n",
      "sn_102, hem_R, Extracting region SMA\n",
      "sn_102, hem_R, Extracting region V1\n",
      "sn_102, hem_R, Extracting region SPLa\n",
      "sn_102, hem_R, Extracting region SPLp\n",
      "sn_103, hem_L, Extracting region S1\n"
     ]
    },
    {
     "name": "stderr",
     "output_type": "stream",
     "text": [
      "/Users/aghavamp/Desktop/Projects/bimanual_wrist/.conda/lib/python3.11/site-packages/nitools/volume.py:122: RuntimeWarning: divide by zero encountered in matmul\n",
      "  ijk = mat[0:3,0:3] @ coords + mat[0:3,3:]\n",
      "/Users/aghavamp/Desktop/Projects/bimanual_wrist/.conda/lib/python3.11/site-packages/nitools/volume.py:122: RuntimeWarning: overflow encountered in matmul\n",
      "  ijk = mat[0:3,0:3] @ coords + mat[0:3,3:]\n",
      "/Users/aghavamp/Desktop/Projects/bimanual_wrist/.conda/lib/python3.11/site-packages/nitools/volume.py:122: RuntimeWarning: invalid value encountered in matmul\n",
      "  ijk = mat[0:3,0:3] @ coords + mat[0:3,3:]\n"
     ]
    },
    {
     "name": "stdout",
     "output_type": "stream",
     "text": [
      "sn_103, hem_L, Extracting region M1\n",
      "sn_103, hem_L, Extracting region PMd\n",
      "sn_103, hem_L, Extracting region PMv\n",
      "sn_103, hem_L, Extracting region SMA\n",
      "sn_103, hem_L, Extracting region V1\n",
      "sn_103, hem_L, Extracting region SPLa\n",
      "sn_103, hem_L, Extracting region SPLp\n",
      "sn_103, hem_R, Extracting region S1\n",
      "sn_103, hem_R, Extracting region M1\n",
      "sn_103, hem_R, Extracting region PMd\n",
      "sn_103, hem_R, Extracting region PMv\n",
      "sn_103, hem_R, Extracting region SMA\n",
      "sn_103, hem_R, Extracting region V1\n",
      "sn_103, hem_R, Extracting region SPLa\n",
      "sn_103, hem_R, Extracting region SPLp\n",
      "sn_104, hem_L, Extracting region S1\n"
     ]
    },
    {
     "name": "stderr",
     "output_type": "stream",
     "text": [
      "/Users/aghavamp/Desktop/Projects/bimanual_wrist/.conda/lib/python3.11/site-packages/nitools/volume.py:122: RuntimeWarning: divide by zero encountered in matmul\n",
      "  ijk = mat[0:3,0:3] @ coords + mat[0:3,3:]\n",
      "/Users/aghavamp/Desktop/Projects/bimanual_wrist/.conda/lib/python3.11/site-packages/nitools/volume.py:122: RuntimeWarning: overflow encountered in matmul\n",
      "  ijk = mat[0:3,0:3] @ coords + mat[0:3,3:]\n",
      "/Users/aghavamp/Desktop/Projects/bimanual_wrist/.conda/lib/python3.11/site-packages/nitools/volume.py:122: RuntimeWarning: invalid value encountered in matmul\n",
      "  ijk = mat[0:3,0:3] @ coords + mat[0:3,3:]\n"
     ]
    },
    {
     "name": "stdout",
     "output_type": "stream",
     "text": [
      "sn_104, hem_L, Extracting region M1\n",
      "sn_104, hem_L, Extracting region PMd\n",
      "sn_104, hem_L, Extracting region PMv\n",
      "sn_104, hem_L, Extracting region SMA\n",
      "sn_104, hem_L, Extracting region V1\n",
      "sn_104, hem_L, Extracting region SPLa\n",
      "sn_104, hem_L, Extracting region SPLp\n",
      "sn_104, hem_R, Extracting region S1\n",
      "sn_104, hem_R, Extracting region M1\n",
      "sn_104, hem_R, Extracting region PMd\n",
      "sn_104, hem_R, Extracting region PMv\n",
      "sn_104, hem_R, Extracting region SMA\n",
      "sn_104, hem_R, Extracting region V1\n",
      "sn_104, hem_R, Extracting region SPLa\n",
      "sn_104, hem_R, Extracting region SPLp\n",
      "sn_106, hem_L, Extracting region S1\n"
     ]
    },
    {
     "name": "stderr",
     "output_type": "stream",
     "text": [
      "/Users/aghavamp/Desktop/Projects/bimanual_wrist/.conda/lib/python3.11/site-packages/nitools/volume.py:122: RuntimeWarning: divide by zero encountered in matmul\n",
      "  ijk = mat[0:3,0:3] @ coords + mat[0:3,3:]\n",
      "/Users/aghavamp/Desktop/Projects/bimanual_wrist/.conda/lib/python3.11/site-packages/nitools/volume.py:122: RuntimeWarning: overflow encountered in matmul\n",
      "  ijk = mat[0:3,0:3] @ coords + mat[0:3,3:]\n",
      "/Users/aghavamp/Desktop/Projects/bimanual_wrist/.conda/lib/python3.11/site-packages/nitools/volume.py:122: RuntimeWarning: invalid value encountered in matmul\n",
      "  ijk = mat[0:3,0:3] @ coords + mat[0:3,3:]\n"
     ]
    },
    {
     "name": "stdout",
     "output_type": "stream",
     "text": [
      "sn_106, hem_L, Extracting region M1\n",
      "sn_106, hem_L, Extracting region PMd\n",
      "sn_106, hem_L, Extracting region PMv\n",
      "sn_106, hem_L, Extracting region SMA\n",
      "sn_106, hem_L, Extracting region V1\n",
      "sn_106, hem_L, Extracting region SPLa\n",
      "sn_106, hem_L, Extracting region SPLp\n",
      "sn_106, hem_R, Extracting region S1\n",
      "sn_106, hem_R, Extracting region M1\n",
      "sn_106, hem_R, Extracting region PMd\n",
      "sn_106, hem_R, Extracting region PMv\n",
      "sn_106, hem_R, Extracting region SMA\n",
      "sn_106, hem_R, Extracting region V1\n",
      "sn_106, hem_R, Extracting region SPLa\n",
      "sn_106, hem_R, Extracting region SPLp\n",
      "sn_107, hem_L, Extracting region S1\n"
     ]
    },
    {
     "name": "stderr",
     "output_type": "stream",
     "text": [
      "/Users/aghavamp/Desktop/Projects/bimanual_wrist/.conda/lib/python3.11/site-packages/nitools/volume.py:122: RuntimeWarning: divide by zero encountered in matmul\n",
      "  ijk = mat[0:3,0:3] @ coords + mat[0:3,3:]\n",
      "/Users/aghavamp/Desktop/Projects/bimanual_wrist/.conda/lib/python3.11/site-packages/nitools/volume.py:122: RuntimeWarning: overflow encountered in matmul\n",
      "  ijk = mat[0:3,0:3] @ coords + mat[0:3,3:]\n",
      "/Users/aghavamp/Desktop/Projects/bimanual_wrist/.conda/lib/python3.11/site-packages/nitools/volume.py:122: RuntimeWarning: invalid value encountered in matmul\n",
      "  ijk = mat[0:3,0:3] @ coords + mat[0:3,3:]\n"
     ]
    },
    {
     "name": "stdout",
     "output_type": "stream",
     "text": [
      "sn_107, hem_L, Extracting region M1\n",
      "sn_107, hem_L, Extracting region PMd\n",
      "sn_107, hem_L, Extracting region PMv\n",
      "sn_107, hem_L, Extracting region SMA\n",
      "sn_107, hem_L, Extracting region V1\n",
      "sn_107, hem_L, Extracting region SPLa\n",
      "sn_107, hem_L, Extracting region SPLp\n",
      "sn_107, hem_R, Extracting region S1\n",
      "sn_107, hem_R, Extracting region M1\n",
      "sn_107, hem_R, Extracting region PMd\n",
      "sn_107, hem_R, Extracting region PMv\n",
      "sn_107, hem_R, Extracting region SMA\n",
      "sn_107, hem_R, Extracting region V1\n",
      "sn_107, hem_R, Extracting region SPLa\n",
      "sn_107, hem_R, Extracting region SPLp\n",
      "sn_108, hem_L, Extracting region S1\n"
     ]
    },
    {
     "name": "stderr",
     "output_type": "stream",
     "text": [
      "/Users/aghavamp/Desktop/Projects/bimanual_wrist/.conda/lib/python3.11/site-packages/nitools/volume.py:122: RuntimeWarning: divide by zero encountered in matmul\n",
      "  ijk = mat[0:3,0:3] @ coords + mat[0:3,3:]\n",
      "/Users/aghavamp/Desktop/Projects/bimanual_wrist/.conda/lib/python3.11/site-packages/nitools/volume.py:122: RuntimeWarning: overflow encountered in matmul\n",
      "  ijk = mat[0:3,0:3] @ coords + mat[0:3,3:]\n",
      "/Users/aghavamp/Desktop/Projects/bimanual_wrist/.conda/lib/python3.11/site-packages/nitools/volume.py:122: RuntimeWarning: invalid value encountered in matmul\n",
      "  ijk = mat[0:3,0:3] @ coords + mat[0:3,3:]\n"
     ]
    },
    {
     "name": "stdout",
     "output_type": "stream",
     "text": [
      "sn_108, hem_L, Extracting region M1\n",
      "sn_108, hem_L, Extracting region PMd\n",
      "sn_108, hem_L, Extracting region PMv\n",
      "sn_108, hem_L, Extracting region SMA\n",
      "sn_108, hem_L, Extracting region V1\n",
      "sn_108, hem_L, Extracting region SPLa\n",
      "sn_108, hem_L, Extracting region SPLp\n",
      "sn_108, hem_R, Extracting region S1\n",
      "sn_108, hem_R, Extracting region M1\n",
      "sn_108, hem_R, Extracting region PMd\n",
      "sn_108, hem_R, Extracting region PMv\n",
      "sn_108, hem_R, Extracting region SMA\n",
      "sn_108, hem_R, Extracting region V1\n",
      "sn_108, hem_R, Extracting region SPLa\n",
      "sn_108, hem_R, Extracting region SPLp\n"
     ]
    }
   ],
   "source": [
    "glm = 3\n",
    "region_labels = [1, 2, 3, 4, 5, 6, 7, 8]\n",
    "region_names = ['S1', 'M1', 'PMd', 'PMv', 'SMA', 'V1', 'SPLa', 'SPLp']\n",
    "sn_list = [101, 102, 103, 104, 106, 107, 108]\n",
    "hem = ['L','R']\n",
    "atlas,_ = am.get_atlas('fs32k')\n",
    "ana = {'sn':[], \n",
    "       'hem':[],\n",
    "       'region':[],\n",
    "       'cond':[],\n",
    "       'r':[]}\n",
    "for sn in sn_list:\n",
    "    regressor_info = pd.read_table(os.path.join(baseDir, f'glm{glm}', f's{sn}', 'reginfo.tsv'))\n",
    "    partitions = regressor_info['run'].values.flatten()\n",
    "    conds = regressor_info['name'].values.flatten()\n",
    "    \n",
    "    for j, h in enumerate(hem):\n",
    "        # ========================================== \n",
    "        # DATA EXTRACTION \n",
    "        # ==========================================\n",
    "        #  Define atlas map\n",
    "        white = os.path.join(baseDir, surfacewbDir, f's{sn}', f's{sn}.{h}.white.32k.surf.gii') # Individual white surface\n",
    "        pial = os.path.join(baseDir, surfacewbDir, f's{sn}', f's{sn}.{h}.pial.32k.surf.gii') # Invividual pial surface\n",
    "        mask = os.path.join(baseDir, f'glm{glm}', f's{sn}', 'mask.nii') # Mask in functional space for that subject\n",
    "\n",
    "        # File names for data extraction\n",
    "        nii_names = sorted(glob.glob(os.path.join(baseDir, f'glm{glm}', f's{sn}', \"beta_*.nii\")))\n",
    "        nii_names = nii_names[0:480] # remove the run constant regressors\n",
    "        resMS_name = [os.path.join(baseDir, f'glm{glm}', f's{sn}', 'ResMS.nii')]\n",
    "        spmT_names = glob.glob(os.path.join(baseDir, f'glm{glm}', f's{sn}', \"spmT*.nii\"))\n",
    "\n",
    "        beta = []\n",
    "        resMS = []\n",
    "        beta_white = []\n",
    "        for i, r in enumerate(region_labels):\n",
    "            print(f'sn_{sn}, hem_{h}, Extracting region {region_names[i]}')\n",
    "            atlas_tmp = atlas.get_hemisphere(j)\n",
    "            subatlas = atlas_tmp.get_subatlas_image(os.path.join(atlasDir,f'ROI.32k.{h}.label.gii'), value=r)\n",
    "            amap = am.AtlasMapSurf(subatlas.vertex[0],white,pial,mask) # Atlas map\n",
    "            # Compute the voxels in native space\n",
    "            amap.build()\n",
    "\n",
    "            # save the ROI mask in native space for checking purposes\n",
    "            amap.save_as_image(os.path.join(baseDir, regDir, f's{sn}', f'amap_ROI_s{sn}_glm{glm}_{h}_{region_names[i]}.nii'))\n",
    "            \n",
    "            # This extract all the relevant voxels in native space (use for RSA)\n",
    "            idx_nan = np.isnan(beta_white).any(axis=0)\n",
    "            beta = amap.extract_data_native(nii_names)\n",
    "            resMS = amap.extract_data_native(resMS_name)\n",
    "            beta_white = beta/np.sqrt(resMS)\n",
    "            beta_white = beta_white[:, ~np.isnan(beta_white).any(axis=0)]\n",
    "            \n",
    "            # ========================================== \n",
    "            # RELIABILITY ESTIMATION\n",
    "            # ==========================================\n",
    "            # left hand:\n",
    "            idx_left = ['lhand' in tmp for tmp in conds]\n",
    "            data = beta_white[idx_left,:]\n",
    "            cond_vec = conds[idx_left]\n",
    "            part_vec = partitions[idx_left]\n",
    "            ana['r'].append(rel.within_subj(data, cond_vec, part_vec,\n",
    "                            separate = 'none',\n",
    "                            subtract_mean=True))\n",
    "            ana['sn'].append(sn)\n",
    "            ana['hem'].append(h)\n",
    "            ana['region'].append(region_names[i])\n",
    "            ana['cond'].append('left')\n",
    "\n",
    "            # right hand:\n",
    "            idx_right = ['rhand' in tmp for tmp in conds]\n",
    "            data = beta_white[idx_right,:]\n",
    "            cond_vec = conds[idx_right]\n",
    "            part_vec = partitions[idx_right]\n",
    "            ana['r'].append(rel.within_subj(data, cond_vec, part_vec,\n",
    "                            separate = 'none',\n",
    "                            subtract_mean=True))\n",
    "            ana['sn'].append(sn)\n",
    "            ana['hem'].append(h)\n",
    "            ana['region'].append(region_names[i])\n",
    "            ana['cond'].append('right')\n",
    "\n",
    "            # bimanual:\n",
    "            idx_bimanual = ['bi' in tmp for tmp in conds]\n",
    "            data = beta_white[idx_bimanual,:]\n",
    "            cond_vec = conds[idx_bimanual]\n",
    "            part_vec = partitions[idx_bimanual]\n",
    "            ana['r'].append(rel.within_subj(data, cond_vec, part_vec,\n",
    "                            separate = 'none',\n",
    "                            subtract_mean=True))\n",
    "            ana['sn'].append(sn)\n",
    "            ana['hem'].append(h)\n",
    "            ana['region'].append(region_names[i])\n",
    "            ana['cond'].append('bimanual')\n",
    "\n",
    "ana = pd.DataFrame(ana)\n",
    "\n"
   ]
  }
 ],
 "metadata": {
  "kernelspec": {
   "display_name": "Python 3",
   "language": "python",
   "name": "python3"
  },
  "language_info": {
   "codemirror_mode": {
    "name": "ipython",
    "version": 3
   },
   "file_extension": ".py",
   "mimetype": "text/x-python",
   "name": "python",
   "nbconvert_exporter": "python",
   "pygments_lexer": "ipython3",
   "version": "3.11.11"
  }
 },
 "nbformat": 4,
 "nbformat_minor": 2
}
