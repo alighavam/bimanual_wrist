{
 "cells": [
  {
   "cell_type": "code",
   "execution_count": 1,
   "metadata": {},
   "outputs": [],
   "source": [
    "import os\n",
    "import sys\n",
    "sys.path.append('/Users/aghavamp/Desktop/Projects')\n",
    "sys.path.append('/Users/aghavamp/Desktop/Projects/Functional_Fusion')\n",
    "sys.path.append('/Users/aghavamp/Desktop/Projects/SUITPy')\n",
    "import getpass\n",
    "import importlib\n",
    "import tqdm\n",
    "\n",
    "import scipy.io as sio\n",
    "import rsatoolbox as rsa\n",
    "from rsatoolbox.io import spm as spm_io\n",
    "import matplotlib.pyplot as plt\n",
    "import numpy as np\n",
    "import pandas as pd\n",
    "import surfAnalysisPy as surf\n",
    "# import SUITPy as suit\n",
    "import nibabel as nb\n",
    "import nitools as nt\n",
    "from matplotlib.cm import ScalarMappable\n",
    "import matplotlib.cm as cm\n",
    "import matplotlib.colors as mcolors\n",
    "from pathlib import Path\n",
    "import seaborn as sns\n",
    "import PcmPy as pcm\n",
    "import Functional_Fusion.atlas_map as am\n",
    "import Functional_Fusion.reliability as rel\n",
    "import glob\n",
    "import matplotlib.patches as patches\n",
    "\n",
    "# SET PATHS:\n",
    "baseDir = os.path.join('/Users', getpass.getuser(), 'Desktop', 'Projects', 'bimanual_wrist', 'data', 'fMRI')\n",
    "bidsDir = 'BIDS'\n",
    "anatomicalDir = 'anatomicals'\n",
    "freesurferDir = 'surfaceFreesurfer'\n",
    "surfacewbDir = 'surfaceWB' \n",
    "behavDir = 'behavioural'\n",
    "regDir = 'ROI'\n",
    "atlasDir = '/Volumes/diedrichsen_data$/data/Atlas_templates/fs_LR_32'\n",
    "\n"
   ]
  },
  {
   "cell_type": "markdown",
   "metadata": {},
   "source": [
    "## ResMs ON SURFACE"
   ]
  },
  {
   "cell_type": "code",
   "execution_count": 4,
   "metadata": {},
   "outputs": [
    {
     "name": "stdout",
     "output_type": "stream",
     "text": [
      "Warning: excludeThres option currently not supported. Resetting excludeThres to 0.\n",
      "Warning: excludeThres option currently not supported. Resetting excludeThres to 0.\n"
     ]
    },
    {
     "name": "stderr",
     "output_type": "stream",
     "text": [
      "/Users/aghavamp/Desktop/Projects/bimanual_wrist/.conda/lib/python3.11/site-packages/nitools/volume.py:47: RuntimeWarning: divide by zero encountered in matmul\n",
      "  y = M[0:3,0:3] @ x + M[0:3,3:]\n",
      "/Users/aghavamp/Desktop/Projects/bimanual_wrist/.conda/lib/python3.11/site-packages/nitools/volume.py:47: RuntimeWarning: overflow encountered in matmul\n",
      "  y = M[0:3,0:3] @ x + M[0:3,3:]\n",
      "/Users/aghavamp/Desktop/Projects/bimanual_wrist/.conda/lib/python3.11/site-packages/nitools/volume.py:47: RuntimeWarning: invalid value encountered in matmul\n",
      "  y = M[0:3,0:3] @ x + M[0:3,3:]\n",
      "/Users/aghavamp/Desktop/Projects/bimanual_wrist/.conda/lib/python3.11/site-packages/nitools/volume.py:47: RuntimeWarning: divide by zero encountered in matmul\n",
      "  y = M[0:3,0:3] @ x + M[0:3,3:]\n",
      "/Users/aghavamp/Desktop/Projects/bimanual_wrist/.conda/lib/python3.11/site-packages/nitools/volume.py:47: RuntimeWarning: overflow encountered in matmul\n",
      "  y = M[0:3,0:3] @ x + M[0:3,3:]\n",
      "/Users/aghavamp/Desktop/Projects/bimanual_wrist/.conda/lib/python3.11/site-packages/nitools/volume.py:47: RuntimeWarning: invalid value encountered in matmul\n",
      "  y = M[0:3,0:3] @ x + M[0:3,3:]\n",
      "/var/folders/sc/kmc7_9gn2hqd_lrnhdt_2s580000gn/T/ipykernel_6274/2683218496.py:60: UserWarning: This figure includes Axes that are not compatible with tight_layout, so results might be incorrect.\n",
      "  fig.tight_layout()\n"
     ]
    },
    {
     "name": "stdout",
     "output_type": "stream",
     "text": [
      "Warning: excludeThres option currently not supported. Resetting excludeThres to 0.\n",
      "Warning: excludeThres option currently not supported. Resetting excludeThres to 0.\n"
     ]
    },
    {
     "name": "stderr",
     "output_type": "stream",
     "text": [
      "/Users/aghavamp/Desktop/Projects/bimanual_wrist/.conda/lib/python3.11/site-packages/nitools/volume.py:47: RuntimeWarning: divide by zero encountered in matmul\n",
      "  y = M[0:3,0:3] @ x + M[0:3,3:]\n",
      "/Users/aghavamp/Desktop/Projects/bimanual_wrist/.conda/lib/python3.11/site-packages/nitools/volume.py:47: RuntimeWarning: overflow encountered in matmul\n",
      "  y = M[0:3,0:3] @ x + M[0:3,3:]\n",
      "/Users/aghavamp/Desktop/Projects/bimanual_wrist/.conda/lib/python3.11/site-packages/nitools/volume.py:47: RuntimeWarning: invalid value encountered in matmul\n",
      "  y = M[0:3,0:3] @ x + M[0:3,3:]\n",
      "/Users/aghavamp/Desktop/Projects/bimanual_wrist/.conda/lib/python3.11/site-packages/nitools/volume.py:47: RuntimeWarning: divide by zero encountered in matmul\n",
      "  y = M[0:3,0:3] @ x + M[0:3,3:]\n",
      "/Users/aghavamp/Desktop/Projects/bimanual_wrist/.conda/lib/python3.11/site-packages/nitools/volume.py:47: RuntimeWarning: overflow encountered in matmul\n",
      "  y = M[0:3,0:3] @ x + M[0:3,3:]\n",
      "/Users/aghavamp/Desktop/Projects/bimanual_wrist/.conda/lib/python3.11/site-packages/nitools/volume.py:47: RuntimeWarning: invalid value encountered in matmul\n",
      "  y = M[0:3,0:3] @ x + M[0:3,3:]\n",
      "/var/folders/sc/kmc7_9gn2hqd_lrnhdt_2s580000gn/T/ipykernel_6274/2683218496.py:60: UserWarning: This figure includes Axes that are not compatible with tight_layout, so results might be incorrect.\n",
      "  fig.tight_layout()\n"
     ]
    },
    {
     "name": "stdout",
     "output_type": "stream",
     "text": [
      "Warning: excludeThres option currently not supported. Resetting excludeThres to 0.\n",
      "Warning: excludeThres option currently not supported. Resetting excludeThres to 0.\n"
     ]
    },
    {
     "name": "stderr",
     "output_type": "stream",
     "text": [
      "/Users/aghavamp/Desktop/Projects/bimanual_wrist/.conda/lib/python3.11/site-packages/nitools/volume.py:47: RuntimeWarning: divide by zero encountered in matmul\n",
      "  y = M[0:3,0:3] @ x + M[0:3,3:]\n",
      "/Users/aghavamp/Desktop/Projects/bimanual_wrist/.conda/lib/python3.11/site-packages/nitools/volume.py:47: RuntimeWarning: overflow encountered in matmul\n",
      "  y = M[0:3,0:3] @ x + M[0:3,3:]\n",
      "/Users/aghavamp/Desktop/Projects/bimanual_wrist/.conda/lib/python3.11/site-packages/nitools/volume.py:47: RuntimeWarning: invalid value encountered in matmul\n",
      "  y = M[0:3,0:3] @ x + M[0:3,3:]\n",
      "/Users/aghavamp/Desktop/Projects/bimanual_wrist/.conda/lib/python3.11/site-packages/nitools/volume.py:47: RuntimeWarning: divide by zero encountered in matmul\n",
      "  y = M[0:3,0:3] @ x + M[0:3,3:]\n",
      "/Users/aghavamp/Desktop/Projects/bimanual_wrist/.conda/lib/python3.11/site-packages/nitools/volume.py:47: RuntimeWarning: overflow encountered in matmul\n",
      "  y = M[0:3,0:3] @ x + M[0:3,3:]\n",
      "/Users/aghavamp/Desktop/Projects/bimanual_wrist/.conda/lib/python3.11/site-packages/nitools/volume.py:47: RuntimeWarning: invalid value encountered in matmul\n",
      "  y = M[0:3,0:3] @ x + M[0:3,3:]\n",
      "/var/folders/sc/kmc7_9gn2hqd_lrnhdt_2s580000gn/T/ipykernel_6274/2683218496.py:60: UserWarning: This figure includes Axes that are not compatible with tight_layout, so results might be incorrect.\n",
      "  fig.tight_layout()\n"
     ]
    },
    {
     "name": "stdout",
     "output_type": "stream",
     "text": [
      "Warning: excludeThres option currently not supported. Resetting excludeThres to 0.\n",
      "Warning: excludeThres option currently not supported. Resetting excludeThres to 0.\n"
     ]
    },
    {
     "name": "stderr",
     "output_type": "stream",
     "text": [
      "/Users/aghavamp/Desktop/Projects/bimanual_wrist/.conda/lib/python3.11/site-packages/nitools/volume.py:47: RuntimeWarning: divide by zero encountered in matmul\n",
      "  y = M[0:3,0:3] @ x + M[0:3,3:]\n",
      "/Users/aghavamp/Desktop/Projects/bimanual_wrist/.conda/lib/python3.11/site-packages/nitools/volume.py:47: RuntimeWarning: overflow encountered in matmul\n",
      "  y = M[0:3,0:3] @ x + M[0:3,3:]\n",
      "/Users/aghavamp/Desktop/Projects/bimanual_wrist/.conda/lib/python3.11/site-packages/nitools/volume.py:47: RuntimeWarning: invalid value encountered in matmul\n",
      "  y = M[0:3,0:3] @ x + M[0:3,3:]\n",
      "/Users/aghavamp/Desktop/Projects/bimanual_wrist/.conda/lib/python3.11/site-packages/nitools/volume.py:47: RuntimeWarning: divide by zero encountered in matmul\n",
      "  y = M[0:3,0:3] @ x + M[0:3,3:]\n",
      "/Users/aghavamp/Desktop/Projects/bimanual_wrist/.conda/lib/python3.11/site-packages/nitools/volume.py:47: RuntimeWarning: overflow encountered in matmul\n",
      "  y = M[0:3,0:3] @ x + M[0:3,3:]\n",
      "/Users/aghavamp/Desktop/Projects/bimanual_wrist/.conda/lib/python3.11/site-packages/nitools/volume.py:47: RuntimeWarning: invalid value encountered in matmul\n",
      "  y = M[0:3,0:3] @ x + M[0:3,3:]\n",
      "/var/folders/sc/kmc7_9gn2hqd_lrnhdt_2s580000gn/T/ipykernel_6274/2683218496.py:60: UserWarning: This figure includes Axes that are not compatible with tight_layout, so results might be incorrect.\n",
      "  fig.tight_layout()\n"
     ]
    },
    {
     "name": "stdout",
     "output_type": "stream",
     "text": [
      "Warning: excludeThres option currently not supported. Resetting excludeThres to 0.\n",
      "Warning: excludeThres option currently not supported. Resetting excludeThres to 0.\n"
     ]
    },
    {
     "name": "stderr",
     "output_type": "stream",
     "text": [
      "/Users/aghavamp/Desktop/Projects/bimanual_wrist/.conda/lib/python3.11/site-packages/nitools/volume.py:47: RuntimeWarning: divide by zero encountered in matmul\n",
      "  y = M[0:3,0:3] @ x + M[0:3,3:]\n",
      "/Users/aghavamp/Desktop/Projects/bimanual_wrist/.conda/lib/python3.11/site-packages/nitools/volume.py:47: RuntimeWarning: overflow encountered in matmul\n",
      "  y = M[0:3,0:3] @ x + M[0:3,3:]\n",
      "/Users/aghavamp/Desktop/Projects/bimanual_wrist/.conda/lib/python3.11/site-packages/nitools/volume.py:47: RuntimeWarning: invalid value encountered in matmul\n",
      "  y = M[0:3,0:3] @ x + M[0:3,3:]\n",
      "/Users/aghavamp/Desktop/Projects/bimanual_wrist/.conda/lib/python3.11/site-packages/nitools/volume.py:47: RuntimeWarning: divide by zero encountered in matmul\n",
      "  y = M[0:3,0:3] @ x + M[0:3,3:]\n",
      "/Users/aghavamp/Desktop/Projects/bimanual_wrist/.conda/lib/python3.11/site-packages/nitools/volume.py:47: RuntimeWarning: overflow encountered in matmul\n",
      "  y = M[0:3,0:3] @ x + M[0:3,3:]\n",
      "/Users/aghavamp/Desktop/Projects/bimanual_wrist/.conda/lib/python3.11/site-packages/nitools/volume.py:47: RuntimeWarning: invalid value encountered in matmul\n",
      "  y = M[0:3,0:3] @ x + M[0:3,3:]\n",
      "/var/folders/sc/kmc7_9gn2hqd_lrnhdt_2s580000gn/T/ipykernel_6274/2683218496.py:60: UserWarning: This figure includes Axes that are not compatible with tight_layout, so results might be incorrect.\n",
      "  fig.tight_layout()\n"
     ]
    },
    {
     "name": "stdout",
     "output_type": "stream",
     "text": [
      "Warning: excludeThres option currently not supported. Resetting excludeThres to 0.\n",
      "Warning: excludeThres option currently not supported. Resetting excludeThres to 0.\n"
     ]
    },
    {
     "name": "stderr",
     "output_type": "stream",
     "text": [
      "/Users/aghavamp/Desktop/Projects/bimanual_wrist/.conda/lib/python3.11/site-packages/nitools/volume.py:47: RuntimeWarning: divide by zero encountered in matmul\n",
      "  y = M[0:3,0:3] @ x + M[0:3,3:]\n",
      "/Users/aghavamp/Desktop/Projects/bimanual_wrist/.conda/lib/python3.11/site-packages/nitools/volume.py:47: RuntimeWarning: overflow encountered in matmul\n",
      "  y = M[0:3,0:3] @ x + M[0:3,3:]\n",
      "/Users/aghavamp/Desktop/Projects/bimanual_wrist/.conda/lib/python3.11/site-packages/nitools/volume.py:47: RuntimeWarning: invalid value encountered in matmul\n",
      "  y = M[0:3,0:3] @ x + M[0:3,3:]\n",
      "/Users/aghavamp/Desktop/Projects/bimanual_wrist/.conda/lib/python3.11/site-packages/nitools/volume.py:47: RuntimeWarning: divide by zero encountered in matmul\n",
      "  y = M[0:3,0:3] @ x + M[0:3,3:]\n",
      "/Users/aghavamp/Desktop/Projects/bimanual_wrist/.conda/lib/python3.11/site-packages/nitools/volume.py:47: RuntimeWarning: overflow encountered in matmul\n",
      "  y = M[0:3,0:3] @ x + M[0:3,3:]\n",
      "/Users/aghavamp/Desktop/Projects/bimanual_wrist/.conda/lib/python3.11/site-packages/nitools/volume.py:47: RuntimeWarning: invalid value encountered in matmul\n",
      "  y = M[0:3,0:3] @ x + M[0:3,3:]\n",
      "/var/folders/sc/kmc7_9gn2hqd_lrnhdt_2s580000gn/T/ipykernel_6274/2683218496.py:60: UserWarning: This figure includes Axes that are not compatible with tight_layout, so results might be incorrect.\n",
      "  fig.tight_layout()\n"
     ]
    },
    {
     "name": "stdout",
     "output_type": "stream",
     "text": [
      "Warning: excludeThres option currently not supported. Resetting excludeThres to 0.\n",
      "Warning: excludeThres option currently not supported. Resetting excludeThres to 0.\n"
     ]
    },
    {
     "name": "stderr",
     "output_type": "stream",
     "text": [
      "/Users/aghavamp/Desktop/Projects/bimanual_wrist/.conda/lib/python3.11/site-packages/nitools/volume.py:47: RuntimeWarning: divide by zero encountered in matmul\n",
      "  y = M[0:3,0:3] @ x + M[0:3,3:]\n",
      "/Users/aghavamp/Desktop/Projects/bimanual_wrist/.conda/lib/python3.11/site-packages/nitools/volume.py:47: RuntimeWarning: overflow encountered in matmul\n",
      "  y = M[0:3,0:3] @ x + M[0:3,3:]\n",
      "/Users/aghavamp/Desktop/Projects/bimanual_wrist/.conda/lib/python3.11/site-packages/nitools/volume.py:47: RuntimeWarning: invalid value encountered in matmul\n",
      "  y = M[0:3,0:3] @ x + M[0:3,3:]\n",
      "/Users/aghavamp/Desktop/Projects/bimanual_wrist/.conda/lib/python3.11/site-packages/nitools/volume.py:47: RuntimeWarning: divide by zero encountered in matmul\n",
      "  y = M[0:3,0:3] @ x + M[0:3,3:]\n",
      "/Users/aghavamp/Desktop/Projects/bimanual_wrist/.conda/lib/python3.11/site-packages/nitools/volume.py:47: RuntimeWarning: overflow encountered in matmul\n",
      "  y = M[0:3,0:3] @ x + M[0:3,3:]\n",
      "/Users/aghavamp/Desktop/Projects/bimanual_wrist/.conda/lib/python3.11/site-packages/nitools/volume.py:47: RuntimeWarning: invalid value encountered in matmul\n",
      "  y = M[0:3,0:3] @ x + M[0:3,3:]\n",
      "/var/folders/sc/kmc7_9gn2hqd_lrnhdt_2s580000gn/T/ipykernel_6274/2683218496.py:60: UserWarning: This figure includes Axes that are not compatible with tight_layout, so results might be incorrect.\n",
      "  fig.tight_layout()\n"
     ]
    },
    {
     "name": "stdout",
     "output_type": "stream",
     "text": [
      "Warning: excludeThres option currently not supported. Resetting excludeThres to 0.\n",
      "Warning: excludeThres option currently not supported. Resetting excludeThres to 0.\n"
     ]
    },
    {
     "name": "stderr",
     "output_type": "stream",
     "text": [
      "/Users/aghavamp/Desktop/Projects/bimanual_wrist/.conda/lib/python3.11/site-packages/nitools/volume.py:47: RuntimeWarning: divide by zero encountered in matmul\n",
      "  y = M[0:3,0:3] @ x + M[0:3,3:]\n",
      "/Users/aghavamp/Desktop/Projects/bimanual_wrist/.conda/lib/python3.11/site-packages/nitools/volume.py:47: RuntimeWarning: overflow encountered in matmul\n",
      "  y = M[0:3,0:3] @ x + M[0:3,3:]\n",
      "/Users/aghavamp/Desktop/Projects/bimanual_wrist/.conda/lib/python3.11/site-packages/nitools/volume.py:47: RuntimeWarning: invalid value encountered in matmul\n",
      "  y = M[0:3,0:3] @ x + M[0:3,3:]\n",
      "/Users/aghavamp/Desktop/Projects/bimanual_wrist/.conda/lib/python3.11/site-packages/nitools/volume.py:47: RuntimeWarning: divide by zero encountered in matmul\n",
      "  y = M[0:3,0:3] @ x + M[0:3,3:]\n",
      "/Users/aghavamp/Desktop/Projects/bimanual_wrist/.conda/lib/python3.11/site-packages/nitools/volume.py:47: RuntimeWarning: overflow encountered in matmul\n",
      "  y = M[0:3,0:3] @ x + M[0:3,3:]\n",
      "/Users/aghavamp/Desktop/Projects/bimanual_wrist/.conda/lib/python3.11/site-packages/nitools/volume.py:47: RuntimeWarning: invalid value encountered in matmul\n",
      "  y = M[0:3,0:3] @ x + M[0:3,3:]\n",
      "/var/folders/sc/kmc7_9gn2hqd_lrnhdt_2s580000gn/T/ipykernel_6274/2683218496.py:60: UserWarning: This figure includes Axes that are not compatible with tight_layout, so results might be incorrect.\n",
      "  fig.tight_layout()\n"
     ]
    },
    {
     "name": "stdout",
     "output_type": "stream",
     "text": [
      "Warning: excludeThres option currently not supported. Resetting excludeThres to 0.\n",
      "Warning: excludeThres option currently not supported. Resetting excludeThres to 0.\n"
     ]
    },
    {
     "name": "stderr",
     "output_type": "stream",
     "text": [
      "/Users/aghavamp/Desktop/Projects/bimanual_wrist/.conda/lib/python3.11/site-packages/nitools/volume.py:47: RuntimeWarning: divide by zero encountered in matmul\n",
      "  y = M[0:3,0:3] @ x + M[0:3,3:]\n",
      "/Users/aghavamp/Desktop/Projects/bimanual_wrist/.conda/lib/python3.11/site-packages/nitools/volume.py:47: RuntimeWarning: overflow encountered in matmul\n",
      "  y = M[0:3,0:3] @ x + M[0:3,3:]\n",
      "/Users/aghavamp/Desktop/Projects/bimanual_wrist/.conda/lib/python3.11/site-packages/nitools/volume.py:47: RuntimeWarning: invalid value encountered in matmul\n",
      "  y = M[0:3,0:3] @ x + M[0:3,3:]\n",
      "/Users/aghavamp/Desktop/Projects/bimanual_wrist/.conda/lib/python3.11/site-packages/nitools/volume.py:47: RuntimeWarning: divide by zero encountered in matmul\n",
      "  y = M[0:3,0:3] @ x + M[0:3,3:]\n",
      "/Users/aghavamp/Desktop/Projects/bimanual_wrist/.conda/lib/python3.11/site-packages/nitools/volume.py:47: RuntimeWarning: overflow encountered in matmul\n",
      "  y = M[0:3,0:3] @ x + M[0:3,3:]\n",
      "/Users/aghavamp/Desktop/Projects/bimanual_wrist/.conda/lib/python3.11/site-packages/nitools/volume.py:47: RuntimeWarning: invalid value encountered in matmul\n",
      "  y = M[0:3,0:3] @ x + M[0:3,3:]\n",
      "/var/folders/sc/kmc7_9gn2hqd_lrnhdt_2s580000gn/T/ipykernel_6274/2683218496.py:60: UserWarning: This figure includes Axes that are not compatible with tight_layout, so results might be incorrect.\n",
      "  fig.tight_layout()\n"
     ]
    },
    {
     "name": "stdout",
     "output_type": "stream",
     "text": [
      "Warning: excludeThres option currently not supported. Resetting excludeThres to 0.\n",
      "Warning: excludeThres option currently not supported. Resetting excludeThres to 0.\n"
     ]
    },
    {
     "name": "stderr",
     "output_type": "stream",
     "text": [
      "/Users/aghavamp/Desktop/Projects/bimanual_wrist/.conda/lib/python3.11/site-packages/nitools/volume.py:47: RuntimeWarning: divide by zero encountered in matmul\n",
      "  y = M[0:3,0:3] @ x + M[0:3,3:]\n",
      "/Users/aghavamp/Desktop/Projects/bimanual_wrist/.conda/lib/python3.11/site-packages/nitools/volume.py:47: RuntimeWarning: overflow encountered in matmul\n",
      "  y = M[0:3,0:3] @ x + M[0:3,3:]\n",
      "/Users/aghavamp/Desktop/Projects/bimanual_wrist/.conda/lib/python3.11/site-packages/nitools/volume.py:47: RuntimeWarning: invalid value encountered in matmul\n",
      "  y = M[0:3,0:3] @ x + M[0:3,3:]\n",
      "/Users/aghavamp/Desktop/Projects/bimanual_wrist/.conda/lib/python3.11/site-packages/nitools/volume.py:47: RuntimeWarning: divide by zero encountered in matmul\n",
      "  y = M[0:3,0:3] @ x + M[0:3,3:]\n",
      "/Users/aghavamp/Desktop/Projects/bimanual_wrist/.conda/lib/python3.11/site-packages/nitools/volume.py:47: RuntimeWarning: overflow encountered in matmul\n",
      "  y = M[0:3,0:3] @ x + M[0:3,3:]\n",
      "/Users/aghavamp/Desktop/Projects/bimanual_wrist/.conda/lib/python3.11/site-packages/nitools/volume.py:47: RuntimeWarning: invalid value encountered in matmul\n",
      "  y = M[0:3,0:3] @ x + M[0:3,3:]\n",
      "/var/folders/sc/kmc7_9gn2hqd_lrnhdt_2s580000gn/T/ipykernel_6274/2683218496.py:60: UserWarning: This figure includes Axes that are not compatible with tight_layout, so results might be incorrect.\n",
      "  fig.tight_layout()\n"
     ]
    },
    {
     "name": "stdout",
     "output_type": "stream",
     "text": [
      "Warning: excludeThres option currently not supported. Resetting excludeThres to 0.\n",
      "Warning: excludeThres option currently not supported. Resetting excludeThres to 0.\n"
     ]
    },
    {
     "name": "stderr",
     "output_type": "stream",
     "text": [
      "/Users/aghavamp/Desktop/Projects/bimanual_wrist/.conda/lib/python3.11/site-packages/nitools/volume.py:47: RuntimeWarning: divide by zero encountered in matmul\n",
      "  y = M[0:3,0:3] @ x + M[0:3,3:]\n",
      "/Users/aghavamp/Desktop/Projects/bimanual_wrist/.conda/lib/python3.11/site-packages/nitools/volume.py:47: RuntimeWarning: overflow encountered in matmul\n",
      "  y = M[0:3,0:3] @ x + M[0:3,3:]\n",
      "/Users/aghavamp/Desktop/Projects/bimanual_wrist/.conda/lib/python3.11/site-packages/nitools/volume.py:47: RuntimeWarning: invalid value encountered in matmul\n",
      "  y = M[0:3,0:3] @ x + M[0:3,3:]\n",
      "/Users/aghavamp/Desktop/Projects/bimanual_wrist/.conda/lib/python3.11/site-packages/nitools/volume.py:47: RuntimeWarning: divide by zero encountered in matmul\n",
      "  y = M[0:3,0:3] @ x + M[0:3,3:]\n",
      "/Users/aghavamp/Desktop/Projects/bimanual_wrist/.conda/lib/python3.11/site-packages/nitools/volume.py:47: RuntimeWarning: overflow encountered in matmul\n",
      "  y = M[0:3,0:3] @ x + M[0:3,3:]\n",
      "/Users/aghavamp/Desktop/Projects/bimanual_wrist/.conda/lib/python3.11/site-packages/nitools/volume.py:47: RuntimeWarning: invalid value encountered in matmul\n",
      "  y = M[0:3,0:3] @ x + M[0:3,3:]\n",
      "/var/folders/sc/kmc7_9gn2hqd_lrnhdt_2s580000gn/T/ipykernel_6274/2683218496.py:60: UserWarning: This figure includes Axes that are not compatible with tight_layout, so results might be incorrect.\n",
      "  fig.tight_layout()\n"
     ]
    },
    {
     "name": "stdout",
     "output_type": "stream",
     "text": [
      "Warning: excludeThres option currently not supported. Resetting excludeThres to 0.\n",
      "Warning: excludeThres option currently not supported. Resetting excludeThres to 0.\n"
     ]
    },
    {
     "name": "stderr",
     "output_type": "stream",
     "text": [
      "/Users/aghavamp/Desktop/Projects/bimanual_wrist/.conda/lib/python3.11/site-packages/nitools/volume.py:47: RuntimeWarning: divide by zero encountered in matmul\n",
      "  y = M[0:3,0:3] @ x + M[0:3,3:]\n",
      "/Users/aghavamp/Desktop/Projects/bimanual_wrist/.conda/lib/python3.11/site-packages/nitools/volume.py:47: RuntimeWarning: overflow encountered in matmul\n",
      "  y = M[0:3,0:3] @ x + M[0:3,3:]\n",
      "/Users/aghavamp/Desktop/Projects/bimanual_wrist/.conda/lib/python3.11/site-packages/nitools/volume.py:47: RuntimeWarning: invalid value encountered in matmul\n",
      "  y = M[0:3,0:3] @ x + M[0:3,3:]\n",
      "/Users/aghavamp/Desktop/Projects/bimanual_wrist/.conda/lib/python3.11/site-packages/nitools/volume.py:47: RuntimeWarning: divide by zero encountered in matmul\n",
      "  y = M[0:3,0:3] @ x + M[0:3,3:]\n",
      "/Users/aghavamp/Desktop/Projects/bimanual_wrist/.conda/lib/python3.11/site-packages/nitools/volume.py:47: RuntimeWarning: overflow encountered in matmul\n",
      "  y = M[0:3,0:3] @ x + M[0:3,3:]\n",
      "/Users/aghavamp/Desktop/Projects/bimanual_wrist/.conda/lib/python3.11/site-packages/nitools/volume.py:47: RuntimeWarning: invalid value encountered in matmul\n",
      "  y = M[0:3,0:3] @ x + M[0:3,3:]\n",
      "/var/folders/sc/kmc7_9gn2hqd_lrnhdt_2s580000gn/T/ipykernel_6274/2683218496.py:60: UserWarning: This figure includes Axes that are not compatible with tight_layout, so results might be incorrect.\n",
      "  fig.tight_layout()\n"
     ]
    },
    {
     "name": "stdout",
     "output_type": "stream",
     "text": [
      "Warning: excludeThres option currently not supported. Resetting excludeThres to 0.\n",
      "Warning: excludeThres option currently not supported. Resetting excludeThres to 0.\n"
     ]
    },
    {
     "name": "stderr",
     "output_type": "stream",
     "text": [
      "/Users/aghavamp/Desktop/Projects/bimanual_wrist/.conda/lib/python3.11/site-packages/nitools/volume.py:47: RuntimeWarning: divide by zero encountered in matmul\n",
      "  y = M[0:3,0:3] @ x + M[0:3,3:]\n",
      "/Users/aghavamp/Desktop/Projects/bimanual_wrist/.conda/lib/python3.11/site-packages/nitools/volume.py:47: RuntimeWarning: overflow encountered in matmul\n",
      "  y = M[0:3,0:3] @ x + M[0:3,3:]\n",
      "/Users/aghavamp/Desktop/Projects/bimanual_wrist/.conda/lib/python3.11/site-packages/nitools/volume.py:47: RuntimeWarning: invalid value encountered in matmul\n",
      "  y = M[0:3,0:3] @ x + M[0:3,3:]\n",
      "/Users/aghavamp/Desktop/Projects/bimanual_wrist/.conda/lib/python3.11/site-packages/nitools/volume.py:47: RuntimeWarning: divide by zero encountered in matmul\n",
      "  y = M[0:3,0:3] @ x + M[0:3,3:]\n",
      "/Users/aghavamp/Desktop/Projects/bimanual_wrist/.conda/lib/python3.11/site-packages/nitools/volume.py:47: RuntimeWarning: overflow encountered in matmul\n",
      "  y = M[0:3,0:3] @ x + M[0:3,3:]\n",
      "/Users/aghavamp/Desktop/Projects/bimanual_wrist/.conda/lib/python3.11/site-packages/nitools/volume.py:47: RuntimeWarning: invalid value encountered in matmul\n",
      "  y = M[0:3,0:3] @ x + M[0:3,3:]\n",
      "/var/folders/sc/kmc7_9gn2hqd_lrnhdt_2s580000gn/T/ipykernel_6274/2683218496.py:60: UserWarning: This figure includes Axes that are not compatible with tight_layout, so results might be incorrect.\n",
      "  fig.tight_layout()\n"
     ]
    },
    {
     "name": "stdout",
     "output_type": "stream",
     "text": [
      "Warning: excludeThres option currently not supported. Resetting excludeThres to 0.\n",
      "Warning: excludeThres option currently not supported. Resetting excludeThres to 0.\n"
     ]
    },
    {
     "name": "stderr",
     "output_type": "stream",
     "text": [
      "/Users/aghavamp/Desktop/Projects/bimanual_wrist/.conda/lib/python3.11/site-packages/nitools/volume.py:47: RuntimeWarning: divide by zero encountered in matmul\n",
      "  y = M[0:3,0:3] @ x + M[0:3,3:]\n",
      "/Users/aghavamp/Desktop/Projects/bimanual_wrist/.conda/lib/python3.11/site-packages/nitools/volume.py:47: RuntimeWarning: overflow encountered in matmul\n",
      "  y = M[0:3,0:3] @ x + M[0:3,3:]\n",
      "/Users/aghavamp/Desktop/Projects/bimanual_wrist/.conda/lib/python3.11/site-packages/nitools/volume.py:47: RuntimeWarning: invalid value encountered in matmul\n",
      "  y = M[0:3,0:3] @ x + M[0:3,3:]\n",
      "/Users/aghavamp/Desktop/Projects/bimanual_wrist/.conda/lib/python3.11/site-packages/nitools/volume.py:47: RuntimeWarning: divide by zero encountered in matmul\n",
      "  y = M[0:3,0:3] @ x + M[0:3,3:]\n",
      "/Users/aghavamp/Desktop/Projects/bimanual_wrist/.conda/lib/python3.11/site-packages/nitools/volume.py:47: RuntimeWarning: overflow encountered in matmul\n",
      "  y = M[0:3,0:3] @ x + M[0:3,3:]\n",
      "/Users/aghavamp/Desktop/Projects/bimanual_wrist/.conda/lib/python3.11/site-packages/nitools/volume.py:47: RuntimeWarning: invalid value encountered in matmul\n",
      "  y = M[0:3,0:3] @ x + M[0:3,3:]\n",
      "/var/folders/sc/kmc7_9gn2hqd_lrnhdt_2s580000gn/T/ipykernel_6274/2683218496.py:60: UserWarning: This figure includes Axes that are not compatible with tight_layout, so results might be incorrect.\n",
      "  fig.tight_layout()\n"
     ]
    }
   ],
   "source": [
    "glm = 1\n",
    "participants = [101,102,103,104,106,107,108,109,110,111,112,113,114,115]\n",
    "\n",
    "for sn in participants:\n",
    "    ResMs = list(Path(os.path.join(baseDir, f'glm{glm}', f's{sn}')).glob(f'ResMS.nii')) \n",
    "    if len(ResMs) == 0:\n",
    "        raise ValueError(f'No ResMs files found for s{sn} glm{glm}')\n",
    "\n",
    "    # 2. Define the relevant gifti files for both left and right hemisphere:\n",
    "    surf_white = [] # White -gray matter surface \n",
    "    surf_pial = []  # Pial surface\n",
    "    surf_sulc = []  # Sulcal depth \n",
    "    hemN = ['L','R']\n",
    "    for h,hem in enumerate(hemN):\n",
    "        surf_white.append(os.path.join(baseDir,surfacewbDir, f's{sn}', f's{sn}.{hem}.white.32k.surf.gii'))\n",
    "        surf_pial.append(os.path.join(baseDir,surfacewbDir, f's{sn}', f's{sn}.{hem}.pial.32k.surf.gii'))\n",
    "        surf_sulc.append(os.path.join(baseDir,surfacewbDir, f's{sn}', f's{sn}.{hem}.sulc.32k.shape.gii'))\n",
    "\n",
    "    # Map a Nifti to the surface of left hemisphere \n",
    "    DL = surf.map.vol_to_surf(ResMs,surf_pial[0], surf_white[0], excludeThres=0.9)\n",
    "    # Map a Nifti to the surface of right hemisphere \n",
    "    DR = surf.map.vol_to_surf(ResMs,surf_pial[1],surf_white[1],  excludeThres=0.9)\n",
    "    \n",
    "    D = {'L':DL, 'R':DR}\n",
    "\n",
    "    Hem = ['L', 'R']\n",
    "    region_names = ['?', 'S1', 'M1', 'PMd', 'PMv', 'SMA', 'V1', 'SPLa', '?']\n",
    "    borders = {'L': '/Users/aghavamp/Desktop/Projects/surfAnalysisPy/standard_mesh/fs_L/fs_LR.32k.L.border',\n",
    "            'R': '/Users/aghavamp/Desktop/Projects/surfAnalysisPy/standard_mesh/fs_R/fs_LR.32k.R.border'}\n",
    "\n",
    "    # Combine data from both hemispheres\n",
    "    all_data = np.concatenate([D['L'].flatten(), D['R'].flatten()])\n",
    "    # Use percentiles to avoid outliers\n",
    "    vmin = np.nanpercentile(all_data,1)\n",
    "    vmax = np.nanpercentile(all_data, 80)\n",
    "\n",
    "    fig, axs = plt.subplots(1, 2, figsize=(12, 6))\n",
    "    for ax, H in zip(axs, Hem):\n",
    "        plt.sca(ax)\n",
    "        surf.plot.plotmap(D[H], f'fs32k_{H}',\n",
    "                            underlay=None,\n",
    "                            borders=borders[H],\n",
    "                            cscale=[vmin, vmax],\n",
    "                            cmap='jet',\n",
    "                            underscale=[-1.5, 1],\n",
    "                            alpha=.5,\n",
    "                            new_figure=False,\n",
    "                            colorbar=False,\n",
    "                            # frame=[xlim[0], xlim[1], ylim[0], ylim[1]]\n",
    "                            )\n",
    "    # make colorbar\n",
    "    norm = plt.Normalize(vmin=vmin, vmax=vmax)\n",
    "    sm = ScalarMappable(norm=norm, cmap='jet')\n",
    "    cbar = fig.colorbar(sm, ax=[axs[0], axs[1]], orientation='horizontal', fraction=0.03)\n",
    "    cbar.set_label('ResMs')\n",
    "\n",
    "    axs[0].set_title('Left hemisphere')\n",
    "    axs[1].set_title('Right hemisphere')\n",
    "    fig.suptitle(f'ResMs, s{sn} glm{glm}')\n",
    "    fig.tight_layout()\n",
    "    plt.savefig(f'../figures/tmaps/bmw_ResMs_sn{sn}_glm{glm}.pdf', bbox_inches=\"tight\")\n",
    "    plt.close()\n"
   ]
  },
  {
   "cell_type": "markdown",
   "metadata": {},
   "source": [
    "## T-MAPS left, right, bimanual"
   ]
  },
  {
   "cell_type": "code",
   "execution_count": null,
   "metadata": {},
   "outputs": [],
   "source": [
    "glm = 1\n",
    "participants = [101,102,103,104,106,107,108,109,110,111,112,113,114,115]\n",
    "conds = ['lhand', 'rhand', 'bi']\n",
    "Hem = ['L', 'R']\n",
    "region_names = ['?', 'S1', 'M1', 'PMd', 'PMv', 'SMA', 'V1', 'SPLa', '?']\n",
    "borders = {'L': '/Users/aghavamp/Desktop/Projects/surfAnalysisPy/standard_mesh/fs_L/fs_LR.32k.L.border',\n",
    "    'R': '/Users/aghavamp/Desktop/Projects/surfAnalysisPy/standard_mesh/fs_R/fs_LR.32k.R.border'}\n",
    "\n",
    "for cond in conds:\n",
    "    DL_avg = np.zeros((32492, 1))\n",
    "    DR_avg = np.zeros((32492, 1))\n",
    "    for cnt, sn in enumerate(participants):\n",
    "        spmTs = [os.path.join(baseDir, f'glm{glm}', f's{sn}', f'spmT_{cond}.nii')]\n",
    "        if len(spmTs) == 0:\n",
    "            raise ValueError(f'No spmT files found for s{sn} glm{glm} {cond}')\n",
    "        \n",
    "        # 2. Define the relevant gifti files for both left and right hemisphere:\n",
    "        surf_white = [] # White -gray matter surface \n",
    "        surf_pial = []  # Pial surface\n",
    "        surf_sulc = []  # Sulcal depth \n",
    "        hemN = ['L','R']\n",
    "        for h,hem in enumerate(hemN):\n",
    "            surf_white.append(os.path.join(baseDir,surfacewbDir, f's{sn}', f's{sn}.{hem}.white.32k.surf.gii'))\n",
    "            surf_pial.append(os.path.join(baseDir,surfacewbDir, f's{sn}', f's{sn}.{hem}.pial.32k.surf.gii'))\n",
    "            surf_sulc.append(os.path.join(baseDir,surfacewbDir, f's{sn}', f's{sn}.{hem}.sulc.32k.shape.gii'))\n",
    "\n",
    "        # Map a Nifti to the surface of left hemisphere \n",
    "        DL = surf.map.vol_to_surf(spmTs,surf_pial[0], surf_white[0], excludeThres=0.9)\n",
    "        # Map a Nifti to the surface of right hemisphere \n",
    "        DR = surf.map.vol_to_surf(spmTs,surf_pial[1],surf_white[1],  excludeThres=0.9)\n",
    "\n",
    "        DL_avg += DL/len(participants)\n",
    "        DR_avg += DR/len(participants)\n",
    "\n",
    "        D = {'L':DL, 'R':DR}\n",
    "\n",
    "        # Combine data from both hemispheres\n",
    "        all_data = np.concatenate([D['L'].flatten(), D['R'].flatten()])\n",
    "        # Use percentiles\n",
    "        # vmin = np.nanpercentile(all_data,20)\n",
    "        vmax = np.nanpercentile(all_data, 99)\n",
    "        vmin = -vmax\n",
    "        \n",
    "        fig, axs = plt.subplots(1, 2, figsize=(12, 6))\n",
    "        for ax, H in zip(axs, Hem):\n",
    "            plt.sca(ax)\n",
    "            surf.plot.plotmap(D[H].mean(axis=1), f'fs32k_{H}',\n",
    "                                underlay=None,\n",
    "                                borders=borders[H],\n",
    "                                cscale=[vmin, vmax],\n",
    "                                cmap='jet',\n",
    "                                underscale=[-1.5, 1],\n",
    "                                alpha=.5,\n",
    "                                new_figure=False,\n",
    "                                colorbar=False,\n",
    "                                # frame=[xlim[0], xlim[1], ylim[0], ylim[1]]\n",
    "                                )\n",
    "        # make colorbar\n",
    "        norm = plt.Normalize(vmin=vmin, vmax=vmax)\n",
    "        sm = ScalarMappable(norm=norm, cmap='jet')\n",
    "        cbar = fig.colorbar(sm, ax=[axs[0], axs[1]], orientation='horizontal', fraction=0.03)\n",
    "        cbar.set_label('t-value')\n",
    "\n",
    "        axs[0].set_title('Left hemisphere')\n",
    "        axs[1].set_title('Right hemisphere')\n",
    "        fig.suptitle(f'avg t-maps, s{sn}, glm{glm}, {cond}')\n",
    "        fig.tight_layout()\n",
    "        plt.savefig(f'../figures/tmaps/bmw_tmap_sn{sn}_glm{glm}_{cond}.pdf', bbox_inches=\"tight\")\n",
    "        if cnt == 0:\n",
    "            plt.close()\n",
    "        else:\n",
    "            plt.close()\n",
    "\n",
    "    D = {'L':DL_avg, 'R':DR_avg}\n",
    "    all_data = np.concatenate([DL_avg.flatten(), DR_avg.flatten()])\n",
    "    # Use percentiles\n",
    "    # vmin = np.nanpercentile(all_data,20)\n",
    "    vmax = np.nanpercentile(all_data, 99)\n",
    "    vmin = -vmax\n",
    "    fig, axs = plt.subplots(1, 2, figsize=(12, 6))\n",
    "    for ax, H in zip(axs, Hem):\n",
    "        plt.sca(ax)\n",
    "        surf.plot.plotmap(D[H].mean(axis=1), f'fs32k_{H}',\n",
    "                            underlay=None,\n",
    "                            borders=borders[H],\n",
    "                            cscale=[vmin, vmax],\n",
    "                            cmap='jet',\n",
    "                            underscale=[-1.5, 1],\n",
    "                            alpha=.5,\n",
    "                            new_figure=False,\n",
    "                            colorbar=False,\n",
    "                            # frame=[xlim[0], xlim[1], ylim[0], ylim[1]]\n",
    "                            )\n",
    "    # make colorbar\n",
    "    norm = plt.Normalize(vmin=vmin, vmax=vmax)\n",
    "    sm = ScalarMappable(norm=norm, cmap='jet')\n",
    "    cbar = fig.colorbar(sm, ax=[axs[0], axs[1]], orientation='horizontal', fraction=0.03)\n",
    "    cbar.set_label('t-value')\n",
    "\n",
    "    axs[0].set_title('Left hemisphere')\n",
    "    axs[1].set_title('Right hemisphere')\n",
    "    fig.suptitle(f'avg t-maps, s{sn}, glm{glm}, {cond}')\n",
    "    fig.tight_layout()\n",
    "    plt.savefig(f'../figures/tmaps/bmw_tmap_avg_glm{glm}_{cond}.pdf', bbox_inches=\"tight\")"
   ]
  },
  {
   "cell_type": "markdown",
   "metadata": {},
   "source": [
    "## T-MAPS every condition"
   ]
  },
  {
   "cell_type": "code",
   "execution_count": 47,
   "metadata": {},
   "outputs": [
    {
     "name": "stdout",
     "output_type": "stream",
     "text": [
      "Warning: excludeThres option currently not supported. Resetting excludeThres to 0.\n",
      "Warning: excludeThres option currently not supported. Resetting excludeThres to 0.\n"
     ]
    },
    {
     "name": "stderr",
     "output_type": "stream",
     "text": [
      "/var/folders/sc/kmc7_9gn2hqd_lrnhdt_2s580000gn/T/ipykernel_36930/2556735345.py:60: UserWarning:\n",
      "\n",
      "This figure includes Axes that are not compatible with tight_layout, so results might be incorrect.\n",
      "\n"
     ]
    },
    {
     "name": "stdout",
     "output_type": "stream",
     "text": [
      "Warning: excludeThres option currently not supported. Resetting excludeThres to 0.\n",
      "Warning: excludeThres option currently not supported. Resetting excludeThres to 0.\n"
     ]
    },
    {
     "name": "stderr",
     "output_type": "stream",
     "text": [
      "/var/folders/sc/kmc7_9gn2hqd_lrnhdt_2s580000gn/T/ipykernel_36930/2556735345.py:60: UserWarning:\n",
      "\n",
      "This figure includes Axes that are not compatible with tight_layout, so results might be incorrect.\n",
      "\n"
     ]
    },
    {
     "name": "stdout",
     "output_type": "stream",
     "text": [
      "Warning: excludeThres option currently not supported. Resetting excludeThres to 0.\n",
      "Warning: excludeThres option currently not supported. Resetting excludeThres to 0.\n"
     ]
    },
    {
     "name": "stderr",
     "output_type": "stream",
     "text": [
      "/var/folders/sc/kmc7_9gn2hqd_lrnhdt_2s580000gn/T/ipykernel_36930/2556735345.py:60: UserWarning:\n",
      "\n",
      "This figure includes Axes that are not compatible with tight_layout, so results might be incorrect.\n",
      "\n"
     ]
    },
    {
     "name": "stdout",
     "output_type": "stream",
     "text": [
      "Warning: excludeThres option currently not supported. Resetting excludeThres to 0.\n",
      "Warning: excludeThres option currently not supported. Resetting excludeThres to 0.\n"
     ]
    },
    {
     "name": "stderr",
     "output_type": "stream",
     "text": [
      "/var/folders/sc/kmc7_9gn2hqd_lrnhdt_2s580000gn/T/ipykernel_36930/2556735345.py:60: UserWarning:\n",
      "\n",
      "This figure includes Axes that are not compatible with tight_layout, so results might be incorrect.\n",
      "\n"
     ]
    },
    {
     "name": "stdout",
     "output_type": "stream",
     "text": [
      "Warning: excludeThres option currently not supported. Resetting excludeThres to 0.\n",
      "Warning: excludeThres option currently not supported. Resetting excludeThres to 0.\n"
     ]
    },
    {
     "name": "stderr",
     "output_type": "stream",
     "text": [
      "/var/folders/sc/kmc7_9gn2hqd_lrnhdt_2s580000gn/T/ipykernel_36930/2556735345.py:60: UserWarning:\n",
      "\n",
      "This figure includes Axes that are not compatible with tight_layout, so results might be incorrect.\n",
      "\n"
     ]
    },
    {
     "name": "stdout",
     "output_type": "stream",
     "text": [
      "Warning: excludeThres option currently not supported. Resetting excludeThres to 0.\n",
      "Warning: excludeThres option currently not supported. Resetting excludeThres to 0.\n"
     ]
    },
    {
     "name": "stderr",
     "output_type": "stream",
     "text": [
      "/var/folders/sc/kmc7_9gn2hqd_lrnhdt_2s580000gn/T/ipykernel_36930/2556735345.py:60: UserWarning:\n",
      "\n",
      "This figure includes Axes that are not compatible with tight_layout, so results might be incorrect.\n",
      "\n"
     ]
    },
    {
     "name": "stdout",
     "output_type": "stream",
     "text": [
      "Warning: excludeThres option currently not supported. Resetting excludeThres to 0.\n",
      "Warning: excludeThres option currently not supported. Resetting excludeThres to 0.\n"
     ]
    },
    {
     "name": "stderr",
     "output_type": "stream",
     "text": [
      "/var/folders/sc/kmc7_9gn2hqd_lrnhdt_2s580000gn/T/ipykernel_36930/2556735345.py:60: UserWarning:\n",
      "\n",
      "This figure includes Axes that are not compatible with tight_layout, so results might be incorrect.\n",
      "\n"
     ]
    },
    {
     "name": "stdout",
     "output_type": "stream",
     "text": [
      "Warning: excludeThres option currently not supported. Resetting excludeThres to 0.\n",
      "Warning: excludeThres option currently not supported. Resetting excludeThres to 0.\n"
     ]
    },
    {
     "name": "stderr",
     "output_type": "stream",
     "text": [
      "/var/folders/sc/kmc7_9gn2hqd_lrnhdt_2s580000gn/T/ipykernel_36930/2556735345.py:60: UserWarning:\n",
      "\n",
      "This figure includes Axes that are not compatible with tight_layout, so results might be incorrect.\n",
      "\n"
     ]
    },
    {
     "name": "stdout",
     "output_type": "stream",
     "text": [
      "Warning: excludeThres option currently not supported. Resetting excludeThres to 0.\n",
      "Warning: excludeThres option currently not supported. Resetting excludeThres to 0.\n"
     ]
    },
    {
     "name": "stderr",
     "output_type": "stream",
     "text": [
      "/var/folders/sc/kmc7_9gn2hqd_lrnhdt_2s580000gn/T/ipykernel_36930/2556735345.py:60: UserWarning:\n",
      "\n",
      "This figure includes Axes that are not compatible with tight_layout, so results might be incorrect.\n",
      "\n"
     ]
    },
    {
     "name": "stdout",
     "output_type": "stream",
     "text": [
      "Warning: excludeThres option currently not supported. Resetting excludeThres to 0.\n",
      "Warning: excludeThres option currently not supported. Resetting excludeThres to 0.\n"
     ]
    },
    {
     "name": "stderr",
     "output_type": "stream",
     "text": [
      "/var/folders/sc/kmc7_9gn2hqd_lrnhdt_2s580000gn/T/ipykernel_36930/2556735345.py:60: UserWarning:\n",
      "\n",
      "This figure includes Axes that are not compatible with tight_layout, so results might be incorrect.\n",
      "\n"
     ]
    },
    {
     "name": "stdout",
     "output_type": "stream",
     "text": [
      "Warning: excludeThres option currently not supported. Resetting excludeThres to 0.\n",
      "Warning: excludeThres option currently not supported. Resetting excludeThres to 0.\n"
     ]
    },
    {
     "name": "stderr",
     "output_type": "stream",
     "text": [
      "/var/folders/sc/kmc7_9gn2hqd_lrnhdt_2s580000gn/T/ipykernel_36930/2556735345.py:60: UserWarning:\n",
      "\n",
      "This figure includes Axes that are not compatible with tight_layout, so results might be incorrect.\n",
      "\n"
     ]
    },
    {
     "name": "stdout",
     "output_type": "stream",
     "text": [
      "Warning: excludeThres option currently not supported. Resetting excludeThres to 0.\n",
      "Warning: excludeThres option currently not supported. Resetting excludeThres to 0.\n"
     ]
    },
    {
     "name": "stderr",
     "output_type": "stream",
     "text": [
      "/var/folders/sc/kmc7_9gn2hqd_lrnhdt_2s580000gn/T/ipykernel_36930/2556735345.py:60: UserWarning:\n",
      "\n",
      "This figure includes Axes that are not compatible with tight_layout, so results might be incorrect.\n",
      "\n"
     ]
    },
    {
     "name": "stdout",
     "output_type": "stream",
     "text": [
      "Warning: excludeThres option currently not supported. Resetting excludeThres to 0.\n",
      "Warning: excludeThres option currently not supported. Resetting excludeThres to 0.\n"
     ]
    },
    {
     "name": "stderr",
     "output_type": "stream",
     "text": [
      "/var/folders/sc/kmc7_9gn2hqd_lrnhdt_2s580000gn/T/ipykernel_36930/2556735345.py:60: UserWarning:\n",
      "\n",
      "This figure includes Axes that are not compatible with tight_layout, so results might be incorrect.\n",
      "\n"
     ]
    },
    {
     "name": "stdout",
     "output_type": "stream",
     "text": [
      "Warning: excludeThres option currently not supported. Resetting excludeThres to 0.\n",
      "Warning: excludeThres option currently not supported. Resetting excludeThres to 0.\n"
     ]
    },
    {
     "name": "stderr",
     "output_type": "stream",
     "text": [
      "/var/folders/sc/kmc7_9gn2hqd_lrnhdt_2s580000gn/T/ipykernel_36930/2556735345.py:60: UserWarning:\n",
      "\n",
      "This figure includes Axes that are not compatible with tight_layout, so results might be incorrect.\n",
      "\n"
     ]
    },
    {
     "name": "stdout",
     "output_type": "stream",
     "text": [
      "Warning: excludeThres option currently not supported. Resetting excludeThres to 0.\n",
      "Warning: excludeThres option currently not supported. Resetting excludeThres to 0.\n"
     ]
    },
    {
     "name": "stderr",
     "output_type": "stream",
     "text": [
      "/var/folders/sc/kmc7_9gn2hqd_lrnhdt_2s580000gn/T/ipykernel_36930/2556735345.py:60: UserWarning:\n",
      "\n",
      "This figure includes Axes that are not compatible with tight_layout, so results might be incorrect.\n",
      "\n"
     ]
    },
    {
     "name": "stdout",
     "output_type": "stream",
     "text": [
      "Warning: excludeThres option currently not supported. Resetting excludeThres to 0.\n",
      "Warning: excludeThres option currently not supported. Resetting excludeThres to 0.\n"
     ]
    },
    {
     "name": "stderr",
     "output_type": "stream",
     "text": [
      "/var/folders/sc/kmc7_9gn2hqd_lrnhdt_2s580000gn/T/ipykernel_36930/2556735345.py:60: UserWarning:\n",
      "\n",
      "This figure includes Axes that are not compatible with tight_layout, so results might be incorrect.\n",
      "\n"
     ]
    },
    {
     "name": "stdout",
     "output_type": "stream",
     "text": [
      "Warning: excludeThres option currently not supported. Resetting excludeThres to 0.\n",
      "Warning: excludeThres option currently not supported. Resetting excludeThres to 0.\n"
     ]
    },
    {
     "name": "stderr",
     "output_type": "stream",
     "text": [
      "/var/folders/sc/kmc7_9gn2hqd_lrnhdt_2s580000gn/T/ipykernel_36930/2556735345.py:60: UserWarning:\n",
      "\n",
      "This figure includes Axes that are not compatible with tight_layout, so results might be incorrect.\n",
      "\n"
     ]
    },
    {
     "name": "stdout",
     "output_type": "stream",
     "text": [
      "Warning: excludeThres option currently not supported. Resetting excludeThres to 0.\n",
      "Warning: excludeThres option currently not supported. Resetting excludeThres to 0.\n"
     ]
    },
    {
     "name": "stderr",
     "output_type": "stream",
     "text": [
      "/var/folders/sc/kmc7_9gn2hqd_lrnhdt_2s580000gn/T/ipykernel_36930/2556735345.py:60: UserWarning:\n",
      "\n",
      "This figure includes Axes that are not compatible with tight_layout, so results might be incorrect.\n",
      "\n"
     ]
    },
    {
     "name": "stdout",
     "output_type": "stream",
     "text": [
      "Warning: excludeThres option currently not supported. Resetting excludeThres to 0.\n",
      "Warning: excludeThres option currently not supported. Resetting excludeThres to 0.\n"
     ]
    },
    {
     "name": "stderr",
     "output_type": "stream",
     "text": [
      "/var/folders/sc/kmc7_9gn2hqd_lrnhdt_2s580000gn/T/ipykernel_36930/2556735345.py:60: UserWarning:\n",
      "\n",
      "This figure includes Axes that are not compatible with tight_layout, so results might be incorrect.\n",
      "\n"
     ]
    },
    {
     "name": "stdout",
     "output_type": "stream",
     "text": [
      "Warning: excludeThres option currently not supported. Resetting excludeThres to 0.\n",
      "Warning: excludeThres option currently not supported. Resetting excludeThres to 0.\n"
     ]
    },
    {
     "name": "stderr",
     "output_type": "stream",
     "text": [
      "/var/folders/sc/kmc7_9gn2hqd_lrnhdt_2s580000gn/T/ipykernel_36930/2556735345.py:60: UserWarning:\n",
      "\n",
      "This figure includes Axes that are not compatible with tight_layout, so results might be incorrect.\n",
      "\n"
     ]
    },
    {
     "name": "stdout",
     "output_type": "stream",
     "text": [
      "Warning: excludeThres option currently not supported. Resetting excludeThres to 0.\n",
      "Warning: excludeThres option currently not supported. Resetting excludeThres to 0.\n"
     ]
    },
    {
     "name": "stderr",
     "output_type": "stream",
     "text": [
      "/var/folders/sc/kmc7_9gn2hqd_lrnhdt_2s580000gn/T/ipykernel_36930/2556735345.py:60: UserWarning:\n",
      "\n",
      "This figure includes Axes that are not compatible with tight_layout, so results might be incorrect.\n",
      "\n"
     ]
    },
    {
     "name": "stdout",
     "output_type": "stream",
     "text": [
      "Warning: excludeThres option currently not supported. Resetting excludeThres to 0.\n",
      "Warning: excludeThres option currently not supported. Resetting excludeThres to 0.\n"
     ]
    },
    {
     "name": "stderr",
     "output_type": "stream",
     "text": [
      "/var/folders/sc/kmc7_9gn2hqd_lrnhdt_2s580000gn/T/ipykernel_36930/2556735345.py:60: UserWarning:\n",
      "\n",
      "This figure includes Axes that are not compatible with tight_layout, so results might be incorrect.\n",
      "\n"
     ]
    },
    {
     "name": "stdout",
     "output_type": "stream",
     "text": [
      "Warning: excludeThres option currently not supported. Resetting excludeThres to 0.\n",
      "Warning: excludeThres option currently not supported. Resetting excludeThres to 0.\n"
     ]
    },
    {
     "name": "stderr",
     "output_type": "stream",
     "text": [
      "/var/folders/sc/kmc7_9gn2hqd_lrnhdt_2s580000gn/T/ipykernel_36930/2556735345.py:60: UserWarning:\n",
      "\n",
      "This figure includes Axes that are not compatible with tight_layout, so results might be incorrect.\n",
      "\n"
     ]
    },
    {
     "name": "stdout",
     "output_type": "stream",
     "text": [
      "Warning: excludeThres option currently not supported. Resetting excludeThres to 0.\n",
      "Warning: excludeThres option currently not supported. Resetting excludeThres to 0.\n"
     ]
    },
    {
     "name": "stderr",
     "output_type": "stream",
     "text": [
      "/var/folders/sc/kmc7_9gn2hqd_lrnhdt_2s580000gn/T/ipykernel_36930/2556735345.py:60: UserWarning:\n",
      "\n",
      "This figure includes Axes that are not compatible with tight_layout, so results might be incorrect.\n",
      "\n"
     ]
    },
    {
     "name": "stdout",
     "output_type": "stream",
     "text": [
      "Warning: excludeThres option currently not supported. Resetting excludeThres to 0.\n",
      "Warning: excludeThres option currently not supported. Resetting excludeThres to 0.\n"
     ]
    },
    {
     "name": "stderr",
     "output_type": "stream",
     "text": [
      "/var/folders/sc/kmc7_9gn2hqd_lrnhdt_2s580000gn/T/ipykernel_36930/2556735345.py:60: UserWarning:\n",
      "\n",
      "This figure includes Axes that are not compatible with tight_layout, so results might be incorrect.\n",
      "\n"
     ]
    },
    {
     "name": "stdout",
     "output_type": "stream",
     "text": [
      "Warning: excludeThres option currently not supported. Resetting excludeThres to 0.\n",
      "Warning: excludeThres option currently not supported. Resetting excludeThres to 0.\n"
     ]
    },
    {
     "name": "stderr",
     "output_type": "stream",
     "text": [
      "/var/folders/sc/kmc7_9gn2hqd_lrnhdt_2s580000gn/T/ipykernel_36930/2556735345.py:60: UserWarning:\n",
      "\n",
      "This figure includes Axes that are not compatible with tight_layout, so results might be incorrect.\n",
      "\n"
     ]
    },
    {
     "name": "stdout",
     "output_type": "stream",
     "text": [
      "Warning: excludeThres option currently not supported. Resetting excludeThres to 0.\n",
      "Warning: excludeThres option currently not supported. Resetting excludeThres to 0.\n"
     ]
    },
    {
     "name": "stderr",
     "output_type": "stream",
     "text": [
      "/var/folders/sc/kmc7_9gn2hqd_lrnhdt_2s580000gn/T/ipykernel_36930/2556735345.py:60: UserWarning:\n",
      "\n",
      "This figure includes Axes that are not compatible with tight_layout, so results might be incorrect.\n",
      "\n"
     ]
    },
    {
     "name": "stdout",
     "output_type": "stream",
     "text": [
      "Warning: excludeThres option currently not supported. Resetting excludeThres to 0.\n",
      "Warning: excludeThres option currently not supported. Resetting excludeThres to 0.\n"
     ]
    },
    {
     "name": "stderr",
     "output_type": "stream",
     "text": [
      "/var/folders/sc/kmc7_9gn2hqd_lrnhdt_2s580000gn/T/ipykernel_36930/2556735345.py:60: UserWarning:\n",
      "\n",
      "This figure includes Axes that are not compatible with tight_layout, so results might be incorrect.\n",
      "\n"
     ]
    },
    {
     "name": "stdout",
     "output_type": "stream",
     "text": [
      "Warning: excludeThres option currently not supported. Resetting excludeThres to 0.\n",
      "Warning: excludeThres option currently not supported. Resetting excludeThres to 0.\n"
     ]
    },
    {
     "name": "stderr",
     "output_type": "stream",
     "text": [
      "/var/folders/sc/kmc7_9gn2hqd_lrnhdt_2s580000gn/T/ipykernel_36930/2556735345.py:60: UserWarning:\n",
      "\n",
      "This figure includes Axes that are not compatible with tight_layout, so results might be incorrect.\n",
      "\n"
     ]
    },
    {
     "name": "stdout",
     "output_type": "stream",
     "text": [
      "Warning: excludeThres option currently not supported. Resetting excludeThres to 0.\n",
      "Warning: excludeThres option currently not supported. Resetting excludeThres to 0.\n"
     ]
    },
    {
     "name": "stderr",
     "output_type": "stream",
     "text": [
      "/var/folders/sc/kmc7_9gn2hqd_lrnhdt_2s580000gn/T/ipykernel_36930/2556735345.py:60: UserWarning:\n",
      "\n",
      "This figure includes Axes that are not compatible with tight_layout, so results might be incorrect.\n",
      "\n"
     ]
    },
    {
     "name": "stdout",
     "output_type": "stream",
     "text": [
      "Warning: excludeThres option currently not supported. Resetting excludeThres to 0.\n",
      "Warning: excludeThres option currently not supported. Resetting excludeThres to 0.\n"
     ]
    },
    {
     "name": "stderr",
     "output_type": "stream",
     "text": [
      "/var/folders/sc/kmc7_9gn2hqd_lrnhdt_2s580000gn/T/ipykernel_36930/2556735345.py:60: UserWarning:\n",
      "\n",
      "This figure includes Axes that are not compatible with tight_layout, so results might be incorrect.\n",
      "\n"
     ]
    },
    {
     "name": "stdout",
     "output_type": "stream",
     "text": [
      "Warning: excludeThres option currently not supported. Resetting excludeThres to 0.\n",
      "Warning: excludeThres option currently not supported. Resetting excludeThres to 0.\n"
     ]
    },
    {
     "name": "stderr",
     "output_type": "stream",
     "text": [
      "/var/folders/sc/kmc7_9gn2hqd_lrnhdt_2s580000gn/T/ipykernel_36930/2556735345.py:60: UserWarning:\n",
      "\n",
      "This figure includes Axes that are not compatible with tight_layout, so results might be incorrect.\n",
      "\n"
     ]
    },
    {
     "name": "stdout",
     "output_type": "stream",
     "text": [
      "Warning: excludeThres option currently not supported. Resetting excludeThres to 0.\n",
      "Warning: excludeThres option currently not supported. Resetting excludeThres to 0.\n"
     ]
    },
    {
     "name": "stderr",
     "output_type": "stream",
     "text": [
      "/var/folders/sc/kmc7_9gn2hqd_lrnhdt_2s580000gn/T/ipykernel_36930/2556735345.py:60: UserWarning:\n",
      "\n",
      "This figure includes Axes that are not compatible with tight_layout, so results might be incorrect.\n",
      "\n"
     ]
    },
    {
     "name": "stdout",
     "output_type": "stream",
     "text": [
      "Warning: excludeThres option currently not supported. Resetting excludeThres to 0.\n",
      "Warning: excludeThres option currently not supported. Resetting excludeThres to 0.\n"
     ]
    },
    {
     "name": "stderr",
     "output_type": "stream",
     "text": [
      "/var/folders/sc/kmc7_9gn2hqd_lrnhdt_2s580000gn/T/ipykernel_36930/2556735345.py:60: UserWarning:\n",
      "\n",
      "This figure includes Axes that are not compatible with tight_layout, so results might be incorrect.\n",
      "\n"
     ]
    },
    {
     "name": "stdout",
     "output_type": "stream",
     "text": [
      "Warning: excludeThres option currently not supported. Resetting excludeThres to 0.\n",
      "Warning: excludeThres option currently not supported. Resetting excludeThres to 0.\n"
     ]
    },
    {
     "name": "stderr",
     "output_type": "stream",
     "text": [
      "/var/folders/sc/kmc7_9gn2hqd_lrnhdt_2s580000gn/T/ipykernel_36930/2556735345.py:60: UserWarning:\n",
      "\n",
      "This figure includes Axes that are not compatible with tight_layout, so results might be incorrect.\n",
      "\n"
     ]
    },
    {
     "name": "stdout",
     "output_type": "stream",
     "text": [
      "Warning: excludeThres option currently not supported. Resetting excludeThres to 0.\n",
      "Warning: excludeThres option currently not supported. Resetting excludeThres to 0.\n"
     ]
    },
    {
     "name": "stderr",
     "output_type": "stream",
     "text": [
      "/var/folders/sc/kmc7_9gn2hqd_lrnhdt_2s580000gn/T/ipykernel_36930/2556735345.py:60: UserWarning:\n",
      "\n",
      "This figure includes Axes that are not compatible with tight_layout, so results might be incorrect.\n",
      "\n"
     ]
    },
    {
     "name": "stdout",
     "output_type": "stream",
     "text": [
      "Warning: excludeThres option currently not supported. Resetting excludeThres to 0.\n",
      "Warning: excludeThres option currently not supported. Resetting excludeThres to 0.\n"
     ]
    },
    {
     "name": "stderr",
     "output_type": "stream",
     "text": [
      "/var/folders/sc/kmc7_9gn2hqd_lrnhdt_2s580000gn/T/ipykernel_36930/2556735345.py:60: UserWarning:\n",
      "\n",
      "This figure includes Axes that are not compatible with tight_layout, so results might be incorrect.\n",
      "\n"
     ]
    },
    {
     "name": "stdout",
     "output_type": "stream",
     "text": [
      "Warning: excludeThres option currently not supported. Resetting excludeThres to 0.\n",
      "Warning: excludeThres option currently not supported. Resetting excludeThres to 0.\n"
     ]
    },
    {
     "name": "stderr",
     "output_type": "stream",
     "text": [
      "/var/folders/sc/kmc7_9gn2hqd_lrnhdt_2s580000gn/T/ipykernel_36930/2556735345.py:60: UserWarning:\n",
      "\n",
      "This figure includes Axes that are not compatible with tight_layout, so results might be incorrect.\n",
      "\n"
     ]
    },
    {
     "name": "stdout",
     "output_type": "stream",
     "text": [
      "Warning: excludeThres option currently not supported. Resetting excludeThres to 0.\n",
      "Warning: excludeThres option currently not supported. Resetting excludeThres to 0.\n"
     ]
    },
    {
     "name": "stderr",
     "output_type": "stream",
     "text": [
      "/var/folders/sc/kmc7_9gn2hqd_lrnhdt_2s580000gn/T/ipykernel_36930/2556735345.py:60: UserWarning:\n",
      "\n",
      "This figure includes Axes that are not compatible with tight_layout, so results might be incorrect.\n",
      "\n"
     ]
    },
    {
     "name": "stdout",
     "output_type": "stream",
     "text": [
      "Warning: excludeThres option currently not supported. Resetting excludeThres to 0.\n",
      "Warning: excludeThres option currently not supported. Resetting excludeThres to 0.\n"
     ]
    },
    {
     "name": "stderr",
     "output_type": "stream",
     "text": [
      "/var/folders/sc/kmc7_9gn2hqd_lrnhdt_2s580000gn/T/ipykernel_36930/2556735345.py:60: UserWarning:\n",
      "\n",
      "This figure includes Axes that are not compatible with tight_layout, so results might be incorrect.\n",
      "\n"
     ]
    },
    {
     "name": "stdout",
     "output_type": "stream",
     "text": [
      "Warning: excludeThres option currently not supported. Resetting excludeThres to 0.\n",
      "Warning: excludeThres option currently not supported. Resetting excludeThres to 0.\n"
     ]
    },
    {
     "name": "stderr",
     "output_type": "stream",
     "text": [
      "/var/folders/sc/kmc7_9gn2hqd_lrnhdt_2s580000gn/T/ipykernel_36930/2556735345.py:60: UserWarning:\n",
      "\n",
      "This figure includes Axes that are not compatible with tight_layout, so results might be incorrect.\n",
      "\n"
     ]
    },
    {
     "name": "stdout",
     "output_type": "stream",
     "text": [
      "Warning: excludeThres option currently not supported. Resetting excludeThres to 0.\n",
      "Warning: excludeThres option currently not supported. Resetting excludeThres to 0.\n"
     ]
    },
    {
     "name": "stderr",
     "output_type": "stream",
     "text": [
      "/var/folders/sc/kmc7_9gn2hqd_lrnhdt_2s580000gn/T/ipykernel_36930/2556735345.py:60: UserWarning:\n",
      "\n",
      "This figure includes Axes that are not compatible with tight_layout, so results might be incorrect.\n",
      "\n"
     ]
    },
    {
     "name": "stdout",
     "output_type": "stream",
     "text": [
      "Warning: excludeThres option currently not supported. Resetting excludeThres to 0.\n",
      "Warning: excludeThres option currently not supported. Resetting excludeThres to 0.\n"
     ]
    },
    {
     "name": "stderr",
     "output_type": "stream",
     "text": [
      "/var/folders/sc/kmc7_9gn2hqd_lrnhdt_2s580000gn/T/ipykernel_36930/2556735345.py:60: UserWarning:\n",
      "\n",
      "This figure includes Axes that are not compatible with tight_layout, so results might be incorrect.\n",
      "\n"
     ]
    },
    {
     "name": "stdout",
     "output_type": "stream",
     "text": [
      "Warning: excludeThres option currently not supported. Resetting excludeThres to 0.\n",
      "Warning: excludeThres option currently not supported. Resetting excludeThres to 0.\n"
     ]
    },
    {
     "name": "stderr",
     "output_type": "stream",
     "text": [
      "/var/folders/sc/kmc7_9gn2hqd_lrnhdt_2s580000gn/T/ipykernel_36930/2556735345.py:60: UserWarning:\n",
      "\n",
      "This figure includes Axes that are not compatible with tight_layout, so results might be incorrect.\n",
      "\n"
     ]
    },
    {
     "name": "stdout",
     "output_type": "stream",
     "text": [
      "Warning: excludeThres option currently not supported. Resetting excludeThres to 0.\n",
      "Warning: excludeThres option currently not supported. Resetting excludeThres to 0.\n"
     ]
    },
    {
     "name": "stderr",
     "output_type": "stream",
     "text": [
      "/var/folders/sc/kmc7_9gn2hqd_lrnhdt_2s580000gn/T/ipykernel_36930/2556735345.py:60: UserWarning:\n",
      "\n",
      "This figure includes Axes that are not compatible with tight_layout, so results might be incorrect.\n",
      "\n"
     ]
    },
    {
     "name": "stdout",
     "output_type": "stream",
     "text": [
      "Warning: excludeThres option currently not supported. Resetting excludeThres to 0.\n",
      "Warning: excludeThres option currently not supported. Resetting excludeThres to 0.\n"
     ]
    },
    {
     "name": "stderr",
     "output_type": "stream",
     "text": [
      "/var/folders/sc/kmc7_9gn2hqd_lrnhdt_2s580000gn/T/ipykernel_36930/2556735345.py:60: UserWarning:\n",
      "\n",
      "This figure includes Axes that are not compatible with tight_layout, so results might be incorrect.\n",
      "\n"
     ]
    },
    {
     "name": "stdout",
     "output_type": "stream",
     "text": [
      "Warning: excludeThres option currently not supported. Resetting excludeThres to 0.\n",
      "Warning: excludeThres option currently not supported. Resetting excludeThres to 0.\n"
     ]
    },
    {
     "name": "stderr",
     "output_type": "stream",
     "text": [
      "/var/folders/sc/kmc7_9gn2hqd_lrnhdt_2s580000gn/T/ipykernel_36930/2556735345.py:60: UserWarning:\n",
      "\n",
      "This figure includes Axes that are not compatible with tight_layout, so results might be incorrect.\n",
      "\n"
     ]
    },
    {
     "name": "stdout",
     "output_type": "stream",
     "text": [
      "Warning: excludeThres option currently not supported. Resetting excludeThres to 0.\n",
      "Warning: excludeThres option currently not supported. Resetting excludeThres to 0.\n"
     ]
    },
    {
     "name": "stderr",
     "output_type": "stream",
     "text": [
      "/var/folders/sc/kmc7_9gn2hqd_lrnhdt_2s580000gn/T/ipykernel_36930/2556735345.py:60: UserWarning:\n",
      "\n",
      "This figure includes Axes that are not compatible with tight_layout, so results might be incorrect.\n",
      "\n"
     ]
    },
    {
     "name": "stdout",
     "output_type": "stream",
     "text": [
      "Warning: excludeThres option currently not supported. Resetting excludeThres to 0.\n",
      "Warning: excludeThres option currently not supported. Resetting excludeThres to 0.\n"
     ]
    },
    {
     "name": "stderr",
     "output_type": "stream",
     "text": [
      "/var/folders/sc/kmc7_9gn2hqd_lrnhdt_2s580000gn/T/ipykernel_36930/2556735345.py:60: UserWarning:\n",
      "\n",
      "This figure includes Axes that are not compatible with tight_layout, so results might be incorrect.\n",
      "\n"
     ]
    },
    {
     "name": "stdout",
     "output_type": "stream",
     "text": [
      "Warning: excludeThres option currently not supported. Resetting excludeThres to 0.\n",
      "Warning: excludeThres option currently not supported. Resetting excludeThres to 0.\n"
     ]
    },
    {
     "name": "stderr",
     "output_type": "stream",
     "text": [
      "/var/folders/sc/kmc7_9gn2hqd_lrnhdt_2s580000gn/T/ipykernel_36930/2556735345.py:60: UserWarning:\n",
      "\n",
      "This figure includes Axes that are not compatible with tight_layout, so results might be incorrect.\n",
      "\n"
     ]
    },
    {
     "name": "stdout",
     "output_type": "stream",
     "text": [
      "Warning: excludeThres option currently not supported. Resetting excludeThres to 0.\n",
      "Warning: excludeThres option currently not supported. Resetting excludeThres to 0.\n"
     ]
    },
    {
     "name": "stderr",
     "output_type": "stream",
     "text": [
      "/var/folders/sc/kmc7_9gn2hqd_lrnhdt_2s580000gn/T/ipykernel_36930/2556735345.py:60: UserWarning:\n",
      "\n",
      "This figure includes Axes that are not compatible with tight_layout, so results might be incorrect.\n",
      "\n"
     ]
    },
    {
     "name": "stdout",
     "output_type": "stream",
     "text": [
      "Warning: excludeThres option currently not supported. Resetting excludeThres to 0.\n",
      "Warning: excludeThres option currently not supported. Resetting excludeThres to 0.\n"
     ]
    },
    {
     "name": "stderr",
     "output_type": "stream",
     "text": [
      "/var/folders/sc/kmc7_9gn2hqd_lrnhdt_2s580000gn/T/ipykernel_36930/2556735345.py:60: UserWarning:\n",
      "\n",
      "This figure includes Axes that are not compatible with tight_layout, so results might be incorrect.\n",
      "\n"
     ]
    },
    {
     "name": "stdout",
     "output_type": "stream",
     "text": [
      "Warning: excludeThres option currently not supported. Resetting excludeThres to 0.\n",
      "Warning: excludeThres option currently not supported. Resetting excludeThres to 0.\n"
     ]
    },
    {
     "name": "stderr",
     "output_type": "stream",
     "text": [
      "/var/folders/sc/kmc7_9gn2hqd_lrnhdt_2s580000gn/T/ipykernel_36930/2556735345.py:60: UserWarning:\n",
      "\n",
      "This figure includes Axes that are not compatible with tight_layout, so results might be incorrect.\n",
      "\n"
     ]
    },
    {
     "name": "stdout",
     "output_type": "stream",
     "text": [
      "Warning: excludeThres option currently not supported. Resetting excludeThres to 0.\n",
      "Warning: excludeThres option currently not supported. Resetting excludeThres to 0.\n"
     ]
    },
    {
     "name": "stderr",
     "output_type": "stream",
     "text": [
      "/var/folders/sc/kmc7_9gn2hqd_lrnhdt_2s580000gn/T/ipykernel_36930/2556735345.py:60: UserWarning:\n",
      "\n",
      "This figure includes Axes that are not compatible with tight_layout, so results might be incorrect.\n",
      "\n"
     ]
    },
    {
     "name": "stdout",
     "output_type": "stream",
     "text": [
      "Warning: excludeThres option currently not supported. Resetting excludeThres to 0.\n",
      "Warning: excludeThres option currently not supported. Resetting excludeThres to 0.\n"
     ]
    },
    {
     "name": "stderr",
     "output_type": "stream",
     "text": [
      "/var/folders/sc/kmc7_9gn2hqd_lrnhdt_2s580000gn/T/ipykernel_36930/2556735345.py:60: UserWarning:\n",
      "\n",
      "This figure includes Axes that are not compatible with tight_layout, so results might be incorrect.\n",
      "\n"
     ]
    },
    {
     "name": "stdout",
     "output_type": "stream",
     "text": [
      "Warning: excludeThres option currently not supported. Resetting excludeThres to 0.\n",
      "Warning: excludeThres option currently not supported. Resetting excludeThres to 0.\n"
     ]
    },
    {
     "name": "stderr",
     "output_type": "stream",
     "text": [
      "/var/folders/sc/kmc7_9gn2hqd_lrnhdt_2s580000gn/T/ipykernel_36930/2556735345.py:60: UserWarning:\n",
      "\n",
      "This figure includes Axes that are not compatible with tight_layout, so results might be incorrect.\n",
      "\n"
     ]
    },
    {
     "name": "stdout",
     "output_type": "stream",
     "text": [
      "Warning: excludeThres option currently not supported. Resetting excludeThres to 0.\n",
      "Warning: excludeThres option currently not supported. Resetting excludeThres to 0.\n"
     ]
    },
    {
     "name": "stderr",
     "output_type": "stream",
     "text": [
      "/var/folders/sc/kmc7_9gn2hqd_lrnhdt_2s580000gn/T/ipykernel_36930/2556735345.py:60: UserWarning:\n",
      "\n",
      "This figure includes Axes that are not compatible with tight_layout, so results might be incorrect.\n",
      "\n"
     ]
    },
    {
     "name": "stdout",
     "output_type": "stream",
     "text": [
      "Warning: excludeThres option currently not supported. Resetting excludeThres to 0.\n",
      "Warning: excludeThres option currently not supported. Resetting excludeThres to 0.\n"
     ]
    },
    {
     "name": "stderr",
     "output_type": "stream",
     "text": [
      "/var/folders/sc/kmc7_9gn2hqd_lrnhdt_2s580000gn/T/ipykernel_36930/2556735345.py:60: UserWarning:\n",
      "\n",
      "This figure includes Axes that are not compatible with tight_layout, so results might be incorrect.\n",
      "\n"
     ]
    },
    {
     "name": "stdout",
     "output_type": "stream",
     "text": [
      "Warning: excludeThres option currently not supported. Resetting excludeThres to 0.\n",
      "Warning: excludeThres option currently not supported. Resetting excludeThres to 0.\n"
     ]
    },
    {
     "name": "stderr",
     "output_type": "stream",
     "text": [
      "/var/folders/sc/kmc7_9gn2hqd_lrnhdt_2s580000gn/T/ipykernel_36930/2556735345.py:60: UserWarning:\n",
      "\n",
      "This figure includes Axes that are not compatible with tight_layout, so results might be incorrect.\n",
      "\n"
     ]
    },
    {
     "name": "stdout",
     "output_type": "stream",
     "text": [
      "Warning: excludeThres option currently not supported. Resetting excludeThres to 0.\n",
      "Warning: excludeThres option currently not supported. Resetting excludeThres to 0.\n"
     ]
    },
    {
     "name": "stderr",
     "output_type": "stream",
     "text": [
      "/var/folders/sc/kmc7_9gn2hqd_lrnhdt_2s580000gn/T/ipykernel_36930/2556735345.py:60: UserWarning:\n",
      "\n",
      "This figure includes Axes that are not compatible with tight_layout, so results might be incorrect.\n",
      "\n"
     ]
    },
    {
     "name": "stdout",
     "output_type": "stream",
     "text": [
      "Warning: excludeThres option currently not supported. Resetting excludeThres to 0.\n",
      "Warning: excludeThres option currently not supported. Resetting excludeThres to 0.\n"
     ]
    },
    {
     "name": "stderr",
     "output_type": "stream",
     "text": [
      "/var/folders/sc/kmc7_9gn2hqd_lrnhdt_2s580000gn/T/ipykernel_36930/2556735345.py:60: UserWarning:\n",
      "\n",
      "This figure includes Axes that are not compatible with tight_layout, so results might be incorrect.\n",
      "\n"
     ]
    },
    {
     "name": "stdout",
     "output_type": "stream",
     "text": [
      "Warning: excludeThres option currently not supported. Resetting excludeThres to 0.\n",
      "Warning: excludeThres option currently not supported. Resetting excludeThres to 0.\n"
     ]
    },
    {
     "name": "stderr",
     "output_type": "stream",
     "text": [
      "/var/folders/sc/kmc7_9gn2hqd_lrnhdt_2s580000gn/T/ipykernel_36930/2556735345.py:60: UserWarning:\n",
      "\n",
      "This figure includes Axes that are not compatible with tight_layout, so results might be incorrect.\n",
      "\n"
     ]
    },
    {
     "name": "stdout",
     "output_type": "stream",
     "text": [
      "Warning: excludeThres option currently not supported. Resetting excludeThres to 0.\n",
      "Warning: excludeThres option currently not supported. Resetting excludeThres to 0.\n"
     ]
    },
    {
     "name": "stderr",
     "output_type": "stream",
     "text": [
      "/var/folders/sc/kmc7_9gn2hqd_lrnhdt_2s580000gn/T/ipykernel_36930/2556735345.py:60: UserWarning:\n",
      "\n",
      "This figure includes Axes that are not compatible with tight_layout, so results might be incorrect.\n",
      "\n"
     ]
    },
    {
     "name": "stdout",
     "output_type": "stream",
     "text": [
      "Warning: excludeThres option currently not supported. Resetting excludeThres to 0.\n",
      "Warning: excludeThres option currently not supported. Resetting excludeThres to 0.\n"
     ]
    },
    {
     "name": "stderr",
     "output_type": "stream",
     "text": [
      "/var/folders/sc/kmc7_9gn2hqd_lrnhdt_2s580000gn/T/ipykernel_36930/2556735345.py:60: UserWarning:\n",
      "\n",
      "This figure includes Axes that are not compatible with tight_layout, so results might be incorrect.\n",
      "\n"
     ]
    },
    {
     "name": "stdout",
     "output_type": "stream",
     "text": [
      "Warning: excludeThres option currently not supported. Resetting excludeThres to 0.\n",
      "Warning: excludeThres option currently not supported. Resetting excludeThres to 0.\n"
     ]
    },
    {
     "name": "stderr",
     "output_type": "stream",
     "text": [
      "/var/folders/sc/kmc7_9gn2hqd_lrnhdt_2s580000gn/T/ipykernel_36930/2556735345.py:60: UserWarning:\n",
      "\n",
      "This figure includes Axes that are not compatible with tight_layout, so results might be incorrect.\n",
      "\n"
     ]
    },
    {
     "name": "stdout",
     "output_type": "stream",
     "text": [
      "Warning: excludeThres option currently not supported. Resetting excludeThres to 0.\n",
      "Warning: excludeThres option currently not supported. Resetting excludeThres to 0.\n"
     ]
    },
    {
     "name": "stderr",
     "output_type": "stream",
     "text": [
      "/var/folders/sc/kmc7_9gn2hqd_lrnhdt_2s580000gn/T/ipykernel_36930/2556735345.py:60: UserWarning:\n",
      "\n",
      "This figure includes Axes that are not compatible with tight_layout, so results might be incorrect.\n",
      "\n"
     ]
    },
    {
     "name": "stdout",
     "output_type": "stream",
     "text": [
      "Warning: excludeThres option currently not supported. Resetting excludeThres to 0.\n",
      "Warning: excludeThres option currently not supported. Resetting excludeThres to 0.\n"
     ]
    },
    {
     "name": "stderr",
     "output_type": "stream",
     "text": [
      "/var/folders/sc/kmc7_9gn2hqd_lrnhdt_2s580000gn/T/ipykernel_36930/2556735345.py:60: UserWarning:\n",
      "\n",
      "This figure includes Axes that are not compatible with tight_layout, so results might be incorrect.\n",
      "\n"
     ]
    },
    {
     "name": "stdout",
     "output_type": "stream",
     "text": [
      "Warning: excludeThres option currently not supported. Resetting excludeThres to 0.\n",
      "Warning: excludeThres option currently not supported. Resetting excludeThres to 0.\n"
     ]
    },
    {
     "name": "stderr",
     "output_type": "stream",
     "text": [
      "/var/folders/sc/kmc7_9gn2hqd_lrnhdt_2s580000gn/T/ipykernel_36930/2556735345.py:60: UserWarning:\n",
      "\n",
      "This figure includes Axes that are not compatible with tight_layout, so results might be incorrect.\n",
      "\n"
     ]
    },
    {
     "name": "stdout",
     "output_type": "stream",
     "text": [
      "Warning: excludeThres option currently not supported. Resetting excludeThres to 0.\n",
      "Warning: excludeThres option currently not supported. Resetting excludeThres to 0.\n"
     ]
    },
    {
     "name": "stderr",
     "output_type": "stream",
     "text": [
      "/var/folders/sc/kmc7_9gn2hqd_lrnhdt_2s580000gn/T/ipykernel_36930/2556735345.py:60: UserWarning:\n",
      "\n",
      "This figure includes Axes that are not compatible with tight_layout, so results might be incorrect.\n",
      "\n"
     ]
    },
    {
     "name": "stdout",
     "output_type": "stream",
     "text": [
      "Warning: excludeThres option currently not supported. Resetting excludeThres to 0.\n",
      "Warning: excludeThres option currently not supported. Resetting excludeThres to 0.\n"
     ]
    },
    {
     "name": "stderr",
     "output_type": "stream",
     "text": [
      "/var/folders/sc/kmc7_9gn2hqd_lrnhdt_2s580000gn/T/ipykernel_36930/2556735345.py:60: UserWarning:\n",
      "\n",
      "This figure includes Axes that are not compatible with tight_layout, so results might be incorrect.\n",
      "\n"
     ]
    },
    {
     "name": "stdout",
     "output_type": "stream",
     "text": [
      "Warning: excludeThres option currently not supported. Resetting excludeThres to 0.\n",
      "Warning: excludeThres option currently not supported. Resetting excludeThres to 0.\n"
     ]
    },
    {
     "name": "stderr",
     "output_type": "stream",
     "text": [
      "/var/folders/sc/kmc7_9gn2hqd_lrnhdt_2s580000gn/T/ipykernel_36930/2556735345.py:60: UserWarning:\n",
      "\n",
      "This figure includes Axes that are not compatible with tight_layout, so results might be incorrect.\n",
      "\n"
     ]
    },
    {
     "name": "stdout",
     "output_type": "stream",
     "text": [
      "Warning: excludeThres option currently not supported. Resetting excludeThres to 0.\n",
      "Warning: excludeThres option currently not supported. Resetting excludeThres to 0.\n"
     ]
    },
    {
     "name": "stderr",
     "output_type": "stream",
     "text": [
      "/var/folders/sc/kmc7_9gn2hqd_lrnhdt_2s580000gn/T/ipykernel_36930/2556735345.py:60: UserWarning:\n",
      "\n",
      "This figure includes Axes that are not compatible with tight_layout, so results might be incorrect.\n",
      "\n"
     ]
    },
    {
     "name": "stdout",
     "output_type": "stream",
     "text": [
      "Warning: excludeThres option currently not supported. Resetting excludeThres to 0.\n",
      "Warning: excludeThres option currently not supported. Resetting excludeThres to 0.\n"
     ]
    },
    {
     "name": "stderr",
     "output_type": "stream",
     "text": [
      "/var/folders/sc/kmc7_9gn2hqd_lrnhdt_2s580000gn/T/ipykernel_36930/2556735345.py:60: UserWarning:\n",
      "\n",
      "This figure includes Axes that are not compatible with tight_layout, so results might be incorrect.\n",
      "\n"
     ]
    },
    {
     "name": "stdout",
     "output_type": "stream",
     "text": [
      "Warning: excludeThres option currently not supported. Resetting excludeThres to 0.\n",
      "Warning: excludeThres option currently not supported. Resetting excludeThres to 0.\n"
     ]
    },
    {
     "name": "stderr",
     "output_type": "stream",
     "text": [
      "/var/folders/sc/kmc7_9gn2hqd_lrnhdt_2s580000gn/T/ipykernel_36930/2556735345.py:60: UserWarning:\n",
      "\n",
      "This figure includes Axes that are not compatible with tight_layout, so results might be incorrect.\n",
      "\n"
     ]
    },
    {
     "name": "stdout",
     "output_type": "stream",
     "text": [
      "Warning: excludeThres option currently not supported. Resetting excludeThres to 0.\n",
      "Warning: excludeThres option currently not supported. Resetting excludeThres to 0.\n"
     ]
    },
    {
     "name": "stderr",
     "output_type": "stream",
     "text": [
      "/var/folders/sc/kmc7_9gn2hqd_lrnhdt_2s580000gn/T/ipykernel_36930/2556735345.py:60: UserWarning:\n",
      "\n",
      "This figure includes Axes that are not compatible with tight_layout, so results might be incorrect.\n",
      "\n"
     ]
    },
    {
     "name": "stdout",
     "output_type": "stream",
     "text": [
      "Warning: excludeThres option currently not supported. Resetting excludeThres to 0.\n",
      "Warning: excludeThres option currently not supported. Resetting excludeThres to 0.\n"
     ]
    },
    {
     "name": "stderr",
     "output_type": "stream",
     "text": [
      "/var/folders/sc/kmc7_9gn2hqd_lrnhdt_2s580000gn/T/ipykernel_36930/2556735345.py:60: UserWarning:\n",
      "\n",
      "This figure includes Axes that are not compatible with tight_layout, so results might be incorrect.\n",
      "\n"
     ]
    },
    {
     "name": "stdout",
     "output_type": "stream",
     "text": [
      "Warning: excludeThres option currently not supported. Resetting excludeThres to 0.\n",
      "Warning: excludeThres option currently not supported. Resetting excludeThres to 0.\n"
     ]
    },
    {
     "name": "stderr",
     "output_type": "stream",
     "text": [
      "/var/folders/sc/kmc7_9gn2hqd_lrnhdt_2s580000gn/T/ipykernel_36930/2556735345.py:60: UserWarning:\n",
      "\n",
      "This figure includes Axes that are not compatible with tight_layout, so results might be incorrect.\n",
      "\n"
     ]
    },
    {
     "name": "stdout",
     "output_type": "stream",
     "text": [
      "Warning: excludeThres option currently not supported. Resetting excludeThres to 0.\n",
      "Warning: excludeThres option currently not supported. Resetting excludeThres to 0.\n"
     ]
    },
    {
     "name": "stderr",
     "output_type": "stream",
     "text": [
      "/var/folders/sc/kmc7_9gn2hqd_lrnhdt_2s580000gn/T/ipykernel_36930/2556735345.py:60: UserWarning:\n",
      "\n",
      "This figure includes Axes that are not compatible with tight_layout, so results might be incorrect.\n",
      "\n"
     ]
    },
    {
     "name": "stdout",
     "output_type": "stream",
     "text": [
      "Warning: excludeThres option currently not supported. Resetting excludeThres to 0.\n",
      "Warning: excludeThres option currently not supported. Resetting excludeThres to 0.\n"
     ]
    },
    {
     "name": "stderr",
     "output_type": "stream",
     "text": [
      "/var/folders/sc/kmc7_9gn2hqd_lrnhdt_2s580000gn/T/ipykernel_36930/2556735345.py:60: UserWarning:\n",
      "\n",
      "This figure includes Axes that are not compatible with tight_layout, so results might be incorrect.\n",
      "\n"
     ]
    },
    {
     "name": "stdout",
     "output_type": "stream",
     "text": [
      "Warning: excludeThres option currently not supported. Resetting excludeThres to 0.\n",
      "Warning: excludeThres option currently not supported. Resetting excludeThres to 0.\n"
     ]
    },
    {
     "name": "stderr",
     "output_type": "stream",
     "text": [
      "/var/folders/sc/kmc7_9gn2hqd_lrnhdt_2s580000gn/T/ipykernel_36930/2556735345.py:60: UserWarning:\n",
      "\n",
      "This figure includes Axes that are not compatible with tight_layout, so results might be incorrect.\n",
      "\n"
     ]
    },
    {
     "name": "stdout",
     "output_type": "stream",
     "text": [
      "Warning: excludeThres option currently not supported. Resetting excludeThres to 0.\n",
      "Warning: excludeThres option currently not supported. Resetting excludeThres to 0.\n"
     ]
    },
    {
     "name": "stderr",
     "output_type": "stream",
     "text": [
      "/var/folders/sc/kmc7_9gn2hqd_lrnhdt_2s580000gn/T/ipykernel_36930/2556735345.py:60: UserWarning:\n",
      "\n",
      "This figure includes Axes that are not compatible with tight_layout, so results might be incorrect.\n",
      "\n"
     ]
    },
    {
     "name": "stdout",
     "output_type": "stream",
     "text": [
      "Warning: excludeThres option currently not supported. Resetting excludeThres to 0.\n",
      "Warning: excludeThres option currently not supported. Resetting excludeThres to 0.\n"
     ]
    },
    {
     "name": "stderr",
     "output_type": "stream",
     "text": [
      "/var/folders/sc/kmc7_9gn2hqd_lrnhdt_2s580000gn/T/ipykernel_36930/2556735345.py:60: UserWarning:\n",
      "\n",
      "This figure includes Axes that are not compatible with tight_layout, so results might be incorrect.\n",
      "\n"
     ]
    },
    {
     "name": "stdout",
     "output_type": "stream",
     "text": [
      "Warning: excludeThres option currently not supported. Resetting excludeThres to 0.\n",
      "Warning: excludeThres option currently not supported. Resetting excludeThres to 0.\n"
     ]
    },
    {
     "name": "stderr",
     "output_type": "stream",
     "text": [
      "/var/folders/sc/kmc7_9gn2hqd_lrnhdt_2s580000gn/T/ipykernel_36930/2556735345.py:60: UserWarning:\n",
      "\n",
      "This figure includes Axes that are not compatible with tight_layout, so results might be incorrect.\n",
      "\n"
     ]
    },
    {
     "name": "stdout",
     "output_type": "stream",
     "text": [
      "Warning: excludeThres option currently not supported. Resetting excludeThres to 0.\n",
      "Warning: excludeThres option currently not supported. Resetting excludeThres to 0.\n"
     ]
    },
    {
     "name": "stderr",
     "output_type": "stream",
     "text": [
      "/var/folders/sc/kmc7_9gn2hqd_lrnhdt_2s580000gn/T/ipykernel_36930/2556735345.py:60: UserWarning:\n",
      "\n",
      "This figure includes Axes that are not compatible with tight_layout, so results might be incorrect.\n",
      "\n"
     ]
    },
    {
     "name": "stdout",
     "output_type": "stream",
     "text": [
      "Warning: excludeThres option currently not supported. Resetting excludeThres to 0.\n",
      "Warning: excludeThres option currently not supported. Resetting excludeThres to 0.\n"
     ]
    },
    {
     "name": "stderr",
     "output_type": "stream",
     "text": [
      "/var/folders/sc/kmc7_9gn2hqd_lrnhdt_2s580000gn/T/ipykernel_36930/2556735345.py:60: UserWarning:\n",
      "\n",
      "This figure includes Axes that are not compatible with tight_layout, so results might be incorrect.\n",
      "\n"
     ]
    },
    {
     "name": "stdout",
     "output_type": "stream",
     "text": [
      "Warning: excludeThres option currently not supported. Resetting excludeThres to 0.\n",
      "Warning: excludeThres option currently not supported. Resetting excludeThres to 0.\n"
     ]
    },
    {
     "name": "stderr",
     "output_type": "stream",
     "text": [
      "/var/folders/sc/kmc7_9gn2hqd_lrnhdt_2s580000gn/T/ipykernel_36930/2556735345.py:60: UserWarning:\n",
      "\n",
      "This figure includes Axes that are not compatible with tight_layout, so results might be incorrect.\n",
      "\n"
     ]
    },
    {
     "name": "stdout",
     "output_type": "stream",
     "text": [
      "Warning: excludeThres option currently not supported. Resetting excludeThres to 0.\n",
      "Warning: excludeThres option currently not supported. Resetting excludeThres to 0.\n"
     ]
    },
    {
     "name": "stderr",
     "output_type": "stream",
     "text": [
      "/var/folders/sc/kmc7_9gn2hqd_lrnhdt_2s580000gn/T/ipykernel_36930/2556735345.py:60: UserWarning:\n",
      "\n",
      "This figure includes Axes that are not compatible with tight_layout, so results might be incorrect.\n",
      "\n"
     ]
    },
    {
     "name": "stdout",
     "output_type": "stream",
     "text": [
      "Warning: excludeThres option currently not supported. Resetting excludeThres to 0.\n",
      "Warning: excludeThres option currently not supported. Resetting excludeThres to 0.\n"
     ]
    },
    {
     "name": "stderr",
     "output_type": "stream",
     "text": [
      "/var/folders/sc/kmc7_9gn2hqd_lrnhdt_2s580000gn/T/ipykernel_36930/2556735345.py:60: UserWarning:\n",
      "\n",
      "This figure includes Axes that are not compatible with tight_layout, so results might be incorrect.\n",
      "\n"
     ]
    },
    {
     "name": "stdout",
     "output_type": "stream",
     "text": [
      "Warning: excludeThres option currently not supported. Resetting excludeThres to 0.\n",
      "Warning: excludeThres option currently not supported. Resetting excludeThres to 0.\n"
     ]
    },
    {
     "name": "stderr",
     "output_type": "stream",
     "text": [
      "/var/folders/sc/kmc7_9gn2hqd_lrnhdt_2s580000gn/T/ipykernel_36930/2556735345.py:60: UserWarning:\n",
      "\n",
      "This figure includes Axes that are not compatible with tight_layout, so results might be incorrect.\n",
      "\n"
     ]
    },
    {
     "name": "stdout",
     "output_type": "stream",
     "text": [
      "Warning: excludeThres option currently not supported. Resetting excludeThres to 0.\n",
      "Warning: excludeThres option currently not supported. Resetting excludeThres to 0.\n"
     ]
    },
    {
     "name": "stderr",
     "output_type": "stream",
     "text": [
      "/var/folders/sc/kmc7_9gn2hqd_lrnhdt_2s580000gn/T/ipykernel_36930/2556735345.py:60: UserWarning:\n",
      "\n",
      "This figure includes Axes that are not compatible with tight_layout, so results might be incorrect.\n",
      "\n"
     ]
    },
    {
     "name": "stdout",
     "output_type": "stream",
     "text": [
      "Warning: excludeThres option currently not supported. Resetting excludeThres to 0.\n",
      "Warning: excludeThres option currently not supported. Resetting excludeThres to 0.\n"
     ]
    },
    {
     "name": "stderr",
     "output_type": "stream",
     "text": [
      "/var/folders/sc/kmc7_9gn2hqd_lrnhdt_2s580000gn/T/ipykernel_36930/2556735345.py:60: UserWarning:\n",
      "\n",
      "This figure includes Axes that are not compatible with tight_layout, so results might be incorrect.\n",
      "\n"
     ]
    },
    {
     "name": "stdout",
     "output_type": "stream",
     "text": [
      "Warning: excludeThres option currently not supported. Resetting excludeThres to 0.\n",
      "Warning: excludeThres option currently not supported. Resetting excludeThres to 0.\n"
     ]
    },
    {
     "name": "stderr",
     "output_type": "stream",
     "text": [
      "/var/folders/sc/kmc7_9gn2hqd_lrnhdt_2s580000gn/T/ipykernel_36930/2556735345.py:60: UserWarning:\n",
      "\n",
      "This figure includes Axes that are not compatible with tight_layout, so results might be incorrect.\n",
      "\n"
     ]
    },
    {
     "name": "stdout",
     "output_type": "stream",
     "text": [
      "Warning: excludeThres option currently not supported. Resetting excludeThres to 0.\n",
      "Warning: excludeThres option currently not supported. Resetting excludeThres to 0.\n"
     ]
    },
    {
     "name": "stderr",
     "output_type": "stream",
     "text": [
      "/var/folders/sc/kmc7_9gn2hqd_lrnhdt_2s580000gn/T/ipykernel_36930/2556735345.py:60: UserWarning:\n",
      "\n",
      "This figure includes Axes that are not compatible with tight_layout, so results might be incorrect.\n",
      "\n"
     ]
    },
    {
     "name": "stdout",
     "output_type": "stream",
     "text": [
      "Warning: excludeThres option currently not supported. Resetting excludeThres to 0.\n",
      "Warning: excludeThres option currently not supported. Resetting excludeThres to 0.\n"
     ]
    },
    {
     "name": "stderr",
     "output_type": "stream",
     "text": [
      "/var/folders/sc/kmc7_9gn2hqd_lrnhdt_2s580000gn/T/ipykernel_36930/2556735345.py:60: UserWarning:\n",
      "\n",
      "This figure includes Axes that are not compatible with tight_layout, so results might be incorrect.\n",
      "\n"
     ]
    },
    {
     "name": "stdout",
     "output_type": "stream",
     "text": [
      "Warning: excludeThres option currently not supported. Resetting excludeThres to 0.\n",
      "Warning: excludeThres option currently not supported. Resetting excludeThres to 0.\n"
     ]
    },
    {
     "name": "stderr",
     "output_type": "stream",
     "text": [
      "/var/folders/sc/kmc7_9gn2hqd_lrnhdt_2s580000gn/T/ipykernel_36930/2556735345.py:60: UserWarning:\n",
      "\n",
      "This figure includes Axes that are not compatible with tight_layout, so results might be incorrect.\n",
      "\n"
     ]
    },
    {
     "name": "stdout",
     "output_type": "stream",
     "text": [
      "Warning: excludeThres option currently not supported. Resetting excludeThres to 0.\n",
      "Warning: excludeThres option currently not supported. Resetting excludeThres to 0.\n"
     ]
    },
    {
     "name": "stderr",
     "output_type": "stream",
     "text": [
      "/var/folders/sc/kmc7_9gn2hqd_lrnhdt_2s580000gn/T/ipykernel_36930/2556735345.py:60: UserWarning:\n",
      "\n",
      "This figure includes Axes that are not compatible with tight_layout, so results might be incorrect.\n",
      "\n"
     ]
    },
    {
     "name": "stdout",
     "output_type": "stream",
     "text": [
      "Warning: excludeThres option currently not supported. Resetting excludeThres to 0.\n",
      "Warning: excludeThres option currently not supported. Resetting excludeThres to 0.\n"
     ]
    },
    {
     "name": "stderr",
     "output_type": "stream",
     "text": [
      "/var/folders/sc/kmc7_9gn2hqd_lrnhdt_2s580000gn/T/ipykernel_36930/2556735345.py:60: UserWarning:\n",
      "\n",
      "This figure includes Axes that are not compatible with tight_layout, so results might be incorrect.\n",
      "\n"
     ]
    },
    {
     "name": "stdout",
     "output_type": "stream",
     "text": [
      "Warning: excludeThres option currently not supported. Resetting excludeThres to 0.\n",
      "Warning: excludeThres option currently not supported. Resetting excludeThres to 0.\n"
     ]
    },
    {
     "name": "stderr",
     "output_type": "stream",
     "text": [
      "/var/folders/sc/kmc7_9gn2hqd_lrnhdt_2s580000gn/T/ipykernel_36930/2556735345.py:60: UserWarning:\n",
      "\n",
      "This figure includes Axes that are not compatible with tight_layout, so results might be incorrect.\n",
      "\n"
     ]
    },
    {
     "name": "stdout",
     "output_type": "stream",
     "text": [
      "Warning: excludeThres option currently not supported. Resetting excludeThres to 0.\n",
      "Warning: excludeThres option currently not supported. Resetting excludeThres to 0.\n"
     ]
    },
    {
     "name": "stderr",
     "output_type": "stream",
     "text": [
      "/var/folders/sc/kmc7_9gn2hqd_lrnhdt_2s580000gn/T/ipykernel_36930/2556735345.py:60: UserWarning:\n",
      "\n",
      "This figure includes Axes that are not compatible with tight_layout, so results might be incorrect.\n",
      "\n"
     ]
    },
    {
     "name": "stdout",
     "output_type": "stream",
     "text": [
      "Warning: excludeThres option currently not supported. Resetting excludeThres to 0.\n",
      "Warning: excludeThres option currently not supported. Resetting excludeThres to 0.\n"
     ]
    },
    {
     "name": "stderr",
     "output_type": "stream",
     "text": [
      "/var/folders/sc/kmc7_9gn2hqd_lrnhdt_2s580000gn/T/ipykernel_36930/2556735345.py:60: UserWarning:\n",
      "\n",
      "This figure includes Axes that are not compatible with tight_layout, so results might be incorrect.\n",
      "\n"
     ]
    },
    {
     "name": "stdout",
     "output_type": "stream",
     "text": [
      "Warning: excludeThres option currently not supported. Resetting excludeThres to 0.\n",
      "Warning: excludeThres option currently not supported. Resetting excludeThres to 0.\n"
     ]
    },
    {
     "name": "stderr",
     "output_type": "stream",
     "text": [
      "/var/folders/sc/kmc7_9gn2hqd_lrnhdt_2s580000gn/T/ipykernel_36930/2556735345.py:60: UserWarning:\n",
      "\n",
      "This figure includes Axes that are not compatible with tight_layout, so results might be incorrect.\n",
      "\n"
     ]
    },
    {
     "name": "stdout",
     "output_type": "stream",
     "text": [
      "Warning: excludeThres option currently not supported. Resetting excludeThres to 0.\n",
      "Warning: excludeThres option currently not supported. Resetting excludeThres to 0.\n"
     ]
    },
    {
     "name": "stderr",
     "output_type": "stream",
     "text": [
      "/var/folders/sc/kmc7_9gn2hqd_lrnhdt_2s580000gn/T/ipykernel_36930/2556735345.py:60: UserWarning:\n",
      "\n",
      "This figure includes Axes that are not compatible with tight_layout, so results might be incorrect.\n",
      "\n"
     ]
    },
    {
     "name": "stdout",
     "output_type": "stream",
     "text": [
      "Warning: excludeThres option currently not supported. Resetting excludeThres to 0.\n",
      "Warning: excludeThres option currently not supported. Resetting excludeThres to 0.\n"
     ]
    },
    {
     "name": "stderr",
     "output_type": "stream",
     "text": [
      "/var/folders/sc/kmc7_9gn2hqd_lrnhdt_2s580000gn/T/ipykernel_36930/2556735345.py:60: UserWarning:\n",
      "\n",
      "This figure includes Axes that are not compatible with tight_layout, so results might be incorrect.\n",
      "\n"
     ]
    },
    {
     "name": "stdout",
     "output_type": "stream",
     "text": [
      "Warning: excludeThres option currently not supported. Resetting excludeThres to 0.\n",
      "Warning: excludeThres option currently not supported. Resetting excludeThres to 0.\n"
     ]
    },
    {
     "name": "stderr",
     "output_type": "stream",
     "text": [
      "/var/folders/sc/kmc7_9gn2hqd_lrnhdt_2s580000gn/T/ipykernel_36930/2556735345.py:60: UserWarning:\n",
      "\n",
      "This figure includes Axes that are not compatible with tight_layout, so results might be incorrect.\n",
      "\n"
     ]
    },
    {
     "name": "stdout",
     "output_type": "stream",
     "text": [
      "Warning: excludeThres option currently not supported. Resetting excludeThres to 0.\n",
      "Warning: excludeThres option currently not supported. Resetting excludeThres to 0.\n"
     ]
    },
    {
     "name": "stderr",
     "output_type": "stream",
     "text": [
      "/var/folders/sc/kmc7_9gn2hqd_lrnhdt_2s580000gn/T/ipykernel_36930/2556735345.py:60: UserWarning:\n",
      "\n",
      "This figure includes Axes that are not compatible with tight_layout, so results might be incorrect.\n",
      "\n"
     ]
    },
    {
     "name": "stdout",
     "output_type": "stream",
     "text": [
      "Warning: excludeThres option currently not supported. Resetting excludeThres to 0.\n",
      "Warning: excludeThres option currently not supported. Resetting excludeThres to 0.\n"
     ]
    },
    {
     "name": "stderr",
     "output_type": "stream",
     "text": [
      "/var/folders/sc/kmc7_9gn2hqd_lrnhdt_2s580000gn/T/ipykernel_36930/2556735345.py:60: UserWarning:\n",
      "\n",
      "This figure includes Axes that are not compatible with tight_layout, so results might be incorrect.\n",
      "\n"
     ]
    },
    {
     "name": "stdout",
     "output_type": "stream",
     "text": [
      "Warning: excludeThres option currently not supported. Resetting excludeThres to 0.\n",
      "Warning: excludeThres option currently not supported. Resetting excludeThres to 0.\n"
     ]
    },
    {
     "name": "stderr",
     "output_type": "stream",
     "text": [
      "/var/folders/sc/kmc7_9gn2hqd_lrnhdt_2s580000gn/T/ipykernel_36930/2556735345.py:60: UserWarning:\n",
      "\n",
      "This figure includes Axes that are not compatible with tight_layout, so results might be incorrect.\n",
      "\n"
     ]
    },
    {
     "name": "stdout",
     "output_type": "stream",
     "text": [
      "Warning: excludeThres option currently not supported. Resetting excludeThres to 0.\n",
      "Warning: excludeThres option currently not supported. Resetting excludeThres to 0.\n"
     ]
    },
    {
     "name": "stderr",
     "output_type": "stream",
     "text": [
      "/var/folders/sc/kmc7_9gn2hqd_lrnhdt_2s580000gn/T/ipykernel_36930/2556735345.py:60: UserWarning:\n",
      "\n",
      "This figure includes Axes that are not compatible with tight_layout, so results might be incorrect.\n",
      "\n"
     ]
    },
    {
     "name": "stdout",
     "output_type": "stream",
     "text": [
      "Warning: excludeThres option currently not supported. Resetting excludeThres to 0.\n",
      "Warning: excludeThres option currently not supported. Resetting excludeThres to 0.\n"
     ]
    },
    {
     "name": "stderr",
     "output_type": "stream",
     "text": [
      "/var/folders/sc/kmc7_9gn2hqd_lrnhdt_2s580000gn/T/ipykernel_36930/2556735345.py:60: UserWarning:\n",
      "\n",
      "This figure includes Axes that are not compatible with tight_layout, so results might be incorrect.\n",
      "\n"
     ]
    },
    {
     "name": "stdout",
     "output_type": "stream",
     "text": [
      "Warning: excludeThres option currently not supported. Resetting excludeThres to 0.\n",
      "Warning: excludeThres option currently not supported. Resetting excludeThres to 0.\n"
     ]
    },
    {
     "name": "stderr",
     "output_type": "stream",
     "text": [
      "/var/folders/sc/kmc7_9gn2hqd_lrnhdt_2s580000gn/T/ipykernel_36930/2556735345.py:60: UserWarning:\n",
      "\n",
      "This figure includes Axes that are not compatible with tight_layout, so results might be incorrect.\n",
      "\n"
     ]
    },
    {
     "name": "stdout",
     "output_type": "stream",
     "text": [
      "Warning: excludeThres option currently not supported. Resetting excludeThres to 0.\n",
      "Warning: excludeThres option currently not supported. Resetting excludeThres to 0.\n"
     ]
    },
    {
     "name": "stderr",
     "output_type": "stream",
     "text": [
      "/var/folders/sc/kmc7_9gn2hqd_lrnhdt_2s580000gn/T/ipykernel_36930/2556735345.py:60: UserWarning:\n",
      "\n",
      "This figure includes Axes that are not compatible with tight_layout, so results might be incorrect.\n",
      "\n"
     ]
    },
    {
     "name": "stdout",
     "output_type": "stream",
     "text": [
      "Warning: excludeThres option currently not supported. Resetting excludeThres to 0.\n",
      "Warning: excludeThres option currently not supported. Resetting excludeThres to 0.\n"
     ]
    },
    {
     "name": "stderr",
     "output_type": "stream",
     "text": [
      "/var/folders/sc/kmc7_9gn2hqd_lrnhdt_2s580000gn/T/ipykernel_36930/2556735345.py:60: UserWarning:\n",
      "\n",
      "This figure includes Axes that are not compatible with tight_layout, so results might be incorrect.\n",
      "\n"
     ]
    },
    {
     "name": "stdout",
     "output_type": "stream",
     "text": [
      "Warning: excludeThres option currently not supported. Resetting excludeThres to 0.\n",
      "Warning: excludeThres option currently not supported. Resetting excludeThres to 0.\n"
     ]
    },
    {
     "name": "stderr",
     "output_type": "stream",
     "text": [
      "/var/folders/sc/kmc7_9gn2hqd_lrnhdt_2s580000gn/T/ipykernel_36930/2556735345.py:60: UserWarning:\n",
      "\n",
      "This figure includes Axes that are not compatible with tight_layout, so results might be incorrect.\n",
      "\n"
     ]
    },
    {
     "name": "stdout",
     "output_type": "stream",
     "text": [
      "Warning: excludeThres option currently not supported. Resetting excludeThres to 0.\n",
      "Warning: excludeThres option currently not supported. Resetting excludeThres to 0.\n"
     ]
    },
    {
     "name": "stderr",
     "output_type": "stream",
     "text": [
      "/var/folders/sc/kmc7_9gn2hqd_lrnhdt_2s580000gn/T/ipykernel_36930/2556735345.py:60: UserWarning:\n",
      "\n",
      "This figure includes Axes that are not compatible with tight_layout, so results might be incorrect.\n",
      "\n"
     ]
    },
    {
     "name": "stdout",
     "output_type": "stream",
     "text": [
      "Warning: excludeThres option currently not supported. Resetting excludeThres to 0.\n",
      "Warning: excludeThres option currently not supported. Resetting excludeThres to 0.\n"
     ]
    },
    {
     "name": "stderr",
     "output_type": "stream",
     "text": [
      "/var/folders/sc/kmc7_9gn2hqd_lrnhdt_2s580000gn/T/ipykernel_36930/2556735345.py:60: UserWarning:\n",
      "\n",
      "This figure includes Axes that are not compatible with tight_layout, so results might be incorrect.\n",
      "\n"
     ]
    },
    {
     "name": "stdout",
     "output_type": "stream",
     "text": [
      "Warning: excludeThres option currently not supported. Resetting excludeThres to 0.\n",
      "Warning: excludeThres option currently not supported. Resetting excludeThres to 0.\n"
     ]
    },
    {
     "name": "stderr",
     "output_type": "stream",
     "text": [
      "/var/folders/sc/kmc7_9gn2hqd_lrnhdt_2s580000gn/T/ipykernel_36930/2556735345.py:60: UserWarning:\n",
      "\n",
      "This figure includes Axes that are not compatible with tight_layout, so results might be incorrect.\n",
      "\n"
     ]
    },
    {
     "name": "stdout",
     "output_type": "stream",
     "text": [
      "Warning: excludeThres option currently not supported. Resetting excludeThres to 0.\n",
      "Warning: excludeThres option currently not supported. Resetting excludeThres to 0.\n"
     ]
    },
    {
     "name": "stderr",
     "output_type": "stream",
     "text": [
      "/var/folders/sc/kmc7_9gn2hqd_lrnhdt_2s580000gn/T/ipykernel_36930/2556735345.py:60: UserWarning:\n",
      "\n",
      "This figure includes Axes that are not compatible with tight_layout, so results might be incorrect.\n",
      "\n"
     ]
    },
    {
     "name": "stdout",
     "output_type": "stream",
     "text": [
      "Warning: excludeThres option currently not supported. Resetting excludeThres to 0.\n",
      "Warning: excludeThres option currently not supported. Resetting excludeThres to 0.\n"
     ]
    },
    {
     "name": "stderr",
     "output_type": "stream",
     "text": [
      "/var/folders/sc/kmc7_9gn2hqd_lrnhdt_2s580000gn/T/ipykernel_36930/2556735345.py:60: UserWarning:\n",
      "\n",
      "This figure includes Axes that are not compatible with tight_layout, so results might be incorrect.\n",
      "\n"
     ]
    },
    {
     "name": "stdout",
     "output_type": "stream",
     "text": [
      "Warning: excludeThres option currently not supported. Resetting excludeThres to 0.\n",
      "Warning: excludeThres option currently not supported. Resetting excludeThres to 0.\n"
     ]
    },
    {
     "name": "stderr",
     "output_type": "stream",
     "text": [
      "/var/folders/sc/kmc7_9gn2hqd_lrnhdt_2s580000gn/T/ipykernel_36930/2556735345.py:60: UserWarning:\n",
      "\n",
      "This figure includes Axes that are not compatible with tight_layout, so results might be incorrect.\n",
      "\n"
     ]
    },
    {
     "name": "stdout",
     "output_type": "stream",
     "text": [
      "Warning: excludeThres option currently not supported. Resetting excludeThres to 0.\n",
      "Warning: excludeThres option currently not supported. Resetting excludeThres to 0.\n"
     ]
    },
    {
     "name": "stderr",
     "output_type": "stream",
     "text": [
      "/var/folders/sc/kmc7_9gn2hqd_lrnhdt_2s580000gn/T/ipykernel_36930/2556735345.py:60: UserWarning:\n",
      "\n",
      "This figure includes Axes that are not compatible with tight_layout, so results might be incorrect.\n",
      "\n"
     ]
    },
    {
     "name": "stdout",
     "output_type": "stream",
     "text": [
      "Warning: excludeThres option currently not supported. Resetting excludeThres to 0.\n",
      "Warning: excludeThres option currently not supported. Resetting excludeThres to 0.\n"
     ]
    },
    {
     "name": "stderr",
     "output_type": "stream",
     "text": [
      "/var/folders/sc/kmc7_9gn2hqd_lrnhdt_2s580000gn/T/ipykernel_36930/2556735345.py:60: UserWarning:\n",
      "\n",
      "This figure includes Axes that are not compatible with tight_layout, so results might be incorrect.\n",
      "\n"
     ]
    },
    {
     "name": "stdout",
     "output_type": "stream",
     "text": [
      "Warning: excludeThres option currently not supported. Resetting excludeThres to 0.\n",
      "Warning: excludeThres option currently not supported. Resetting excludeThres to 0.\n"
     ]
    },
    {
     "name": "stderr",
     "output_type": "stream",
     "text": [
      "/var/folders/sc/kmc7_9gn2hqd_lrnhdt_2s580000gn/T/ipykernel_36930/2556735345.py:60: UserWarning:\n",
      "\n",
      "This figure includes Axes that are not compatible with tight_layout, so results might be incorrect.\n",
      "\n"
     ]
    },
    {
     "name": "stdout",
     "output_type": "stream",
     "text": [
      "Warning: excludeThres option currently not supported. Resetting excludeThres to 0.\n",
      "Warning: excludeThres option currently not supported. Resetting excludeThres to 0.\n"
     ]
    },
    {
     "name": "stderr",
     "output_type": "stream",
     "text": [
      "/var/folders/sc/kmc7_9gn2hqd_lrnhdt_2s580000gn/T/ipykernel_36930/2556735345.py:60: UserWarning:\n",
      "\n",
      "This figure includes Axes that are not compatible with tight_layout, so results might be incorrect.\n",
      "\n"
     ]
    },
    {
     "name": "stdout",
     "output_type": "stream",
     "text": [
      "Warning: excludeThres option currently not supported. Resetting excludeThres to 0.\n",
      "Warning: excludeThres option currently not supported. Resetting excludeThres to 0.\n"
     ]
    },
    {
     "name": "stderr",
     "output_type": "stream",
     "text": [
      "/var/folders/sc/kmc7_9gn2hqd_lrnhdt_2s580000gn/T/ipykernel_36930/2556735345.py:60: UserWarning:\n",
      "\n",
      "This figure includes Axes that are not compatible with tight_layout, so results might be incorrect.\n",
      "\n"
     ]
    },
    {
     "name": "stdout",
     "output_type": "stream",
     "text": [
      "Warning: excludeThres option currently not supported. Resetting excludeThres to 0.\n",
      "Warning: excludeThres option currently not supported. Resetting excludeThres to 0.\n"
     ]
    },
    {
     "name": "stderr",
     "output_type": "stream",
     "text": [
      "/var/folders/sc/kmc7_9gn2hqd_lrnhdt_2s580000gn/T/ipykernel_36930/2556735345.py:60: UserWarning:\n",
      "\n",
      "This figure includes Axes that are not compatible with tight_layout, so results might be incorrect.\n",
      "\n"
     ]
    },
    {
     "name": "stdout",
     "output_type": "stream",
     "text": [
      "Warning: excludeThres option currently not supported. Resetting excludeThres to 0.\n",
      "Warning: excludeThres option currently not supported. Resetting excludeThres to 0.\n"
     ]
    },
    {
     "name": "stderr",
     "output_type": "stream",
     "text": [
      "/var/folders/sc/kmc7_9gn2hqd_lrnhdt_2s580000gn/T/ipykernel_36930/2556735345.py:60: UserWarning:\n",
      "\n",
      "This figure includes Axes that are not compatible with tight_layout, so results might be incorrect.\n",
      "\n"
     ]
    },
    {
     "name": "stdout",
     "output_type": "stream",
     "text": [
      "Warning: excludeThres option currently not supported. Resetting excludeThres to 0.\n",
      "Warning: excludeThres option currently not supported. Resetting excludeThres to 0.\n"
     ]
    },
    {
     "name": "stderr",
     "output_type": "stream",
     "text": [
      "/var/folders/sc/kmc7_9gn2hqd_lrnhdt_2s580000gn/T/ipykernel_36930/2556735345.py:60: UserWarning:\n",
      "\n",
      "This figure includes Axes that are not compatible with tight_layout, so results might be incorrect.\n",
      "\n"
     ]
    },
    {
     "name": "stdout",
     "output_type": "stream",
     "text": [
      "Warning: excludeThres option currently not supported. Resetting excludeThres to 0.\n",
      "Warning: excludeThres option currently not supported. Resetting excludeThres to 0.\n"
     ]
    },
    {
     "name": "stderr",
     "output_type": "stream",
     "text": [
      "/var/folders/sc/kmc7_9gn2hqd_lrnhdt_2s580000gn/T/ipykernel_36930/2556735345.py:60: UserWarning:\n",
      "\n",
      "This figure includes Axes that are not compatible with tight_layout, so results might be incorrect.\n",
      "\n"
     ]
    },
    {
     "name": "stdout",
     "output_type": "stream",
     "text": [
      "Warning: excludeThres option currently not supported. Resetting excludeThres to 0.\n",
      "Warning: excludeThres option currently not supported. Resetting excludeThres to 0.\n"
     ]
    },
    {
     "name": "stderr",
     "output_type": "stream",
     "text": [
      "/var/folders/sc/kmc7_9gn2hqd_lrnhdt_2s580000gn/T/ipykernel_36930/2556735345.py:60: UserWarning:\n",
      "\n",
      "This figure includes Axes that are not compatible with tight_layout, so results might be incorrect.\n",
      "\n"
     ]
    },
    {
     "name": "stdout",
     "output_type": "stream",
     "text": [
      "Warning: excludeThres option currently not supported. Resetting excludeThres to 0.\n",
      "Warning: excludeThres option currently not supported. Resetting excludeThres to 0.\n"
     ]
    },
    {
     "name": "stderr",
     "output_type": "stream",
     "text": [
      "/var/folders/sc/kmc7_9gn2hqd_lrnhdt_2s580000gn/T/ipykernel_36930/2556735345.py:60: UserWarning:\n",
      "\n",
      "This figure includes Axes that are not compatible with tight_layout, so results might be incorrect.\n",
      "\n"
     ]
    },
    {
     "name": "stdout",
     "output_type": "stream",
     "text": [
      "Warning: excludeThres option currently not supported. Resetting excludeThres to 0.\n",
      "Warning: excludeThres option currently not supported. Resetting excludeThres to 0.\n"
     ]
    },
    {
     "name": "stderr",
     "output_type": "stream",
     "text": [
      "/var/folders/sc/kmc7_9gn2hqd_lrnhdt_2s580000gn/T/ipykernel_36930/2556735345.py:60: UserWarning:\n",
      "\n",
      "This figure includes Axes that are not compatible with tight_layout, so results might be incorrect.\n",
      "\n"
     ]
    },
    {
     "name": "stdout",
     "output_type": "stream",
     "text": [
      "Warning: excludeThres option currently not supported. Resetting excludeThres to 0.\n",
      "Warning: excludeThres option currently not supported. Resetting excludeThres to 0.\n"
     ]
    },
    {
     "name": "stderr",
     "output_type": "stream",
     "text": [
      "/var/folders/sc/kmc7_9gn2hqd_lrnhdt_2s580000gn/T/ipykernel_36930/2556735345.py:60: UserWarning:\n",
      "\n",
      "This figure includes Axes that are not compatible with tight_layout, so results might be incorrect.\n",
      "\n"
     ]
    },
    {
     "name": "stdout",
     "output_type": "stream",
     "text": [
      "Warning: excludeThres option currently not supported. Resetting excludeThres to 0.\n",
      "Warning: excludeThres option currently not supported. Resetting excludeThres to 0.\n"
     ]
    },
    {
     "name": "stderr",
     "output_type": "stream",
     "text": [
      "/var/folders/sc/kmc7_9gn2hqd_lrnhdt_2s580000gn/T/ipykernel_36930/2556735345.py:60: UserWarning:\n",
      "\n",
      "This figure includes Axes that are not compatible with tight_layout, so results might be incorrect.\n",
      "\n"
     ]
    },
    {
     "name": "stdout",
     "output_type": "stream",
     "text": [
      "Warning: excludeThres option currently not supported. Resetting excludeThres to 0.\n",
      "Warning: excludeThres option currently not supported. Resetting excludeThres to 0.\n"
     ]
    },
    {
     "name": "stderr",
     "output_type": "stream",
     "text": [
      "/var/folders/sc/kmc7_9gn2hqd_lrnhdt_2s580000gn/T/ipykernel_36930/2556735345.py:60: UserWarning:\n",
      "\n",
      "This figure includes Axes that are not compatible with tight_layout, so results might be incorrect.\n",
      "\n"
     ]
    },
    {
     "name": "stdout",
     "output_type": "stream",
     "text": [
      "Warning: excludeThres option currently not supported. Resetting excludeThres to 0.\n",
      "Warning: excludeThres option currently not supported. Resetting excludeThres to 0.\n"
     ]
    },
    {
     "name": "stderr",
     "output_type": "stream",
     "text": [
      "/var/folders/sc/kmc7_9gn2hqd_lrnhdt_2s580000gn/T/ipykernel_36930/2556735345.py:60: UserWarning:\n",
      "\n",
      "This figure includes Axes that are not compatible with tight_layout, so results might be incorrect.\n",
      "\n"
     ]
    },
    {
     "name": "stdout",
     "output_type": "stream",
     "text": [
      "Warning: excludeThres option currently not supported. Resetting excludeThres to 0.\n",
      "Warning: excludeThres option currently not supported. Resetting excludeThres to 0.\n"
     ]
    },
    {
     "name": "stderr",
     "output_type": "stream",
     "text": [
      "/var/folders/sc/kmc7_9gn2hqd_lrnhdt_2s580000gn/T/ipykernel_36930/2556735345.py:60: UserWarning:\n",
      "\n",
      "This figure includes Axes that are not compatible with tight_layout, so results might be incorrect.\n",
      "\n"
     ]
    },
    {
     "name": "stdout",
     "output_type": "stream",
     "text": [
      "Warning: excludeThres option currently not supported. Resetting excludeThres to 0.\n",
      "Warning: excludeThres option currently not supported. Resetting excludeThres to 0.\n"
     ]
    },
    {
     "name": "stderr",
     "output_type": "stream",
     "text": [
      "/var/folders/sc/kmc7_9gn2hqd_lrnhdt_2s580000gn/T/ipykernel_36930/2556735345.py:60: UserWarning:\n",
      "\n",
      "This figure includes Axes that are not compatible with tight_layout, so results might be incorrect.\n",
      "\n"
     ]
    },
    {
     "name": "stdout",
     "output_type": "stream",
     "text": [
      "Warning: excludeThres option currently not supported. Resetting excludeThres to 0.\n",
      "Warning: excludeThres option currently not supported. Resetting excludeThres to 0.\n"
     ]
    },
    {
     "name": "stderr",
     "output_type": "stream",
     "text": [
      "/var/folders/sc/kmc7_9gn2hqd_lrnhdt_2s580000gn/T/ipykernel_36930/2556735345.py:60: UserWarning:\n",
      "\n",
      "This figure includes Axes that are not compatible with tight_layout, so results might be incorrect.\n",
      "\n"
     ]
    },
    {
     "name": "stdout",
     "output_type": "stream",
     "text": [
      "Warning: excludeThres option currently not supported. Resetting excludeThres to 0.\n",
      "Warning: excludeThres option currently not supported. Resetting excludeThres to 0.\n"
     ]
    },
    {
     "name": "stderr",
     "output_type": "stream",
     "text": [
      "/var/folders/sc/kmc7_9gn2hqd_lrnhdt_2s580000gn/T/ipykernel_36930/2556735345.py:60: UserWarning:\n",
      "\n",
      "This figure includes Axes that are not compatible with tight_layout, so results might be incorrect.\n",
      "\n"
     ]
    },
    {
     "name": "stdout",
     "output_type": "stream",
     "text": [
      "Warning: excludeThres option currently not supported. Resetting excludeThres to 0.\n",
      "Warning: excludeThres option currently not supported. Resetting excludeThres to 0.\n"
     ]
    },
    {
     "name": "stderr",
     "output_type": "stream",
     "text": [
      "/var/folders/sc/kmc7_9gn2hqd_lrnhdt_2s580000gn/T/ipykernel_36930/2556735345.py:60: UserWarning:\n",
      "\n",
      "This figure includes Axes that are not compatible with tight_layout, so results might be incorrect.\n",
      "\n"
     ]
    },
    {
     "name": "stdout",
     "output_type": "stream",
     "text": [
      "Warning: excludeThres option currently not supported. Resetting excludeThres to 0.\n",
      "Warning: excludeThres option currently not supported. Resetting excludeThres to 0.\n"
     ]
    },
    {
     "name": "stderr",
     "output_type": "stream",
     "text": [
      "/var/folders/sc/kmc7_9gn2hqd_lrnhdt_2s580000gn/T/ipykernel_36930/2556735345.py:60: UserWarning:\n",
      "\n",
      "This figure includes Axes that are not compatible with tight_layout, so results might be incorrect.\n",
      "\n"
     ]
    },
    {
     "name": "stdout",
     "output_type": "stream",
     "text": [
      "Warning: excludeThres option currently not supported. Resetting excludeThres to 0.\n",
      "Warning: excludeThres option currently not supported. Resetting excludeThres to 0.\n"
     ]
    },
    {
     "name": "stderr",
     "output_type": "stream",
     "text": [
      "/var/folders/sc/kmc7_9gn2hqd_lrnhdt_2s580000gn/T/ipykernel_36930/2556735345.py:60: UserWarning:\n",
      "\n",
      "This figure includes Axes that are not compatible with tight_layout, so results might be incorrect.\n",
      "\n"
     ]
    },
    {
     "name": "stdout",
     "output_type": "stream",
     "text": [
      "Warning: excludeThres option currently not supported. Resetting excludeThres to 0.\n",
      "Warning: excludeThres option currently not supported. Resetting excludeThres to 0.\n"
     ]
    },
    {
     "name": "stderr",
     "output_type": "stream",
     "text": [
      "/var/folders/sc/kmc7_9gn2hqd_lrnhdt_2s580000gn/T/ipykernel_36930/2556735345.py:60: UserWarning:\n",
      "\n",
      "This figure includes Axes that are not compatible with tight_layout, so results might be incorrect.\n",
      "\n"
     ]
    },
    {
     "name": "stdout",
     "output_type": "stream",
     "text": [
      "Warning: excludeThres option currently not supported. Resetting excludeThres to 0.\n",
      "Warning: excludeThres option currently not supported. Resetting excludeThres to 0.\n"
     ]
    },
    {
     "name": "stderr",
     "output_type": "stream",
     "text": [
      "/var/folders/sc/kmc7_9gn2hqd_lrnhdt_2s580000gn/T/ipykernel_36930/2556735345.py:60: UserWarning:\n",
      "\n",
      "This figure includes Axes that are not compatible with tight_layout, so results might be incorrect.\n",
      "\n"
     ]
    },
    {
     "name": "stdout",
     "output_type": "stream",
     "text": [
      "Warning: excludeThres option currently not supported. Resetting excludeThres to 0.\n",
      "Warning: excludeThres option currently not supported. Resetting excludeThres to 0.\n"
     ]
    },
    {
     "name": "stderr",
     "output_type": "stream",
     "text": [
      "/var/folders/sc/kmc7_9gn2hqd_lrnhdt_2s580000gn/T/ipykernel_36930/2556735345.py:60: UserWarning:\n",
      "\n",
      "This figure includes Axes that are not compatible with tight_layout, so results might be incorrect.\n",
      "\n"
     ]
    },
    {
     "name": "stdout",
     "output_type": "stream",
     "text": [
      "Warning: excludeThres option currently not supported. Resetting excludeThres to 0.\n",
      "Warning: excludeThres option currently not supported. Resetting excludeThres to 0.\n"
     ]
    },
    {
     "name": "stderr",
     "output_type": "stream",
     "text": [
      "/var/folders/sc/kmc7_9gn2hqd_lrnhdt_2s580000gn/T/ipykernel_36930/2556735345.py:60: UserWarning:\n",
      "\n",
      "This figure includes Axes that are not compatible with tight_layout, so results might be incorrect.\n",
      "\n"
     ]
    },
    {
     "name": "stdout",
     "output_type": "stream",
     "text": [
      "Warning: excludeThres option currently not supported. Resetting excludeThres to 0.\n",
      "Warning: excludeThres option currently not supported. Resetting excludeThres to 0.\n"
     ]
    },
    {
     "name": "stderr",
     "output_type": "stream",
     "text": [
      "/var/folders/sc/kmc7_9gn2hqd_lrnhdt_2s580000gn/T/ipykernel_36930/2556735345.py:60: UserWarning:\n",
      "\n",
      "This figure includes Axes that are not compatible with tight_layout, so results might be incorrect.\n",
      "\n"
     ]
    },
    {
     "name": "stdout",
     "output_type": "stream",
     "text": [
      "Warning: excludeThres option currently not supported. Resetting excludeThres to 0.\n",
      "Warning: excludeThres option currently not supported. Resetting excludeThres to 0.\n"
     ]
    },
    {
     "name": "stderr",
     "output_type": "stream",
     "text": [
      "/var/folders/sc/kmc7_9gn2hqd_lrnhdt_2s580000gn/T/ipykernel_36930/2556735345.py:60: UserWarning:\n",
      "\n",
      "This figure includes Axes that are not compatible with tight_layout, so results might be incorrect.\n",
      "\n"
     ]
    },
    {
     "name": "stdout",
     "output_type": "stream",
     "text": [
      "Warning: excludeThres option currently not supported. Resetting excludeThres to 0.\n",
      "Warning: excludeThres option currently not supported. Resetting excludeThres to 0.\n"
     ]
    },
    {
     "name": "stderr",
     "output_type": "stream",
     "text": [
      "/var/folders/sc/kmc7_9gn2hqd_lrnhdt_2s580000gn/T/ipykernel_36930/2556735345.py:60: UserWarning:\n",
      "\n",
      "This figure includes Axes that are not compatible with tight_layout, so results might be incorrect.\n",
      "\n"
     ]
    },
    {
     "name": "stdout",
     "output_type": "stream",
     "text": [
      "Warning: excludeThres option currently not supported. Resetting excludeThres to 0.\n",
      "Warning: excludeThres option currently not supported. Resetting excludeThres to 0.\n"
     ]
    },
    {
     "name": "stderr",
     "output_type": "stream",
     "text": [
      "/var/folders/sc/kmc7_9gn2hqd_lrnhdt_2s580000gn/T/ipykernel_36930/2556735345.py:60: UserWarning:\n",
      "\n",
      "This figure includes Axes that are not compatible with tight_layout, so results might be incorrect.\n",
      "\n"
     ]
    },
    {
     "name": "stdout",
     "output_type": "stream",
     "text": [
      "Warning: excludeThres option currently not supported. Resetting excludeThres to 0.\n",
      "Warning: excludeThres option currently not supported. Resetting excludeThres to 0.\n"
     ]
    },
    {
     "name": "stderr",
     "output_type": "stream",
     "text": [
      "/var/folders/sc/kmc7_9gn2hqd_lrnhdt_2s580000gn/T/ipykernel_36930/2556735345.py:60: UserWarning:\n",
      "\n",
      "This figure includes Axes that are not compatible with tight_layout, so results might be incorrect.\n",
      "\n"
     ]
    },
    {
     "name": "stdout",
     "output_type": "stream",
     "text": [
      "Warning: excludeThres option currently not supported. Resetting excludeThres to 0.\n",
      "Warning: excludeThres option currently not supported. Resetting excludeThres to 0.\n"
     ]
    },
    {
     "name": "stderr",
     "output_type": "stream",
     "text": [
      "/var/folders/sc/kmc7_9gn2hqd_lrnhdt_2s580000gn/T/ipykernel_36930/2556735345.py:60: UserWarning:\n",
      "\n",
      "This figure includes Axes that are not compatible with tight_layout, so results might be incorrect.\n",
      "\n"
     ]
    },
    {
     "name": "stdout",
     "output_type": "stream",
     "text": [
      "Warning: excludeThres option currently not supported. Resetting excludeThres to 0.\n",
      "Warning: excludeThres option currently not supported. Resetting excludeThres to 0.\n"
     ]
    },
    {
     "name": "stderr",
     "output_type": "stream",
     "text": [
      "/var/folders/sc/kmc7_9gn2hqd_lrnhdt_2s580000gn/T/ipykernel_36930/2556735345.py:60: UserWarning:\n",
      "\n",
      "This figure includes Axes that are not compatible with tight_layout, so results might be incorrect.\n",
      "\n"
     ]
    },
    {
     "name": "stdout",
     "output_type": "stream",
     "text": [
      "Warning: excludeThres option currently not supported. Resetting excludeThres to 0.\n",
      "Warning: excludeThres option currently not supported. Resetting excludeThres to 0.\n"
     ]
    },
    {
     "name": "stderr",
     "output_type": "stream",
     "text": [
      "/var/folders/sc/kmc7_9gn2hqd_lrnhdt_2s580000gn/T/ipykernel_36930/2556735345.py:60: UserWarning:\n",
      "\n",
      "This figure includes Axes that are not compatible with tight_layout, so results might be incorrect.\n",
      "\n"
     ]
    },
    {
     "name": "stdout",
     "output_type": "stream",
     "text": [
      "Warning: excludeThres option currently not supported. Resetting excludeThres to 0.\n",
      "Warning: excludeThres option currently not supported. Resetting excludeThres to 0.\n"
     ]
    },
    {
     "name": "stderr",
     "output_type": "stream",
     "text": [
      "/var/folders/sc/kmc7_9gn2hqd_lrnhdt_2s580000gn/T/ipykernel_36930/2556735345.py:60: UserWarning:\n",
      "\n",
      "This figure includes Axes that are not compatible with tight_layout, so results might be incorrect.\n",
      "\n"
     ]
    },
    {
     "name": "stdout",
     "output_type": "stream",
     "text": [
      "Warning: excludeThres option currently not supported. Resetting excludeThres to 0.\n",
      "Warning: excludeThres option currently not supported. Resetting excludeThres to 0.\n"
     ]
    },
    {
     "name": "stderr",
     "output_type": "stream",
     "text": [
      "/var/folders/sc/kmc7_9gn2hqd_lrnhdt_2s580000gn/T/ipykernel_36930/2556735345.py:60: UserWarning:\n",
      "\n",
      "This figure includes Axes that are not compatible with tight_layout, so results might be incorrect.\n",
      "\n"
     ]
    },
    {
     "name": "stdout",
     "output_type": "stream",
     "text": [
      "Warning: excludeThres option currently not supported. Resetting excludeThres to 0.\n",
      "Warning: excludeThres option currently not supported. Resetting excludeThres to 0.\n"
     ]
    },
    {
     "name": "stderr",
     "output_type": "stream",
     "text": [
      "/var/folders/sc/kmc7_9gn2hqd_lrnhdt_2s580000gn/T/ipykernel_36930/2556735345.py:60: UserWarning:\n",
      "\n",
      "This figure includes Axes that are not compatible with tight_layout, so results might be incorrect.\n",
      "\n"
     ]
    },
    {
     "name": "stdout",
     "output_type": "stream",
     "text": [
      "Warning: excludeThres option currently not supported. Resetting excludeThres to 0.\n",
      "Warning: excludeThres option currently not supported. Resetting excludeThres to 0.\n"
     ]
    },
    {
     "name": "stderr",
     "output_type": "stream",
     "text": [
      "/var/folders/sc/kmc7_9gn2hqd_lrnhdt_2s580000gn/T/ipykernel_36930/2556735345.py:60: UserWarning:\n",
      "\n",
      "This figure includes Axes that are not compatible with tight_layout, so results might be incorrect.\n",
      "\n"
     ]
    },
    {
     "name": "stdout",
     "output_type": "stream",
     "text": [
      "Warning: excludeThres option currently not supported. Resetting excludeThres to 0.\n",
      "Warning: excludeThres option currently not supported. Resetting excludeThres to 0.\n"
     ]
    },
    {
     "name": "stderr",
     "output_type": "stream",
     "text": [
      "/var/folders/sc/kmc7_9gn2hqd_lrnhdt_2s580000gn/T/ipykernel_36930/2556735345.py:60: UserWarning:\n",
      "\n",
      "This figure includes Axes that are not compatible with tight_layout, so results might be incorrect.\n",
      "\n"
     ]
    },
    {
     "name": "stdout",
     "output_type": "stream",
     "text": [
      "Warning: excludeThres option currently not supported. Resetting excludeThres to 0.\n",
      "Warning: excludeThres option currently not supported. Resetting excludeThres to 0.\n"
     ]
    },
    {
     "name": "stderr",
     "output_type": "stream",
     "text": [
      "/var/folders/sc/kmc7_9gn2hqd_lrnhdt_2s580000gn/T/ipykernel_36930/2556735345.py:60: UserWarning:\n",
      "\n",
      "This figure includes Axes that are not compatible with tight_layout, so results might be incorrect.\n",
      "\n"
     ]
    },
    {
     "name": "stdout",
     "output_type": "stream",
     "text": [
      "Warning: excludeThres option currently not supported. Resetting excludeThres to 0.\n",
      "Warning: excludeThres option currently not supported. Resetting excludeThres to 0.\n"
     ]
    },
    {
     "name": "stderr",
     "output_type": "stream",
     "text": [
      "/var/folders/sc/kmc7_9gn2hqd_lrnhdt_2s580000gn/T/ipykernel_36930/2556735345.py:60: UserWarning:\n",
      "\n",
      "This figure includes Axes that are not compatible with tight_layout, so results might be incorrect.\n",
      "\n"
     ]
    },
    {
     "name": "stdout",
     "output_type": "stream",
     "text": [
      "Warning: excludeThres option currently not supported. Resetting excludeThres to 0.\n",
      "Warning: excludeThres option currently not supported. Resetting excludeThres to 0.\n"
     ]
    },
    {
     "name": "stderr",
     "output_type": "stream",
     "text": [
      "/var/folders/sc/kmc7_9gn2hqd_lrnhdt_2s580000gn/T/ipykernel_36930/2556735345.py:60: UserWarning:\n",
      "\n",
      "This figure includes Axes that are not compatible with tight_layout, so results might be incorrect.\n",
      "\n"
     ]
    },
    {
     "name": "stdout",
     "output_type": "stream",
     "text": [
      "Warning: excludeThres option currently not supported. Resetting excludeThres to 0.\n",
      "Warning: excludeThres option currently not supported. Resetting excludeThres to 0.\n"
     ]
    },
    {
     "name": "stderr",
     "output_type": "stream",
     "text": [
      "/var/folders/sc/kmc7_9gn2hqd_lrnhdt_2s580000gn/T/ipykernel_36930/2556735345.py:60: UserWarning:\n",
      "\n",
      "This figure includes Axes that are not compatible with tight_layout, so results might be incorrect.\n",
      "\n"
     ]
    },
    {
     "name": "stdout",
     "output_type": "stream",
     "text": [
      "Warning: excludeThres option currently not supported. Resetting excludeThres to 0.\n",
      "Warning: excludeThres option currently not supported. Resetting excludeThres to 0.\n"
     ]
    },
    {
     "name": "stderr",
     "output_type": "stream",
     "text": [
      "/var/folders/sc/kmc7_9gn2hqd_lrnhdt_2s580000gn/T/ipykernel_36930/2556735345.py:60: UserWarning:\n",
      "\n",
      "This figure includes Axes that are not compatible with tight_layout, so results might be incorrect.\n",
      "\n"
     ]
    },
    {
     "name": "stdout",
     "output_type": "stream",
     "text": [
      "Warning: excludeThres option currently not supported. Resetting excludeThres to 0.\n",
      "Warning: excludeThres option currently not supported. Resetting excludeThres to 0.\n"
     ]
    },
    {
     "name": "stderr",
     "output_type": "stream",
     "text": [
      "/var/folders/sc/kmc7_9gn2hqd_lrnhdt_2s580000gn/T/ipykernel_36930/2556735345.py:60: UserWarning:\n",
      "\n",
      "This figure includes Axes that are not compatible with tight_layout, so results might be incorrect.\n",
      "\n"
     ]
    },
    {
     "name": "stdout",
     "output_type": "stream",
     "text": [
      "Warning: excludeThres option currently not supported. Resetting excludeThres to 0.\n",
      "Warning: excludeThres option currently not supported. Resetting excludeThres to 0.\n"
     ]
    },
    {
     "name": "stderr",
     "output_type": "stream",
     "text": [
      "/var/folders/sc/kmc7_9gn2hqd_lrnhdt_2s580000gn/T/ipykernel_36930/2556735345.py:60: UserWarning:\n",
      "\n",
      "This figure includes Axes that are not compatible with tight_layout, so results might be incorrect.\n",
      "\n"
     ]
    },
    {
     "name": "stdout",
     "output_type": "stream",
     "text": [
      "Warning: excludeThres option currently not supported. Resetting excludeThres to 0.\n",
      "Warning: excludeThres option currently not supported. Resetting excludeThres to 0.\n"
     ]
    },
    {
     "name": "stderr",
     "output_type": "stream",
     "text": [
      "/var/folders/sc/kmc7_9gn2hqd_lrnhdt_2s580000gn/T/ipykernel_36930/2556735345.py:60: UserWarning:\n",
      "\n",
      "This figure includes Axes that are not compatible with tight_layout, so results might be incorrect.\n",
      "\n"
     ]
    },
    {
     "name": "stdout",
     "output_type": "stream",
     "text": [
      "Warning: excludeThres option currently not supported. Resetting excludeThres to 0.\n",
      "Warning: excludeThres option currently not supported. Resetting excludeThres to 0.\n"
     ]
    },
    {
     "name": "stderr",
     "output_type": "stream",
     "text": [
      "/var/folders/sc/kmc7_9gn2hqd_lrnhdt_2s580000gn/T/ipykernel_36930/2556735345.py:60: UserWarning:\n",
      "\n",
      "This figure includes Axes that are not compatible with tight_layout, so results might be incorrect.\n",
      "\n"
     ]
    },
    {
     "name": "stdout",
     "output_type": "stream",
     "text": [
      "Warning: excludeThres option currently not supported. Resetting excludeThres to 0.\n",
      "Warning: excludeThres option currently not supported. Resetting excludeThres to 0.\n"
     ]
    },
    {
     "name": "stderr",
     "output_type": "stream",
     "text": [
      "/var/folders/sc/kmc7_9gn2hqd_lrnhdt_2s580000gn/T/ipykernel_36930/2556735345.py:60: UserWarning:\n",
      "\n",
      "This figure includes Axes that are not compatible with tight_layout, so results might be incorrect.\n",
      "\n"
     ]
    },
    {
     "name": "stdout",
     "output_type": "stream",
     "text": [
      "Warning: excludeThres option currently not supported. Resetting excludeThres to 0.\n",
      "Warning: excludeThres option currently not supported. Resetting excludeThres to 0.\n"
     ]
    },
    {
     "name": "stderr",
     "output_type": "stream",
     "text": [
      "/var/folders/sc/kmc7_9gn2hqd_lrnhdt_2s580000gn/T/ipykernel_36930/2556735345.py:60: UserWarning:\n",
      "\n",
      "This figure includes Axes that are not compatible with tight_layout, so results might be incorrect.\n",
      "\n"
     ]
    },
    {
     "name": "stdout",
     "output_type": "stream",
     "text": [
      "Warning: excludeThres option currently not supported. Resetting excludeThres to 0.\n",
      "Warning: excludeThres option currently not supported. Resetting excludeThres to 0.\n"
     ]
    },
    {
     "name": "stderr",
     "output_type": "stream",
     "text": [
      "/var/folders/sc/kmc7_9gn2hqd_lrnhdt_2s580000gn/T/ipykernel_36930/2556735345.py:60: UserWarning:\n",
      "\n",
      "This figure includes Axes that are not compatible with tight_layout, so results might be incorrect.\n",
      "\n"
     ]
    },
    {
     "name": "stdout",
     "output_type": "stream",
     "text": [
      "Warning: excludeThres option currently not supported. Resetting excludeThres to 0.\n",
      "Warning: excludeThres option currently not supported. Resetting excludeThres to 0.\n"
     ]
    },
    {
     "name": "stderr",
     "output_type": "stream",
     "text": [
      "/var/folders/sc/kmc7_9gn2hqd_lrnhdt_2s580000gn/T/ipykernel_36930/2556735345.py:60: UserWarning:\n",
      "\n",
      "This figure includes Axes that are not compatible with tight_layout, so results might be incorrect.\n",
      "\n"
     ]
    },
    {
     "name": "stdout",
     "output_type": "stream",
     "text": [
      "Warning: excludeThres option currently not supported. Resetting excludeThres to 0.\n",
      "Warning: excludeThres option currently not supported. Resetting excludeThres to 0.\n"
     ]
    },
    {
     "name": "stderr",
     "output_type": "stream",
     "text": [
      "/var/folders/sc/kmc7_9gn2hqd_lrnhdt_2s580000gn/T/ipykernel_36930/2556735345.py:60: UserWarning:\n",
      "\n",
      "This figure includes Axes that are not compatible with tight_layout, so results might be incorrect.\n",
      "\n"
     ]
    },
    {
     "name": "stdout",
     "output_type": "stream",
     "text": [
      "Warning: excludeThres option currently not supported. Resetting excludeThres to 0.\n",
      "Warning: excludeThres option currently not supported. Resetting excludeThres to 0.\n"
     ]
    },
    {
     "name": "stderr",
     "output_type": "stream",
     "text": [
      "/var/folders/sc/kmc7_9gn2hqd_lrnhdt_2s580000gn/T/ipykernel_36930/2556735345.py:60: UserWarning:\n",
      "\n",
      "This figure includes Axes that are not compatible with tight_layout, so results might be incorrect.\n",
      "\n"
     ]
    },
    {
     "name": "stdout",
     "output_type": "stream",
     "text": [
      "Warning: excludeThres option currently not supported. Resetting excludeThres to 0.\n",
      "Warning: excludeThres option currently not supported. Resetting excludeThres to 0.\n"
     ]
    },
    {
     "name": "stderr",
     "output_type": "stream",
     "text": [
      "/var/folders/sc/kmc7_9gn2hqd_lrnhdt_2s580000gn/T/ipykernel_36930/2556735345.py:60: UserWarning:\n",
      "\n",
      "This figure includes Axes that are not compatible with tight_layout, so results might be incorrect.\n",
      "\n"
     ]
    },
    {
     "name": "stdout",
     "output_type": "stream",
     "text": [
      "Warning: excludeThres option currently not supported. Resetting excludeThres to 0.\n",
      "Warning: excludeThres option currently not supported. Resetting excludeThres to 0.\n"
     ]
    },
    {
     "name": "stderr",
     "output_type": "stream",
     "text": [
      "/var/folders/sc/kmc7_9gn2hqd_lrnhdt_2s580000gn/T/ipykernel_36930/2556735345.py:60: UserWarning:\n",
      "\n",
      "This figure includes Axes that are not compatible with tight_layout, so results might be incorrect.\n",
      "\n"
     ]
    },
    {
     "name": "stdout",
     "output_type": "stream",
     "text": [
      "Warning: excludeThres option currently not supported. Resetting excludeThres to 0.\n",
      "Warning: excludeThres option currently not supported. Resetting excludeThres to 0.\n"
     ]
    },
    {
     "name": "stderr",
     "output_type": "stream",
     "text": [
      "/var/folders/sc/kmc7_9gn2hqd_lrnhdt_2s580000gn/T/ipykernel_36930/2556735345.py:60: UserWarning:\n",
      "\n",
      "This figure includes Axes that are not compatible with tight_layout, so results might be incorrect.\n",
      "\n"
     ]
    },
    {
     "name": "stdout",
     "output_type": "stream",
     "text": [
      "Warning: excludeThres option currently not supported. Resetting excludeThres to 0.\n",
      "Warning: excludeThres option currently not supported. Resetting excludeThres to 0.\n"
     ]
    },
    {
     "name": "stderr",
     "output_type": "stream",
     "text": [
      "/var/folders/sc/kmc7_9gn2hqd_lrnhdt_2s580000gn/T/ipykernel_36930/2556735345.py:60: UserWarning:\n",
      "\n",
      "This figure includes Axes that are not compatible with tight_layout, so results might be incorrect.\n",
      "\n"
     ]
    },
    {
     "name": "stdout",
     "output_type": "stream",
     "text": [
      "Warning: excludeThres option currently not supported. Resetting excludeThres to 0.\n",
      "Warning: excludeThres option currently not supported. Resetting excludeThres to 0.\n"
     ]
    },
    {
     "name": "stderr",
     "output_type": "stream",
     "text": [
      "/var/folders/sc/kmc7_9gn2hqd_lrnhdt_2s580000gn/T/ipykernel_36930/2556735345.py:60: UserWarning:\n",
      "\n",
      "This figure includes Axes that are not compatible with tight_layout, so results might be incorrect.\n",
      "\n"
     ]
    },
    {
     "name": "stdout",
     "output_type": "stream",
     "text": [
      "Warning: excludeThres option currently not supported. Resetting excludeThres to 0.\n",
      "Warning: excludeThres option currently not supported. Resetting excludeThres to 0.\n"
     ]
    },
    {
     "name": "stderr",
     "output_type": "stream",
     "text": [
      "/var/folders/sc/kmc7_9gn2hqd_lrnhdt_2s580000gn/T/ipykernel_36930/2556735345.py:60: UserWarning:\n",
      "\n",
      "This figure includes Axes that are not compatible with tight_layout, so results might be incorrect.\n",
      "\n"
     ]
    },
    {
     "name": "stdout",
     "output_type": "stream",
     "text": [
      "Warning: excludeThres option currently not supported. Resetting excludeThres to 0.\n",
      "Warning: excludeThres option currently not supported. Resetting excludeThres to 0.\n"
     ]
    },
    {
     "name": "stderr",
     "output_type": "stream",
     "text": [
      "/var/folders/sc/kmc7_9gn2hqd_lrnhdt_2s580000gn/T/ipykernel_36930/2556735345.py:60: UserWarning:\n",
      "\n",
      "This figure includes Axes that are not compatible with tight_layout, so results might be incorrect.\n",
      "\n"
     ]
    },
    {
     "name": "stdout",
     "output_type": "stream",
     "text": [
      "Warning: excludeThres option currently not supported. Resetting excludeThres to 0.\n",
      "Warning: excludeThres option currently not supported. Resetting excludeThres to 0.\n"
     ]
    },
    {
     "name": "stderr",
     "output_type": "stream",
     "text": [
      "/var/folders/sc/kmc7_9gn2hqd_lrnhdt_2s580000gn/T/ipykernel_36930/2556735345.py:60: UserWarning:\n",
      "\n",
      "This figure includes Axes that are not compatible with tight_layout, so results might be incorrect.\n",
      "\n"
     ]
    },
    {
     "name": "stdout",
     "output_type": "stream",
     "text": [
      "Warning: excludeThres option currently not supported. Resetting excludeThres to 0.\n",
      "Warning: excludeThres option currently not supported. Resetting excludeThres to 0.\n"
     ]
    },
    {
     "name": "stderr",
     "output_type": "stream",
     "text": [
      "/var/folders/sc/kmc7_9gn2hqd_lrnhdt_2s580000gn/T/ipykernel_36930/2556735345.py:60: UserWarning:\n",
      "\n",
      "This figure includes Axes that are not compatible with tight_layout, so results might be incorrect.\n",
      "\n"
     ]
    },
    {
     "name": "stdout",
     "output_type": "stream",
     "text": [
      "Warning: excludeThres option currently not supported. Resetting excludeThres to 0.\n",
      "Warning: excludeThres option currently not supported. Resetting excludeThres to 0.\n"
     ]
    },
    {
     "name": "stderr",
     "output_type": "stream",
     "text": [
      "/var/folders/sc/kmc7_9gn2hqd_lrnhdt_2s580000gn/T/ipykernel_36930/2556735345.py:60: UserWarning:\n",
      "\n",
      "This figure includes Axes that are not compatible with tight_layout, so results might be incorrect.\n",
      "\n"
     ]
    },
    {
     "name": "stdout",
     "output_type": "stream",
     "text": [
      "Warning: excludeThres option currently not supported. Resetting excludeThres to 0.\n",
      "Warning: excludeThres option currently not supported. Resetting excludeThres to 0.\n"
     ]
    },
    {
     "name": "stderr",
     "output_type": "stream",
     "text": [
      "/var/folders/sc/kmc7_9gn2hqd_lrnhdt_2s580000gn/T/ipykernel_36930/2556735345.py:60: UserWarning:\n",
      "\n",
      "This figure includes Axes that are not compatible with tight_layout, so results might be incorrect.\n",
      "\n"
     ]
    },
    {
     "name": "stdout",
     "output_type": "stream",
     "text": [
      "Warning: excludeThres option currently not supported. Resetting excludeThres to 0.\n",
      "Warning: excludeThres option currently not supported. Resetting excludeThres to 0.\n"
     ]
    },
    {
     "name": "stderr",
     "output_type": "stream",
     "text": [
      "/var/folders/sc/kmc7_9gn2hqd_lrnhdt_2s580000gn/T/ipykernel_36930/2556735345.py:60: UserWarning:\n",
      "\n",
      "This figure includes Axes that are not compatible with tight_layout, so results might be incorrect.\n",
      "\n"
     ]
    },
    {
     "name": "stdout",
     "output_type": "stream",
     "text": [
      "Warning: excludeThres option currently not supported. Resetting excludeThres to 0.\n",
      "Warning: excludeThres option currently not supported. Resetting excludeThres to 0.\n"
     ]
    },
    {
     "name": "stderr",
     "output_type": "stream",
     "text": [
      "/var/folders/sc/kmc7_9gn2hqd_lrnhdt_2s580000gn/T/ipykernel_36930/2556735345.py:60: UserWarning:\n",
      "\n",
      "This figure includes Axes that are not compatible with tight_layout, so results might be incorrect.\n",
      "\n"
     ]
    },
    {
     "name": "stdout",
     "output_type": "stream",
     "text": [
      "Warning: excludeThres option currently not supported. Resetting excludeThres to 0.\n",
      "Warning: excludeThres option currently not supported. Resetting excludeThres to 0.\n"
     ]
    },
    {
     "name": "stderr",
     "output_type": "stream",
     "text": [
      "/var/folders/sc/kmc7_9gn2hqd_lrnhdt_2s580000gn/T/ipykernel_36930/2556735345.py:60: UserWarning:\n",
      "\n",
      "This figure includes Axes that are not compatible with tight_layout, so results might be incorrect.\n",
      "\n"
     ]
    },
    {
     "name": "stdout",
     "output_type": "stream",
     "text": [
      "Warning: excludeThres option currently not supported. Resetting excludeThres to 0.\n",
      "Warning: excludeThres option currently not supported. Resetting excludeThres to 0.\n"
     ]
    },
    {
     "name": "stderr",
     "output_type": "stream",
     "text": [
      "/var/folders/sc/kmc7_9gn2hqd_lrnhdt_2s580000gn/T/ipykernel_36930/2556735345.py:60: UserWarning:\n",
      "\n",
      "This figure includes Axes that are not compatible with tight_layout, so results might be incorrect.\n",
      "\n"
     ]
    },
    {
     "name": "stdout",
     "output_type": "stream",
     "text": [
      "Warning: excludeThres option currently not supported. Resetting excludeThres to 0.\n",
      "Warning: excludeThres option currently not supported. Resetting excludeThres to 0.\n"
     ]
    },
    {
     "name": "stderr",
     "output_type": "stream",
     "text": [
      "/var/folders/sc/kmc7_9gn2hqd_lrnhdt_2s580000gn/T/ipykernel_36930/2556735345.py:60: UserWarning:\n",
      "\n",
      "This figure includes Axes that are not compatible with tight_layout, so results might be incorrect.\n",
      "\n"
     ]
    },
    {
     "name": "stdout",
     "output_type": "stream",
     "text": [
      "Warning: excludeThres option currently not supported. Resetting excludeThres to 0.\n",
      "Warning: excludeThres option currently not supported. Resetting excludeThres to 0.\n"
     ]
    },
    {
     "name": "stderr",
     "output_type": "stream",
     "text": [
      "/var/folders/sc/kmc7_9gn2hqd_lrnhdt_2s580000gn/T/ipykernel_36930/2556735345.py:60: UserWarning:\n",
      "\n",
      "This figure includes Axes that are not compatible with tight_layout, so results might be incorrect.\n",
      "\n"
     ]
    },
    {
     "name": "stdout",
     "output_type": "stream",
     "text": [
      "Warning: excludeThres option currently not supported. Resetting excludeThres to 0.\n",
      "Warning: excludeThres option currently not supported. Resetting excludeThres to 0.\n"
     ]
    },
    {
     "name": "stderr",
     "output_type": "stream",
     "text": [
      "/var/folders/sc/kmc7_9gn2hqd_lrnhdt_2s580000gn/T/ipykernel_36930/2556735345.py:60: UserWarning:\n",
      "\n",
      "This figure includes Axes that are not compatible with tight_layout, so results might be incorrect.\n",
      "\n"
     ]
    },
    {
     "name": "stdout",
     "output_type": "stream",
     "text": [
      "Warning: excludeThres option currently not supported. Resetting excludeThres to 0.\n",
      "Warning: excludeThres option currently not supported. Resetting excludeThres to 0.\n"
     ]
    },
    {
     "name": "stderr",
     "output_type": "stream",
     "text": [
      "/var/folders/sc/kmc7_9gn2hqd_lrnhdt_2s580000gn/T/ipykernel_36930/2556735345.py:60: UserWarning:\n",
      "\n",
      "This figure includes Axes that are not compatible with tight_layout, so results might be incorrect.\n",
      "\n"
     ]
    },
    {
     "name": "stdout",
     "output_type": "stream",
     "text": [
      "Warning: excludeThres option currently not supported. Resetting excludeThres to 0.\n",
      "Warning: excludeThres option currently not supported. Resetting excludeThres to 0.\n"
     ]
    },
    {
     "name": "stderr",
     "output_type": "stream",
     "text": [
      "/var/folders/sc/kmc7_9gn2hqd_lrnhdt_2s580000gn/T/ipykernel_36930/2556735345.py:60: UserWarning:\n",
      "\n",
      "This figure includes Axes that are not compatible with tight_layout, so results might be incorrect.\n",
      "\n"
     ]
    },
    {
     "name": "stdout",
     "output_type": "stream",
     "text": [
      "Warning: excludeThres option currently not supported. Resetting excludeThres to 0.\n",
      "Warning: excludeThres option currently not supported. Resetting excludeThres to 0.\n"
     ]
    },
    {
     "name": "stderr",
     "output_type": "stream",
     "text": [
      "/var/folders/sc/kmc7_9gn2hqd_lrnhdt_2s580000gn/T/ipykernel_36930/2556735345.py:60: UserWarning:\n",
      "\n",
      "This figure includes Axes that are not compatible with tight_layout, so results might be incorrect.\n",
      "\n"
     ]
    },
    {
     "name": "stdout",
     "output_type": "stream",
     "text": [
      "Warning: excludeThres option currently not supported. Resetting excludeThres to 0.\n",
      "Warning: excludeThres option currently not supported. Resetting excludeThres to 0.\n"
     ]
    },
    {
     "name": "stderr",
     "output_type": "stream",
     "text": [
      "/var/folders/sc/kmc7_9gn2hqd_lrnhdt_2s580000gn/T/ipykernel_36930/2556735345.py:60: UserWarning:\n",
      "\n",
      "This figure includes Axes that are not compatible with tight_layout, so results might be incorrect.\n",
      "\n"
     ]
    },
    {
     "name": "stdout",
     "output_type": "stream",
     "text": [
      "Warning: excludeThres option currently not supported. Resetting excludeThres to 0.\n",
      "Warning: excludeThres option currently not supported. Resetting excludeThres to 0.\n"
     ]
    },
    {
     "name": "stderr",
     "output_type": "stream",
     "text": [
      "/var/folders/sc/kmc7_9gn2hqd_lrnhdt_2s580000gn/T/ipykernel_36930/2556735345.py:60: UserWarning:\n",
      "\n",
      "This figure includes Axes that are not compatible with tight_layout, so results might be incorrect.\n",
      "\n"
     ]
    },
    {
     "name": "stdout",
     "output_type": "stream",
     "text": [
      "Warning: excludeThres option currently not supported. Resetting excludeThres to 0.\n",
      "Warning: excludeThres option currently not supported. Resetting excludeThres to 0.\n"
     ]
    },
    {
     "name": "stderr",
     "output_type": "stream",
     "text": [
      "/var/folders/sc/kmc7_9gn2hqd_lrnhdt_2s580000gn/T/ipykernel_36930/2556735345.py:60: UserWarning:\n",
      "\n",
      "This figure includes Axes that are not compatible with tight_layout, so results might be incorrect.\n",
      "\n"
     ]
    },
    {
     "name": "stdout",
     "output_type": "stream",
     "text": [
      "Warning: excludeThres option currently not supported. Resetting excludeThres to 0.\n",
      "Warning: excludeThres option currently not supported. Resetting excludeThres to 0.\n"
     ]
    },
    {
     "name": "stderr",
     "output_type": "stream",
     "text": [
      "/var/folders/sc/kmc7_9gn2hqd_lrnhdt_2s580000gn/T/ipykernel_36930/2556735345.py:60: UserWarning:\n",
      "\n",
      "This figure includes Axes that are not compatible with tight_layout, so results might be incorrect.\n",
      "\n"
     ]
    },
    {
     "name": "stdout",
     "output_type": "stream",
     "text": [
      "Warning: excludeThres option currently not supported. Resetting excludeThres to 0.\n",
      "Warning: excludeThres option currently not supported. Resetting excludeThres to 0.\n"
     ]
    },
    {
     "name": "stderr",
     "output_type": "stream",
     "text": [
      "/var/folders/sc/kmc7_9gn2hqd_lrnhdt_2s580000gn/T/ipykernel_36930/2556735345.py:60: UserWarning:\n",
      "\n",
      "This figure includes Axes that are not compatible with tight_layout, so results might be incorrect.\n",
      "\n"
     ]
    },
    {
     "name": "stdout",
     "output_type": "stream",
     "text": [
      "Warning: excludeThres option currently not supported. Resetting excludeThres to 0.\n",
      "Warning: excludeThres option currently not supported. Resetting excludeThres to 0.\n"
     ]
    },
    {
     "name": "stderr",
     "output_type": "stream",
     "text": [
      "/var/folders/sc/kmc7_9gn2hqd_lrnhdt_2s580000gn/T/ipykernel_36930/2556735345.py:60: UserWarning:\n",
      "\n",
      "This figure includes Axes that are not compatible with tight_layout, so results might be incorrect.\n",
      "\n"
     ]
    },
    {
     "name": "stdout",
     "output_type": "stream",
     "text": [
      "Warning: excludeThres option currently not supported. Resetting excludeThres to 0.\n",
      "Warning: excludeThres option currently not supported. Resetting excludeThres to 0.\n"
     ]
    },
    {
     "name": "stderr",
     "output_type": "stream",
     "text": [
      "/var/folders/sc/kmc7_9gn2hqd_lrnhdt_2s580000gn/T/ipykernel_36930/2556735345.py:60: UserWarning:\n",
      "\n",
      "This figure includes Axes that are not compatible with tight_layout, so results might be incorrect.\n",
      "\n"
     ]
    },
    {
     "name": "stdout",
     "output_type": "stream",
     "text": [
      "Warning: excludeThres option currently not supported. Resetting excludeThres to 0.\n",
      "Warning: excludeThres option currently not supported. Resetting excludeThres to 0.\n"
     ]
    },
    {
     "name": "stderr",
     "output_type": "stream",
     "text": [
      "/var/folders/sc/kmc7_9gn2hqd_lrnhdt_2s580000gn/T/ipykernel_36930/2556735345.py:60: UserWarning:\n",
      "\n",
      "This figure includes Axes that are not compatible with tight_layout, so results might be incorrect.\n",
      "\n"
     ]
    },
    {
     "name": "stdout",
     "output_type": "stream",
     "text": [
      "Warning: excludeThres option currently not supported. Resetting excludeThres to 0.\n",
      "Warning: excludeThres option currently not supported. Resetting excludeThres to 0.\n"
     ]
    },
    {
     "name": "stderr",
     "output_type": "stream",
     "text": [
      "/var/folders/sc/kmc7_9gn2hqd_lrnhdt_2s580000gn/T/ipykernel_36930/2556735345.py:60: UserWarning:\n",
      "\n",
      "This figure includes Axes that are not compatible with tight_layout, so results might be incorrect.\n",
      "\n"
     ]
    },
    {
     "name": "stdout",
     "output_type": "stream",
     "text": [
      "Warning: excludeThres option currently not supported. Resetting excludeThres to 0.\n",
      "Warning: excludeThres option currently not supported. Resetting excludeThres to 0.\n"
     ]
    },
    {
     "name": "stderr",
     "output_type": "stream",
     "text": [
      "/var/folders/sc/kmc7_9gn2hqd_lrnhdt_2s580000gn/T/ipykernel_36930/2556735345.py:60: UserWarning:\n",
      "\n",
      "This figure includes Axes that are not compatible with tight_layout, so results might be incorrect.\n",
      "\n"
     ]
    },
    {
     "name": "stdout",
     "output_type": "stream",
     "text": [
      "Warning: excludeThres option currently not supported. Resetting excludeThres to 0.\n",
      "Warning: excludeThres option currently not supported. Resetting excludeThres to 0.\n"
     ]
    },
    {
     "name": "stderr",
     "output_type": "stream",
     "text": [
      "/var/folders/sc/kmc7_9gn2hqd_lrnhdt_2s580000gn/T/ipykernel_36930/2556735345.py:60: UserWarning:\n",
      "\n",
      "This figure includes Axes that are not compatible with tight_layout, so results might be incorrect.\n",
      "\n"
     ]
    },
    {
     "name": "stdout",
     "output_type": "stream",
     "text": [
      "Warning: excludeThres option currently not supported. Resetting excludeThres to 0.\n",
      "Warning: excludeThres option currently not supported. Resetting excludeThres to 0.\n"
     ]
    },
    {
     "name": "stderr",
     "output_type": "stream",
     "text": [
      "/var/folders/sc/kmc7_9gn2hqd_lrnhdt_2s580000gn/T/ipykernel_36930/2556735345.py:60: UserWarning:\n",
      "\n",
      "This figure includes Axes that are not compatible with tight_layout, so results might be incorrect.\n",
      "\n"
     ]
    },
    {
     "name": "stdout",
     "output_type": "stream",
     "text": [
      "Warning: excludeThres option currently not supported. Resetting excludeThres to 0.\n",
      "Warning: excludeThres option currently not supported. Resetting excludeThres to 0.\n"
     ]
    },
    {
     "name": "stderr",
     "output_type": "stream",
     "text": [
      "/var/folders/sc/kmc7_9gn2hqd_lrnhdt_2s580000gn/T/ipykernel_36930/2556735345.py:60: UserWarning:\n",
      "\n",
      "This figure includes Axes that are not compatible with tight_layout, so results might be incorrect.\n",
      "\n"
     ]
    },
    {
     "name": "stdout",
     "output_type": "stream",
     "text": [
      "Warning: excludeThres option currently not supported. Resetting excludeThres to 0.\n",
      "Warning: excludeThres option currently not supported. Resetting excludeThres to 0.\n"
     ]
    },
    {
     "name": "stderr",
     "output_type": "stream",
     "text": [
      "/var/folders/sc/kmc7_9gn2hqd_lrnhdt_2s580000gn/T/ipykernel_36930/2556735345.py:60: UserWarning:\n",
      "\n",
      "This figure includes Axes that are not compatible with tight_layout, so results might be incorrect.\n",
      "\n"
     ]
    },
    {
     "name": "stdout",
     "output_type": "stream",
     "text": [
      "Warning: excludeThres option currently not supported. Resetting excludeThres to 0.\n",
      "Warning: excludeThres option currently not supported. Resetting excludeThres to 0.\n"
     ]
    },
    {
     "name": "stderr",
     "output_type": "stream",
     "text": [
      "/var/folders/sc/kmc7_9gn2hqd_lrnhdt_2s580000gn/T/ipykernel_36930/2556735345.py:60: UserWarning:\n",
      "\n",
      "This figure includes Axes that are not compatible with tight_layout, so results might be incorrect.\n",
      "\n"
     ]
    },
    {
     "name": "stdout",
     "output_type": "stream",
     "text": [
      "Warning: excludeThres option currently not supported. Resetting excludeThres to 0.\n",
      "Warning: excludeThres option currently not supported. Resetting excludeThres to 0.\n"
     ]
    },
    {
     "name": "stderr",
     "output_type": "stream",
     "text": [
      "/var/folders/sc/kmc7_9gn2hqd_lrnhdt_2s580000gn/T/ipykernel_36930/2556735345.py:60: UserWarning:\n",
      "\n",
      "This figure includes Axes that are not compatible with tight_layout, so results might be incorrect.\n",
      "\n"
     ]
    },
    {
     "name": "stdout",
     "output_type": "stream",
     "text": [
      "Warning: excludeThres option currently not supported. Resetting excludeThres to 0.\n",
      "Warning: excludeThres option currently not supported. Resetting excludeThres to 0.\n"
     ]
    },
    {
     "name": "stderr",
     "output_type": "stream",
     "text": [
      "/var/folders/sc/kmc7_9gn2hqd_lrnhdt_2s580000gn/T/ipykernel_36930/2556735345.py:60: UserWarning:\n",
      "\n",
      "This figure includes Axes that are not compatible with tight_layout, so results might be incorrect.\n",
      "\n"
     ]
    },
    {
     "name": "stdout",
     "output_type": "stream",
     "text": [
      "Warning: excludeThres option currently not supported. Resetting excludeThres to 0.\n",
      "Warning: excludeThres option currently not supported. Resetting excludeThres to 0.\n"
     ]
    },
    {
     "name": "stderr",
     "output_type": "stream",
     "text": [
      "/var/folders/sc/kmc7_9gn2hqd_lrnhdt_2s580000gn/T/ipykernel_36930/2556735345.py:60: UserWarning:\n",
      "\n",
      "This figure includes Axes that are not compatible with tight_layout, so results might be incorrect.\n",
      "\n"
     ]
    },
    {
     "name": "stdout",
     "output_type": "stream",
     "text": [
      "Warning: excludeThres option currently not supported. Resetting excludeThres to 0.\n",
      "Warning: excludeThres option currently not supported. Resetting excludeThres to 0.\n"
     ]
    },
    {
     "name": "stderr",
     "output_type": "stream",
     "text": [
      "/var/folders/sc/kmc7_9gn2hqd_lrnhdt_2s580000gn/T/ipykernel_36930/2556735345.py:60: UserWarning:\n",
      "\n",
      "This figure includes Axes that are not compatible with tight_layout, so results might be incorrect.\n",
      "\n"
     ]
    },
    {
     "name": "stdout",
     "output_type": "stream",
     "text": [
      "Warning: excludeThres option currently not supported. Resetting excludeThres to 0.\n",
      "Warning: excludeThres option currently not supported. Resetting excludeThres to 0.\n"
     ]
    },
    {
     "name": "stderr",
     "output_type": "stream",
     "text": [
      "/var/folders/sc/kmc7_9gn2hqd_lrnhdt_2s580000gn/T/ipykernel_36930/2556735345.py:60: UserWarning:\n",
      "\n",
      "This figure includes Axes that are not compatible with tight_layout, so results might be incorrect.\n",
      "\n"
     ]
    },
    {
     "name": "stdout",
     "output_type": "stream",
     "text": [
      "Warning: excludeThres option currently not supported. Resetting excludeThres to 0.\n",
      "Warning: excludeThres option currently not supported. Resetting excludeThres to 0.\n"
     ]
    },
    {
     "name": "stderr",
     "output_type": "stream",
     "text": [
      "/var/folders/sc/kmc7_9gn2hqd_lrnhdt_2s580000gn/T/ipykernel_36930/2556735345.py:60: UserWarning:\n",
      "\n",
      "This figure includes Axes that are not compatible with tight_layout, so results might be incorrect.\n",
      "\n"
     ]
    },
    {
     "name": "stdout",
     "output_type": "stream",
     "text": [
      "Warning: excludeThres option currently not supported. Resetting excludeThres to 0.\n",
      "Warning: excludeThres option currently not supported. Resetting excludeThres to 0.\n"
     ]
    },
    {
     "name": "stderr",
     "output_type": "stream",
     "text": [
      "/var/folders/sc/kmc7_9gn2hqd_lrnhdt_2s580000gn/T/ipykernel_36930/2556735345.py:60: UserWarning:\n",
      "\n",
      "This figure includes Axes that are not compatible with tight_layout, so results might be incorrect.\n",
      "\n"
     ]
    },
    {
     "name": "stdout",
     "output_type": "stream",
     "text": [
      "Warning: excludeThres option currently not supported. Resetting excludeThres to 0.\n",
      "Warning: excludeThres option currently not supported. Resetting excludeThres to 0.\n"
     ]
    },
    {
     "name": "stderr",
     "output_type": "stream",
     "text": [
      "/var/folders/sc/kmc7_9gn2hqd_lrnhdt_2s580000gn/T/ipykernel_36930/2556735345.py:60: UserWarning:\n",
      "\n",
      "This figure includes Axes that are not compatible with tight_layout, so results might be incorrect.\n",
      "\n"
     ]
    },
    {
     "name": "stdout",
     "output_type": "stream",
     "text": [
      "Warning: excludeThres option currently not supported. Resetting excludeThres to 0.\n",
      "Warning: excludeThres option currently not supported. Resetting excludeThres to 0.\n"
     ]
    },
    {
     "name": "stderr",
     "output_type": "stream",
     "text": [
      "/var/folders/sc/kmc7_9gn2hqd_lrnhdt_2s580000gn/T/ipykernel_36930/2556735345.py:60: UserWarning:\n",
      "\n",
      "This figure includes Axes that are not compatible with tight_layout, so results might be incorrect.\n",
      "\n"
     ]
    },
    {
     "name": "stdout",
     "output_type": "stream",
     "text": [
      "Warning: excludeThres option currently not supported. Resetting excludeThres to 0.\n",
      "Warning: excludeThres option currently not supported. Resetting excludeThres to 0.\n"
     ]
    },
    {
     "name": "stderr",
     "output_type": "stream",
     "text": [
      "/var/folders/sc/kmc7_9gn2hqd_lrnhdt_2s580000gn/T/ipykernel_36930/2556735345.py:60: UserWarning:\n",
      "\n",
      "This figure includes Axes that are not compatible with tight_layout, so results might be incorrect.\n",
      "\n"
     ]
    },
    {
     "name": "stdout",
     "output_type": "stream",
     "text": [
      "Warning: excludeThres option currently not supported. Resetting excludeThres to 0.\n",
      "Warning: excludeThres option currently not supported. Resetting excludeThres to 0.\n"
     ]
    },
    {
     "name": "stderr",
     "output_type": "stream",
     "text": [
      "/var/folders/sc/kmc7_9gn2hqd_lrnhdt_2s580000gn/T/ipykernel_36930/2556735345.py:60: UserWarning:\n",
      "\n",
      "This figure includes Axes that are not compatible with tight_layout, so results might be incorrect.\n",
      "\n"
     ]
    },
    {
     "name": "stdout",
     "output_type": "stream",
     "text": [
      "Warning: excludeThres option currently not supported. Resetting excludeThres to 0.\n",
      "Warning: excludeThres option currently not supported. Resetting excludeThres to 0.\n"
     ]
    },
    {
     "name": "stderr",
     "output_type": "stream",
     "text": [
      "/var/folders/sc/kmc7_9gn2hqd_lrnhdt_2s580000gn/T/ipykernel_36930/2556735345.py:60: UserWarning:\n",
      "\n",
      "This figure includes Axes that are not compatible with tight_layout, so results might be incorrect.\n",
      "\n"
     ]
    },
    {
     "name": "stdout",
     "output_type": "stream",
     "text": [
      "Warning: excludeThres option currently not supported. Resetting excludeThres to 0.\n",
      "Warning: excludeThres option currently not supported. Resetting excludeThres to 0.\n"
     ]
    },
    {
     "name": "stderr",
     "output_type": "stream",
     "text": [
      "/var/folders/sc/kmc7_9gn2hqd_lrnhdt_2s580000gn/T/ipykernel_36930/2556735345.py:60: UserWarning:\n",
      "\n",
      "This figure includes Axes that are not compatible with tight_layout, so results might be incorrect.\n",
      "\n"
     ]
    },
    {
     "name": "stdout",
     "output_type": "stream",
     "text": [
      "Warning: excludeThres option currently not supported. Resetting excludeThres to 0.\n",
      "Warning: excludeThres option currently not supported. Resetting excludeThres to 0.\n"
     ]
    },
    {
     "name": "stderr",
     "output_type": "stream",
     "text": [
      "/var/folders/sc/kmc7_9gn2hqd_lrnhdt_2s580000gn/T/ipykernel_36930/2556735345.py:60: UserWarning:\n",
      "\n",
      "This figure includes Axes that are not compatible with tight_layout, so results might be incorrect.\n",
      "\n"
     ]
    },
    {
     "name": "stdout",
     "output_type": "stream",
     "text": [
      "Warning: excludeThres option currently not supported. Resetting excludeThres to 0.\n",
      "Warning: excludeThres option currently not supported. Resetting excludeThres to 0.\n"
     ]
    },
    {
     "name": "stderr",
     "output_type": "stream",
     "text": [
      "/var/folders/sc/kmc7_9gn2hqd_lrnhdt_2s580000gn/T/ipykernel_36930/2556735345.py:60: UserWarning:\n",
      "\n",
      "This figure includes Axes that are not compatible with tight_layout, so results might be incorrect.\n",
      "\n"
     ]
    },
    {
     "name": "stdout",
     "output_type": "stream",
     "text": [
      "Warning: excludeThres option currently not supported. Resetting excludeThres to 0.\n",
      "Warning: excludeThres option currently not supported. Resetting excludeThres to 0.\n"
     ]
    },
    {
     "name": "stderr",
     "output_type": "stream",
     "text": [
      "/var/folders/sc/kmc7_9gn2hqd_lrnhdt_2s580000gn/T/ipykernel_36930/2556735345.py:60: UserWarning:\n",
      "\n",
      "This figure includes Axes that are not compatible with tight_layout, so results might be incorrect.\n",
      "\n"
     ]
    },
    {
     "name": "stdout",
     "output_type": "stream",
     "text": [
      "Warning: excludeThres option currently not supported. Resetting excludeThres to 0.\n",
      "Warning: excludeThres option currently not supported. Resetting excludeThres to 0.\n"
     ]
    },
    {
     "name": "stderr",
     "output_type": "stream",
     "text": [
      "/var/folders/sc/kmc7_9gn2hqd_lrnhdt_2s580000gn/T/ipykernel_36930/2556735345.py:60: UserWarning:\n",
      "\n",
      "This figure includes Axes that are not compatible with tight_layout, so results might be incorrect.\n",
      "\n"
     ]
    },
    {
     "name": "stdout",
     "output_type": "stream",
     "text": [
      "Warning: excludeThres option currently not supported. Resetting excludeThres to 0.\n",
      "Warning: excludeThres option currently not supported. Resetting excludeThres to 0.\n"
     ]
    },
    {
     "name": "stderr",
     "output_type": "stream",
     "text": [
      "/var/folders/sc/kmc7_9gn2hqd_lrnhdt_2s580000gn/T/ipykernel_36930/2556735345.py:60: UserWarning:\n",
      "\n",
      "This figure includes Axes that are not compatible with tight_layout, so results might be incorrect.\n",
      "\n"
     ]
    },
    {
     "name": "stdout",
     "output_type": "stream",
     "text": [
      "Warning: excludeThres option currently not supported. Resetting excludeThres to 0.\n",
      "Warning: excludeThres option currently not supported. Resetting excludeThres to 0.\n"
     ]
    },
    {
     "name": "stderr",
     "output_type": "stream",
     "text": [
      "/var/folders/sc/kmc7_9gn2hqd_lrnhdt_2s580000gn/T/ipykernel_36930/2556735345.py:60: UserWarning:\n",
      "\n",
      "This figure includes Axes that are not compatible with tight_layout, so results might be incorrect.\n",
      "\n"
     ]
    },
    {
     "name": "stdout",
     "output_type": "stream",
     "text": [
      "Warning: excludeThres option currently not supported. Resetting excludeThres to 0.\n",
      "Warning: excludeThres option currently not supported. Resetting excludeThres to 0.\n"
     ]
    },
    {
     "name": "stderr",
     "output_type": "stream",
     "text": [
      "/var/folders/sc/kmc7_9gn2hqd_lrnhdt_2s580000gn/T/ipykernel_36930/2556735345.py:60: UserWarning:\n",
      "\n",
      "This figure includes Axes that are not compatible with tight_layout, so results might be incorrect.\n",
      "\n"
     ]
    },
    {
     "name": "stdout",
     "output_type": "stream",
     "text": [
      "Warning: excludeThres option currently not supported. Resetting excludeThres to 0.\n",
      "Warning: excludeThres option currently not supported. Resetting excludeThres to 0.\n"
     ]
    },
    {
     "name": "stderr",
     "output_type": "stream",
     "text": [
      "/var/folders/sc/kmc7_9gn2hqd_lrnhdt_2s580000gn/T/ipykernel_36930/2556735345.py:60: UserWarning:\n",
      "\n",
      "This figure includes Axes that are not compatible with tight_layout, so results might be incorrect.\n",
      "\n"
     ]
    },
    {
     "name": "stdout",
     "output_type": "stream",
     "text": [
      "Warning: excludeThres option currently not supported. Resetting excludeThres to 0.\n",
      "Warning: excludeThres option currently not supported. Resetting excludeThres to 0.\n"
     ]
    },
    {
     "name": "stderr",
     "output_type": "stream",
     "text": [
      "/var/folders/sc/kmc7_9gn2hqd_lrnhdt_2s580000gn/T/ipykernel_36930/2556735345.py:60: UserWarning:\n",
      "\n",
      "This figure includes Axes that are not compatible with tight_layout, so results might be incorrect.\n",
      "\n"
     ]
    },
    {
     "name": "stdout",
     "output_type": "stream",
     "text": [
      "Warning: excludeThres option currently not supported. Resetting excludeThres to 0.\n",
      "Warning: excludeThres option currently not supported. Resetting excludeThres to 0.\n"
     ]
    },
    {
     "name": "stderr",
     "output_type": "stream",
     "text": [
      "/var/folders/sc/kmc7_9gn2hqd_lrnhdt_2s580000gn/T/ipykernel_36930/2556735345.py:60: UserWarning:\n",
      "\n",
      "This figure includes Axes that are not compatible with tight_layout, so results might be incorrect.\n",
      "\n"
     ]
    },
    {
     "name": "stdout",
     "output_type": "stream",
     "text": [
      "Warning: excludeThres option currently not supported. Resetting excludeThres to 0.\n",
      "Warning: excludeThres option currently not supported. Resetting excludeThres to 0.\n"
     ]
    },
    {
     "name": "stderr",
     "output_type": "stream",
     "text": [
      "/var/folders/sc/kmc7_9gn2hqd_lrnhdt_2s580000gn/T/ipykernel_36930/2556735345.py:60: UserWarning:\n",
      "\n",
      "This figure includes Axes that are not compatible with tight_layout, so results might be incorrect.\n",
      "\n"
     ]
    },
    {
     "name": "stdout",
     "output_type": "stream",
     "text": [
      "Warning: excludeThres option currently not supported. Resetting excludeThres to 0.\n",
      "Warning: excludeThres option currently not supported. Resetting excludeThres to 0.\n"
     ]
    },
    {
     "name": "stderr",
     "output_type": "stream",
     "text": [
      "/var/folders/sc/kmc7_9gn2hqd_lrnhdt_2s580000gn/T/ipykernel_36930/2556735345.py:60: UserWarning:\n",
      "\n",
      "This figure includes Axes that are not compatible with tight_layout, so results might be incorrect.\n",
      "\n"
     ]
    },
    {
     "name": "stdout",
     "output_type": "stream",
     "text": [
      "Warning: excludeThres option currently not supported. Resetting excludeThres to 0.\n",
      "Warning: excludeThres option currently not supported. Resetting excludeThres to 0.\n"
     ]
    },
    {
     "name": "stderr",
     "output_type": "stream",
     "text": [
      "/var/folders/sc/kmc7_9gn2hqd_lrnhdt_2s580000gn/T/ipykernel_36930/2556735345.py:60: UserWarning:\n",
      "\n",
      "This figure includes Axes that are not compatible with tight_layout, so results might be incorrect.\n",
      "\n"
     ]
    },
    {
     "name": "stdout",
     "output_type": "stream",
     "text": [
      "Warning: excludeThres option currently not supported. Resetting excludeThres to 0.\n",
      "Warning: excludeThres option currently not supported. Resetting excludeThres to 0.\n"
     ]
    },
    {
     "name": "stderr",
     "output_type": "stream",
     "text": [
      "/var/folders/sc/kmc7_9gn2hqd_lrnhdt_2s580000gn/T/ipykernel_36930/2556735345.py:60: UserWarning:\n",
      "\n",
      "This figure includes Axes that are not compatible with tight_layout, so results might be incorrect.\n",
      "\n"
     ]
    },
    {
     "name": "stdout",
     "output_type": "stream",
     "text": [
      "Warning: excludeThres option currently not supported. Resetting excludeThres to 0.\n",
      "Warning: excludeThres option currently not supported. Resetting excludeThres to 0.\n"
     ]
    },
    {
     "name": "stderr",
     "output_type": "stream",
     "text": [
      "/var/folders/sc/kmc7_9gn2hqd_lrnhdt_2s580000gn/T/ipykernel_36930/2556735345.py:60: UserWarning:\n",
      "\n",
      "This figure includes Axes that are not compatible with tight_layout, so results might be incorrect.\n",
      "\n"
     ]
    },
    {
     "name": "stdout",
     "output_type": "stream",
     "text": [
      "Warning: excludeThres option currently not supported. Resetting excludeThres to 0.\n",
      "Warning: excludeThres option currently not supported. Resetting excludeThres to 0.\n"
     ]
    },
    {
     "name": "stderr",
     "output_type": "stream",
     "text": [
      "/var/folders/sc/kmc7_9gn2hqd_lrnhdt_2s580000gn/T/ipykernel_36930/2556735345.py:60: UserWarning:\n",
      "\n",
      "This figure includes Axes that are not compatible with tight_layout, so results might be incorrect.\n",
      "\n"
     ]
    },
    {
     "name": "stdout",
     "output_type": "stream",
     "text": [
      "Warning: excludeThres option currently not supported. Resetting excludeThres to 0.\n",
      "Warning: excludeThres option currently not supported. Resetting excludeThres to 0.\n"
     ]
    },
    {
     "name": "stderr",
     "output_type": "stream",
     "text": [
      "/var/folders/sc/kmc7_9gn2hqd_lrnhdt_2s580000gn/T/ipykernel_36930/2556735345.py:60: UserWarning:\n",
      "\n",
      "This figure includes Axes that are not compatible with tight_layout, so results might be incorrect.\n",
      "\n"
     ]
    },
    {
     "name": "stdout",
     "output_type": "stream",
     "text": [
      "Warning: excludeThres option currently not supported. Resetting excludeThres to 0.\n",
      "Warning: excludeThres option currently not supported. Resetting excludeThres to 0.\n"
     ]
    },
    {
     "name": "stderr",
     "output_type": "stream",
     "text": [
      "/var/folders/sc/kmc7_9gn2hqd_lrnhdt_2s580000gn/T/ipykernel_36930/2556735345.py:60: UserWarning:\n",
      "\n",
      "This figure includes Axes that are not compatible with tight_layout, so results might be incorrect.\n",
      "\n"
     ]
    },
    {
     "name": "stdout",
     "output_type": "stream",
     "text": [
      "Warning: excludeThres option currently not supported. Resetting excludeThres to 0.\n",
      "Warning: excludeThres option currently not supported. Resetting excludeThres to 0.\n"
     ]
    },
    {
     "name": "stderr",
     "output_type": "stream",
     "text": [
      "/var/folders/sc/kmc7_9gn2hqd_lrnhdt_2s580000gn/T/ipykernel_36930/2556735345.py:60: UserWarning:\n",
      "\n",
      "This figure includes Axes that are not compatible with tight_layout, so results might be incorrect.\n",
      "\n"
     ]
    },
    {
     "name": "stdout",
     "output_type": "stream",
     "text": [
      "Warning: excludeThres option currently not supported. Resetting excludeThres to 0.\n",
      "Warning: excludeThres option currently not supported. Resetting excludeThres to 0.\n"
     ]
    },
    {
     "name": "stderr",
     "output_type": "stream",
     "text": [
      "/var/folders/sc/kmc7_9gn2hqd_lrnhdt_2s580000gn/T/ipykernel_36930/2556735345.py:60: UserWarning:\n",
      "\n",
      "This figure includes Axes that are not compatible with tight_layout, so results might be incorrect.\n",
      "\n"
     ]
    },
    {
     "name": "stdout",
     "output_type": "stream",
     "text": [
      "Warning: excludeThres option currently not supported. Resetting excludeThres to 0.\n",
      "Warning: excludeThres option currently not supported. Resetting excludeThres to 0.\n"
     ]
    },
    {
     "name": "stderr",
     "output_type": "stream",
     "text": [
      "/var/folders/sc/kmc7_9gn2hqd_lrnhdt_2s580000gn/T/ipykernel_36930/2556735345.py:60: UserWarning:\n",
      "\n",
      "This figure includes Axes that are not compatible with tight_layout, so results might be incorrect.\n",
      "\n"
     ]
    },
    {
     "name": "stdout",
     "output_type": "stream",
     "text": [
      "Warning: excludeThres option currently not supported. Resetting excludeThres to 0.\n",
      "Warning: excludeThres option currently not supported. Resetting excludeThres to 0.\n"
     ]
    },
    {
     "name": "stderr",
     "output_type": "stream",
     "text": [
      "/var/folders/sc/kmc7_9gn2hqd_lrnhdt_2s580000gn/T/ipykernel_36930/2556735345.py:60: UserWarning:\n",
      "\n",
      "This figure includes Axes that are not compatible with tight_layout, so results might be incorrect.\n",
      "\n"
     ]
    },
    {
     "name": "stdout",
     "output_type": "stream",
     "text": [
      "Warning: excludeThres option currently not supported. Resetting excludeThres to 0.\n",
      "Warning: excludeThres option currently not supported. Resetting excludeThres to 0.\n"
     ]
    },
    {
     "name": "stderr",
     "output_type": "stream",
     "text": [
      "/var/folders/sc/kmc7_9gn2hqd_lrnhdt_2s580000gn/T/ipykernel_36930/2556735345.py:60: UserWarning:\n",
      "\n",
      "This figure includes Axes that are not compatible with tight_layout, so results might be incorrect.\n",
      "\n"
     ]
    },
    {
     "name": "stdout",
     "output_type": "stream",
     "text": [
      "Warning: excludeThres option currently not supported. Resetting excludeThres to 0.\n",
      "Warning: excludeThres option currently not supported. Resetting excludeThres to 0.\n"
     ]
    },
    {
     "name": "stderr",
     "output_type": "stream",
     "text": [
      "/var/folders/sc/kmc7_9gn2hqd_lrnhdt_2s580000gn/T/ipykernel_36930/2556735345.py:60: UserWarning:\n",
      "\n",
      "This figure includes Axes that are not compatible with tight_layout, so results might be incorrect.\n",
      "\n"
     ]
    },
    {
     "name": "stdout",
     "output_type": "stream",
     "text": [
      "Warning: excludeThres option currently not supported. Resetting excludeThres to 0.\n",
      "Warning: excludeThres option currently not supported. Resetting excludeThres to 0.\n"
     ]
    },
    {
     "name": "stderr",
     "output_type": "stream",
     "text": [
      "/var/folders/sc/kmc7_9gn2hqd_lrnhdt_2s580000gn/T/ipykernel_36930/2556735345.py:60: UserWarning:\n",
      "\n",
      "This figure includes Axes that are not compatible with tight_layout, so results might be incorrect.\n",
      "\n"
     ]
    },
    {
     "name": "stdout",
     "output_type": "stream",
     "text": [
      "Warning: excludeThres option currently not supported. Resetting excludeThres to 0.\n",
      "Warning: excludeThres option currently not supported. Resetting excludeThres to 0.\n"
     ]
    },
    {
     "name": "stderr",
     "output_type": "stream",
     "text": [
      "/var/folders/sc/kmc7_9gn2hqd_lrnhdt_2s580000gn/T/ipykernel_36930/2556735345.py:60: UserWarning:\n",
      "\n",
      "This figure includes Axes that are not compatible with tight_layout, so results might be incorrect.\n",
      "\n"
     ]
    },
    {
     "name": "stdout",
     "output_type": "stream",
     "text": [
      "Warning: excludeThres option currently not supported. Resetting excludeThres to 0.\n",
      "Warning: excludeThres option currently not supported. Resetting excludeThres to 0.\n"
     ]
    },
    {
     "name": "stderr",
     "output_type": "stream",
     "text": [
      "/var/folders/sc/kmc7_9gn2hqd_lrnhdt_2s580000gn/T/ipykernel_36930/2556735345.py:60: UserWarning:\n",
      "\n",
      "This figure includes Axes that are not compatible with tight_layout, so results might be incorrect.\n",
      "\n"
     ]
    },
    {
     "name": "stdout",
     "output_type": "stream",
     "text": [
      "Warning: excludeThres option currently not supported. Resetting excludeThres to 0.\n",
      "Warning: excludeThres option currently not supported. Resetting excludeThres to 0.\n"
     ]
    },
    {
     "name": "stderr",
     "output_type": "stream",
     "text": [
      "/var/folders/sc/kmc7_9gn2hqd_lrnhdt_2s580000gn/T/ipykernel_36930/2556735345.py:60: UserWarning:\n",
      "\n",
      "This figure includes Axes that are not compatible with tight_layout, so results might be incorrect.\n",
      "\n"
     ]
    },
    {
     "name": "stdout",
     "output_type": "stream",
     "text": [
      "Warning: excludeThres option currently not supported. Resetting excludeThres to 0.\n",
      "Warning: excludeThres option currently not supported. Resetting excludeThres to 0.\n"
     ]
    },
    {
     "name": "stderr",
     "output_type": "stream",
     "text": [
      "/var/folders/sc/kmc7_9gn2hqd_lrnhdt_2s580000gn/T/ipykernel_36930/2556735345.py:60: UserWarning:\n",
      "\n",
      "This figure includes Axes that are not compatible with tight_layout, so results might be incorrect.\n",
      "\n"
     ]
    },
    {
     "name": "stdout",
     "output_type": "stream",
     "text": [
      "Warning: excludeThres option currently not supported. Resetting excludeThres to 0.\n",
      "Warning: excludeThres option currently not supported. Resetting excludeThres to 0.\n"
     ]
    },
    {
     "name": "stderr",
     "output_type": "stream",
     "text": [
      "/var/folders/sc/kmc7_9gn2hqd_lrnhdt_2s580000gn/T/ipykernel_36930/2556735345.py:60: UserWarning:\n",
      "\n",
      "This figure includes Axes that are not compatible with tight_layout, so results might be incorrect.\n",
      "\n"
     ]
    },
    {
     "name": "stdout",
     "output_type": "stream",
     "text": [
      "Warning: excludeThres option currently not supported. Resetting excludeThres to 0.\n",
      "Warning: excludeThres option currently not supported. Resetting excludeThres to 0.\n"
     ]
    },
    {
     "name": "stderr",
     "output_type": "stream",
     "text": [
      "/var/folders/sc/kmc7_9gn2hqd_lrnhdt_2s580000gn/T/ipykernel_36930/2556735345.py:60: UserWarning:\n",
      "\n",
      "This figure includes Axes that are not compatible with tight_layout, so results might be incorrect.\n",
      "\n"
     ]
    },
    {
     "name": "stdout",
     "output_type": "stream",
     "text": [
      "Warning: excludeThres option currently not supported. Resetting excludeThres to 0.\n",
      "Warning: excludeThres option currently not supported. Resetting excludeThres to 0.\n"
     ]
    },
    {
     "name": "stderr",
     "output_type": "stream",
     "text": [
      "/var/folders/sc/kmc7_9gn2hqd_lrnhdt_2s580000gn/T/ipykernel_36930/2556735345.py:60: UserWarning:\n",
      "\n",
      "This figure includes Axes that are not compatible with tight_layout, so results might be incorrect.\n",
      "\n"
     ]
    },
    {
     "name": "stdout",
     "output_type": "stream",
     "text": [
      "Warning: excludeThres option currently not supported. Resetting excludeThres to 0.\n",
      "Warning: excludeThres option currently not supported. Resetting excludeThres to 0.\n"
     ]
    },
    {
     "name": "stderr",
     "output_type": "stream",
     "text": [
      "/var/folders/sc/kmc7_9gn2hqd_lrnhdt_2s580000gn/T/ipykernel_36930/2556735345.py:60: UserWarning:\n",
      "\n",
      "This figure includes Axes that are not compatible with tight_layout, so results might be incorrect.\n",
      "\n"
     ]
    },
    {
     "name": "stdout",
     "output_type": "stream",
     "text": [
      "Warning: excludeThres option currently not supported. Resetting excludeThres to 0.\n",
      "Warning: excludeThres option currently not supported. Resetting excludeThres to 0.\n"
     ]
    },
    {
     "name": "stderr",
     "output_type": "stream",
     "text": [
      "/var/folders/sc/kmc7_9gn2hqd_lrnhdt_2s580000gn/T/ipykernel_36930/2556735345.py:60: UserWarning:\n",
      "\n",
      "This figure includes Axes that are not compatible with tight_layout, so results might be incorrect.\n",
      "\n"
     ]
    },
    {
     "name": "stdout",
     "output_type": "stream",
     "text": [
      "Warning: excludeThres option currently not supported. Resetting excludeThres to 0.\n",
      "Warning: excludeThres option currently not supported. Resetting excludeThres to 0.\n"
     ]
    },
    {
     "name": "stderr",
     "output_type": "stream",
     "text": [
      "/var/folders/sc/kmc7_9gn2hqd_lrnhdt_2s580000gn/T/ipykernel_36930/2556735345.py:60: UserWarning:\n",
      "\n",
      "This figure includes Axes that are not compatible with tight_layout, so results might be incorrect.\n",
      "\n"
     ]
    },
    {
     "name": "stdout",
     "output_type": "stream",
     "text": [
      "Warning: excludeThres option currently not supported. Resetting excludeThres to 0.\n",
      "Warning: excludeThres option currently not supported. Resetting excludeThres to 0.\n"
     ]
    },
    {
     "name": "stderr",
     "output_type": "stream",
     "text": [
      "/var/folders/sc/kmc7_9gn2hqd_lrnhdt_2s580000gn/T/ipykernel_36930/2556735345.py:60: UserWarning:\n",
      "\n",
      "This figure includes Axes that are not compatible with tight_layout, so results might be incorrect.\n",
      "\n"
     ]
    },
    {
     "name": "stdout",
     "output_type": "stream",
     "text": [
      "Warning: excludeThres option currently not supported. Resetting excludeThres to 0.\n",
      "Warning: excludeThres option currently not supported. Resetting excludeThres to 0.\n"
     ]
    },
    {
     "name": "stderr",
     "output_type": "stream",
     "text": [
      "/var/folders/sc/kmc7_9gn2hqd_lrnhdt_2s580000gn/T/ipykernel_36930/2556735345.py:60: UserWarning:\n",
      "\n",
      "This figure includes Axes that are not compatible with tight_layout, so results might be incorrect.\n",
      "\n"
     ]
    },
    {
     "name": "stdout",
     "output_type": "stream",
     "text": [
      "Warning: excludeThres option currently not supported. Resetting excludeThres to 0.\n",
      "Warning: excludeThres option currently not supported. Resetting excludeThres to 0.\n"
     ]
    },
    {
     "name": "stderr",
     "output_type": "stream",
     "text": [
      "/var/folders/sc/kmc7_9gn2hqd_lrnhdt_2s580000gn/T/ipykernel_36930/2556735345.py:60: UserWarning:\n",
      "\n",
      "This figure includes Axes that are not compatible with tight_layout, so results might be incorrect.\n",
      "\n"
     ]
    },
    {
     "name": "stdout",
     "output_type": "stream",
     "text": [
      "Warning: excludeThres option currently not supported. Resetting excludeThres to 0.\n",
      "Warning: excludeThres option currently not supported. Resetting excludeThres to 0.\n"
     ]
    },
    {
     "name": "stderr",
     "output_type": "stream",
     "text": [
      "/var/folders/sc/kmc7_9gn2hqd_lrnhdt_2s580000gn/T/ipykernel_36930/2556735345.py:60: UserWarning:\n",
      "\n",
      "This figure includes Axes that are not compatible with tight_layout, so results might be incorrect.\n",
      "\n"
     ]
    },
    {
     "name": "stdout",
     "output_type": "stream",
     "text": [
      "Warning: excludeThres option currently not supported. Resetting excludeThres to 0.\n",
      "Warning: excludeThres option currently not supported. Resetting excludeThres to 0.\n"
     ]
    },
    {
     "name": "stderr",
     "output_type": "stream",
     "text": [
      "/var/folders/sc/kmc7_9gn2hqd_lrnhdt_2s580000gn/T/ipykernel_36930/2556735345.py:60: UserWarning:\n",
      "\n",
      "This figure includes Axes that are not compatible with tight_layout, so results might be incorrect.\n",
      "\n"
     ]
    },
    {
     "name": "stdout",
     "output_type": "stream",
     "text": [
      "Warning: excludeThres option currently not supported. Resetting excludeThres to 0.\n",
      "Warning: excludeThres option currently not supported. Resetting excludeThres to 0.\n"
     ]
    },
    {
     "name": "stderr",
     "output_type": "stream",
     "text": [
      "/var/folders/sc/kmc7_9gn2hqd_lrnhdt_2s580000gn/T/ipykernel_36930/2556735345.py:60: UserWarning:\n",
      "\n",
      "This figure includes Axes that are not compatible with tight_layout, so results might be incorrect.\n",
      "\n"
     ]
    },
    {
     "name": "stdout",
     "output_type": "stream",
     "text": [
      "Warning: excludeThres option currently not supported. Resetting excludeThres to 0.\n",
      "Warning: excludeThres option currently not supported. Resetting excludeThres to 0.\n"
     ]
    },
    {
     "name": "stderr",
     "output_type": "stream",
     "text": [
      "/var/folders/sc/kmc7_9gn2hqd_lrnhdt_2s580000gn/T/ipykernel_36930/2556735345.py:60: UserWarning:\n",
      "\n",
      "This figure includes Axes that are not compatible with tight_layout, so results might be incorrect.\n",
      "\n"
     ]
    },
    {
     "name": "stdout",
     "output_type": "stream",
     "text": [
      "Warning: excludeThres option currently not supported. Resetting excludeThres to 0.\n",
      "Warning: excludeThres option currently not supported. Resetting excludeThres to 0.\n"
     ]
    },
    {
     "name": "stderr",
     "output_type": "stream",
     "text": [
      "/var/folders/sc/kmc7_9gn2hqd_lrnhdt_2s580000gn/T/ipykernel_36930/2556735345.py:60: UserWarning:\n",
      "\n",
      "This figure includes Axes that are not compatible with tight_layout, so results might be incorrect.\n",
      "\n"
     ]
    },
    {
     "name": "stdout",
     "output_type": "stream",
     "text": [
      "Warning: excludeThres option currently not supported. Resetting excludeThres to 0.\n",
      "Warning: excludeThres option currently not supported. Resetting excludeThres to 0.\n"
     ]
    },
    {
     "name": "stderr",
     "output_type": "stream",
     "text": [
      "/var/folders/sc/kmc7_9gn2hqd_lrnhdt_2s580000gn/T/ipykernel_36930/2556735345.py:60: UserWarning:\n",
      "\n",
      "This figure includes Axes that are not compatible with tight_layout, so results might be incorrect.\n",
      "\n"
     ]
    },
    {
     "name": "stdout",
     "output_type": "stream",
     "text": [
      "Warning: excludeThres option currently not supported. Resetting excludeThres to 0.\n",
      "Warning: excludeThres option currently not supported. Resetting excludeThres to 0.\n"
     ]
    },
    {
     "name": "stderr",
     "output_type": "stream",
     "text": [
      "/var/folders/sc/kmc7_9gn2hqd_lrnhdt_2s580000gn/T/ipykernel_36930/2556735345.py:60: UserWarning:\n",
      "\n",
      "This figure includes Axes that are not compatible with tight_layout, so results might be incorrect.\n",
      "\n"
     ]
    },
    {
     "name": "stdout",
     "output_type": "stream",
     "text": [
      "Warning: excludeThres option currently not supported. Resetting excludeThres to 0.\n",
      "Warning: excludeThres option currently not supported. Resetting excludeThres to 0.\n"
     ]
    },
    {
     "name": "stderr",
     "output_type": "stream",
     "text": [
      "/var/folders/sc/kmc7_9gn2hqd_lrnhdt_2s580000gn/T/ipykernel_36930/2556735345.py:60: UserWarning:\n",
      "\n",
      "This figure includes Axes that are not compatible with tight_layout, so results might be incorrect.\n",
      "\n"
     ]
    },
    {
     "name": "stdout",
     "output_type": "stream",
     "text": [
      "Warning: excludeThres option currently not supported. Resetting excludeThres to 0.\n",
      "Warning: excludeThres option currently not supported. Resetting excludeThres to 0.\n"
     ]
    },
    {
     "name": "stderr",
     "output_type": "stream",
     "text": [
      "/var/folders/sc/kmc7_9gn2hqd_lrnhdt_2s580000gn/T/ipykernel_36930/2556735345.py:60: UserWarning:\n",
      "\n",
      "This figure includes Axes that are not compatible with tight_layout, so results might be incorrect.\n",
      "\n"
     ]
    },
    {
     "name": "stdout",
     "output_type": "stream",
     "text": [
      "Warning: excludeThres option currently not supported. Resetting excludeThres to 0.\n",
      "Warning: excludeThres option currently not supported. Resetting excludeThres to 0.\n"
     ]
    },
    {
     "name": "stderr",
     "output_type": "stream",
     "text": [
      "/var/folders/sc/kmc7_9gn2hqd_lrnhdt_2s580000gn/T/ipykernel_36930/2556735345.py:60: UserWarning:\n",
      "\n",
      "This figure includes Axes that are not compatible with tight_layout, so results might be incorrect.\n",
      "\n"
     ]
    },
    {
     "name": "stdout",
     "output_type": "stream",
     "text": [
      "Warning: excludeThres option currently not supported. Resetting excludeThres to 0.\n",
      "Warning: excludeThres option currently not supported. Resetting excludeThres to 0.\n"
     ]
    },
    {
     "name": "stderr",
     "output_type": "stream",
     "text": [
      "/var/folders/sc/kmc7_9gn2hqd_lrnhdt_2s580000gn/T/ipykernel_36930/2556735345.py:60: UserWarning:\n",
      "\n",
      "This figure includes Axes that are not compatible with tight_layout, so results might be incorrect.\n",
      "\n"
     ]
    },
    {
     "name": "stdout",
     "output_type": "stream",
     "text": [
      "Warning: excludeThres option currently not supported. Resetting excludeThres to 0.\n",
      "Warning: excludeThres option currently not supported. Resetting excludeThres to 0.\n"
     ]
    },
    {
     "name": "stderr",
     "output_type": "stream",
     "text": [
      "/var/folders/sc/kmc7_9gn2hqd_lrnhdt_2s580000gn/T/ipykernel_36930/2556735345.py:60: UserWarning:\n",
      "\n",
      "This figure includes Axes that are not compatible with tight_layout, so results might be incorrect.\n",
      "\n"
     ]
    },
    {
     "name": "stdout",
     "output_type": "stream",
     "text": [
      "Warning: excludeThres option currently not supported. Resetting excludeThres to 0.\n",
      "Warning: excludeThres option currently not supported. Resetting excludeThres to 0.\n"
     ]
    },
    {
     "name": "stderr",
     "output_type": "stream",
     "text": [
      "/var/folders/sc/kmc7_9gn2hqd_lrnhdt_2s580000gn/T/ipykernel_36930/2556735345.py:60: UserWarning:\n",
      "\n",
      "This figure includes Axes that are not compatible with tight_layout, so results might be incorrect.\n",
      "\n"
     ]
    },
    {
     "name": "stdout",
     "output_type": "stream",
     "text": [
      "Warning: excludeThres option currently not supported. Resetting excludeThres to 0.\n",
      "Warning: excludeThres option currently not supported. Resetting excludeThres to 0.\n"
     ]
    },
    {
     "name": "stderr",
     "output_type": "stream",
     "text": [
      "/var/folders/sc/kmc7_9gn2hqd_lrnhdt_2s580000gn/T/ipykernel_36930/2556735345.py:60: UserWarning:\n",
      "\n",
      "This figure includes Axes that are not compatible with tight_layout, so results might be incorrect.\n",
      "\n"
     ]
    },
    {
     "name": "stdout",
     "output_type": "stream",
     "text": [
      "Warning: excludeThres option currently not supported. Resetting excludeThres to 0.\n",
      "Warning: excludeThres option currently not supported. Resetting excludeThres to 0.\n"
     ]
    },
    {
     "name": "stderr",
     "output_type": "stream",
     "text": [
      "/var/folders/sc/kmc7_9gn2hqd_lrnhdt_2s580000gn/T/ipykernel_36930/2556735345.py:60: UserWarning:\n",
      "\n",
      "This figure includes Axes that are not compatible with tight_layout, so results might be incorrect.\n",
      "\n"
     ]
    },
    {
     "name": "stdout",
     "output_type": "stream",
     "text": [
      "Warning: excludeThres option currently not supported. Resetting excludeThres to 0.\n",
      "Warning: excludeThres option currently not supported. Resetting excludeThres to 0.\n"
     ]
    },
    {
     "name": "stderr",
     "output_type": "stream",
     "text": [
      "/var/folders/sc/kmc7_9gn2hqd_lrnhdt_2s580000gn/T/ipykernel_36930/2556735345.py:60: UserWarning:\n",
      "\n",
      "This figure includes Axes that are not compatible with tight_layout, so results might be incorrect.\n",
      "\n"
     ]
    },
    {
     "name": "stdout",
     "output_type": "stream",
     "text": [
      "Warning: excludeThres option currently not supported. Resetting excludeThres to 0.\n",
      "Warning: excludeThres option currently not supported. Resetting excludeThres to 0.\n"
     ]
    },
    {
     "name": "stderr",
     "output_type": "stream",
     "text": [
      "/var/folders/sc/kmc7_9gn2hqd_lrnhdt_2s580000gn/T/ipykernel_36930/2556735345.py:60: UserWarning:\n",
      "\n",
      "This figure includes Axes that are not compatible with tight_layout, so results might be incorrect.\n",
      "\n"
     ]
    },
    {
     "name": "stdout",
     "output_type": "stream",
     "text": [
      "Warning: excludeThres option currently not supported. Resetting excludeThres to 0.\n",
      "Warning: excludeThres option currently not supported. Resetting excludeThres to 0.\n"
     ]
    },
    {
     "name": "stderr",
     "output_type": "stream",
     "text": [
      "/var/folders/sc/kmc7_9gn2hqd_lrnhdt_2s580000gn/T/ipykernel_36930/2556735345.py:60: UserWarning:\n",
      "\n",
      "This figure includes Axes that are not compatible with tight_layout, so results might be incorrect.\n",
      "\n"
     ]
    },
    {
     "name": "stdout",
     "output_type": "stream",
     "text": [
      "Warning: excludeThres option currently not supported. Resetting excludeThres to 0.\n",
      "Warning: excludeThres option currently not supported. Resetting excludeThres to 0.\n"
     ]
    },
    {
     "name": "stderr",
     "output_type": "stream",
     "text": [
      "/var/folders/sc/kmc7_9gn2hqd_lrnhdt_2s580000gn/T/ipykernel_36930/2556735345.py:60: UserWarning:\n",
      "\n",
      "This figure includes Axes that are not compatible with tight_layout, so results might be incorrect.\n",
      "\n"
     ]
    },
    {
     "name": "stdout",
     "output_type": "stream",
     "text": [
      "Warning: excludeThres option currently not supported. Resetting excludeThres to 0.\n",
      "Warning: excludeThres option currently not supported. Resetting excludeThres to 0.\n"
     ]
    },
    {
     "name": "stderr",
     "output_type": "stream",
     "text": [
      "/var/folders/sc/kmc7_9gn2hqd_lrnhdt_2s580000gn/T/ipykernel_36930/2556735345.py:60: UserWarning:\n",
      "\n",
      "This figure includes Axes that are not compatible with tight_layout, so results might be incorrect.\n",
      "\n"
     ]
    },
    {
     "name": "stdout",
     "output_type": "stream",
     "text": [
      "Warning: excludeThres option currently not supported. Resetting excludeThres to 0.\n",
      "Warning: excludeThres option currently not supported. Resetting excludeThres to 0.\n"
     ]
    },
    {
     "name": "stderr",
     "output_type": "stream",
     "text": [
      "/var/folders/sc/kmc7_9gn2hqd_lrnhdt_2s580000gn/T/ipykernel_36930/2556735345.py:60: UserWarning:\n",
      "\n",
      "This figure includes Axes that are not compatible with tight_layout, so results might be incorrect.\n",
      "\n"
     ]
    },
    {
     "name": "stdout",
     "output_type": "stream",
     "text": [
      "Warning: excludeThres option currently not supported. Resetting excludeThres to 0.\n",
      "Warning: excludeThres option currently not supported. Resetting excludeThres to 0.\n"
     ]
    },
    {
     "name": "stderr",
     "output_type": "stream",
     "text": [
      "/var/folders/sc/kmc7_9gn2hqd_lrnhdt_2s580000gn/T/ipykernel_36930/2556735345.py:60: UserWarning:\n",
      "\n",
      "This figure includes Axes that are not compatible with tight_layout, so results might be incorrect.\n",
      "\n"
     ]
    },
    {
     "name": "stdout",
     "output_type": "stream",
     "text": [
      "Warning: excludeThres option currently not supported. Resetting excludeThres to 0.\n",
      "Warning: excludeThres option currently not supported. Resetting excludeThres to 0.\n"
     ]
    },
    {
     "name": "stderr",
     "output_type": "stream",
     "text": [
      "/var/folders/sc/kmc7_9gn2hqd_lrnhdt_2s580000gn/T/ipykernel_36930/2556735345.py:60: UserWarning:\n",
      "\n",
      "This figure includes Axes that are not compatible with tight_layout, so results might be incorrect.\n",
      "\n"
     ]
    },
    {
     "name": "stdout",
     "output_type": "stream",
     "text": [
      "Warning: excludeThres option currently not supported. Resetting excludeThres to 0.\n",
      "Warning: excludeThres option currently not supported. Resetting excludeThres to 0.\n"
     ]
    },
    {
     "name": "stderr",
     "output_type": "stream",
     "text": [
      "/var/folders/sc/kmc7_9gn2hqd_lrnhdt_2s580000gn/T/ipykernel_36930/2556735345.py:60: UserWarning:\n",
      "\n",
      "This figure includes Axes that are not compatible with tight_layout, so results might be incorrect.\n",
      "\n"
     ]
    },
    {
     "name": "stdout",
     "output_type": "stream",
     "text": [
      "Warning: excludeThres option currently not supported. Resetting excludeThres to 0.\n",
      "Warning: excludeThres option currently not supported. Resetting excludeThres to 0.\n"
     ]
    },
    {
     "name": "stderr",
     "output_type": "stream",
     "text": [
      "/var/folders/sc/kmc7_9gn2hqd_lrnhdt_2s580000gn/T/ipykernel_36930/2556735345.py:60: UserWarning:\n",
      "\n",
      "This figure includes Axes that are not compatible with tight_layout, so results might be incorrect.\n",
      "\n"
     ]
    },
    {
     "name": "stdout",
     "output_type": "stream",
     "text": [
      "Warning: excludeThres option currently not supported. Resetting excludeThres to 0.\n",
      "Warning: excludeThres option currently not supported. Resetting excludeThres to 0.\n"
     ]
    },
    {
     "name": "stderr",
     "output_type": "stream",
     "text": [
      "/var/folders/sc/kmc7_9gn2hqd_lrnhdt_2s580000gn/T/ipykernel_36930/2556735345.py:60: UserWarning:\n",
      "\n",
      "This figure includes Axes that are not compatible with tight_layout, so results might be incorrect.\n",
      "\n"
     ]
    },
    {
     "name": "stdout",
     "output_type": "stream",
     "text": [
      "Warning: excludeThres option currently not supported. Resetting excludeThres to 0.\n",
      "Warning: excludeThres option currently not supported. Resetting excludeThres to 0.\n"
     ]
    },
    {
     "name": "stderr",
     "output_type": "stream",
     "text": [
      "/var/folders/sc/kmc7_9gn2hqd_lrnhdt_2s580000gn/T/ipykernel_36930/2556735345.py:60: UserWarning:\n",
      "\n",
      "This figure includes Axes that are not compatible with tight_layout, so results might be incorrect.\n",
      "\n"
     ]
    },
    {
     "name": "stdout",
     "output_type": "stream",
     "text": [
      "Warning: excludeThres option currently not supported. Resetting excludeThres to 0.\n",
      "Warning: excludeThres option currently not supported. Resetting excludeThres to 0.\n"
     ]
    },
    {
     "name": "stderr",
     "output_type": "stream",
     "text": [
      "/var/folders/sc/kmc7_9gn2hqd_lrnhdt_2s580000gn/T/ipykernel_36930/2556735345.py:60: UserWarning:\n",
      "\n",
      "This figure includes Axes that are not compatible with tight_layout, so results might be incorrect.\n",
      "\n"
     ]
    },
    {
     "name": "stdout",
     "output_type": "stream",
     "text": [
      "Warning: excludeThres option currently not supported. Resetting excludeThres to 0.\n",
      "Warning: excludeThres option currently not supported. Resetting excludeThres to 0.\n"
     ]
    },
    {
     "name": "stderr",
     "output_type": "stream",
     "text": [
      "/var/folders/sc/kmc7_9gn2hqd_lrnhdt_2s580000gn/T/ipykernel_36930/2556735345.py:60: UserWarning:\n",
      "\n",
      "This figure includes Axes that are not compatible with tight_layout, so results might be incorrect.\n",
      "\n"
     ]
    },
    {
     "name": "stdout",
     "output_type": "stream",
     "text": [
      "Warning: excludeThres option currently not supported. Resetting excludeThres to 0.\n",
      "Warning: excludeThres option currently not supported. Resetting excludeThres to 0.\n"
     ]
    },
    {
     "name": "stderr",
     "output_type": "stream",
     "text": [
      "/var/folders/sc/kmc7_9gn2hqd_lrnhdt_2s580000gn/T/ipykernel_36930/2556735345.py:60: UserWarning:\n",
      "\n",
      "This figure includes Axes that are not compatible with tight_layout, so results might be incorrect.\n",
      "\n"
     ]
    },
    {
     "name": "stdout",
     "output_type": "stream",
     "text": [
      "Warning: excludeThres option currently not supported. Resetting excludeThres to 0.\n",
      "Warning: excludeThres option currently not supported. Resetting excludeThres to 0.\n"
     ]
    },
    {
     "name": "stderr",
     "output_type": "stream",
     "text": [
      "/var/folders/sc/kmc7_9gn2hqd_lrnhdt_2s580000gn/T/ipykernel_36930/2556735345.py:60: UserWarning:\n",
      "\n",
      "This figure includes Axes that are not compatible with tight_layout, so results might be incorrect.\n",
      "\n"
     ]
    },
    {
     "name": "stdout",
     "output_type": "stream",
     "text": [
      "Warning: excludeThres option currently not supported. Resetting excludeThres to 0.\n",
      "Warning: excludeThres option currently not supported. Resetting excludeThres to 0.\n"
     ]
    },
    {
     "name": "stderr",
     "output_type": "stream",
     "text": [
      "/var/folders/sc/kmc7_9gn2hqd_lrnhdt_2s580000gn/T/ipykernel_36930/2556735345.py:60: UserWarning:\n",
      "\n",
      "This figure includes Axes that are not compatible with tight_layout, so results might be incorrect.\n",
      "\n"
     ]
    },
    {
     "name": "stdout",
     "output_type": "stream",
     "text": [
      "Warning: excludeThres option currently not supported. Resetting excludeThres to 0.\n",
      "Warning: excludeThres option currently not supported. Resetting excludeThres to 0.\n"
     ]
    },
    {
     "name": "stderr",
     "output_type": "stream",
     "text": [
      "/var/folders/sc/kmc7_9gn2hqd_lrnhdt_2s580000gn/T/ipykernel_36930/2556735345.py:60: UserWarning:\n",
      "\n",
      "This figure includes Axes that are not compatible with tight_layout, so results might be incorrect.\n",
      "\n"
     ]
    },
    {
     "name": "stdout",
     "output_type": "stream",
     "text": [
      "Warning: excludeThres option currently not supported. Resetting excludeThres to 0.\n",
      "Warning: excludeThres option currently not supported. Resetting excludeThres to 0.\n"
     ]
    },
    {
     "name": "stderr",
     "output_type": "stream",
     "text": [
      "/var/folders/sc/kmc7_9gn2hqd_lrnhdt_2s580000gn/T/ipykernel_36930/2556735345.py:60: UserWarning:\n",
      "\n",
      "This figure includes Axes that are not compatible with tight_layout, so results might be incorrect.\n",
      "\n"
     ]
    },
    {
     "name": "stdout",
     "output_type": "stream",
     "text": [
      "Warning: excludeThres option currently not supported. Resetting excludeThres to 0.\n",
      "Warning: excludeThres option currently not supported. Resetting excludeThres to 0.\n"
     ]
    },
    {
     "name": "stderr",
     "output_type": "stream",
     "text": [
      "/var/folders/sc/kmc7_9gn2hqd_lrnhdt_2s580000gn/T/ipykernel_36930/2556735345.py:60: UserWarning:\n",
      "\n",
      "This figure includes Axes that are not compatible with tight_layout, so results might be incorrect.\n",
      "\n"
     ]
    },
    {
     "name": "stdout",
     "output_type": "stream",
     "text": [
      "Warning: excludeThres option currently not supported. Resetting excludeThres to 0.\n",
      "Warning: excludeThres option currently not supported. Resetting excludeThres to 0.\n"
     ]
    },
    {
     "name": "stderr",
     "output_type": "stream",
     "text": [
      "/var/folders/sc/kmc7_9gn2hqd_lrnhdt_2s580000gn/T/ipykernel_36930/2556735345.py:60: UserWarning:\n",
      "\n",
      "This figure includes Axes that are not compatible with tight_layout, so results might be incorrect.\n",
      "\n"
     ]
    },
    {
     "name": "stdout",
     "output_type": "stream",
     "text": [
      "Warning: excludeThres option currently not supported. Resetting excludeThres to 0.\n",
      "Warning: excludeThres option currently not supported. Resetting excludeThres to 0.\n"
     ]
    },
    {
     "name": "stderr",
     "output_type": "stream",
     "text": [
      "/var/folders/sc/kmc7_9gn2hqd_lrnhdt_2s580000gn/T/ipykernel_36930/2556735345.py:60: UserWarning:\n",
      "\n",
      "This figure includes Axes that are not compatible with tight_layout, so results might be incorrect.\n",
      "\n"
     ]
    },
    {
     "name": "stdout",
     "output_type": "stream",
     "text": [
      "Warning: excludeThres option currently not supported. Resetting excludeThres to 0.\n",
      "Warning: excludeThres option currently not supported. Resetting excludeThres to 0.\n"
     ]
    },
    {
     "name": "stderr",
     "output_type": "stream",
     "text": [
      "/var/folders/sc/kmc7_9gn2hqd_lrnhdt_2s580000gn/T/ipykernel_36930/2556735345.py:60: UserWarning:\n",
      "\n",
      "This figure includes Axes that are not compatible with tight_layout, so results might be incorrect.\n",
      "\n"
     ]
    },
    {
     "name": "stdout",
     "output_type": "stream",
     "text": [
      "Warning: excludeThres option currently not supported. Resetting excludeThres to 0.\n",
      "Warning: excludeThres option currently not supported. Resetting excludeThres to 0.\n"
     ]
    },
    {
     "name": "stderr",
     "output_type": "stream",
     "text": [
      "/var/folders/sc/kmc7_9gn2hqd_lrnhdt_2s580000gn/T/ipykernel_36930/2556735345.py:60: UserWarning:\n",
      "\n",
      "This figure includes Axes that are not compatible with tight_layout, so results might be incorrect.\n",
      "\n"
     ]
    },
    {
     "name": "stdout",
     "output_type": "stream",
     "text": [
      "Warning: excludeThres option currently not supported. Resetting excludeThres to 0.\n",
      "Warning: excludeThres option currently not supported. Resetting excludeThres to 0.\n"
     ]
    },
    {
     "name": "stderr",
     "output_type": "stream",
     "text": [
      "/var/folders/sc/kmc7_9gn2hqd_lrnhdt_2s580000gn/T/ipykernel_36930/2556735345.py:60: UserWarning:\n",
      "\n",
      "This figure includes Axes that are not compatible with tight_layout, so results might be incorrect.\n",
      "\n"
     ]
    },
    {
     "name": "stdout",
     "output_type": "stream",
     "text": [
      "Warning: excludeThres option currently not supported. Resetting excludeThres to 0.\n",
      "Warning: excludeThres option currently not supported. Resetting excludeThres to 0.\n"
     ]
    },
    {
     "name": "stderr",
     "output_type": "stream",
     "text": [
      "/var/folders/sc/kmc7_9gn2hqd_lrnhdt_2s580000gn/T/ipykernel_36930/2556735345.py:60: UserWarning:\n",
      "\n",
      "This figure includes Axes that are not compatible with tight_layout, so results might be incorrect.\n",
      "\n"
     ]
    },
    {
     "name": "stdout",
     "output_type": "stream",
     "text": [
      "Warning: excludeThres option currently not supported. Resetting excludeThres to 0.\n",
      "Warning: excludeThres option currently not supported. Resetting excludeThres to 0.\n"
     ]
    },
    {
     "name": "stderr",
     "output_type": "stream",
     "text": [
      "/var/folders/sc/kmc7_9gn2hqd_lrnhdt_2s580000gn/T/ipykernel_36930/2556735345.py:60: UserWarning:\n",
      "\n",
      "This figure includes Axes that are not compatible with tight_layout, so results might be incorrect.\n",
      "\n"
     ]
    },
    {
     "name": "stdout",
     "output_type": "stream",
     "text": [
      "Warning: excludeThres option currently not supported. Resetting excludeThres to 0.\n",
      "Warning: excludeThres option currently not supported. Resetting excludeThres to 0.\n"
     ]
    },
    {
     "name": "stderr",
     "output_type": "stream",
     "text": [
      "/var/folders/sc/kmc7_9gn2hqd_lrnhdt_2s580000gn/T/ipykernel_36930/2556735345.py:60: UserWarning:\n",
      "\n",
      "This figure includes Axes that are not compatible with tight_layout, so results might be incorrect.\n",
      "\n"
     ]
    },
    {
     "name": "stdout",
     "output_type": "stream",
     "text": [
      "Warning: excludeThres option currently not supported. Resetting excludeThres to 0.\n",
      "Warning: excludeThres option currently not supported. Resetting excludeThres to 0.\n"
     ]
    },
    {
     "name": "stderr",
     "output_type": "stream",
     "text": [
      "/var/folders/sc/kmc7_9gn2hqd_lrnhdt_2s580000gn/T/ipykernel_36930/2556735345.py:60: UserWarning:\n",
      "\n",
      "This figure includes Axes that are not compatible with tight_layout, so results might be incorrect.\n",
      "\n"
     ]
    },
    {
     "name": "stdout",
     "output_type": "stream",
     "text": [
      "Warning: excludeThres option currently not supported. Resetting excludeThres to 0.\n",
      "Warning: excludeThres option currently not supported. Resetting excludeThres to 0.\n"
     ]
    },
    {
     "name": "stderr",
     "output_type": "stream",
     "text": [
      "/var/folders/sc/kmc7_9gn2hqd_lrnhdt_2s580000gn/T/ipykernel_36930/2556735345.py:60: UserWarning:\n",
      "\n",
      "This figure includes Axes that are not compatible with tight_layout, so results might be incorrect.\n",
      "\n"
     ]
    },
    {
     "name": "stdout",
     "output_type": "stream",
     "text": [
      "Warning: excludeThres option currently not supported. Resetting excludeThres to 0.\n",
      "Warning: excludeThres option currently not supported. Resetting excludeThres to 0.\n"
     ]
    },
    {
     "name": "stderr",
     "output_type": "stream",
     "text": [
      "/var/folders/sc/kmc7_9gn2hqd_lrnhdt_2s580000gn/T/ipykernel_36930/2556735345.py:60: UserWarning:\n",
      "\n",
      "This figure includes Axes that are not compatible with tight_layout, so results might be incorrect.\n",
      "\n"
     ]
    },
    {
     "name": "stdout",
     "output_type": "stream",
     "text": [
      "Warning: excludeThres option currently not supported. Resetting excludeThres to 0.\n",
      "Warning: excludeThres option currently not supported. Resetting excludeThres to 0.\n"
     ]
    },
    {
     "name": "stderr",
     "output_type": "stream",
     "text": [
      "/var/folders/sc/kmc7_9gn2hqd_lrnhdt_2s580000gn/T/ipykernel_36930/2556735345.py:60: UserWarning:\n",
      "\n",
      "This figure includes Axes that are not compatible with tight_layout, so results might be incorrect.\n",
      "\n"
     ]
    },
    {
     "name": "stdout",
     "output_type": "stream",
     "text": [
      "Warning: excludeThres option currently not supported. Resetting excludeThres to 0.\n",
      "Warning: excludeThres option currently not supported. Resetting excludeThres to 0.\n"
     ]
    },
    {
     "name": "stderr",
     "output_type": "stream",
     "text": [
      "/var/folders/sc/kmc7_9gn2hqd_lrnhdt_2s580000gn/T/ipykernel_36930/2556735345.py:60: UserWarning:\n",
      "\n",
      "This figure includes Axes that are not compatible with tight_layout, so results might be incorrect.\n",
      "\n"
     ]
    },
    {
     "name": "stdout",
     "output_type": "stream",
     "text": [
      "Warning: excludeThres option currently not supported. Resetting excludeThres to 0.\n",
      "Warning: excludeThres option currently not supported. Resetting excludeThres to 0.\n"
     ]
    },
    {
     "name": "stderr",
     "output_type": "stream",
     "text": [
      "/var/folders/sc/kmc7_9gn2hqd_lrnhdt_2s580000gn/T/ipykernel_36930/2556735345.py:60: UserWarning:\n",
      "\n",
      "This figure includes Axes that are not compatible with tight_layout, so results might be incorrect.\n",
      "\n"
     ]
    },
    {
     "name": "stdout",
     "output_type": "stream",
     "text": [
      "Warning: excludeThres option currently not supported. Resetting excludeThres to 0.\n",
      "Warning: excludeThres option currently not supported. Resetting excludeThres to 0.\n"
     ]
    },
    {
     "name": "stderr",
     "output_type": "stream",
     "text": [
      "/var/folders/sc/kmc7_9gn2hqd_lrnhdt_2s580000gn/T/ipykernel_36930/2556735345.py:60: UserWarning:\n",
      "\n",
      "This figure includes Axes that are not compatible with tight_layout, so results might be incorrect.\n",
      "\n"
     ]
    },
    {
     "name": "stdout",
     "output_type": "stream",
     "text": [
      "Warning: excludeThres option currently not supported. Resetting excludeThres to 0.\n",
      "Warning: excludeThres option currently not supported. Resetting excludeThres to 0.\n"
     ]
    },
    {
     "name": "stderr",
     "output_type": "stream",
     "text": [
      "/var/folders/sc/kmc7_9gn2hqd_lrnhdt_2s580000gn/T/ipykernel_36930/2556735345.py:60: UserWarning:\n",
      "\n",
      "This figure includes Axes that are not compatible with tight_layout, so results might be incorrect.\n",
      "\n"
     ]
    },
    {
     "name": "stdout",
     "output_type": "stream",
     "text": [
      "Warning: excludeThres option currently not supported. Resetting excludeThres to 0.\n",
      "Warning: excludeThres option currently not supported. Resetting excludeThres to 0.\n"
     ]
    },
    {
     "name": "stderr",
     "output_type": "stream",
     "text": [
      "/var/folders/sc/kmc7_9gn2hqd_lrnhdt_2s580000gn/T/ipykernel_36930/2556735345.py:60: UserWarning:\n",
      "\n",
      "This figure includes Axes that are not compatible with tight_layout, so results might be incorrect.\n",
      "\n"
     ]
    },
    {
     "name": "stdout",
     "output_type": "stream",
     "text": [
      "Warning: excludeThres option currently not supported. Resetting excludeThres to 0.\n",
      "Warning: excludeThres option currently not supported. Resetting excludeThres to 0.\n"
     ]
    },
    {
     "name": "stderr",
     "output_type": "stream",
     "text": [
      "/var/folders/sc/kmc7_9gn2hqd_lrnhdt_2s580000gn/T/ipykernel_36930/2556735345.py:60: UserWarning:\n",
      "\n",
      "This figure includes Axes that are not compatible with tight_layout, so results might be incorrect.\n",
      "\n"
     ]
    },
    {
     "name": "stdout",
     "output_type": "stream",
     "text": [
      "Warning: excludeThres option currently not supported. Resetting excludeThres to 0.\n",
      "Warning: excludeThres option currently not supported. Resetting excludeThres to 0.\n"
     ]
    },
    {
     "name": "stderr",
     "output_type": "stream",
     "text": [
      "/var/folders/sc/kmc7_9gn2hqd_lrnhdt_2s580000gn/T/ipykernel_36930/2556735345.py:60: UserWarning:\n",
      "\n",
      "This figure includes Axes that are not compatible with tight_layout, so results might be incorrect.\n",
      "\n"
     ]
    },
    {
     "name": "stdout",
     "output_type": "stream",
     "text": [
      "Warning: excludeThres option currently not supported. Resetting excludeThres to 0.\n",
      "Warning: excludeThres option currently not supported. Resetting excludeThres to 0.\n"
     ]
    },
    {
     "name": "stderr",
     "output_type": "stream",
     "text": [
      "/var/folders/sc/kmc7_9gn2hqd_lrnhdt_2s580000gn/T/ipykernel_36930/2556735345.py:60: UserWarning:\n",
      "\n",
      "This figure includes Axes that are not compatible with tight_layout, so results might be incorrect.\n",
      "\n"
     ]
    },
    {
     "name": "stdout",
     "output_type": "stream",
     "text": [
      "Warning: excludeThres option currently not supported. Resetting excludeThres to 0.\n",
      "Warning: excludeThres option currently not supported. Resetting excludeThres to 0.\n"
     ]
    },
    {
     "name": "stderr",
     "output_type": "stream",
     "text": [
      "/var/folders/sc/kmc7_9gn2hqd_lrnhdt_2s580000gn/T/ipykernel_36930/2556735345.py:60: UserWarning:\n",
      "\n",
      "This figure includes Axes that are not compatible with tight_layout, so results might be incorrect.\n",
      "\n"
     ]
    },
    {
     "name": "stdout",
     "output_type": "stream",
     "text": [
      "Warning: excludeThres option currently not supported. Resetting excludeThres to 0.\n",
      "Warning: excludeThres option currently not supported. Resetting excludeThres to 0.\n"
     ]
    },
    {
     "name": "stderr",
     "output_type": "stream",
     "text": [
      "/var/folders/sc/kmc7_9gn2hqd_lrnhdt_2s580000gn/T/ipykernel_36930/2556735345.py:60: UserWarning:\n",
      "\n",
      "This figure includes Axes that are not compatible with tight_layout, so results might be incorrect.\n",
      "\n"
     ]
    },
    {
     "name": "stdout",
     "output_type": "stream",
     "text": [
      "Warning: excludeThres option currently not supported. Resetting excludeThres to 0.\n",
      "Warning: excludeThres option currently not supported. Resetting excludeThres to 0.\n"
     ]
    },
    {
     "name": "stderr",
     "output_type": "stream",
     "text": [
      "/var/folders/sc/kmc7_9gn2hqd_lrnhdt_2s580000gn/T/ipykernel_36930/2556735345.py:60: UserWarning:\n",
      "\n",
      "This figure includes Axes that are not compatible with tight_layout, so results might be incorrect.\n",
      "\n"
     ]
    },
    {
     "name": "stdout",
     "output_type": "stream",
     "text": [
      "Warning: excludeThres option currently not supported. Resetting excludeThres to 0.\n",
      "Warning: excludeThres option currently not supported. Resetting excludeThres to 0.\n"
     ]
    },
    {
     "name": "stderr",
     "output_type": "stream",
     "text": [
      "/var/folders/sc/kmc7_9gn2hqd_lrnhdt_2s580000gn/T/ipykernel_36930/2556735345.py:60: UserWarning:\n",
      "\n",
      "This figure includes Axes that are not compatible with tight_layout, so results might be incorrect.\n",
      "\n"
     ]
    },
    {
     "name": "stdout",
     "output_type": "stream",
     "text": [
      "Warning: excludeThres option currently not supported. Resetting excludeThres to 0.\n",
      "Warning: excludeThres option currently not supported. Resetting excludeThres to 0.\n"
     ]
    },
    {
     "name": "stderr",
     "output_type": "stream",
     "text": [
      "/var/folders/sc/kmc7_9gn2hqd_lrnhdt_2s580000gn/T/ipykernel_36930/2556735345.py:60: UserWarning:\n",
      "\n",
      "This figure includes Axes that are not compatible with tight_layout, so results might be incorrect.\n",
      "\n"
     ]
    },
    {
     "name": "stdout",
     "output_type": "stream",
     "text": [
      "Warning: excludeThres option currently not supported. Resetting excludeThres to 0.\n",
      "Warning: excludeThres option currently not supported. Resetting excludeThres to 0.\n"
     ]
    },
    {
     "name": "stderr",
     "output_type": "stream",
     "text": [
      "/var/folders/sc/kmc7_9gn2hqd_lrnhdt_2s580000gn/T/ipykernel_36930/2556735345.py:60: UserWarning:\n",
      "\n",
      "This figure includes Axes that are not compatible with tight_layout, so results might be incorrect.\n",
      "\n"
     ]
    },
    {
     "name": "stdout",
     "output_type": "stream",
     "text": [
      "Warning: excludeThres option currently not supported. Resetting excludeThres to 0.\n",
      "Warning: excludeThres option currently not supported. Resetting excludeThres to 0.\n"
     ]
    },
    {
     "name": "stderr",
     "output_type": "stream",
     "text": [
      "/var/folders/sc/kmc7_9gn2hqd_lrnhdt_2s580000gn/T/ipykernel_36930/2556735345.py:60: UserWarning:\n",
      "\n",
      "This figure includes Axes that are not compatible with tight_layout, so results might be incorrect.\n",
      "\n"
     ]
    },
    {
     "name": "stdout",
     "output_type": "stream",
     "text": [
      "Warning: excludeThres option currently not supported. Resetting excludeThres to 0.\n",
      "Warning: excludeThres option currently not supported. Resetting excludeThres to 0.\n"
     ]
    },
    {
     "name": "stderr",
     "output_type": "stream",
     "text": [
      "/var/folders/sc/kmc7_9gn2hqd_lrnhdt_2s580000gn/T/ipykernel_36930/2556735345.py:60: UserWarning:\n",
      "\n",
      "This figure includes Axes that are not compatible with tight_layout, so results might be incorrect.\n",
      "\n"
     ]
    },
    {
     "name": "stdout",
     "output_type": "stream",
     "text": [
      "Warning: excludeThres option currently not supported. Resetting excludeThres to 0.\n",
      "Warning: excludeThres option currently not supported. Resetting excludeThres to 0.\n"
     ]
    },
    {
     "name": "stderr",
     "output_type": "stream",
     "text": [
      "/var/folders/sc/kmc7_9gn2hqd_lrnhdt_2s580000gn/T/ipykernel_36930/2556735345.py:60: UserWarning:\n",
      "\n",
      "This figure includes Axes that are not compatible with tight_layout, so results might be incorrect.\n",
      "\n"
     ]
    },
    {
     "name": "stdout",
     "output_type": "stream",
     "text": [
      "Warning: excludeThres option currently not supported. Resetting excludeThres to 0.\n",
      "Warning: excludeThres option currently not supported. Resetting excludeThres to 0.\n"
     ]
    },
    {
     "name": "stderr",
     "output_type": "stream",
     "text": [
      "/var/folders/sc/kmc7_9gn2hqd_lrnhdt_2s580000gn/T/ipykernel_36930/2556735345.py:60: UserWarning:\n",
      "\n",
      "This figure includes Axes that are not compatible with tight_layout, so results might be incorrect.\n",
      "\n"
     ]
    },
    {
     "name": "stdout",
     "output_type": "stream",
     "text": [
      "Warning: excludeThres option currently not supported. Resetting excludeThres to 0.\n",
      "Warning: excludeThres option currently not supported. Resetting excludeThres to 0.\n"
     ]
    },
    {
     "name": "stderr",
     "output_type": "stream",
     "text": [
      "/var/folders/sc/kmc7_9gn2hqd_lrnhdt_2s580000gn/T/ipykernel_36930/2556735345.py:60: UserWarning:\n",
      "\n",
      "This figure includes Axes that are not compatible with tight_layout, so results might be incorrect.\n",
      "\n"
     ]
    },
    {
     "name": "stdout",
     "output_type": "stream",
     "text": [
      "Warning: excludeThres option currently not supported. Resetting excludeThres to 0.\n",
      "Warning: excludeThres option currently not supported. Resetting excludeThres to 0.\n"
     ]
    },
    {
     "name": "stderr",
     "output_type": "stream",
     "text": [
      "/var/folders/sc/kmc7_9gn2hqd_lrnhdt_2s580000gn/T/ipykernel_36930/2556735345.py:60: UserWarning:\n",
      "\n",
      "This figure includes Axes that are not compatible with tight_layout, so results might be incorrect.\n",
      "\n"
     ]
    },
    {
     "name": "stdout",
     "output_type": "stream",
     "text": [
      "Warning: excludeThres option currently not supported. Resetting excludeThres to 0.\n",
      "Warning: excludeThres option currently not supported. Resetting excludeThres to 0.\n"
     ]
    },
    {
     "name": "stderr",
     "output_type": "stream",
     "text": [
      "/var/folders/sc/kmc7_9gn2hqd_lrnhdt_2s580000gn/T/ipykernel_36930/2556735345.py:60: UserWarning:\n",
      "\n",
      "This figure includes Axes that are not compatible with tight_layout, so results might be incorrect.\n",
      "\n"
     ]
    },
    {
     "name": "stdout",
     "output_type": "stream",
     "text": [
      "Warning: excludeThres option currently not supported. Resetting excludeThres to 0.\n",
      "Warning: excludeThres option currently not supported. Resetting excludeThres to 0.\n"
     ]
    },
    {
     "name": "stderr",
     "output_type": "stream",
     "text": [
      "/var/folders/sc/kmc7_9gn2hqd_lrnhdt_2s580000gn/T/ipykernel_36930/2556735345.py:60: UserWarning:\n",
      "\n",
      "This figure includes Axes that are not compatible with tight_layout, so results might be incorrect.\n",
      "\n"
     ]
    },
    {
     "name": "stdout",
     "output_type": "stream",
     "text": [
      "Warning: excludeThres option currently not supported. Resetting excludeThres to 0.\n",
      "Warning: excludeThres option currently not supported. Resetting excludeThres to 0.\n"
     ]
    },
    {
     "name": "stderr",
     "output_type": "stream",
     "text": [
      "/var/folders/sc/kmc7_9gn2hqd_lrnhdt_2s580000gn/T/ipykernel_36930/2556735345.py:60: UserWarning:\n",
      "\n",
      "This figure includes Axes that are not compatible with tight_layout, so results might be incorrect.\n",
      "\n"
     ]
    },
    {
     "name": "stdout",
     "output_type": "stream",
     "text": [
      "Warning: excludeThres option currently not supported. Resetting excludeThres to 0.\n",
      "Warning: excludeThres option currently not supported. Resetting excludeThres to 0.\n"
     ]
    },
    {
     "name": "stderr",
     "output_type": "stream",
     "text": [
      "/var/folders/sc/kmc7_9gn2hqd_lrnhdt_2s580000gn/T/ipykernel_36930/2556735345.py:60: UserWarning:\n",
      "\n",
      "This figure includes Axes that are not compatible with tight_layout, so results might be incorrect.\n",
      "\n"
     ]
    },
    {
     "name": "stdout",
     "output_type": "stream",
     "text": [
      "Warning: excludeThres option currently not supported. Resetting excludeThres to 0.\n",
      "Warning: excludeThres option currently not supported. Resetting excludeThres to 0.\n"
     ]
    },
    {
     "name": "stderr",
     "output_type": "stream",
     "text": [
      "/var/folders/sc/kmc7_9gn2hqd_lrnhdt_2s580000gn/T/ipykernel_36930/2556735345.py:60: UserWarning:\n",
      "\n",
      "This figure includes Axes that are not compatible with tight_layout, so results might be incorrect.\n",
      "\n"
     ]
    },
    {
     "name": "stdout",
     "output_type": "stream",
     "text": [
      "Warning: excludeThres option currently not supported. Resetting excludeThres to 0.\n",
      "Warning: excludeThres option currently not supported. Resetting excludeThres to 0.\n"
     ]
    },
    {
     "name": "stderr",
     "output_type": "stream",
     "text": [
      "/var/folders/sc/kmc7_9gn2hqd_lrnhdt_2s580000gn/T/ipykernel_36930/2556735345.py:60: UserWarning:\n",
      "\n",
      "This figure includes Axes that are not compatible with tight_layout, so results might be incorrect.\n",
      "\n"
     ]
    },
    {
     "name": "stdout",
     "output_type": "stream",
     "text": [
      "Warning: excludeThres option currently not supported. Resetting excludeThres to 0.\n",
      "Warning: excludeThres option currently not supported. Resetting excludeThres to 0.\n"
     ]
    },
    {
     "name": "stderr",
     "output_type": "stream",
     "text": [
      "/var/folders/sc/kmc7_9gn2hqd_lrnhdt_2s580000gn/T/ipykernel_36930/2556735345.py:60: UserWarning:\n",
      "\n",
      "This figure includes Axes that are not compatible with tight_layout, so results might be incorrect.\n",
      "\n"
     ]
    },
    {
     "name": "stdout",
     "output_type": "stream",
     "text": [
      "Warning: excludeThres option currently not supported. Resetting excludeThres to 0.\n",
      "Warning: excludeThres option currently not supported. Resetting excludeThres to 0.\n"
     ]
    },
    {
     "name": "stderr",
     "output_type": "stream",
     "text": [
      "/var/folders/sc/kmc7_9gn2hqd_lrnhdt_2s580000gn/T/ipykernel_36930/2556735345.py:60: UserWarning:\n",
      "\n",
      "This figure includes Axes that are not compatible with tight_layout, so results might be incorrect.\n",
      "\n"
     ]
    },
    {
     "name": "stdout",
     "output_type": "stream",
     "text": [
      "Warning: excludeThres option currently not supported. Resetting excludeThres to 0.\n",
      "Warning: excludeThres option currently not supported. Resetting excludeThres to 0.\n"
     ]
    },
    {
     "name": "stderr",
     "output_type": "stream",
     "text": [
      "/var/folders/sc/kmc7_9gn2hqd_lrnhdt_2s580000gn/T/ipykernel_36930/2556735345.py:60: UserWarning:\n",
      "\n",
      "This figure includes Axes that are not compatible with tight_layout, so results might be incorrect.\n",
      "\n"
     ]
    },
    {
     "name": "stdout",
     "output_type": "stream",
     "text": [
      "Warning: excludeThres option currently not supported. Resetting excludeThres to 0.\n",
      "Warning: excludeThres option currently not supported. Resetting excludeThres to 0.\n"
     ]
    },
    {
     "name": "stderr",
     "output_type": "stream",
     "text": [
      "/var/folders/sc/kmc7_9gn2hqd_lrnhdt_2s580000gn/T/ipykernel_36930/2556735345.py:60: UserWarning:\n",
      "\n",
      "This figure includes Axes that are not compatible with tight_layout, so results might be incorrect.\n",
      "\n"
     ]
    },
    {
     "name": "stdout",
     "output_type": "stream",
     "text": [
      "Warning: excludeThres option currently not supported. Resetting excludeThres to 0.\n",
      "Warning: excludeThres option currently not supported. Resetting excludeThres to 0.\n"
     ]
    },
    {
     "name": "stderr",
     "output_type": "stream",
     "text": [
      "/var/folders/sc/kmc7_9gn2hqd_lrnhdt_2s580000gn/T/ipykernel_36930/2556735345.py:60: UserWarning:\n",
      "\n",
      "This figure includes Axes that are not compatible with tight_layout, so results might be incorrect.\n",
      "\n"
     ]
    },
    {
     "name": "stdout",
     "output_type": "stream",
     "text": [
      "Warning: excludeThres option currently not supported. Resetting excludeThres to 0.\n",
      "Warning: excludeThres option currently not supported. Resetting excludeThres to 0.\n"
     ]
    },
    {
     "name": "stderr",
     "output_type": "stream",
     "text": [
      "/var/folders/sc/kmc7_9gn2hqd_lrnhdt_2s580000gn/T/ipykernel_36930/2556735345.py:60: UserWarning:\n",
      "\n",
      "This figure includes Axes that are not compatible with tight_layout, so results might be incorrect.\n",
      "\n"
     ]
    },
    {
     "name": "stdout",
     "output_type": "stream",
     "text": [
      "Warning: excludeThres option currently not supported. Resetting excludeThres to 0.\n",
      "Warning: excludeThres option currently not supported. Resetting excludeThres to 0.\n"
     ]
    },
    {
     "name": "stderr",
     "output_type": "stream",
     "text": [
      "/var/folders/sc/kmc7_9gn2hqd_lrnhdt_2s580000gn/T/ipykernel_36930/2556735345.py:60: UserWarning:\n",
      "\n",
      "This figure includes Axes that are not compatible with tight_layout, so results might be incorrect.\n",
      "\n"
     ]
    },
    {
     "name": "stdout",
     "output_type": "stream",
     "text": [
      "Warning: excludeThres option currently not supported. Resetting excludeThres to 0.\n",
      "Warning: excludeThres option currently not supported. Resetting excludeThres to 0.\n"
     ]
    },
    {
     "name": "stderr",
     "output_type": "stream",
     "text": [
      "/var/folders/sc/kmc7_9gn2hqd_lrnhdt_2s580000gn/T/ipykernel_36930/2556735345.py:60: UserWarning:\n",
      "\n",
      "This figure includes Axes that are not compatible with tight_layout, so results might be incorrect.\n",
      "\n"
     ]
    },
    {
     "name": "stdout",
     "output_type": "stream",
     "text": [
      "Warning: excludeThres option currently not supported. Resetting excludeThres to 0.\n",
      "Warning: excludeThres option currently not supported. Resetting excludeThres to 0.\n"
     ]
    },
    {
     "name": "stderr",
     "output_type": "stream",
     "text": [
      "/var/folders/sc/kmc7_9gn2hqd_lrnhdt_2s580000gn/T/ipykernel_36930/2556735345.py:60: UserWarning:\n",
      "\n",
      "This figure includes Axes that are not compatible with tight_layout, so results might be incorrect.\n",
      "\n"
     ]
    },
    {
     "name": "stdout",
     "output_type": "stream",
     "text": [
      "Warning: excludeThres option currently not supported. Resetting excludeThres to 0.\n",
      "Warning: excludeThres option currently not supported. Resetting excludeThres to 0.\n"
     ]
    },
    {
     "name": "stderr",
     "output_type": "stream",
     "text": [
      "/var/folders/sc/kmc7_9gn2hqd_lrnhdt_2s580000gn/T/ipykernel_36930/2556735345.py:60: UserWarning:\n",
      "\n",
      "This figure includes Axes that are not compatible with tight_layout, so results might be incorrect.\n",
      "\n"
     ]
    },
    {
     "name": "stdout",
     "output_type": "stream",
     "text": [
      "Warning: excludeThres option currently not supported. Resetting excludeThres to 0.\n",
      "Warning: excludeThres option currently not supported. Resetting excludeThres to 0.\n"
     ]
    },
    {
     "name": "stderr",
     "output_type": "stream",
     "text": [
      "/var/folders/sc/kmc7_9gn2hqd_lrnhdt_2s580000gn/T/ipykernel_36930/2556735345.py:60: UserWarning:\n",
      "\n",
      "This figure includes Axes that are not compatible with tight_layout, so results might be incorrect.\n",
      "\n"
     ]
    },
    {
     "name": "stdout",
     "output_type": "stream",
     "text": [
      "Warning: excludeThres option currently not supported. Resetting excludeThres to 0.\n",
      "Warning: excludeThres option currently not supported. Resetting excludeThres to 0.\n"
     ]
    },
    {
     "name": "stderr",
     "output_type": "stream",
     "text": [
      "/var/folders/sc/kmc7_9gn2hqd_lrnhdt_2s580000gn/T/ipykernel_36930/2556735345.py:60: UserWarning:\n",
      "\n",
      "This figure includes Axes that are not compatible with tight_layout, so results might be incorrect.\n",
      "\n"
     ]
    },
    {
     "name": "stdout",
     "output_type": "stream",
     "text": [
      "Warning: excludeThres option currently not supported. Resetting excludeThres to 0.\n",
      "Warning: excludeThres option currently not supported. Resetting excludeThres to 0.\n"
     ]
    },
    {
     "name": "stderr",
     "output_type": "stream",
     "text": [
      "/var/folders/sc/kmc7_9gn2hqd_lrnhdt_2s580000gn/T/ipykernel_36930/2556735345.py:60: UserWarning:\n",
      "\n",
      "This figure includes Axes that are not compatible with tight_layout, so results might be incorrect.\n",
      "\n"
     ]
    },
    {
     "name": "stdout",
     "output_type": "stream",
     "text": [
      "Warning: excludeThres option currently not supported. Resetting excludeThres to 0.\n",
      "Warning: excludeThres option currently not supported. Resetting excludeThres to 0.\n"
     ]
    },
    {
     "name": "stderr",
     "output_type": "stream",
     "text": [
      "/var/folders/sc/kmc7_9gn2hqd_lrnhdt_2s580000gn/T/ipykernel_36930/2556735345.py:60: UserWarning:\n",
      "\n",
      "This figure includes Axes that are not compatible with tight_layout, so results might be incorrect.\n",
      "\n"
     ]
    },
    {
     "name": "stdout",
     "output_type": "stream",
     "text": [
      "Warning: excludeThres option currently not supported. Resetting excludeThres to 0.\n",
      "Warning: excludeThres option currently not supported. Resetting excludeThres to 0.\n"
     ]
    },
    {
     "name": "stderr",
     "output_type": "stream",
     "text": [
      "/var/folders/sc/kmc7_9gn2hqd_lrnhdt_2s580000gn/T/ipykernel_36930/2556735345.py:60: UserWarning:\n",
      "\n",
      "This figure includes Axes that are not compatible with tight_layout, so results might be incorrect.\n",
      "\n"
     ]
    },
    {
     "name": "stdout",
     "output_type": "stream",
     "text": [
      "Warning: excludeThres option currently not supported. Resetting excludeThres to 0.\n",
      "Warning: excludeThres option currently not supported. Resetting excludeThres to 0.\n"
     ]
    },
    {
     "name": "stderr",
     "output_type": "stream",
     "text": [
      "/var/folders/sc/kmc7_9gn2hqd_lrnhdt_2s580000gn/T/ipykernel_36930/2556735345.py:60: UserWarning:\n",
      "\n",
      "This figure includes Axes that are not compatible with tight_layout, so results might be incorrect.\n",
      "\n"
     ]
    },
    {
     "name": "stdout",
     "output_type": "stream",
     "text": [
      "Warning: excludeThres option currently not supported. Resetting excludeThres to 0.\n",
      "Warning: excludeThres option currently not supported. Resetting excludeThres to 0.\n"
     ]
    },
    {
     "name": "stderr",
     "output_type": "stream",
     "text": [
      "/var/folders/sc/kmc7_9gn2hqd_lrnhdt_2s580000gn/T/ipykernel_36930/2556735345.py:60: UserWarning:\n",
      "\n",
      "This figure includes Axes that are not compatible with tight_layout, so results might be incorrect.\n",
      "\n"
     ]
    },
    {
     "name": "stdout",
     "output_type": "stream",
     "text": [
      "Warning: excludeThres option currently not supported. Resetting excludeThres to 0.\n",
      "Warning: excludeThres option currently not supported. Resetting excludeThres to 0.\n"
     ]
    },
    {
     "name": "stderr",
     "output_type": "stream",
     "text": [
      "/var/folders/sc/kmc7_9gn2hqd_lrnhdt_2s580000gn/T/ipykernel_36930/2556735345.py:60: UserWarning:\n",
      "\n",
      "This figure includes Axes that are not compatible with tight_layout, so results might be incorrect.\n",
      "\n"
     ]
    },
    {
     "name": "stdout",
     "output_type": "stream",
     "text": [
      "Warning: excludeThres option currently not supported. Resetting excludeThres to 0.\n",
      "Warning: excludeThres option currently not supported. Resetting excludeThres to 0.\n"
     ]
    },
    {
     "name": "stderr",
     "output_type": "stream",
     "text": [
      "/var/folders/sc/kmc7_9gn2hqd_lrnhdt_2s580000gn/T/ipykernel_36930/2556735345.py:60: UserWarning:\n",
      "\n",
      "This figure includes Axes that are not compatible with tight_layout, so results might be incorrect.\n",
      "\n"
     ]
    },
    {
     "name": "stdout",
     "output_type": "stream",
     "text": [
      "Warning: excludeThres option currently not supported. Resetting excludeThres to 0.\n",
      "Warning: excludeThres option currently not supported. Resetting excludeThres to 0.\n"
     ]
    },
    {
     "name": "stderr",
     "output_type": "stream",
     "text": [
      "/var/folders/sc/kmc7_9gn2hqd_lrnhdt_2s580000gn/T/ipykernel_36930/2556735345.py:60: UserWarning:\n",
      "\n",
      "This figure includes Axes that are not compatible with tight_layout, so results might be incorrect.\n",
      "\n"
     ]
    },
    {
     "name": "stdout",
     "output_type": "stream",
     "text": [
      "Warning: excludeThres option currently not supported. Resetting excludeThres to 0.\n",
      "Warning: excludeThres option currently not supported. Resetting excludeThres to 0.\n"
     ]
    },
    {
     "name": "stderr",
     "output_type": "stream",
     "text": [
      "/var/folders/sc/kmc7_9gn2hqd_lrnhdt_2s580000gn/T/ipykernel_36930/2556735345.py:60: UserWarning:\n",
      "\n",
      "This figure includes Axes that are not compatible with tight_layout, so results might be incorrect.\n",
      "\n"
     ]
    },
    {
     "name": "stdout",
     "output_type": "stream",
     "text": [
      "Warning: excludeThres option currently not supported. Resetting excludeThres to 0.\n",
      "Warning: excludeThres option currently not supported. Resetting excludeThres to 0.\n"
     ]
    },
    {
     "name": "stderr",
     "output_type": "stream",
     "text": [
      "/var/folders/sc/kmc7_9gn2hqd_lrnhdt_2s580000gn/T/ipykernel_36930/2556735345.py:60: UserWarning:\n",
      "\n",
      "This figure includes Axes that are not compatible with tight_layout, so results might be incorrect.\n",
      "\n"
     ]
    },
    {
     "name": "stdout",
     "output_type": "stream",
     "text": [
      "Warning: excludeThres option currently not supported. Resetting excludeThres to 0.\n",
      "Warning: excludeThres option currently not supported. Resetting excludeThres to 0.\n"
     ]
    },
    {
     "name": "stderr",
     "output_type": "stream",
     "text": [
      "/var/folders/sc/kmc7_9gn2hqd_lrnhdt_2s580000gn/T/ipykernel_36930/2556735345.py:60: UserWarning:\n",
      "\n",
      "This figure includes Axes that are not compatible with tight_layout, so results might be incorrect.\n",
      "\n"
     ]
    },
    {
     "name": "stdout",
     "output_type": "stream",
     "text": [
      "Warning: excludeThres option currently not supported. Resetting excludeThres to 0.\n",
      "Warning: excludeThres option currently not supported. Resetting excludeThres to 0.\n"
     ]
    },
    {
     "name": "stderr",
     "output_type": "stream",
     "text": [
      "/var/folders/sc/kmc7_9gn2hqd_lrnhdt_2s580000gn/T/ipykernel_36930/2556735345.py:60: UserWarning:\n",
      "\n",
      "This figure includes Axes that are not compatible with tight_layout, so results might be incorrect.\n",
      "\n"
     ]
    },
    {
     "name": "stdout",
     "output_type": "stream",
     "text": [
      "Warning: excludeThres option currently not supported. Resetting excludeThres to 0.\n",
      "Warning: excludeThres option currently not supported. Resetting excludeThres to 0.\n"
     ]
    },
    {
     "name": "stderr",
     "output_type": "stream",
     "text": [
      "/var/folders/sc/kmc7_9gn2hqd_lrnhdt_2s580000gn/T/ipykernel_36930/2556735345.py:60: UserWarning:\n",
      "\n",
      "This figure includes Axes that are not compatible with tight_layout, so results might be incorrect.\n",
      "\n"
     ]
    },
    {
     "name": "stdout",
     "output_type": "stream",
     "text": [
      "Warning: excludeThres option currently not supported. Resetting excludeThres to 0.\n",
      "Warning: excludeThres option currently not supported. Resetting excludeThres to 0.\n"
     ]
    },
    {
     "name": "stderr",
     "output_type": "stream",
     "text": [
      "/var/folders/sc/kmc7_9gn2hqd_lrnhdt_2s580000gn/T/ipykernel_36930/2556735345.py:60: UserWarning:\n",
      "\n",
      "This figure includes Axes that are not compatible with tight_layout, so results might be incorrect.\n",
      "\n"
     ]
    },
    {
     "name": "stdout",
     "output_type": "stream",
     "text": [
      "Warning: excludeThres option currently not supported. Resetting excludeThres to 0.\n",
      "Warning: excludeThres option currently not supported. Resetting excludeThres to 0.\n"
     ]
    },
    {
     "name": "stderr",
     "output_type": "stream",
     "text": [
      "/var/folders/sc/kmc7_9gn2hqd_lrnhdt_2s580000gn/T/ipykernel_36930/2556735345.py:60: UserWarning:\n",
      "\n",
      "This figure includes Axes that are not compatible with tight_layout, so results might be incorrect.\n",
      "\n"
     ]
    },
    {
     "name": "stdout",
     "output_type": "stream",
     "text": [
      "Warning: excludeThres option currently not supported. Resetting excludeThres to 0.\n",
      "Warning: excludeThres option currently not supported. Resetting excludeThres to 0.\n"
     ]
    },
    {
     "name": "stderr",
     "output_type": "stream",
     "text": [
      "/var/folders/sc/kmc7_9gn2hqd_lrnhdt_2s580000gn/T/ipykernel_36930/2556735345.py:60: UserWarning:\n",
      "\n",
      "This figure includes Axes that are not compatible with tight_layout, so results might be incorrect.\n",
      "\n"
     ]
    },
    {
     "name": "stdout",
     "output_type": "stream",
     "text": [
      "Warning: excludeThres option currently not supported. Resetting excludeThres to 0.\n",
      "Warning: excludeThres option currently not supported. Resetting excludeThres to 0.\n"
     ]
    },
    {
     "name": "stderr",
     "output_type": "stream",
     "text": [
      "/var/folders/sc/kmc7_9gn2hqd_lrnhdt_2s580000gn/T/ipykernel_36930/2556735345.py:60: UserWarning:\n",
      "\n",
      "This figure includes Axes that are not compatible with tight_layout, so results might be incorrect.\n",
      "\n"
     ]
    },
    {
     "name": "stdout",
     "output_type": "stream",
     "text": [
      "Warning: excludeThres option currently not supported. Resetting excludeThres to 0.\n",
      "Warning: excludeThres option currently not supported. Resetting excludeThres to 0.\n"
     ]
    },
    {
     "name": "stderr",
     "output_type": "stream",
     "text": [
      "/var/folders/sc/kmc7_9gn2hqd_lrnhdt_2s580000gn/T/ipykernel_36930/2556735345.py:60: UserWarning:\n",
      "\n",
      "This figure includes Axes that are not compatible with tight_layout, so results might be incorrect.\n",
      "\n"
     ]
    },
    {
     "name": "stdout",
     "output_type": "stream",
     "text": [
      "Warning: excludeThres option currently not supported. Resetting excludeThres to 0.\n",
      "Warning: excludeThres option currently not supported. Resetting excludeThres to 0.\n"
     ]
    },
    {
     "name": "stderr",
     "output_type": "stream",
     "text": [
      "/var/folders/sc/kmc7_9gn2hqd_lrnhdt_2s580000gn/T/ipykernel_36930/2556735345.py:60: UserWarning:\n",
      "\n",
      "This figure includes Axes that are not compatible with tight_layout, so results might be incorrect.\n",
      "\n"
     ]
    },
    {
     "name": "stdout",
     "output_type": "stream",
     "text": [
      "Warning: excludeThres option currently not supported. Resetting excludeThres to 0.\n",
      "Warning: excludeThres option currently not supported. Resetting excludeThres to 0.\n"
     ]
    },
    {
     "name": "stderr",
     "output_type": "stream",
     "text": [
      "/var/folders/sc/kmc7_9gn2hqd_lrnhdt_2s580000gn/T/ipykernel_36930/2556735345.py:60: UserWarning:\n",
      "\n",
      "This figure includes Axes that are not compatible with tight_layout, so results might be incorrect.\n",
      "\n"
     ]
    },
    {
     "name": "stdout",
     "output_type": "stream",
     "text": [
      "Warning: excludeThres option currently not supported. Resetting excludeThres to 0.\n",
      "Warning: excludeThres option currently not supported. Resetting excludeThres to 0.\n"
     ]
    },
    {
     "name": "stderr",
     "output_type": "stream",
     "text": [
      "/var/folders/sc/kmc7_9gn2hqd_lrnhdt_2s580000gn/T/ipykernel_36930/2556735345.py:60: UserWarning:\n",
      "\n",
      "This figure includes Axes that are not compatible with tight_layout, so results might be incorrect.\n",
      "\n"
     ]
    },
    {
     "name": "stdout",
     "output_type": "stream",
     "text": [
      "Warning: excludeThres option currently not supported. Resetting excludeThres to 0.\n",
      "Warning: excludeThres option currently not supported. Resetting excludeThres to 0.\n"
     ]
    },
    {
     "name": "stderr",
     "output_type": "stream",
     "text": [
      "/var/folders/sc/kmc7_9gn2hqd_lrnhdt_2s580000gn/T/ipykernel_36930/2556735345.py:60: UserWarning:\n",
      "\n",
      "This figure includes Axes that are not compatible with tight_layout, so results might be incorrect.\n",
      "\n"
     ]
    },
    {
     "name": "stdout",
     "output_type": "stream",
     "text": [
      "Warning: excludeThres option currently not supported. Resetting excludeThres to 0.\n",
      "Warning: excludeThres option currently not supported. Resetting excludeThres to 0.\n"
     ]
    },
    {
     "name": "stderr",
     "output_type": "stream",
     "text": [
      "/var/folders/sc/kmc7_9gn2hqd_lrnhdt_2s580000gn/T/ipykernel_36930/2556735345.py:60: UserWarning:\n",
      "\n",
      "This figure includes Axes that are not compatible with tight_layout, so results might be incorrect.\n",
      "\n"
     ]
    },
    {
     "name": "stdout",
     "output_type": "stream",
     "text": [
      "Warning: excludeThres option currently not supported. Resetting excludeThres to 0.\n",
      "Warning: excludeThres option currently not supported. Resetting excludeThres to 0.\n"
     ]
    },
    {
     "name": "stderr",
     "output_type": "stream",
     "text": [
      "/var/folders/sc/kmc7_9gn2hqd_lrnhdt_2s580000gn/T/ipykernel_36930/2556735345.py:60: UserWarning:\n",
      "\n",
      "This figure includes Axes that are not compatible with tight_layout, so results might be incorrect.\n",
      "\n"
     ]
    },
    {
     "name": "stdout",
     "output_type": "stream",
     "text": [
      "Warning: excludeThres option currently not supported. Resetting excludeThres to 0.\n",
      "Warning: excludeThres option currently not supported. Resetting excludeThres to 0.\n"
     ]
    },
    {
     "name": "stderr",
     "output_type": "stream",
     "text": [
      "/var/folders/sc/kmc7_9gn2hqd_lrnhdt_2s580000gn/T/ipykernel_36930/2556735345.py:60: UserWarning:\n",
      "\n",
      "This figure includes Axes that are not compatible with tight_layout, so results might be incorrect.\n",
      "\n"
     ]
    },
    {
     "name": "stdout",
     "output_type": "stream",
     "text": [
      "Warning: excludeThres option currently not supported. Resetting excludeThres to 0.\n",
      "Warning: excludeThres option currently not supported. Resetting excludeThres to 0.\n"
     ]
    },
    {
     "name": "stderr",
     "output_type": "stream",
     "text": [
      "/var/folders/sc/kmc7_9gn2hqd_lrnhdt_2s580000gn/T/ipykernel_36930/2556735345.py:60: UserWarning:\n",
      "\n",
      "This figure includes Axes that are not compatible with tight_layout, so results might be incorrect.\n",
      "\n"
     ]
    },
    {
     "name": "stdout",
     "output_type": "stream",
     "text": [
      "Warning: excludeThres option currently not supported. Resetting excludeThres to 0.\n",
      "Warning: excludeThres option currently not supported. Resetting excludeThres to 0.\n"
     ]
    },
    {
     "name": "stderr",
     "output_type": "stream",
     "text": [
      "/var/folders/sc/kmc7_9gn2hqd_lrnhdt_2s580000gn/T/ipykernel_36930/2556735345.py:60: UserWarning:\n",
      "\n",
      "This figure includes Axes that are not compatible with tight_layout, so results might be incorrect.\n",
      "\n"
     ]
    },
    {
     "name": "stdout",
     "output_type": "stream",
     "text": [
      "Warning: excludeThres option currently not supported. Resetting excludeThres to 0.\n",
      "Warning: excludeThres option currently not supported. Resetting excludeThres to 0.\n"
     ]
    },
    {
     "name": "stderr",
     "output_type": "stream",
     "text": [
      "/var/folders/sc/kmc7_9gn2hqd_lrnhdt_2s580000gn/T/ipykernel_36930/2556735345.py:60: UserWarning:\n",
      "\n",
      "This figure includes Axes that are not compatible with tight_layout, so results might be incorrect.\n",
      "\n"
     ]
    },
    {
     "name": "stdout",
     "output_type": "stream",
     "text": [
      "Warning: excludeThres option currently not supported. Resetting excludeThres to 0.\n",
      "Warning: excludeThres option currently not supported. Resetting excludeThres to 0.\n"
     ]
    },
    {
     "name": "stderr",
     "output_type": "stream",
     "text": [
      "/var/folders/sc/kmc7_9gn2hqd_lrnhdt_2s580000gn/T/ipykernel_36930/2556735345.py:60: UserWarning:\n",
      "\n",
      "This figure includes Axes that are not compatible with tight_layout, so results might be incorrect.\n",
      "\n"
     ]
    },
    {
     "name": "stdout",
     "output_type": "stream",
     "text": [
      "Warning: excludeThres option currently not supported. Resetting excludeThres to 0.\n",
      "Warning: excludeThres option currently not supported. Resetting excludeThres to 0.\n"
     ]
    },
    {
     "name": "stderr",
     "output_type": "stream",
     "text": [
      "/var/folders/sc/kmc7_9gn2hqd_lrnhdt_2s580000gn/T/ipykernel_36930/2556735345.py:60: UserWarning:\n",
      "\n",
      "This figure includes Axes that are not compatible with tight_layout, so results might be incorrect.\n",
      "\n"
     ]
    },
    {
     "name": "stdout",
     "output_type": "stream",
     "text": [
      "Warning: excludeThres option currently not supported. Resetting excludeThres to 0.\n",
      "Warning: excludeThres option currently not supported. Resetting excludeThres to 0.\n"
     ]
    },
    {
     "name": "stderr",
     "output_type": "stream",
     "text": [
      "/var/folders/sc/kmc7_9gn2hqd_lrnhdt_2s580000gn/T/ipykernel_36930/2556735345.py:60: UserWarning:\n",
      "\n",
      "This figure includes Axes that are not compatible with tight_layout, so results might be incorrect.\n",
      "\n"
     ]
    },
    {
     "name": "stdout",
     "output_type": "stream",
     "text": [
      "Warning: excludeThres option currently not supported. Resetting excludeThres to 0.\n",
      "Warning: excludeThres option currently not supported. Resetting excludeThres to 0.\n"
     ]
    },
    {
     "name": "stderr",
     "output_type": "stream",
     "text": [
      "/var/folders/sc/kmc7_9gn2hqd_lrnhdt_2s580000gn/T/ipykernel_36930/2556735345.py:60: UserWarning:\n",
      "\n",
      "This figure includes Axes that are not compatible with tight_layout, so results might be incorrect.\n",
      "\n"
     ]
    },
    {
     "name": "stdout",
     "output_type": "stream",
     "text": [
      "Warning: excludeThres option currently not supported. Resetting excludeThres to 0.\n",
      "Warning: excludeThres option currently not supported. Resetting excludeThres to 0.\n"
     ]
    },
    {
     "name": "stderr",
     "output_type": "stream",
     "text": [
      "/var/folders/sc/kmc7_9gn2hqd_lrnhdt_2s580000gn/T/ipykernel_36930/2556735345.py:60: UserWarning:\n",
      "\n",
      "This figure includes Axes that are not compatible with tight_layout, so results might be incorrect.\n",
      "\n"
     ]
    },
    {
     "name": "stdout",
     "output_type": "stream",
     "text": [
      "Warning: excludeThres option currently not supported. Resetting excludeThres to 0.\n",
      "Warning: excludeThres option currently not supported. Resetting excludeThres to 0.\n"
     ]
    },
    {
     "name": "stderr",
     "output_type": "stream",
     "text": [
      "/var/folders/sc/kmc7_9gn2hqd_lrnhdt_2s580000gn/T/ipykernel_36930/2556735345.py:60: UserWarning:\n",
      "\n",
      "This figure includes Axes that are not compatible with tight_layout, so results might be incorrect.\n",
      "\n"
     ]
    },
    {
     "name": "stdout",
     "output_type": "stream",
     "text": [
      "Warning: excludeThres option currently not supported. Resetting excludeThres to 0.\n",
      "Warning: excludeThres option currently not supported. Resetting excludeThres to 0.\n"
     ]
    },
    {
     "name": "stderr",
     "output_type": "stream",
     "text": [
      "/var/folders/sc/kmc7_9gn2hqd_lrnhdt_2s580000gn/T/ipykernel_36930/2556735345.py:60: UserWarning:\n",
      "\n",
      "This figure includes Axes that are not compatible with tight_layout, so results might be incorrect.\n",
      "\n"
     ]
    },
    {
     "name": "stdout",
     "output_type": "stream",
     "text": [
      "Warning: excludeThres option currently not supported. Resetting excludeThres to 0.\n",
      "Warning: excludeThres option currently not supported. Resetting excludeThres to 0.\n"
     ]
    },
    {
     "name": "stderr",
     "output_type": "stream",
     "text": [
      "/var/folders/sc/kmc7_9gn2hqd_lrnhdt_2s580000gn/T/ipykernel_36930/2556735345.py:60: UserWarning:\n",
      "\n",
      "This figure includes Axes that are not compatible with tight_layout, so results might be incorrect.\n",
      "\n"
     ]
    },
    {
     "name": "stdout",
     "output_type": "stream",
     "text": [
      "Warning: excludeThres option currently not supported. Resetting excludeThres to 0.\n",
      "Warning: excludeThres option currently not supported. Resetting excludeThres to 0.\n"
     ]
    },
    {
     "name": "stderr",
     "output_type": "stream",
     "text": [
      "/var/folders/sc/kmc7_9gn2hqd_lrnhdt_2s580000gn/T/ipykernel_36930/2556735345.py:60: UserWarning:\n",
      "\n",
      "This figure includes Axes that are not compatible with tight_layout, so results might be incorrect.\n",
      "\n"
     ]
    },
    {
     "name": "stdout",
     "output_type": "stream",
     "text": [
      "Warning: excludeThres option currently not supported. Resetting excludeThres to 0.\n",
      "Warning: excludeThres option currently not supported. Resetting excludeThres to 0.\n"
     ]
    },
    {
     "name": "stderr",
     "output_type": "stream",
     "text": [
      "/var/folders/sc/kmc7_9gn2hqd_lrnhdt_2s580000gn/T/ipykernel_36930/2556735345.py:60: UserWarning:\n",
      "\n",
      "This figure includes Axes that are not compatible with tight_layout, so results might be incorrect.\n",
      "\n"
     ]
    },
    {
     "name": "stdout",
     "output_type": "stream",
     "text": [
      "Warning: excludeThres option currently not supported. Resetting excludeThres to 0.\n",
      "Warning: excludeThres option currently not supported. Resetting excludeThres to 0.\n"
     ]
    },
    {
     "name": "stderr",
     "output_type": "stream",
     "text": [
      "/var/folders/sc/kmc7_9gn2hqd_lrnhdt_2s580000gn/T/ipykernel_36930/2556735345.py:60: UserWarning:\n",
      "\n",
      "This figure includes Axes that are not compatible with tight_layout, so results might be incorrect.\n",
      "\n"
     ]
    },
    {
     "name": "stdout",
     "output_type": "stream",
     "text": [
      "Warning: excludeThres option currently not supported. Resetting excludeThres to 0.\n",
      "Warning: excludeThres option currently not supported. Resetting excludeThres to 0.\n"
     ]
    },
    {
     "name": "stderr",
     "output_type": "stream",
     "text": [
      "/var/folders/sc/kmc7_9gn2hqd_lrnhdt_2s580000gn/T/ipykernel_36930/2556735345.py:60: UserWarning:\n",
      "\n",
      "This figure includes Axes that are not compatible with tight_layout, so results might be incorrect.\n",
      "\n"
     ]
    },
    {
     "name": "stdout",
     "output_type": "stream",
     "text": [
      "Warning: excludeThres option currently not supported. Resetting excludeThres to 0.\n",
      "Warning: excludeThres option currently not supported. Resetting excludeThres to 0.\n"
     ]
    },
    {
     "name": "stderr",
     "output_type": "stream",
     "text": [
      "/var/folders/sc/kmc7_9gn2hqd_lrnhdt_2s580000gn/T/ipykernel_36930/2556735345.py:60: UserWarning:\n",
      "\n",
      "This figure includes Axes that are not compatible with tight_layout, so results might be incorrect.\n",
      "\n"
     ]
    },
    {
     "name": "stdout",
     "output_type": "stream",
     "text": [
      "Warning: excludeThres option currently not supported. Resetting excludeThres to 0.\n",
      "Warning: excludeThres option currently not supported. Resetting excludeThres to 0.\n"
     ]
    },
    {
     "name": "stderr",
     "output_type": "stream",
     "text": [
      "/var/folders/sc/kmc7_9gn2hqd_lrnhdt_2s580000gn/T/ipykernel_36930/2556735345.py:60: UserWarning:\n",
      "\n",
      "This figure includes Axes that are not compatible with tight_layout, so results might be incorrect.\n",
      "\n"
     ]
    },
    {
     "name": "stdout",
     "output_type": "stream",
     "text": [
      "Warning: excludeThres option currently not supported. Resetting excludeThres to 0.\n",
      "Warning: excludeThres option currently not supported. Resetting excludeThres to 0.\n"
     ]
    },
    {
     "name": "stderr",
     "output_type": "stream",
     "text": [
      "/var/folders/sc/kmc7_9gn2hqd_lrnhdt_2s580000gn/T/ipykernel_36930/2556735345.py:60: UserWarning:\n",
      "\n",
      "This figure includes Axes that are not compatible with tight_layout, so results might be incorrect.\n",
      "\n"
     ]
    },
    {
     "name": "stdout",
     "output_type": "stream",
     "text": [
      "Warning: excludeThres option currently not supported. Resetting excludeThres to 0.\n",
      "Warning: excludeThres option currently not supported. Resetting excludeThres to 0.\n"
     ]
    },
    {
     "name": "stderr",
     "output_type": "stream",
     "text": [
      "/var/folders/sc/kmc7_9gn2hqd_lrnhdt_2s580000gn/T/ipykernel_36930/2556735345.py:60: UserWarning:\n",
      "\n",
      "This figure includes Axes that are not compatible with tight_layout, so results might be incorrect.\n",
      "\n"
     ]
    },
    {
     "name": "stdout",
     "output_type": "stream",
     "text": [
      "Warning: excludeThres option currently not supported. Resetting excludeThres to 0.\n",
      "Warning: excludeThres option currently not supported. Resetting excludeThres to 0.\n"
     ]
    },
    {
     "name": "stderr",
     "output_type": "stream",
     "text": [
      "/var/folders/sc/kmc7_9gn2hqd_lrnhdt_2s580000gn/T/ipykernel_36930/2556735345.py:60: UserWarning:\n",
      "\n",
      "This figure includes Axes that are not compatible with tight_layout, so results might be incorrect.\n",
      "\n"
     ]
    },
    {
     "name": "stdout",
     "output_type": "stream",
     "text": [
      "Warning: excludeThres option currently not supported. Resetting excludeThres to 0.\n",
      "Warning: excludeThres option currently not supported. Resetting excludeThres to 0.\n"
     ]
    },
    {
     "name": "stderr",
     "output_type": "stream",
     "text": [
      "/var/folders/sc/kmc7_9gn2hqd_lrnhdt_2s580000gn/T/ipykernel_36930/2556735345.py:60: UserWarning:\n",
      "\n",
      "This figure includes Axes that are not compatible with tight_layout, so results might be incorrect.\n",
      "\n"
     ]
    },
    {
     "name": "stdout",
     "output_type": "stream",
     "text": [
      "Warning: excludeThres option currently not supported. Resetting excludeThres to 0.\n",
      "Warning: excludeThres option currently not supported. Resetting excludeThres to 0.\n"
     ]
    },
    {
     "name": "stderr",
     "output_type": "stream",
     "text": [
      "/var/folders/sc/kmc7_9gn2hqd_lrnhdt_2s580000gn/T/ipykernel_36930/2556735345.py:60: UserWarning:\n",
      "\n",
      "This figure includes Axes that are not compatible with tight_layout, so results might be incorrect.\n",
      "\n"
     ]
    },
    {
     "name": "stdout",
     "output_type": "stream",
     "text": [
      "Warning: excludeThres option currently not supported. Resetting excludeThres to 0.\n",
      "Warning: excludeThres option currently not supported. Resetting excludeThres to 0.\n"
     ]
    },
    {
     "name": "stderr",
     "output_type": "stream",
     "text": [
      "/var/folders/sc/kmc7_9gn2hqd_lrnhdt_2s580000gn/T/ipykernel_36930/2556735345.py:60: UserWarning:\n",
      "\n",
      "This figure includes Axes that are not compatible with tight_layout, so results might be incorrect.\n",
      "\n"
     ]
    },
    {
     "name": "stdout",
     "output_type": "stream",
     "text": [
      "Warning: excludeThres option currently not supported. Resetting excludeThres to 0.\n",
      "Warning: excludeThres option currently not supported. Resetting excludeThres to 0.\n"
     ]
    },
    {
     "name": "stderr",
     "output_type": "stream",
     "text": [
      "/var/folders/sc/kmc7_9gn2hqd_lrnhdt_2s580000gn/T/ipykernel_36930/2556735345.py:60: UserWarning:\n",
      "\n",
      "This figure includes Axes that are not compatible with tight_layout, so results might be incorrect.\n",
      "\n"
     ]
    },
    {
     "name": "stdout",
     "output_type": "stream",
     "text": [
      "Warning: excludeThres option currently not supported. Resetting excludeThres to 0.\n",
      "Warning: excludeThres option currently not supported. Resetting excludeThres to 0.\n"
     ]
    },
    {
     "name": "stderr",
     "output_type": "stream",
     "text": [
      "/var/folders/sc/kmc7_9gn2hqd_lrnhdt_2s580000gn/T/ipykernel_36930/2556735345.py:60: UserWarning:\n",
      "\n",
      "This figure includes Axes that are not compatible with tight_layout, so results might be incorrect.\n",
      "\n"
     ]
    },
    {
     "name": "stdout",
     "output_type": "stream",
     "text": [
      "Warning: excludeThres option currently not supported. Resetting excludeThres to 0.\n",
      "Warning: excludeThres option currently not supported. Resetting excludeThres to 0.\n"
     ]
    },
    {
     "name": "stderr",
     "output_type": "stream",
     "text": [
      "/var/folders/sc/kmc7_9gn2hqd_lrnhdt_2s580000gn/T/ipykernel_36930/2556735345.py:60: UserWarning:\n",
      "\n",
      "This figure includes Axes that are not compatible with tight_layout, so results might be incorrect.\n",
      "\n"
     ]
    },
    {
     "name": "stdout",
     "output_type": "stream",
     "text": [
      "Warning: excludeThres option currently not supported. Resetting excludeThres to 0.\n",
      "Warning: excludeThres option currently not supported. Resetting excludeThres to 0.\n"
     ]
    },
    {
     "name": "stderr",
     "output_type": "stream",
     "text": [
      "/var/folders/sc/kmc7_9gn2hqd_lrnhdt_2s580000gn/T/ipykernel_36930/2556735345.py:60: UserWarning:\n",
      "\n",
      "This figure includes Axes that are not compatible with tight_layout, so results might be incorrect.\n",
      "\n"
     ]
    },
    {
     "name": "stdout",
     "output_type": "stream",
     "text": [
      "Warning: excludeThres option currently not supported. Resetting excludeThres to 0.\n",
      "Warning: excludeThres option currently not supported. Resetting excludeThres to 0.\n"
     ]
    },
    {
     "name": "stderr",
     "output_type": "stream",
     "text": [
      "/var/folders/sc/kmc7_9gn2hqd_lrnhdt_2s580000gn/T/ipykernel_36930/2556735345.py:60: UserWarning:\n",
      "\n",
      "This figure includes Axes that are not compatible with tight_layout, so results might be incorrect.\n",
      "\n"
     ]
    },
    {
     "name": "stdout",
     "output_type": "stream",
     "text": [
      "Warning: excludeThres option currently not supported. Resetting excludeThres to 0.\n",
      "Warning: excludeThres option currently not supported. Resetting excludeThres to 0.\n"
     ]
    },
    {
     "name": "stderr",
     "output_type": "stream",
     "text": [
      "/var/folders/sc/kmc7_9gn2hqd_lrnhdt_2s580000gn/T/ipykernel_36930/2556735345.py:60: UserWarning:\n",
      "\n",
      "This figure includes Axes that are not compatible with tight_layout, so results might be incorrect.\n",
      "\n"
     ]
    },
    {
     "name": "stdout",
     "output_type": "stream",
     "text": [
      "Warning: excludeThres option currently not supported. Resetting excludeThres to 0.\n",
      "Warning: excludeThres option currently not supported. Resetting excludeThres to 0.\n"
     ]
    },
    {
     "name": "stderr",
     "output_type": "stream",
     "text": [
      "/var/folders/sc/kmc7_9gn2hqd_lrnhdt_2s580000gn/T/ipykernel_36930/2556735345.py:60: UserWarning:\n",
      "\n",
      "This figure includes Axes that are not compatible with tight_layout, so results might be incorrect.\n",
      "\n"
     ]
    },
    {
     "name": "stdout",
     "output_type": "stream",
     "text": [
      "Warning: excludeThres option currently not supported. Resetting excludeThres to 0.\n",
      "Warning: excludeThres option currently not supported. Resetting excludeThres to 0.\n"
     ]
    },
    {
     "name": "stderr",
     "output_type": "stream",
     "text": [
      "/var/folders/sc/kmc7_9gn2hqd_lrnhdt_2s580000gn/T/ipykernel_36930/2556735345.py:60: UserWarning:\n",
      "\n",
      "This figure includes Axes that are not compatible with tight_layout, so results might be incorrect.\n",
      "\n"
     ]
    },
    {
     "name": "stdout",
     "output_type": "stream",
     "text": [
      "Warning: excludeThres option currently not supported. Resetting excludeThres to 0.\n",
      "Warning: excludeThres option currently not supported. Resetting excludeThres to 0.\n"
     ]
    },
    {
     "name": "stderr",
     "output_type": "stream",
     "text": [
      "/var/folders/sc/kmc7_9gn2hqd_lrnhdt_2s580000gn/T/ipykernel_36930/2556735345.py:60: UserWarning:\n",
      "\n",
      "This figure includes Axes that are not compatible with tight_layout, so results might be incorrect.\n",
      "\n"
     ]
    },
    {
     "name": "stdout",
     "output_type": "stream",
     "text": [
      "Warning: excludeThres option currently not supported. Resetting excludeThres to 0.\n",
      "Warning: excludeThres option currently not supported. Resetting excludeThres to 0.\n"
     ]
    },
    {
     "name": "stderr",
     "output_type": "stream",
     "text": [
      "/var/folders/sc/kmc7_9gn2hqd_lrnhdt_2s580000gn/T/ipykernel_36930/2556735345.py:60: UserWarning:\n",
      "\n",
      "This figure includes Axes that are not compatible with tight_layout, so results might be incorrect.\n",
      "\n"
     ]
    },
    {
     "name": "stdout",
     "output_type": "stream",
     "text": [
      "Warning: excludeThres option currently not supported. Resetting excludeThres to 0.\n",
      "Warning: excludeThres option currently not supported. Resetting excludeThres to 0.\n"
     ]
    },
    {
     "name": "stderr",
     "output_type": "stream",
     "text": [
      "/var/folders/sc/kmc7_9gn2hqd_lrnhdt_2s580000gn/T/ipykernel_36930/2556735345.py:60: UserWarning:\n",
      "\n",
      "This figure includes Axes that are not compatible with tight_layout, so results might be incorrect.\n",
      "\n"
     ]
    },
    {
     "name": "stdout",
     "output_type": "stream",
     "text": [
      "Warning: excludeThres option currently not supported. Resetting excludeThres to 0.\n",
      "Warning: excludeThres option currently not supported. Resetting excludeThres to 0.\n"
     ]
    },
    {
     "name": "stderr",
     "output_type": "stream",
     "text": [
      "/var/folders/sc/kmc7_9gn2hqd_lrnhdt_2s580000gn/T/ipykernel_36930/2556735345.py:60: UserWarning:\n",
      "\n",
      "This figure includes Axes that are not compatible with tight_layout, so results might be incorrect.\n",
      "\n"
     ]
    },
    {
     "name": "stdout",
     "output_type": "stream",
     "text": [
      "Warning: excludeThres option currently not supported. Resetting excludeThres to 0.\n",
      "Warning: excludeThres option currently not supported. Resetting excludeThres to 0.\n"
     ]
    },
    {
     "name": "stderr",
     "output_type": "stream",
     "text": [
      "/var/folders/sc/kmc7_9gn2hqd_lrnhdt_2s580000gn/T/ipykernel_36930/2556735345.py:60: UserWarning:\n",
      "\n",
      "This figure includes Axes that are not compatible with tight_layout, so results might be incorrect.\n",
      "\n"
     ]
    },
    {
     "name": "stdout",
     "output_type": "stream",
     "text": [
      "Warning: excludeThres option currently not supported. Resetting excludeThres to 0.\n",
      "Warning: excludeThres option currently not supported. Resetting excludeThres to 0.\n"
     ]
    },
    {
     "name": "stderr",
     "output_type": "stream",
     "text": [
      "/var/folders/sc/kmc7_9gn2hqd_lrnhdt_2s580000gn/T/ipykernel_36930/2556735345.py:60: UserWarning:\n",
      "\n",
      "This figure includes Axes that are not compatible with tight_layout, so results might be incorrect.\n",
      "\n"
     ]
    },
    {
     "name": "stdout",
     "output_type": "stream",
     "text": [
      "Warning: excludeThres option currently not supported. Resetting excludeThres to 0.\n",
      "Warning: excludeThres option currently not supported. Resetting excludeThres to 0.\n"
     ]
    },
    {
     "name": "stderr",
     "output_type": "stream",
     "text": [
      "/var/folders/sc/kmc7_9gn2hqd_lrnhdt_2s580000gn/T/ipykernel_36930/2556735345.py:60: UserWarning:\n",
      "\n",
      "This figure includes Axes that are not compatible with tight_layout, so results might be incorrect.\n",
      "\n"
     ]
    },
    {
     "name": "stdout",
     "output_type": "stream",
     "text": [
      "Warning: excludeThres option currently not supported. Resetting excludeThres to 0.\n",
      "Warning: excludeThres option currently not supported. Resetting excludeThres to 0.\n"
     ]
    },
    {
     "name": "stderr",
     "output_type": "stream",
     "text": [
      "/var/folders/sc/kmc7_9gn2hqd_lrnhdt_2s580000gn/T/ipykernel_36930/2556735345.py:60: UserWarning:\n",
      "\n",
      "This figure includes Axes that are not compatible with tight_layout, so results might be incorrect.\n",
      "\n"
     ]
    },
    {
     "name": "stdout",
     "output_type": "stream",
     "text": [
      "Warning: excludeThres option currently not supported. Resetting excludeThres to 0.\n",
      "Warning: excludeThres option currently not supported. Resetting excludeThres to 0.\n"
     ]
    },
    {
     "name": "stderr",
     "output_type": "stream",
     "text": [
      "/var/folders/sc/kmc7_9gn2hqd_lrnhdt_2s580000gn/T/ipykernel_36930/2556735345.py:60: UserWarning:\n",
      "\n",
      "This figure includes Axes that are not compatible with tight_layout, so results might be incorrect.\n",
      "\n"
     ]
    },
    {
     "name": "stdout",
     "output_type": "stream",
     "text": [
      "Warning: excludeThres option currently not supported. Resetting excludeThres to 0.\n",
      "Warning: excludeThres option currently not supported. Resetting excludeThres to 0.\n"
     ]
    },
    {
     "name": "stderr",
     "output_type": "stream",
     "text": [
      "/var/folders/sc/kmc7_9gn2hqd_lrnhdt_2s580000gn/T/ipykernel_36930/2556735345.py:60: UserWarning:\n",
      "\n",
      "This figure includes Axes that are not compatible with tight_layout, so results might be incorrect.\n",
      "\n"
     ]
    },
    {
     "name": "stdout",
     "output_type": "stream",
     "text": [
      "Warning: excludeThres option currently not supported. Resetting excludeThres to 0.\n",
      "Warning: excludeThres option currently not supported. Resetting excludeThres to 0.\n"
     ]
    },
    {
     "name": "stderr",
     "output_type": "stream",
     "text": [
      "/var/folders/sc/kmc7_9gn2hqd_lrnhdt_2s580000gn/T/ipykernel_36930/2556735345.py:60: UserWarning:\n",
      "\n",
      "This figure includes Axes that are not compatible with tight_layout, so results might be incorrect.\n",
      "\n"
     ]
    },
    {
     "name": "stdout",
     "output_type": "stream",
     "text": [
      "Warning: excludeThres option currently not supported. Resetting excludeThres to 0.\n",
      "Warning: excludeThres option currently not supported. Resetting excludeThres to 0.\n"
     ]
    },
    {
     "name": "stderr",
     "output_type": "stream",
     "text": [
      "/var/folders/sc/kmc7_9gn2hqd_lrnhdt_2s580000gn/T/ipykernel_36930/2556735345.py:60: UserWarning:\n",
      "\n",
      "This figure includes Axes that are not compatible with tight_layout, so results might be incorrect.\n",
      "\n"
     ]
    },
    {
     "name": "stdout",
     "output_type": "stream",
     "text": [
      "Warning: excludeThres option currently not supported. Resetting excludeThres to 0.\n",
      "Warning: excludeThres option currently not supported. Resetting excludeThres to 0.\n"
     ]
    },
    {
     "name": "stderr",
     "output_type": "stream",
     "text": [
      "/var/folders/sc/kmc7_9gn2hqd_lrnhdt_2s580000gn/T/ipykernel_36930/2556735345.py:60: UserWarning:\n",
      "\n",
      "This figure includes Axes that are not compatible with tight_layout, so results might be incorrect.\n",
      "\n"
     ]
    },
    {
     "name": "stdout",
     "output_type": "stream",
     "text": [
      "Warning: excludeThres option currently not supported. Resetting excludeThres to 0.\n",
      "Warning: excludeThres option currently not supported. Resetting excludeThres to 0.\n"
     ]
    },
    {
     "name": "stderr",
     "output_type": "stream",
     "text": [
      "/var/folders/sc/kmc7_9gn2hqd_lrnhdt_2s580000gn/T/ipykernel_36930/2556735345.py:60: UserWarning:\n",
      "\n",
      "This figure includes Axes that are not compatible with tight_layout, so results might be incorrect.\n",
      "\n"
     ]
    },
    {
     "name": "stdout",
     "output_type": "stream",
     "text": [
      "Warning: excludeThres option currently not supported. Resetting excludeThres to 0.\n",
      "Warning: excludeThres option currently not supported. Resetting excludeThres to 0.\n"
     ]
    },
    {
     "name": "stderr",
     "output_type": "stream",
     "text": [
      "/var/folders/sc/kmc7_9gn2hqd_lrnhdt_2s580000gn/T/ipykernel_36930/2556735345.py:60: UserWarning:\n",
      "\n",
      "This figure includes Axes that are not compatible with tight_layout, so results might be incorrect.\n",
      "\n"
     ]
    },
    {
     "name": "stdout",
     "output_type": "stream",
     "text": [
      "Warning: excludeThres option currently not supported. Resetting excludeThres to 0.\n",
      "Warning: excludeThres option currently not supported. Resetting excludeThres to 0.\n"
     ]
    },
    {
     "name": "stderr",
     "output_type": "stream",
     "text": [
      "/var/folders/sc/kmc7_9gn2hqd_lrnhdt_2s580000gn/T/ipykernel_36930/2556735345.py:60: UserWarning:\n",
      "\n",
      "This figure includes Axes that are not compatible with tight_layout, so results might be incorrect.\n",
      "\n"
     ]
    },
    {
     "name": "stdout",
     "output_type": "stream",
     "text": [
      "Warning: excludeThres option currently not supported. Resetting excludeThres to 0.\n",
      "Warning: excludeThres option currently not supported. Resetting excludeThres to 0.\n"
     ]
    },
    {
     "name": "stderr",
     "output_type": "stream",
     "text": [
      "/var/folders/sc/kmc7_9gn2hqd_lrnhdt_2s580000gn/T/ipykernel_36930/2556735345.py:60: UserWarning:\n",
      "\n",
      "This figure includes Axes that are not compatible with tight_layout, so results might be incorrect.\n",
      "\n"
     ]
    },
    {
     "name": "stdout",
     "output_type": "stream",
     "text": [
      "Warning: excludeThres option currently not supported. Resetting excludeThres to 0.\n",
      "Warning: excludeThres option currently not supported. Resetting excludeThres to 0.\n"
     ]
    },
    {
     "name": "stderr",
     "output_type": "stream",
     "text": [
      "/var/folders/sc/kmc7_9gn2hqd_lrnhdt_2s580000gn/T/ipykernel_36930/2556735345.py:60: UserWarning:\n",
      "\n",
      "This figure includes Axes that are not compatible with tight_layout, so results might be incorrect.\n",
      "\n"
     ]
    },
    {
     "name": "stdout",
     "output_type": "stream",
     "text": [
      "Warning: excludeThres option currently not supported. Resetting excludeThres to 0.\n",
      "Warning: excludeThres option currently not supported. Resetting excludeThres to 0.\n"
     ]
    },
    {
     "name": "stderr",
     "output_type": "stream",
     "text": [
      "/var/folders/sc/kmc7_9gn2hqd_lrnhdt_2s580000gn/T/ipykernel_36930/2556735345.py:60: UserWarning:\n",
      "\n",
      "This figure includes Axes that are not compatible with tight_layout, so results might be incorrect.\n",
      "\n"
     ]
    },
    {
     "name": "stdout",
     "output_type": "stream",
     "text": [
      "Warning: excludeThres option currently not supported. Resetting excludeThres to 0.\n",
      "Warning: excludeThres option currently not supported. Resetting excludeThres to 0.\n"
     ]
    },
    {
     "name": "stderr",
     "output_type": "stream",
     "text": [
      "/var/folders/sc/kmc7_9gn2hqd_lrnhdt_2s580000gn/T/ipykernel_36930/2556735345.py:60: UserWarning:\n",
      "\n",
      "This figure includes Axes that are not compatible with tight_layout, so results might be incorrect.\n",
      "\n"
     ]
    },
    {
     "name": "stdout",
     "output_type": "stream",
     "text": [
      "Warning: excludeThres option currently not supported. Resetting excludeThres to 0.\n",
      "Warning: excludeThres option currently not supported. Resetting excludeThres to 0.\n"
     ]
    },
    {
     "name": "stderr",
     "output_type": "stream",
     "text": [
      "/var/folders/sc/kmc7_9gn2hqd_lrnhdt_2s580000gn/T/ipykernel_36930/2556735345.py:60: UserWarning:\n",
      "\n",
      "This figure includes Axes that are not compatible with tight_layout, so results might be incorrect.\n",
      "\n"
     ]
    },
    {
     "name": "stdout",
     "output_type": "stream",
     "text": [
      "Warning: excludeThres option currently not supported. Resetting excludeThres to 0.\n",
      "Warning: excludeThres option currently not supported. Resetting excludeThres to 0.\n"
     ]
    },
    {
     "name": "stderr",
     "output_type": "stream",
     "text": [
      "/var/folders/sc/kmc7_9gn2hqd_lrnhdt_2s580000gn/T/ipykernel_36930/2556735345.py:60: UserWarning:\n",
      "\n",
      "This figure includes Axes that are not compatible with tight_layout, so results might be incorrect.\n",
      "\n"
     ]
    },
    {
     "name": "stdout",
     "output_type": "stream",
     "text": [
      "Warning: excludeThres option currently not supported. Resetting excludeThres to 0.\n",
      "Warning: excludeThres option currently not supported. Resetting excludeThres to 0.\n"
     ]
    },
    {
     "name": "stderr",
     "output_type": "stream",
     "text": [
      "/var/folders/sc/kmc7_9gn2hqd_lrnhdt_2s580000gn/T/ipykernel_36930/2556735345.py:60: UserWarning:\n",
      "\n",
      "This figure includes Axes that are not compatible with tight_layout, so results might be incorrect.\n",
      "\n"
     ]
    },
    {
     "name": "stdout",
     "output_type": "stream",
     "text": [
      "Warning: excludeThres option currently not supported. Resetting excludeThres to 0.\n",
      "Warning: excludeThres option currently not supported. Resetting excludeThres to 0.\n"
     ]
    },
    {
     "name": "stderr",
     "output_type": "stream",
     "text": [
      "/var/folders/sc/kmc7_9gn2hqd_lrnhdt_2s580000gn/T/ipykernel_36930/2556735345.py:60: UserWarning:\n",
      "\n",
      "This figure includes Axes that are not compatible with tight_layout, so results might be incorrect.\n",
      "\n"
     ]
    },
    {
     "name": "stdout",
     "output_type": "stream",
     "text": [
      "Warning: excludeThres option currently not supported. Resetting excludeThres to 0.\n",
      "Warning: excludeThres option currently not supported. Resetting excludeThres to 0.\n"
     ]
    },
    {
     "name": "stderr",
     "output_type": "stream",
     "text": [
      "/var/folders/sc/kmc7_9gn2hqd_lrnhdt_2s580000gn/T/ipykernel_36930/2556735345.py:60: UserWarning:\n",
      "\n",
      "This figure includes Axes that are not compatible with tight_layout, so results might be incorrect.\n",
      "\n"
     ]
    },
    {
     "name": "stdout",
     "output_type": "stream",
     "text": [
      "Warning: excludeThres option currently not supported. Resetting excludeThres to 0.\n",
      "Warning: excludeThres option currently not supported. Resetting excludeThres to 0.\n"
     ]
    },
    {
     "name": "stderr",
     "output_type": "stream",
     "text": [
      "/var/folders/sc/kmc7_9gn2hqd_lrnhdt_2s580000gn/T/ipykernel_36930/2556735345.py:60: UserWarning:\n",
      "\n",
      "This figure includes Axes that are not compatible with tight_layout, so results might be incorrect.\n",
      "\n"
     ]
    },
    {
     "name": "stdout",
     "output_type": "stream",
     "text": [
      "Warning: excludeThres option currently not supported. Resetting excludeThres to 0.\n",
      "Warning: excludeThres option currently not supported. Resetting excludeThres to 0.\n"
     ]
    },
    {
     "name": "stderr",
     "output_type": "stream",
     "text": [
      "/var/folders/sc/kmc7_9gn2hqd_lrnhdt_2s580000gn/T/ipykernel_36930/2556735345.py:60: UserWarning:\n",
      "\n",
      "This figure includes Axes that are not compatible with tight_layout, so results might be incorrect.\n",
      "\n"
     ]
    },
    {
     "name": "stdout",
     "output_type": "stream",
     "text": [
      "Warning: excludeThres option currently not supported. Resetting excludeThres to 0.\n",
      "Warning: excludeThres option currently not supported. Resetting excludeThres to 0.\n"
     ]
    },
    {
     "name": "stderr",
     "output_type": "stream",
     "text": [
      "/var/folders/sc/kmc7_9gn2hqd_lrnhdt_2s580000gn/T/ipykernel_36930/2556735345.py:60: UserWarning:\n",
      "\n",
      "This figure includes Axes that are not compatible with tight_layout, so results might be incorrect.\n",
      "\n"
     ]
    },
    {
     "name": "stdout",
     "output_type": "stream",
     "text": [
      "Warning: excludeThres option currently not supported. Resetting excludeThres to 0.\n",
      "Warning: excludeThres option currently not supported. Resetting excludeThres to 0.\n"
     ]
    },
    {
     "name": "stderr",
     "output_type": "stream",
     "text": [
      "/var/folders/sc/kmc7_9gn2hqd_lrnhdt_2s580000gn/T/ipykernel_36930/2556735345.py:60: UserWarning:\n",
      "\n",
      "This figure includes Axes that are not compatible with tight_layout, so results might be incorrect.\n",
      "\n"
     ]
    },
    {
     "name": "stdout",
     "output_type": "stream",
     "text": [
      "Warning: excludeThres option currently not supported. Resetting excludeThres to 0.\n",
      "Warning: excludeThres option currently not supported. Resetting excludeThres to 0.\n"
     ]
    },
    {
     "name": "stderr",
     "output_type": "stream",
     "text": [
      "/var/folders/sc/kmc7_9gn2hqd_lrnhdt_2s580000gn/T/ipykernel_36930/2556735345.py:60: UserWarning:\n",
      "\n",
      "This figure includes Axes that are not compatible with tight_layout, so results might be incorrect.\n",
      "\n"
     ]
    },
    {
     "name": "stdout",
     "output_type": "stream",
     "text": [
      "Warning: excludeThres option currently not supported. Resetting excludeThres to 0.\n",
      "Warning: excludeThres option currently not supported. Resetting excludeThres to 0.\n"
     ]
    },
    {
     "name": "stderr",
     "output_type": "stream",
     "text": [
      "/var/folders/sc/kmc7_9gn2hqd_lrnhdt_2s580000gn/T/ipykernel_36930/2556735345.py:60: UserWarning:\n",
      "\n",
      "This figure includes Axes that are not compatible with tight_layout, so results might be incorrect.\n",
      "\n"
     ]
    },
    {
     "name": "stdout",
     "output_type": "stream",
     "text": [
      "Warning: excludeThres option currently not supported. Resetting excludeThres to 0.\n",
      "Warning: excludeThres option currently not supported. Resetting excludeThres to 0.\n"
     ]
    },
    {
     "name": "stderr",
     "output_type": "stream",
     "text": [
      "/var/folders/sc/kmc7_9gn2hqd_lrnhdt_2s580000gn/T/ipykernel_36930/2556735345.py:60: UserWarning:\n",
      "\n",
      "This figure includes Axes that are not compatible with tight_layout, so results might be incorrect.\n",
      "\n"
     ]
    },
    {
     "name": "stdout",
     "output_type": "stream",
     "text": [
      "Warning: excludeThres option currently not supported. Resetting excludeThres to 0.\n",
      "Warning: excludeThres option currently not supported. Resetting excludeThres to 0.\n"
     ]
    },
    {
     "name": "stderr",
     "output_type": "stream",
     "text": [
      "/var/folders/sc/kmc7_9gn2hqd_lrnhdt_2s580000gn/T/ipykernel_36930/2556735345.py:60: UserWarning:\n",
      "\n",
      "This figure includes Axes that are not compatible with tight_layout, so results might be incorrect.\n",
      "\n"
     ]
    },
    {
     "name": "stdout",
     "output_type": "stream",
     "text": [
      "Warning: excludeThres option currently not supported. Resetting excludeThres to 0.\n",
      "Warning: excludeThres option currently not supported. Resetting excludeThres to 0.\n"
     ]
    },
    {
     "name": "stderr",
     "output_type": "stream",
     "text": [
      "/var/folders/sc/kmc7_9gn2hqd_lrnhdt_2s580000gn/T/ipykernel_36930/2556735345.py:60: UserWarning:\n",
      "\n",
      "This figure includes Axes that are not compatible with tight_layout, so results might be incorrect.\n",
      "\n"
     ]
    },
    {
     "name": "stdout",
     "output_type": "stream",
     "text": [
      "Warning: excludeThres option currently not supported. Resetting excludeThres to 0.\n",
      "Warning: excludeThres option currently not supported. Resetting excludeThres to 0.\n"
     ]
    },
    {
     "name": "stderr",
     "output_type": "stream",
     "text": [
      "/var/folders/sc/kmc7_9gn2hqd_lrnhdt_2s580000gn/T/ipykernel_36930/2556735345.py:60: UserWarning:\n",
      "\n",
      "This figure includes Axes that are not compatible with tight_layout, so results might be incorrect.\n",
      "\n"
     ]
    },
    {
     "name": "stdout",
     "output_type": "stream",
     "text": [
      "Warning: excludeThres option currently not supported. Resetting excludeThres to 0.\n",
      "Warning: excludeThres option currently not supported. Resetting excludeThres to 0.\n"
     ]
    },
    {
     "name": "stderr",
     "output_type": "stream",
     "text": [
      "/var/folders/sc/kmc7_9gn2hqd_lrnhdt_2s580000gn/T/ipykernel_36930/2556735345.py:60: UserWarning:\n",
      "\n",
      "This figure includes Axes that are not compatible with tight_layout, so results might be incorrect.\n",
      "\n"
     ]
    },
    {
     "name": "stdout",
     "output_type": "stream",
     "text": [
      "Warning: excludeThres option currently not supported. Resetting excludeThres to 0.\n",
      "Warning: excludeThres option currently not supported. Resetting excludeThres to 0.\n"
     ]
    },
    {
     "name": "stderr",
     "output_type": "stream",
     "text": [
      "/var/folders/sc/kmc7_9gn2hqd_lrnhdt_2s580000gn/T/ipykernel_36930/2556735345.py:60: UserWarning:\n",
      "\n",
      "This figure includes Axes that are not compatible with tight_layout, so results might be incorrect.\n",
      "\n"
     ]
    },
    {
     "name": "stdout",
     "output_type": "stream",
     "text": [
      "Warning: excludeThres option currently not supported. Resetting excludeThres to 0.\n",
      "Warning: excludeThres option currently not supported. Resetting excludeThres to 0.\n"
     ]
    },
    {
     "name": "stderr",
     "output_type": "stream",
     "text": [
      "/var/folders/sc/kmc7_9gn2hqd_lrnhdt_2s580000gn/T/ipykernel_36930/2556735345.py:60: UserWarning:\n",
      "\n",
      "This figure includes Axes that are not compatible with tight_layout, so results might be incorrect.\n",
      "\n"
     ]
    },
    {
     "name": "stdout",
     "output_type": "stream",
     "text": [
      "Warning: excludeThres option currently not supported. Resetting excludeThres to 0.\n",
      "Warning: excludeThres option currently not supported. Resetting excludeThres to 0.\n"
     ]
    },
    {
     "name": "stderr",
     "output_type": "stream",
     "text": [
      "/var/folders/sc/kmc7_9gn2hqd_lrnhdt_2s580000gn/T/ipykernel_36930/2556735345.py:60: UserWarning:\n",
      "\n",
      "This figure includes Axes that are not compatible with tight_layout, so results might be incorrect.\n",
      "\n"
     ]
    },
    {
     "name": "stdout",
     "output_type": "stream",
     "text": [
      "Warning: excludeThres option currently not supported. Resetting excludeThres to 0.\n",
      "Warning: excludeThres option currently not supported. Resetting excludeThres to 0.\n"
     ]
    },
    {
     "name": "stderr",
     "output_type": "stream",
     "text": [
      "/var/folders/sc/kmc7_9gn2hqd_lrnhdt_2s580000gn/T/ipykernel_36930/2556735345.py:60: UserWarning:\n",
      "\n",
      "This figure includes Axes that are not compatible with tight_layout, so results might be incorrect.\n",
      "\n"
     ]
    },
    {
     "name": "stdout",
     "output_type": "stream",
     "text": [
      "Warning: excludeThres option currently not supported. Resetting excludeThres to 0.\n",
      "Warning: excludeThres option currently not supported. Resetting excludeThres to 0.\n"
     ]
    },
    {
     "name": "stderr",
     "output_type": "stream",
     "text": [
      "/var/folders/sc/kmc7_9gn2hqd_lrnhdt_2s580000gn/T/ipykernel_36930/2556735345.py:60: UserWarning:\n",
      "\n",
      "This figure includes Axes that are not compatible with tight_layout, so results might be incorrect.\n",
      "\n"
     ]
    },
    {
     "name": "stdout",
     "output_type": "stream",
     "text": [
      "Warning: excludeThres option currently not supported. Resetting excludeThres to 0.\n",
      "Warning: excludeThres option currently not supported. Resetting excludeThres to 0.\n"
     ]
    },
    {
     "name": "stderr",
     "output_type": "stream",
     "text": [
      "/var/folders/sc/kmc7_9gn2hqd_lrnhdt_2s580000gn/T/ipykernel_36930/2556735345.py:60: UserWarning:\n",
      "\n",
      "This figure includes Axes that are not compatible with tight_layout, so results might be incorrect.\n",
      "\n"
     ]
    },
    {
     "name": "stdout",
     "output_type": "stream",
     "text": [
      "Warning: excludeThres option currently not supported. Resetting excludeThres to 0.\n",
      "Warning: excludeThres option currently not supported. Resetting excludeThres to 0.\n"
     ]
    },
    {
     "name": "stderr",
     "output_type": "stream",
     "text": [
      "/var/folders/sc/kmc7_9gn2hqd_lrnhdt_2s580000gn/T/ipykernel_36930/2556735345.py:60: UserWarning:\n",
      "\n",
      "This figure includes Axes that are not compatible with tight_layout, so results might be incorrect.\n",
      "\n"
     ]
    },
    {
     "name": "stdout",
     "output_type": "stream",
     "text": [
      "Warning: excludeThres option currently not supported. Resetting excludeThres to 0.\n",
      "Warning: excludeThres option currently not supported. Resetting excludeThres to 0.\n"
     ]
    },
    {
     "name": "stderr",
     "output_type": "stream",
     "text": [
      "/var/folders/sc/kmc7_9gn2hqd_lrnhdt_2s580000gn/T/ipykernel_36930/2556735345.py:60: UserWarning:\n",
      "\n",
      "This figure includes Axes that are not compatible with tight_layout, so results might be incorrect.\n",
      "\n"
     ]
    },
    {
     "name": "stdout",
     "output_type": "stream",
     "text": [
      "Warning: excludeThres option currently not supported. Resetting excludeThres to 0.\n",
      "Warning: excludeThres option currently not supported. Resetting excludeThres to 0.\n"
     ]
    },
    {
     "name": "stderr",
     "output_type": "stream",
     "text": [
      "/var/folders/sc/kmc7_9gn2hqd_lrnhdt_2s580000gn/T/ipykernel_36930/2556735345.py:60: UserWarning:\n",
      "\n",
      "This figure includes Axes that are not compatible with tight_layout, so results might be incorrect.\n",
      "\n"
     ]
    },
    {
     "name": "stdout",
     "output_type": "stream",
     "text": [
      "Warning: excludeThres option currently not supported. Resetting excludeThres to 0.\n",
      "Warning: excludeThres option currently not supported. Resetting excludeThres to 0.\n"
     ]
    },
    {
     "name": "stderr",
     "output_type": "stream",
     "text": [
      "/var/folders/sc/kmc7_9gn2hqd_lrnhdt_2s580000gn/T/ipykernel_36930/2556735345.py:60: UserWarning:\n",
      "\n",
      "This figure includes Axes that are not compatible with tight_layout, so results might be incorrect.\n",
      "\n"
     ]
    },
    {
     "name": "stdout",
     "output_type": "stream",
     "text": [
      "Warning: excludeThres option currently not supported. Resetting excludeThres to 0.\n",
      "Warning: excludeThres option currently not supported. Resetting excludeThres to 0.\n"
     ]
    },
    {
     "name": "stderr",
     "output_type": "stream",
     "text": [
      "/var/folders/sc/kmc7_9gn2hqd_lrnhdt_2s580000gn/T/ipykernel_36930/2556735345.py:60: UserWarning:\n",
      "\n",
      "This figure includes Axes that are not compatible with tight_layout, so results might be incorrect.\n",
      "\n"
     ]
    },
    {
     "name": "stdout",
     "output_type": "stream",
     "text": [
      "Warning: excludeThres option currently not supported. Resetting excludeThres to 0.\n",
      "Warning: excludeThres option currently not supported. Resetting excludeThres to 0.\n"
     ]
    },
    {
     "name": "stderr",
     "output_type": "stream",
     "text": [
      "/var/folders/sc/kmc7_9gn2hqd_lrnhdt_2s580000gn/T/ipykernel_36930/2556735345.py:60: UserWarning:\n",
      "\n",
      "This figure includes Axes that are not compatible with tight_layout, so results might be incorrect.\n",
      "\n"
     ]
    },
    {
     "name": "stdout",
     "output_type": "stream",
     "text": [
      "Warning: excludeThres option currently not supported. Resetting excludeThres to 0.\n",
      "Warning: excludeThres option currently not supported. Resetting excludeThres to 0.\n"
     ]
    },
    {
     "name": "stderr",
     "output_type": "stream",
     "text": [
      "/var/folders/sc/kmc7_9gn2hqd_lrnhdt_2s580000gn/T/ipykernel_36930/2556735345.py:60: UserWarning:\n",
      "\n",
      "This figure includes Axes that are not compatible with tight_layout, so results might be incorrect.\n",
      "\n"
     ]
    },
    {
     "name": "stdout",
     "output_type": "stream",
     "text": [
      "Warning: excludeThres option currently not supported. Resetting excludeThres to 0.\n",
      "Warning: excludeThres option currently not supported. Resetting excludeThres to 0.\n"
     ]
    },
    {
     "name": "stderr",
     "output_type": "stream",
     "text": [
      "/var/folders/sc/kmc7_9gn2hqd_lrnhdt_2s580000gn/T/ipykernel_36930/2556735345.py:60: UserWarning:\n",
      "\n",
      "This figure includes Axes that are not compatible with tight_layout, so results might be incorrect.\n",
      "\n"
     ]
    },
    {
     "name": "stdout",
     "output_type": "stream",
     "text": [
      "Warning: excludeThres option currently not supported. Resetting excludeThres to 0.\n",
      "Warning: excludeThres option currently not supported. Resetting excludeThres to 0.\n"
     ]
    },
    {
     "name": "stderr",
     "output_type": "stream",
     "text": [
      "/var/folders/sc/kmc7_9gn2hqd_lrnhdt_2s580000gn/T/ipykernel_36930/2556735345.py:60: UserWarning:\n",
      "\n",
      "This figure includes Axes that are not compatible with tight_layout, so results might be incorrect.\n",
      "\n"
     ]
    },
    {
     "name": "stdout",
     "output_type": "stream",
     "text": [
      "Warning: excludeThres option currently not supported. Resetting excludeThres to 0.\n",
      "Warning: excludeThres option currently not supported. Resetting excludeThres to 0.\n"
     ]
    },
    {
     "name": "stderr",
     "output_type": "stream",
     "text": [
      "/var/folders/sc/kmc7_9gn2hqd_lrnhdt_2s580000gn/T/ipykernel_36930/2556735345.py:60: UserWarning:\n",
      "\n",
      "This figure includes Axes that are not compatible with tight_layout, so results might be incorrect.\n",
      "\n"
     ]
    },
    {
     "name": "stdout",
     "output_type": "stream",
     "text": [
      "Warning: excludeThres option currently not supported. Resetting excludeThres to 0.\n",
      "Warning: excludeThres option currently not supported. Resetting excludeThres to 0.\n"
     ]
    },
    {
     "name": "stderr",
     "output_type": "stream",
     "text": [
      "/var/folders/sc/kmc7_9gn2hqd_lrnhdt_2s580000gn/T/ipykernel_36930/2556735345.py:60: UserWarning:\n",
      "\n",
      "This figure includes Axes that are not compatible with tight_layout, so results might be incorrect.\n",
      "\n"
     ]
    },
    {
     "name": "stdout",
     "output_type": "stream",
     "text": [
      "Warning: excludeThres option currently not supported. Resetting excludeThres to 0.\n",
      "Warning: excludeThres option currently not supported. Resetting excludeThres to 0.\n"
     ]
    },
    {
     "name": "stderr",
     "output_type": "stream",
     "text": [
      "/var/folders/sc/kmc7_9gn2hqd_lrnhdt_2s580000gn/T/ipykernel_36930/2556735345.py:60: UserWarning:\n",
      "\n",
      "This figure includes Axes that are not compatible with tight_layout, so results might be incorrect.\n",
      "\n"
     ]
    },
    {
     "name": "stdout",
     "output_type": "stream",
     "text": [
      "Warning: excludeThres option currently not supported. Resetting excludeThres to 0.\n",
      "Warning: excludeThres option currently not supported. Resetting excludeThres to 0.\n"
     ]
    },
    {
     "name": "stderr",
     "output_type": "stream",
     "text": [
      "/var/folders/sc/kmc7_9gn2hqd_lrnhdt_2s580000gn/T/ipykernel_36930/2556735345.py:60: UserWarning:\n",
      "\n",
      "This figure includes Axes that are not compatible with tight_layout, so results might be incorrect.\n",
      "\n"
     ]
    },
    {
     "name": "stdout",
     "output_type": "stream",
     "text": [
      "Warning: excludeThres option currently not supported. Resetting excludeThres to 0.\n",
      "Warning: excludeThres option currently not supported. Resetting excludeThres to 0.\n"
     ]
    },
    {
     "name": "stderr",
     "output_type": "stream",
     "text": [
      "/var/folders/sc/kmc7_9gn2hqd_lrnhdt_2s580000gn/T/ipykernel_36930/2556735345.py:60: UserWarning:\n",
      "\n",
      "This figure includes Axes that are not compatible with tight_layout, so results might be incorrect.\n",
      "\n"
     ]
    },
    {
     "name": "stdout",
     "output_type": "stream",
     "text": [
      "Warning: excludeThres option currently not supported. Resetting excludeThres to 0.\n",
      "Warning: excludeThres option currently not supported. Resetting excludeThres to 0.\n"
     ]
    },
    {
     "name": "stderr",
     "output_type": "stream",
     "text": [
      "/var/folders/sc/kmc7_9gn2hqd_lrnhdt_2s580000gn/T/ipykernel_36930/2556735345.py:60: UserWarning:\n",
      "\n",
      "This figure includes Axes that are not compatible with tight_layout, so results might be incorrect.\n",
      "\n"
     ]
    },
    {
     "name": "stdout",
     "output_type": "stream",
     "text": [
      "Warning: excludeThres option currently not supported. Resetting excludeThres to 0.\n",
      "Warning: excludeThres option currently not supported. Resetting excludeThres to 0.\n"
     ]
    },
    {
     "name": "stderr",
     "output_type": "stream",
     "text": [
      "/var/folders/sc/kmc7_9gn2hqd_lrnhdt_2s580000gn/T/ipykernel_36930/2556735345.py:60: UserWarning:\n",
      "\n",
      "This figure includes Axes that are not compatible with tight_layout, so results might be incorrect.\n",
      "\n"
     ]
    },
    {
     "name": "stdout",
     "output_type": "stream",
     "text": [
      "Warning: excludeThres option currently not supported. Resetting excludeThres to 0.\n",
      "Warning: excludeThres option currently not supported. Resetting excludeThres to 0.\n"
     ]
    },
    {
     "name": "stderr",
     "output_type": "stream",
     "text": [
      "/var/folders/sc/kmc7_9gn2hqd_lrnhdt_2s580000gn/T/ipykernel_36930/2556735345.py:60: UserWarning:\n",
      "\n",
      "This figure includes Axes that are not compatible with tight_layout, so results might be incorrect.\n",
      "\n"
     ]
    },
    {
     "name": "stdout",
     "output_type": "stream",
     "text": [
      "Warning: excludeThres option currently not supported. Resetting excludeThres to 0.\n",
      "Warning: excludeThres option currently not supported. Resetting excludeThres to 0.\n"
     ]
    },
    {
     "name": "stderr",
     "output_type": "stream",
     "text": [
      "/var/folders/sc/kmc7_9gn2hqd_lrnhdt_2s580000gn/T/ipykernel_36930/2556735345.py:60: UserWarning:\n",
      "\n",
      "This figure includes Axes that are not compatible with tight_layout, so results might be incorrect.\n",
      "\n"
     ]
    },
    {
     "name": "stdout",
     "output_type": "stream",
     "text": [
      "Warning: excludeThres option currently not supported. Resetting excludeThres to 0.\n",
      "Warning: excludeThres option currently not supported. Resetting excludeThres to 0.\n"
     ]
    },
    {
     "name": "stderr",
     "output_type": "stream",
     "text": [
      "/var/folders/sc/kmc7_9gn2hqd_lrnhdt_2s580000gn/T/ipykernel_36930/2556735345.py:60: UserWarning:\n",
      "\n",
      "This figure includes Axes that are not compatible with tight_layout, so results might be incorrect.\n",
      "\n"
     ]
    },
    {
     "name": "stdout",
     "output_type": "stream",
     "text": [
      "Warning: excludeThres option currently not supported. Resetting excludeThres to 0.\n",
      "Warning: excludeThres option currently not supported. Resetting excludeThres to 0.\n"
     ]
    },
    {
     "name": "stderr",
     "output_type": "stream",
     "text": [
      "/var/folders/sc/kmc7_9gn2hqd_lrnhdt_2s580000gn/T/ipykernel_36930/2556735345.py:60: UserWarning:\n",
      "\n",
      "This figure includes Axes that are not compatible with tight_layout, so results might be incorrect.\n",
      "\n"
     ]
    },
    {
     "name": "stdout",
     "output_type": "stream",
     "text": [
      "Warning: excludeThres option currently not supported. Resetting excludeThres to 0.\n",
      "Warning: excludeThres option currently not supported. Resetting excludeThres to 0.\n"
     ]
    },
    {
     "name": "stderr",
     "output_type": "stream",
     "text": [
      "/var/folders/sc/kmc7_9gn2hqd_lrnhdt_2s580000gn/T/ipykernel_36930/2556735345.py:60: UserWarning:\n",
      "\n",
      "This figure includes Axes that are not compatible with tight_layout, so results might be incorrect.\n",
      "\n"
     ]
    },
    {
     "name": "stdout",
     "output_type": "stream",
     "text": [
      "Warning: excludeThres option currently not supported. Resetting excludeThres to 0.\n",
      "Warning: excludeThres option currently not supported. Resetting excludeThres to 0.\n"
     ]
    },
    {
     "name": "stderr",
     "output_type": "stream",
     "text": [
      "/var/folders/sc/kmc7_9gn2hqd_lrnhdt_2s580000gn/T/ipykernel_36930/2556735345.py:60: UserWarning:\n",
      "\n",
      "This figure includes Axes that are not compatible with tight_layout, so results might be incorrect.\n",
      "\n"
     ]
    },
    {
     "name": "stdout",
     "output_type": "stream",
     "text": [
      "Warning: excludeThres option currently not supported. Resetting excludeThres to 0.\n",
      "Warning: excludeThres option currently not supported. Resetting excludeThres to 0.\n"
     ]
    },
    {
     "name": "stderr",
     "output_type": "stream",
     "text": [
      "/var/folders/sc/kmc7_9gn2hqd_lrnhdt_2s580000gn/T/ipykernel_36930/2556735345.py:60: UserWarning:\n",
      "\n",
      "This figure includes Axes that are not compatible with tight_layout, so results might be incorrect.\n",
      "\n"
     ]
    },
    {
     "name": "stdout",
     "output_type": "stream",
     "text": [
      "Warning: excludeThres option currently not supported. Resetting excludeThres to 0.\n",
      "Warning: excludeThres option currently not supported. Resetting excludeThres to 0.\n"
     ]
    },
    {
     "name": "stderr",
     "output_type": "stream",
     "text": [
      "/var/folders/sc/kmc7_9gn2hqd_lrnhdt_2s580000gn/T/ipykernel_36930/2556735345.py:60: UserWarning:\n",
      "\n",
      "This figure includes Axes that are not compatible with tight_layout, so results might be incorrect.\n",
      "\n"
     ]
    },
    {
     "name": "stdout",
     "output_type": "stream",
     "text": [
      "Warning: excludeThres option currently not supported. Resetting excludeThres to 0.\n",
      "Warning: excludeThres option currently not supported. Resetting excludeThres to 0.\n"
     ]
    },
    {
     "name": "stderr",
     "output_type": "stream",
     "text": [
      "/var/folders/sc/kmc7_9gn2hqd_lrnhdt_2s580000gn/T/ipykernel_36930/2556735345.py:60: UserWarning:\n",
      "\n",
      "This figure includes Axes that are not compatible with tight_layout, so results might be incorrect.\n",
      "\n"
     ]
    },
    {
     "name": "stdout",
     "output_type": "stream",
     "text": [
      "Warning: excludeThres option currently not supported. Resetting excludeThres to 0.\n",
      "Warning: excludeThres option currently not supported. Resetting excludeThres to 0.\n"
     ]
    },
    {
     "name": "stderr",
     "output_type": "stream",
     "text": [
      "/var/folders/sc/kmc7_9gn2hqd_lrnhdt_2s580000gn/T/ipykernel_36930/2556735345.py:60: UserWarning:\n",
      "\n",
      "This figure includes Axes that are not compatible with tight_layout, so results might be incorrect.\n",
      "\n"
     ]
    },
    {
     "name": "stdout",
     "output_type": "stream",
     "text": [
      "Warning: excludeThres option currently not supported. Resetting excludeThres to 0.\n",
      "Warning: excludeThres option currently not supported. Resetting excludeThres to 0.\n"
     ]
    },
    {
     "name": "stderr",
     "output_type": "stream",
     "text": [
      "/var/folders/sc/kmc7_9gn2hqd_lrnhdt_2s580000gn/T/ipykernel_36930/2556735345.py:60: UserWarning:\n",
      "\n",
      "This figure includes Axes that are not compatible with tight_layout, so results might be incorrect.\n",
      "\n"
     ]
    },
    {
     "name": "stdout",
     "output_type": "stream",
     "text": [
      "Warning: excludeThres option currently not supported. Resetting excludeThres to 0.\n",
      "Warning: excludeThres option currently not supported. Resetting excludeThres to 0.\n"
     ]
    },
    {
     "name": "stderr",
     "output_type": "stream",
     "text": [
      "/var/folders/sc/kmc7_9gn2hqd_lrnhdt_2s580000gn/T/ipykernel_36930/2556735345.py:60: UserWarning:\n",
      "\n",
      "This figure includes Axes that are not compatible with tight_layout, so results might be incorrect.\n",
      "\n"
     ]
    },
    {
     "name": "stdout",
     "output_type": "stream",
     "text": [
      "Warning: excludeThres option currently not supported. Resetting excludeThres to 0.\n",
      "Warning: excludeThres option currently not supported. Resetting excludeThres to 0.\n"
     ]
    },
    {
     "name": "stderr",
     "output_type": "stream",
     "text": [
      "/var/folders/sc/kmc7_9gn2hqd_lrnhdt_2s580000gn/T/ipykernel_36930/2556735345.py:60: UserWarning:\n",
      "\n",
      "This figure includes Axes that are not compatible with tight_layout, so results might be incorrect.\n",
      "\n"
     ]
    },
    {
     "name": "stdout",
     "output_type": "stream",
     "text": [
      "Warning: excludeThres option currently not supported. Resetting excludeThres to 0.\n",
      "Warning: excludeThres option currently not supported. Resetting excludeThres to 0.\n"
     ]
    },
    {
     "name": "stderr",
     "output_type": "stream",
     "text": [
      "/var/folders/sc/kmc7_9gn2hqd_lrnhdt_2s580000gn/T/ipykernel_36930/2556735345.py:60: UserWarning:\n",
      "\n",
      "This figure includes Axes that are not compatible with tight_layout, so results might be incorrect.\n",
      "\n"
     ]
    },
    {
     "name": "stdout",
     "output_type": "stream",
     "text": [
      "Warning: excludeThres option currently not supported. Resetting excludeThres to 0.\n",
      "Warning: excludeThres option currently not supported. Resetting excludeThres to 0.\n"
     ]
    },
    {
     "name": "stderr",
     "output_type": "stream",
     "text": [
      "/var/folders/sc/kmc7_9gn2hqd_lrnhdt_2s580000gn/T/ipykernel_36930/2556735345.py:60: UserWarning:\n",
      "\n",
      "This figure includes Axes that are not compatible with tight_layout, so results might be incorrect.\n",
      "\n"
     ]
    },
    {
     "name": "stdout",
     "output_type": "stream",
     "text": [
      "Warning: excludeThres option currently not supported. Resetting excludeThres to 0.\n",
      "Warning: excludeThres option currently not supported. Resetting excludeThres to 0.\n"
     ]
    },
    {
     "name": "stderr",
     "output_type": "stream",
     "text": [
      "/var/folders/sc/kmc7_9gn2hqd_lrnhdt_2s580000gn/T/ipykernel_36930/2556735345.py:60: UserWarning:\n",
      "\n",
      "This figure includes Axes that are not compatible with tight_layout, so results might be incorrect.\n",
      "\n"
     ]
    },
    {
     "name": "stdout",
     "output_type": "stream",
     "text": [
      "Warning: excludeThres option currently not supported. Resetting excludeThres to 0.\n",
      "Warning: excludeThres option currently not supported. Resetting excludeThres to 0.\n"
     ]
    },
    {
     "name": "stderr",
     "output_type": "stream",
     "text": [
      "/var/folders/sc/kmc7_9gn2hqd_lrnhdt_2s580000gn/T/ipykernel_36930/2556735345.py:60: UserWarning:\n",
      "\n",
      "This figure includes Axes that are not compatible with tight_layout, so results might be incorrect.\n",
      "\n"
     ]
    },
    {
     "name": "stdout",
     "output_type": "stream",
     "text": [
      "Warning: excludeThres option currently not supported. Resetting excludeThres to 0.\n",
      "Warning: excludeThres option currently not supported. Resetting excludeThres to 0.\n"
     ]
    },
    {
     "name": "stderr",
     "output_type": "stream",
     "text": [
      "/var/folders/sc/kmc7_9gn2hqd_lrnhdt_2s580000gn/T/ipykernel_36930/2556735345.py:60: UserWarning:\n",
      "\n",
      "This figure includes Axes that are not compatible with tight_layout, so results might be incorrect.\n",
      "\n"
     ]
    },
    {
     "name": "stdout",
     "output_type": "stream",
     "text": [
      "Warning: excludeThres option currently not supported. Resetting excludeThres to 0.\n",
      "Warning: excludeThres option currently not supported. Resetting excludeThres to 0.\n"
     ]
    },
    {
     "name": "stderr",
     "output_type": "stream",
     "text": [
      "/var/folders/sc/kmc7_9gn2hqd_lrnhdt_2s580000gn/T/ipykernel_36930/2556735345.py:60: UserWarning:\n",
      "\n",
      "This figure includes Axes that are not compatible with tight_layout, so results might be incorrect.\n",
      "\n"
     ]
    },
    {
     "name": "stdout",
     "output_type": "stream",
     "text": [
      "Warning: excludeThres option currently not supported. Resetting excludeThres to 0.\n",
      "Warning: excludeThres option currently not supported. Resetting excludeThres to 0.\n"
     ]
    },
    {
     "name": "stderr",
     "output_type": "stream",
     "text": [
      "/var/folders/sc/kmc7_9gn2hqd_lrnhdt_2s580000gn/T/ipykernel_36930/2556735345.py:60: UserWarning:\n",
      "\n",
      "This figure includes Axes that are not compatible with tight_layout, so results might be incorrect.\n",
      "\n"
     ]
    },
    {
     "name": "stdout",
     "output_type": "stream",
     "text": [
      "Warning: excludeThres option currently not supported. Resetting excludeThres to 0.\n",
      "Warning: excludeThres option currently not supported. Resetting excludeThres to 0.\n"
     ]
    },
    {
     "name": "stderr",
     "output_type": "stream",
     "text": [
      "/var/folders/sc/kmc7_9gn2hqd_lrnhdt_2s580000gn/T/ipykernel_36930/2556735345.py:60: UserWarning:\n",
      "\n",
      "This figure includes Axes that are not compatible with tight_layout, so results might be incorrect.\n",
      "\n"
     ]
    },
    {
     "name": "stdout",
     "output_type": "stream",
     "text": [
      "Warning: excludeThres option currently not supported. Resetting excludeThres to 0.\n",
      "Warning: excludeThres option currently not supported. Resetting excludeThres to 0.\n"
     ]
    },
    {
     "name": "stderr",
     "output_type": "stream",
     "text": [
      "/var/folders/sc/kmc7_9gn2hqd_lrnhdt_2s580000gn/T/ipykernel_36930/2556735345.py:60: UserWarning:\n",
      "\n",
      "This figure includes Axes that are not compatible with tight_layout, so results might be incorrect.\n",
      "\n"
     ]
    },
    {
     "name": "stdout",
     "output_type": "stream",
     "text": [
      "Warning: excludeThres option currently not supported. Resetting excludeThres to 0.\n",
      "Warning: excludeThres option currently not supported. Resetting excludeThres to 0.\n"
     ]
    },
    {
     "name": "stderr",
     "output_type": "stream",
     "text": [
      "/var/folders/sc/kmc7_9gn2hqd_lrnhdt_2s580000gn/T/ipykernel_36930/2556735345.py:60: UserWarning:\n",
      "\n",
      "This figure includes Axes that are not compatible with tight_layout, so results might be incorrect.\n",
      "\n"
     ]
    },
    {
     "name": "stdout",
     "output_type": "stream",
     "text": [
      "Warning: excludeThres option currently not supported. Resetting excludeThres to 0.\n",
      "Warning: excludeThres option currently not supported. Resetting excludeThres to 0.\n"
     ]
    },
    {
     "name": "stderr",
     "output_type": "stream",
     "text": [
      "/var/folders/sc/kmc7_9gn2hqd_lrnhdt_2s580000gn/T/ipykernel_36930/2556735345.py:60: UserWarning:\n",
      "\n",
      "This figure includes Axes that are not compatible with tight_layout, so results might be incorrect.\n",
      "\n"
     ]
    },
    {
     "name": "stdout",
     "output_type": "stream",
     "text": [
      "Warning: excludeThres option currently not supported. Resetting excludeThres to 0.\n",
      "Warning: excludeThres option currently not supported. Resetting excludeThres to 0.\n"
     ]
    },
    {
     "name": "stderr",
     "output_type": "stream",
     "text": [
      "/var/folders/sc/kmc7_9gn2hqd_lrnhdt_2s580000gn/T/ipykernel_36930/2556735345.py:60: UserWarning:\n",
      "\n",
      "This figure includes Axes that are not compatible with tight_layout, so results might be incorrect.\n",
      "\n"
     ]
    },
    {
     "name": "stdout",
     "output_type": "stream",
     "text": [
      "Warning: excludeThres option currently not supported. Resetting excludeThres to 0.\n",
      "Warning: excludeThres option currently not supported. Resetting excludeThres to 0.\n"
     ]
    },
    {
     "name": "stderr",
     "output_type": "stream",
     "text": [
      "/var/folders/sc/kmc7_9gn2hqd_lrnhdt_2s580000gn/T/ipykernel_36930/2556735345.py:60: UserWarning:\n",
      "\n",
      "This figure includes Axes that are not compatible with tight_layout, so results might be incorrect.\n",
      "\n"
     ]
    },
    {
     "name": "stdout",
     "output_type": "stream",
     "text": [
      "Warning: excludeThres option currently not supported. Resetting excludeThres to 0.\n",
      "Warning: excludeThres option currently not supported. Resetting excludeThres to 0.\n"
     ]
    },
    {
     "name": "stderr",
     "output_type": "stream",
     "text": [
      "/var/folders/sc/kmc7_9gn2hqd_lrnhdt_2s580000gn/T/ipykernel_36930/2556735345.py:60: UserWarning:\n",
      "\n",
      "This figure includes Axes that are not compatible with tight_layout, so results might be incorrect.\n",
      "\n"
     ]
    },
    {
     "name": "stdout",
     "output_type": "stream",
     "text": [
      "Warning: excludeThres option currently not supported. Resetting excludeThres to 0.\n",
      "Warning: excludeThres option currently not supported. Resetting excludeThres to 0.\n"
     ]
    },
    {
     "name": "stderr",
     "output_type": "stream",
     "text": [
      "/var/folders/sc/kmc7_9gn2hqd_lrnhdt_2s580000gn/T/ipykernel_36930/2556735345.py:60: UserWarning:\n",
      "\n",
      "This figure includes Axes that are not compatible with tight_layout, so results might be incorrect.\n",
      "\n"
     ]
    },
    {
     "name": "stdout",
     "output_type": "stream",
     "text": [
      "Warning: excludeThres option currently not supported. Resetting excludeThres to 0.\n",
      "Warning: excludeThres option currently not supported. Resetting excludeThres to 0.\n"
     ]
    },
    {
     "name": "stderr",
     "output_type": "stream",
     "text": [
      "/var/folders/sc/kmc7_9gn2hqd_lrnhdt_2s580000gn/T/ipykernel_36930/2556735345.py:60: UserWarning:\n",
      "\n",
      "This figure includes Axes that are not compatible with tight_layout, so results might be incorrect.\n",
      "\n"
     ]
    },
    {
     "name": "stdout",
     "output_type": "stream",
     "text": [
      "Warning: excludeThres option currently not supported. Resetting excludeThres to 0.\n",
      "Warning: excludeThres option currently not supported. Resetting excludeThres to 0.\n"
     ]
    },
    {
     "name": "stderr",
     "output_type": "stream",
     "text": [
      "/var/folders/sc/kmc7_9gn2hqd_lrnhdt_2s580000gn/T/ipykernel_36930/2556735345.py:60: UserWarning:\n",
      "\n",
      "This figure includes Axes that are not compatible with tight_layout, so results might be incorrect.\n",
      "\n"
     ]
    },
    {
     "name": "stdout",
     "output_type": "stream",
     "text": [
      "Warning: excludeThres option currently not supported. Resetting excludeThres to 0.\n",
      "Warning: excludeThres option currently not supported. Resetting excludeThres to 0.\n"
     ]
    },
    {
     "name": "stderr",
     "output_type": "stream",
     "text": [
      "/var/folders/sc/kmc7_9gn2hqd_lrnhdt_2s580000gn/T/ipykernel_36930/2556735345.py:60: UserWarning:\n",
      "\n",
      "This figure includes Axes that are not compatible with tight_layout, so results might be incorrect.\n",
      "\n"
     ]
    },
    {
     "name": "stdout",
     "output_type": "stream",
     "text": [
      "Warning: excludeThres option currently not supported. Resetting excludeThres to 0.\n",
      "Warning: excludeThres option currently not supported. Resetting excludeThres to 0.\n"
     ]
    },
    {
     "name": "stderr",
     "output_type": "stream",
     "text": [
      "/var/folders/sc/kmc7_9gn2hqd_lrnhdt_2s580000gn/T/ipykernel_36930/2556735345.py:60: UserWarning:\n",
      "\n",
      "This figure includes Axes that are not compatible with tight_layout, so results might be incorrect.\n",
      "\n"
     ]
    },
    {
     "name": "stdout",
     "output_type": "stream",
     "text": [
      "Warning: excludeThres option currently not supported. Resetting excludeThres to 0.\n",
      "Warning: excludeThres option currently not supported. Resetting excludeThres to 0.\n"
     ]
    },
    {
     "name": "stderr",
     "output_type": "stream",
     "text": [
      "/var/folders/sc/kmc7_9gn2hqd_lrnhdt_2s580000gn/T/ipykernel_36930/2556735345.py:60: UserWarning:\n",
      "\n",
      "This figure includes Axes that are not compatible with tight_layout, so results might be incorrect.\n",
      "\n"
     ]
    },
    {
     "name": "stdout",
     "output_type": "stream",
     "text": [
      "Warning: excludeThres option currently not supported. Resetting excludeThres to 0.\n",
      "Warning: excludeThres option currently not supported. Resetting excludeThres to 0.\n"
     ]
    },
    {
     "name": "stderr",
     "output_type": "stream",
     "text": [
      "/var/folders/sc/kmc7_9gn2hqd_lrnhdt_2s580000gn/T/ipykernel_36930/2556735345.py:60: UserWarning:\n",
      "\n",
      "This figure includes Axes that are not compatible with tight_layout, so results might be incorrect.\n",
      "\n"
     ]
    },
    {
     "name": "stdout",
     "output_type": "stream",
     "text": [
      "Warning: excludeThres option currently not supported. Resetting excludeThres to 0.\n",
      "Warning: excludeThres option currently not supported. Resetting excludeThres to 0.\n"
     ]
    },
    {
     "name": "stderr",
     "output_type": "stream",
     "text": [
      "/var/folders/sc/kmc7_9gn2hqd_lrnhdt_2s580000gn/T/ipykernel_36930/2556735345.py:60: UserWarning:\n",
      "\n",
      "This figure includes Axes that are not compatible with tight_layout, so results might be incorrect.\n",
      "\n"
     ]
    },
    {
     "name": "stdout",
     "output_type": "stream",
     "text": [
      "Warning: excludeThres option currently not supported. Resetting excludeThres to 0.\n",
      "Warning: excludeThres option currently not supported. Resetting excludeThres to 0.\n"
     ]
    },
    {
     "name": "stderr",
     "output_type": "stream",
     "text": [
      "/var/folders/sc/kmc7_9gn2hqd_lrnhdt_2s580000gn/T/ipykernel_36930/2556735345.py:60: UserWarning:\n",
      "\n",
      "This figure includes Axes that are not compatible with tight_layout, so results might be incorrect.\n",
      "\n"
     ]
    },
    {
     "name": "stdout",
     "output_type": "stream",
     "text": [
      "Warning: excludeThres option currently not supported. Resetting excludeThres to 0.\n",
      "Warning: excludeThres option currently not supported. Resetting excludeThres to 0.\n"
     ]
    },
    {
     "name": "stderr",
     "output_type": "stream",
     "text": [
      "/var/folders/sc/kmc7_9gn2hqd_lrnhdt_2s580000gn/T/ipykernel_36930/2556735345.py:60: UserWarning:\n",
      "\n",
      "This figure includes Axes that are not compatible with tight_layout, so results might be incorrect.\n",
      "\n"
     ]
    },
    {
     "name": "stdout",
     "output_type": "stream",
     "text": [
      "Warning: excludeThres option currently not supported. Resetting excludeThres to 0.\n",
      "Warning: excludeThres option currently not supported. Resetting excludeThres to 0.\n"
     ]
    },
    {
     "name": "stderr",
     "output_type": "stream",
     "text": [
      "/var/folders/sc/kmc7_9gn2hqd_lrnhdt_2s580000gn/T/ipykernel_36930/2556735345.py:60: UserWarning:\n",
      "\n",
      "This figure includes Axes that are not compatible with tight_layout, so results might be incorrect.\n",
      "\n"
     ]
    },
    {
     "name": "stdout",
     "output_type": "stream",
     "text": [
      "Warning: excludeThres option currently not supported. Resetting excludeThres to 0.\n",
      "Warning: excludeThres option currently not supported. Resetting excludeThres to 0.\n"
     ]
    },
    {
     "name": "stderr",
     "output_type": "stream",
     "text": [
      "/var/folders/sc/kmc7_9gn2hqd_lrnhdt_2s580000gn/T/ipykernel_36930/2556735345.py:60: UserWarning:\n",
      "\n",
      "This figure includes Axes that are not compatible with tight_layout, so results might be incorrect.\n",
      "\n"
     ]
    },
    {
     "name": "stdout",
     "output_type": "stream",
     "text": [
      "Warning: excludeThres option currently not supported. Resetting excludeThres to 0.\n",
      "Warning: excludeThres option currently not supported. Resetting excludeThres to 0.\n"
     ]
    },
    {
     "name": "stderr",
     "output_type": "stream",
     "text": [
      "/var/folders/sc/kmc7_9gn2hqd_lrnhdt_2s580000gn/T/ipykernel_36930/2556735345.py:60: UserWarning:\n",
      "\n",
      "This figure includes Axes that are not compatible with tight_layout, so results might be incorrect.\n",
      "\n"
     ]
    },
    {
     "name": "stdout",
     "output_type": "stream",
     "text": [
      "Warning: excludeThres option currently not supported. Resetting excludeThres to 0.\n",
      "Warning: excludeThres option currently not supported. Resetting excludeThres to 0.\n"
     ]
    },
    {
     "name": "stderr",
     "output_type": "stream",
     "text": [
      "/var/folders/sc/kmc7_9gn2hqd_lrnhdt_2s580000gn/T/ipykernel_36930/2556735345.py:60: UserWarning:\n",
      "\n",
      "This figure includes Axes that are not compatible with tight_layout, so results might be incorrect.\n",
      "\n"
     ]
    },
    {
     "name": "stdout",
     "output_type": "stream",
     "text": [
      "Warning: excludeThres option currently not supported. Resetting excludeThres to 0.\n",
      "Warning: excludeThres option currently not supported. Resetting excludeThres to 0.\n"
     ]
    },
    {
     "name": "stderr",
     "output_type": "stream",
     "text": [
      "/var/folders/sc/kmc7_9gn2hqd_lrnhdt_2s580000gn/T/ipykernel_36930/2556735345.py:60: UserWarning:\n",
      "\n",
      "This figure includes Axes that are not compatible with tight_layout, so results might be incorrect.\n",
      "\n"
     ]
    },
    {
     "name": "stdout",
     "output_type": "stream",
     "text": [
      "Warning: excludeThres option currently not supported. Resetting excludeThres to 0.\n",
      "Warning: excludeThres option currently not supported. Resetting excludeThres to 0.\n"
     ]
    },
    {
     "name": "stderr",
     "output_type": "stream",
     "text": [
      "/var/folders/sc/kmc7_9gn2hqd_lrnhdt_2s580000gn/T/ipykernel_36930/2556735345.py:60: UserWarning:\n",
      "\n",
      "This figure includes Axes that are not compatible with tight_layout, so results might be incorrect.\n",
      "\n"
     ]
    },
    {
     "name": "stdout",
     "output_type": "stream",
     "text": [
      "Warning: excludeThres option currently not supported. Resetting excludeThres to 0.\n",
      "Warning: excludeThres option currently not supported. Resetting excludeThres to 0.\n"
     ]
    },
    {
     "name": "stderr",
     "output_type": "stream",
     "text": [
      "/var/folders/sc/kmc7_9gn2hqd_lrnhdt_2s580000gn/T/ipykernel_36930/2556735345.py:60: UserWarning:\n",
      "\n",
      "This figure includes Axes that are not compatible with tight_layout, so results might be incorrect.\n",
      "\n"
     ]
    },
    {
     "name": "stdout",
     "output_type": "stream",
     "text": [
      "Warning: excludeThres option currently not supported. Resetting excludeThres to 0.\n",
      "Warning: excludeThres option currently not supported. Resetting excludeThres to 0.\n"
     ]
    },
    {
     "name": "stderr",
     "output_type": "stream",
     "text": [
      "/var/folders/sc/kmc7_9gn2hqd_lrnhdt_2s580000gn/T/ipykernel_36930/2556735345.py:60: UserWarning:\n",
      "\n",
      "This figure includes Axes that are not compatible with tight_layout, so results might be incorrect.\n",
      "\n"
     ]
    },
    {
     "name": "stdout",
     "output_type": "stream",
     "text": [
      "Warning: excludeThres option currently not supported. Resetting excludeThres to 0.\n",
      "Warning: excludeThres option currently not supported. Resetting excludeThres to 0.\n"
     ]
    },
    {
     "name": "stderr",
     "output_type": "stream",
     "text": [
      "/var/folders/sc/kmc7_9gn2hqd_lrnhdt_2s580000gn/T/ipykernel_36930/2556735345.py:60: UserWarning:\n",
      "\n",
      "This figure includes Axes that are not compatible with tight_layout, so results might be incorrect.\n",
      "\n"
     ]
    },
    {
     "name": "stdout",
     "output_type": "stream",
     "text": [
      "Warning: excludeThres option currently not supported. Resetting excludeThres to 0.\n",
      "Warning: excludeThres option currently not supported. Resetting excludeThres to 0.\n"
     ]
    },
    {
     "name": "stderr",
     "output_type": "stream",
     "text": [
      "/var/folders/sc/kmc7_9gn2hqd_lrnhdt_2s580000gn/T/ipykernel_36930/2556735345.py:60: UserWarning:\n",
      "\n",
      "This figure includes Axes that are not compatible with tight_layout, so results might be incorrect.\n",
      "\n"
     ]
    },
    {
     "name": "stdout",
     "output_type": "stream",
     "text": [
      "Warning: excludeThres option currently not supported. Resetting excludeThres to 0.\n",
      "Warning: excludeThres option currently not supported. Resetting excludeThres to 0.\n"
     ]
    },
    {
     "name": "stderr",
     "output_type": "stream",
     "text": [
      "/var/folders/sc/kmc7_9gn2hqd_lrnhdt_2s580000gn/T/ipykernel_36930/2556735345.py:60: UserWarning:\n",
      "\n",
      "This figure includes Axes that are not compatible with tight_layout, so results might be incorrect.\n",
      "\n"
     ]
    },
    {
     "name": "stdout",
     "output_type": "stream",
     "text": [
      "Warning: excludeThres option currently not supported. Resetting excludeThres to 0.\n",
      "Warning: excludeThres option currently not supported. Resetting excludeThres to 0.\n"
     ]
    },
    {
     "name": "stderr",
     "output_type": "stream",
     "text": [
      "/var/folders/sc/kmc7_9gn2hqd_lrnhdt_2s580000gn/T/ipykernel_36930/2556735345.py:60: UserWarning:\n",
      "\n",
      "This figure includes Axes that are not compatible with tight_layout, so results might be incorrect.\n",
      "\n"
     ]
    },
    {
     "name": "stdout",
     "output_type": "stream",
     "text": [
      "Warning: excludeThres option currently not supported. Resetting excludeThres to 0.\n",
      "Warning: excludeThres option currently not supported. Resetting excludeThres to 0.\n"
     ]
    },
    {
     "name": "stderr",
     "output_type": "stream",
     "text": [
      "/var/folders/sc/kmc7_9gn2hqd_lrnhdt_2s580000gn/T/ipykernel_36930/2556735345.py:60: UserWarning:\n",
      "\n",
      "This figure includes Axes that are not compatible with tight_layout, so results might be incorrect.\n",
      "\n"
     ]
    },
    {
     "name": "stdout",
     "output_type": "stream",
     "text": [
      "Warning: excludeThres option currently not supported. Resetting excludeThres to 0.\n",
      "Warning: excludeThres option currently not supported. Resetting excludeThres to 0.\n"
     ]
    },
    {
     "name": "stderr",
     "output_type": "stream",
     "text": [
      "/var/folders/sc/kmc7_9gn2hqd_lrnhdt_2s580000gn/T/ipykernel_36930/2556735345.py:60: UserWarning:\n",
      "\n",
      "This figure includes Axes that are not compatible with tight_layout, so results might be incorrect.\n",
      "\n"
     ]
    },
    {
     "name": "stdout",
     "output_type": "stream",
     "text": [
      "Warning: excludeThres option currently not supported. Resetting excludeThres to 0.\n",
      "Warning: excludeThres option currently not supported. Resetting excludeThres to 0.\n"
     ]
    },
    {
     "name": "stderr",
     "output_type": "stream",
     "text": [
      "/var/folders/sc/kmc7_9gn2hqd_lrnhdt_2s580000gn/T/ipykernel_36930/2556735345.py:60: UserWarning:\n",
      "\n",
      "This figure includes Axes that are not compatible with tight_layout, so results might be incorrect.\n",
      "\n"
     ]
    },
    {
     "name": "stdout",
     "output_type": "stream",
     "text": [
      "Warning: excludeThres option currently not supported. Resetting excludeThres to 0.\n",
      "Warning: excludeThres option currently not supported. Resetting excludeThres to 0.\n"
     ]
    },
    {
     "name": "stderr",
     "output_type": "stream",
     "text": [
      "/var/folders/sc/kmc7_9gn2hqd_lrnhdt_2s580000gn/T/ipykernel_36930/2556735345.py:60: UserWarning:\n",
      "\n",
      "This figure includes Axes that are not compatible with tight_layout, so results might be incorrect.\n",
      "\n"
     ]
    },
    {
     "name": "stdout",
     "output_type": "stream",
     "text": [
      "Warning: excludeThres option currently not supported. Resetting excludeThres to 0.\n",
      "Warning: excludeThres option currently not supported. Resetting excludeThres to 0.\n"
     ]
    },
    {
     "name": "stderr",
     "output_type": "stream",
     "text": [
      "/var/folders/sc/kmc7_9gn2hqd_lrnhdt_2s580000gn/T/ipykernel_36930/2556735345.py:60: UserWarning:\n",
      "\n",
      "This figure includes Axes that are not compatible with tight_layout, so results might be incorrect.\n",
      "\n"
     ]
    },
    {
     "name": "stdout",
     "output_type": "stream",
     "text": [
      "Warning: excludeThres option currently not supported. Resetting excludeThres to 0.\n",
      "Warning: excludeThres option currently not supported. Resetting excludeThres to 0.\n"
     ]
    },
    {
     "name": "stderr",
     "output_type": "stream",
     "text": [
      "/var/folders/sc/kmc7_9gn2hqd_lrnhdt_2s580000gn/T/ipykernel_36930/2556735345.py:60: UserWarning:\n",
      "\n",
      "This figure includes Axes that are not compatible with tight_layout, so results might be incorrect.\n",
      "\n"
     ]
    },
    {
     "name": "stdout",
     "output_type": "stream",
     "text": [
      "Warning: excludeThres option currently not supported. Resetting excludeThres to 0.\n",
      "Warning: excludeThres option currently not supported. Resetting excludeThres to 0.\n"
     ]
    },
    {
     "name": "stderr",
     "output_type": "stream",
     "text": [
      "/var/folders/sc/kmc7_9gn2hqd_lrnhdt_2s580000gn/T/ipykernel_36930/2556735345.py:60: UserWarning:\n",
      "\n",
      "This figure includes Axes that are not compatible with tight_layout, so results might be incorrect.\n",
      "\n"
     ]
    },
    {
     "name": "stdout",
     "output_type": "stream",
     "text": [
      "Warning: excludeThres option currently not supported. Resetting excludeThres to 0.\n",
      "Warning: excludeThres option currently not supported. Resetting excludeThres to 0.\n"
     ]
    },
    {
     "name": "stderr",
     "output_type": "stream",
     "text": [
      "/var/folders/sc/kmc7_9gn2hqd_lrnhdt_2s580000gn/T/ipykernel_36930/2556735345.py:60: UserWarning:\n",
      "\n",
      "This figure includes Axes that are not compatible with tight_layout, so results might be incorrect.\n",
      "\n"
     ]
    },
    {
     "name": "stdout",
     "output_type": "stream",
     "text": [
      "Warning: excludeThres option currently not supported. Resetting excludeThres to 0.\n",
      "Warning: excludeThres option currently not supported. Resetting excludeThres to 0.\n"
     ]
    },
    {
     "name": "stderr",
     "output_type": "stream",
     "text": [
      "/var/folders/sc/kmc7_9gn2hqd_lrnhdt_2s580000gn/T/ipykernel_36930/2556735345.py:60: UserWarning:\n",
      "\n",
      "This figure includes Axes that are not compatible with tight_layout, so results might be incorrect.\n",
      "\n"
     ]
    },
    {
     "name": "stdout",
     "output_type": "stream",
     "text": [
      "Warning: excludeThres option currently not supported. Resetting excludeThres to 0.\n",
      "Warning: excludeThres option currently not supported. Resetting excludeThres to 0.\n"
     ]
    },
    {
     "name": "stderr",
     "output_type": "stream",
     "text": [
      "/var/folders/sc/kmc7_9gn2hqd_lrnhdt_2s580000gn/T/ipykernel_36930/2556735345.py:60: UserWarning:\n",
      "\n",
      "This figure includes Axes that are not compatible with tight_layout, so results might be incorrect.\n",
      "\n"
     ]
    },
    {
     "name": "stdout",
     "output_type": "stream",
     "text": [
      "Warning: excludeThres option currently not supported. Resetting excludeThres to 0.\n",
      "Warning: excludeThres option currently not supported. Resetting excludeThres to 0.\n"
     ]
    },
    {
     "name": "stderr",
     "output_type": "stream",
     "text": [
      "/var/folders/sc/kmc7_9gn2hqd_lrnhdt_2s580000gn/T/ipykernel_36930/2556735345.py:60: UserWarning:\n",
      "\n",
      "This figure includes Axes that are not compatible with tight_layout, so results might be incorrect.\n",
      "\n"
     ]
    },
    {
     "name": "stdout",
     "output_type": "stream",
     "text": [
      "Warning: excludeThres option currently not supported. Resetting excludeThres to 0.\n",
      "Warning: excludeThres option currently not supported. Resetting excludeThres to 0.\n"
     ]
    },
    {
     "name": "stderr",
     "output_type": "stream",
     "text": [
      "/var/folders/sc/kmc7_9gn2hqd_lrnhdt_2s580000gn/T/ipykernel_36930/2556735345.py:60: UserWarning:\n",
      "\n",
      "This figure includes Axes that are not compatible with tight_layout, so results might be incorrect.\n",
      "\n"
     ]
    },
    {
     "name": "stdout",
     "output_type": "stream",
     "text": [
      "Warning: excludeThres option currently not supported. Resetting excludeThres to 0.\n",
      "Warning: excludeThres option currently not supported. Resetting excludeThres to 0.\n"
     ]
    },
    {
     "name": "stderr",
     "output_type": "stream",
     "text": [
      "/var/folders/sc/kmc7_9gn2hqd_lrnhdt_2s580000gn/T/ipykernel_36930/2556735345.py:60: UserWarning:\n",
      "\n",
      "This figure includes Axes that are not compatible with tight_layout, so results might be incorrect.\n",
      "\n"
     ]
    },
    {
     "name": "stdout",
     "output_type": "stream",
     "text": [
      "Warning: excludeThres option currently not supported. Resetting excludeThres to 0.\n",
      "Warning: excludeThres option currently not supported. Resetting excludeThres to 0.\n"
     ]
    },
    {
     "name": "stderr",
     "output_type": "stream",
     "text": [
      "/var/folders/sc/kmc7_9gn2hqd_lrnhdt_2s580000gn/T/ipykernel_36930/2556735345.py:60: UserWarning:\n",
      "\n",
      "This figure includes Axes that are not compatible with tight_layout, so results might be incorrect.\n",
      "\n"
     ]
    },
    {
     "name": "stdout",
     "output_type": "stream",
     "text": [
      "Warning: excludeThres option currently not supported. Resetting excludeThres to 0.\n",
      "Warning: excludeThres option currently not supported. Resetting excludeThres to 0.\n"
     ]
    },
    {
     "name": "stderr",
     "output_type": "stream",
     "text": [
      "/var/folders/sc/kmc7_9gn2hqd_lrnhdt_2s580000gn/T/ipykernel_36930/2556735345.py:60: UserWarning:\n",
      "\n",
      "This figure includes Axes that are not compatible with tight_layout, so results might be incorrect.\n",
      "\n"
     ]
    },
    {
     "name": "stdout",
     "output_type": "stream",
     "text": [
      "Warning: excludeThres option currently not supported. Resetting excludeThres to 0.\n",
      "Warning: excludeThres option currently not supported. Resetting excludeThres to 0.\n"
     ]
    },
    {
     "name": "stderr",
     "output_type": "stream",
     "text": [
      "/var/folders/sc/kmc7_9gn2hqd_lrnhdt_2s580000gn/T/ipykernel_36930/2556735345.py:60: UserWarning:\n",
      "\n",
      "This figure includes Axes that are not compatible with tight_layout, so results might be incorrect.\n",
      "\n"
     ]
    },
    {
     "name": "stdout",
     "output_type": "stream",
     "text": [
      "Warning: excludeThres option currently not supported. Resetting excludeThres to 0.\n",
      "Warning: excludeThres option currently not supported. Resetting excludeThres to 0.\n"
     ]
    },
    {
     "name": "stderr",
     "output_type": "stream",
     "text": [
      "/var/folders/sc/kmc7_9gn2hqd_lrnhdt_2s580000gn/T/ipykernel_36930/2556735345.py:60: UserWarning:\n",
      "\n",
      "This figure includes Axes that are not compatible with tight_layout, so results might be incorrect.\n",
      "\n"
     ]
    },
    {
     "name": "stdout",
     "output_type": "stream",
     "text": [
      "Warning: excludeThres option currently not supported. Resetting excludeThres to 0.\n",
      "Warning: excludeThres option currently not supported. Resetting excludeThres to 0.\n"
     ]
    },
    {
     "name": "stderr",
     "output_type": "stream",
     "text": [
      "/var/folders/sc/kmc7_9gn2hqd_lrnhdt_2s580000gn/T/ipykernel_36930/2556735345.py:60: UserWarning:\n",
      "\n",
      "This figure includes Axes that are not compatible with tight_layout, so results might be incorrect.\n",
      "\n"
     ]
    },
    {
     "name": "stdout",
     "output_type": "stream",
     "text": [
      "Warning: excludeThres option currently not supported. Resetting excludeThres to 0.\n",
      "Warning: excludeThres option currently not supported. Resetting excludeThres to 0.\n"
     ]
    },
    {
     "name": "stderr",
     "output_type": "stream",
     "text": [
      "/var/folders/sc/kmc7_9gn2hqd_lrnhdt_2s580000gn/T/ipykernel_36930/2556735345.py:60: UserWarning:\n",
      "\n",
      "This figure includes Axes that are not compatible with tight_layout, so results might be incorrect.\n",
      "\n"
     ]
    },
    {
     "name": "stdout",
     "output_type": "stream",
     "text": [
      "Warning: excludeThres option currently not supported. Resetting excludeThres to 0.\n",
      "Warning: excludeThres option currently not supported. Resetting excludeThres to 0.\n"
     ]
    },
    {
     "name": "stderr",
     "output_type": "stream",
     "text": [
      "/var/folders/sc/kmc7_9gn2hqd_lrnhdt_2s580000gn/T/ipykernel_36930/2556735345.py:60: UserWarning:\n",
      "\n",
      "This figure includes Axes that are not compatible with tight_layout, so results might be incorrect.\n",
      "\n"
     ]
    },
    {
     "name": "stdout",
     "output_type": "stream",
     "text": [
      "Warning: excludeThres option currently not supported. Resetting excludeThres to 0.\n",
      "Warning: excludeThres option currently not supported. Resetting excludeThres to 0.\n"
     ]
    },
    {
     "name": "stderr",
     "output_type": "stream",
     "text": [
      "/var/folders/sc/kmc7_9gn2hqd_lrnhdt_2s580000gn/T/ipykernel_36930/2556735345.py:60: UserWarning:\n",
      "\n",
      "This figure includes Axes that are not compatible with tight_layout, so results might be incorrect.\n",
      "\n"
     ]
    },
    {
     "name": "stdout",
     "output_type": "stream",
     "text": [
      "Warning: excludeThres option currently not supported. Resetting excludeThres to 0.\n",
      "Warning: excludeThres option currently not supported. Resetting excludeThres to 0.\n"
     ]
    },
    {
     "name": "stderr",
     "output_type": "stream",
     "text": [
      "/var/folders/sc/kmc7_9gn2hqd_lrnhdt_2s580000gn/T/ipykernel_36930/2556735345.py:60: UserWarning:\n",
      "\n",
      "This figure includes Axes that are not compatible with tight_layout, so results might be incorrect.\n",
      "\n"
     ]
    },
    {
     "name": "stdout",
     "output_type": "stream",
     "text": [
      "Warning: excludeThres option currently not supported. Resetting excludeThres to 0.\n",
      "Warning: excludeThres option currently not supported. Resetting excludeThres to 0.\n"
     ]
    },
    {
     "name": "stderr",
     "output_type": "stream",
     "text": [
      "/var/folders/sc/kmc7_9gn2hqd_lrnhdt_2s580000gn/T/ipykernel_36930/2556735345.py:60: UserWarning:\n",
      "\n",
      "This figure includes Axes that are not compatible with tight_layout, so results might be incorrect.\n",
      "\n"
     ]
    },
    {
     "name": "stdout",
     "output_type": "stream",
     "text": [
      "Warning: excludeThres option currently not supported. Resetting excludeThres to 0.\n",
      "Warning: excludeThres option currently not supported. Resetting excludeThres to 0.\n"
     ]
    },
    {
     "name": "stderr",
     "output_type": "stream",
     "text": [
      "/var/folders/sc/kmc7_9gn2hqd_lrnhdt_2s580000gn/T/ipykernel_36930/2556735345.py:60: UserWarning:\n",
      "\n",
      "This figure includes Axes that are not compatible with tight_layout, so results might be incorrect.\n",
      "\n"
     ]
    },
    {
     "name": "stdout",
     "output_type": "stream",
     "text": [
      "Warning: excludeThres option currently not supported. Resetting excludeThres to 0.\n",
      "Warning: excludeThres option currently not supported. Resetting excludeThres to 0.\n"
     ]
    },
    {
     "name": "stderr",
     "output_type": "stream",
     "text": [
      "/var/folders/sc/kmc7_9gn2hqd_lrnhdt_2s580000gn/T/ipykernel_36930/2556735345.py:60: UserWarning:\n",
      "\n",
      "This figure includes Axes that are not compatible with tight_layout, so results might be incorrect.\n",
      "\n"
     ]
    },
    {
     "name": "stdout",
     "output_type": "stream",
     "text": [
      "Warning: excludeThres option currently not supported. Resetting excludeThres to 0.\n",
      "Warning: excludeThres option currently not supported. Resetting excludeThres to 0.\n"
     ]
    },
    {
     "name": "stderr",
     "output_type": "stream",
     "text": [
      "/var/folders/sc/kmc7_9gn2hqd_lrnhdt_2s580000gn/T/ipykernel_36930/2556735345.py:60: UserWarning:\n",
      "\n",
      "This figure includes Axes that are not compatible with tight_layout, so results might be incorrect.\n",
      "\n"
     ]
    },
    {
     "name": "stdout",
     "output_type": "stream",
     "text": [
      "Warning: excludeThres option currently not supported. Resetting excludeThres to 0.\n",
      "Warning: excludeThres option currently not supported. Resetting excludeThres to 0.\n"
     ]
    },
    {
     "name": "stderr",
     "output_type": "stream",
     "text": [
      "/var/folders/sc/kmc7_9gn2hqd_lrnhdt_2s580000gn/T/ipykernel_36930/2556735345.py:60: UserWarning:\n",
      "\n",
      "This figure includes Axes that are not compatible with tight_layout, so results might be incorrect.\n",
      "\n"
     ]
    },
    {
     "name": "stdout",
     "output_type": "stream",
     "text": [
      "Warning: excludeThres option currently not supported. Resetting excludeThres to 0.\n",
      "Warning: excludeThres option currently not supported. Resetting excludeThres to 0.\n"
     ]
    },
    {
     "name": "stderr",
     "output_type": "stream",
     "text": [
      "/var/folders/sc/kmc7_9gn2hqd_lrnhdt_2s580000gn/T/ipykernel_36930/2556735345.py:60: UserWarning:\n",
      "\n",
      "This figure includes Axes that are not compatible with tight_layout, so results might be incorrect.\n",
      "\n"
     ]
    },
    {
     "name": "stdout",
     "output_type": "stream",
     "text": [
      "Warning: excludeThres option currently not supported. Resetting excludeThres to 0.\n",
      "Warning: excludeThres option currently not supported. Resetting excludeThres to 0.\n"
     ]
    },
    {
     "name": "stderr",
     "output_type": "stream",
     "text": [
      "/var/folders/sc/kmc7_9gn2hqd_lrnhdt_2s580000gn/T/ipykernel_36930/2556735345.py:60: UserWarning:\n",
      "\n",
      "This figure includes Axes that are not compatible with tight_layout, so results might be incorrect.\n",
      "\n"
     ]
    },
    {
     "name": "stdout",
     "output_type": "stream",
     "text": [
      "Warning: excludeThres option currently not supported. Resetting excludeThres to 0.\n",
      "Warning: excludeThres option currently not supported. Resetting excludeThres to 0.\n"
     ]
    },
    {
     "name": "stderr",
     "output_type": "stream",
     "text": [
      "/var/folders/sc/kmc7_9gn2hqd_lrnhdt_2s580000gn/T/ipykernel_36930/2556735345.py:60: UserWarning:\n",
      "\n",
      "This figure includes Axes that are not compatible with tight_layout, so results might be incorrect.\n",
      "\n"
     ]
    },
    {
     "name": "stdout",
     "output_type": "stream",
     "text": [
      "Warning: excludeThres option currently not supported. Resetting excludeThres to 0.\n",
      "Warning: excludeThres option currently not supported. Resetting excludeThres to 0.\n"
     ]
    },
    {
     "name": "stderr",
     "output_type": "stream",
     "text": [
      "/var/folders/sc/kmc7_9gn2hqd_lrnhdt_2s580000gn/T/ipykernel_36930/2556735345.py:60: UserWarning:\n",
      "\n",
      "This figure includes Axes that are not compatible with tight_layout, so results might be incorrect.\n",
      "\n"
     ]
    },
    {
     "name": "stdout",
     "output_type": "stream",
     "text": [
      "Warning: excludeThres option currently not supported. Resetting excludeThres to 0.\n",
      "Warning: excludeThres option currently not supported. Resetting excludeThres to 0.\n"
     ]
    },
    {
     "name": "stderr",
     "output_type": "stream",
     "text": [
      "/var/folders/sc/kmc7_9gn2hqd_lrnhdt_2s580000gn/T/ipykernel_36930/2556735345.py:60: UserWarning:\n",
      "\n",
      "This figure includes Axes that are not compatible with tight_layout, so results might be incorrect.\n",
      "\n"
     ]
    },
    {
     "name": "stdout",
     "output_type": "stream",
     "text": [
      "Warning: excludeThres option currently not supported. Resetting excludeThres to 0.\n",
      "Warning: excludeThres option currently not supported. Resetting excludeThres to 0.\n"
     ]
    },
    {
     "name": "stderr",
     "output_type": "stream",
     "text": [
      "/var/folders/sc/kmc7_9gn2hqd_lrnhdt_2s580000gn/T/ipykernel_36930/2556735345.py:60: UserWarning:\n",
      "\n",
      "This figure includes Axes that are not compatible with tight_layout, so results might be incorrect.\n",
      "\n"
     ]
    },
    {
     "name": "stdout",
     "output_type": "stream",
     "text": [
      "Warning: excludeThres option currently not supported. Resetting excludeThres to 0.\n",
      "Warning: excludeThres option currently not supported. Resetting excludeThres to 0.\n"
     ]
    },
    {
     "name": "stderr",
     "output_type": "stream",
     "text": [
      "/var/folders/sc/kmc7_9gn2hqd_lrnhdt_2s580000gn/T/ipykernel_36930/2556735345.py:60: UserWarning:\n",
      "\n",
      "This figure includes Axes that are not compatible with tight_layout, so results might be incorrect.\n",
      "\n"
     ]
    },
    {
     "name": "stdout",
     "output_type": "stream",
     "text": [
      "Warning: excludeThres option currently not supported. Resetting excludeThres to 0.\n",
      "Warning: excludeThres option currently not supported. Resetting excludeThres to 0.\n"
     ]
    },
    {
     "name": "stderr",
     "output_type": "stream",
     "text": [
      "/var/folders/sc/kmc7_9gn2hqd_lrnhdt_2s580000gn/T/ipykernel_36930/2556735345.py:60: UserWarning:\n",
      "\n",
      "This figure includes Axes that are not compatible with tight_layout, so results might be incorrect.\n",
      "\n"
     ]
    },
    {
     "name": "stdout",
     "output_type": "stream",
     "text": [
      "Warning: excludeThres option currently not supported. Resetting excludeThres to 0.\n",
      "Warning: excludeThres option currently not supported. Resetting excludeThres to 0.\n"
     ]
    },
    {
     "name": "stderr",
     "output_type": "stream",
     "text": [
      "/var/folders/sc/kmc7_9gn2hqd_lrnhdt_2s580000gn/T/ipykernel_36930/2556735345.py:60: UserWarning:\n",
      "\n",
      "This figure includes Axes that are not compatible with tight_layout, so results might be incorrect.\n",
      "\n"
     ]
    },
    {
     "name": "stdout",
     "output_type": "stream",
     "text": [
      "Warning: excludeThres option currently not supported. Resetting excludeThres to 0.\n",
      "Warning: excludeThres option currently not supported. Resetting excludeThres to 0.\n"
     ]
    },
    {
     "name": "stderr",
     "output_type": "stream",
     "text": [
      "/var/folders/sc/kmc7_9gn2hqd_lrnhdt_2s580000gn/T/ipykernel_36930/2556735345.py:60: UserWarning:\n",
      "\n",
      "This figure includes Axes that are not compatible with tight_layout, so results might be incorrect.\n",
      "\n"
     ]
    },
    {
     "name": "stdout",
     "output_type": "stream",
     "text": [
      "Warning: excludeThres option currently not supported. Resetting excludeThres to 0.\n",
      "Warning: excludeThres option currently not supported. Resetting excludeThres to 0.\n"
     ]
    },
    {
     "name": "stderr",
     "output_type": "stream",
     "text": [
      "/var/folders/sc/kmc7_9gn2hqd_lrnhdt_2s580000gn/T/ipykernel_36930/2556735345.py:60: UserWarning:\n",
      "\n",
      "This figure includes Axes that are not compatible with tight_layout, so results might be incorrect.\n",
      "\n"
     ]
    },
    {
     "name": "stdout",
     "output_type": "stream",
     "text": [
      "Warning: excludeThres option currently not supported. Resetting excludeThres to 0.\n",
      "Warning: excludeThres option currently not supported. Resetting excludeThres to 0.\n"
     ]
    },
    {
     "name": "stderr",
     "output_type": "stream",
     "text": [
      "/var/folders/sc/kmc7_9gn2hqd_lrnhdt_2s580000gn/T/ipykernel_36930/2556735345.py:60: UserWarning:\n",
      "\n",
      "This figure includes Axes that are not compatible with tight_layout, so results might be incorrect.\n",
      "\n"
     ]
    },
    {
     "name": "stdout",
     "output_type": "stream",
     "text": [
      "Warning: excludeThres option currently not supported. Resetting excludeThres to 0.\n",
      "Warning: excludeThres option currently not supported. Resetting excludeThres to 0.\n"
     ]
    },
    {
     "name": "stderr",
     "output_type": "stream",
     "text": [
      "/var/folders/sc/kmc7_9gn2hqd_lrnhdt_2s580000gn/T/ipykernel_36930/2556735345.py:60: UserWarning:\n",
      "\n",
      "This figure includes Axes that are not compatible with tight_layout, so results might be incorrect.\n",
      "\n"
     ]
    },
    {
     "name": "stdout",
     "output_type": "stream",
     "text": [
      "Warning: excludeThres option currently not supported. Resetting excludeThres to 0.\n",
      "Warning: excludeThres option currently not supported. Resetting excludeThres to 0.\n"
     ]
    },
    {
     "name": "stderr",
     "output_type": "stream",
     "text": [
      "/var/folders/sc/kmc7_9gn2hqd_lrnhdt_2s580000gn/T/ipykernel_36930/2556735345.py:60: UserWarning:\n",
      "\n",
      "This figure includes Axes that are not compatible with tight_layout, so results might be incorrect.\n",
      "\n"
     ]
    },
    {
     "name": "stdout",
     "output_type": "stream",
     "text": [
      "Warning: excludeThres option currently not supported. Resetting excludeThres to 0.\n",
      "Warning: excludeThres option currently not supported. Resetting excludeThres to 0.\n"
     ]
    },
    {
     "name": "stderr",
     "output_type": "stream",
     "text": [
      "/var/folders/sc/kmc7_9gn2hqd_lrnhdt_2s580000gn/T/ipykernel_36930/2556735345.py:60: UserWarning:\n",
      "\n",
      "This figure includes Axes that are not compatible with tight_layout, so results might be incorrect.\n",
      "\n"
     ]
    },
    {
     "name": "stdout",
     "output_type": "stream",
     "text": [
      "Warning: excludeThres option currently not supported. Resetting excludeThres to 0.\n",
      "Warning: excludeThres option currently not supported. Resetting excludeThres to 0.\n"
     ]
    },
    {
     "name": "stderr",
     "output_type": "stream",
     "text": [
      "/var/folders/sc/kmc7_9gn2hqd_lrnhdt_2s580000gn/T/ipykernel_36930/2556735345.py:60: UserWarning:\n",
      "\n",
      "This figure includes Axes that are not compatible with tight_layout, so results might be incorrect.\n",
      "\n"
     ]
    },
    {
     "name": "stdout",
     "output_type": "stream",
     "text": [
      "Warning: excludeThres option currently not supported. Resetting excludeThres to 0.\n",
      "Warning: excludeThres option currently not supported. Resetting excludeThres to 0.\n"
     ]
    },
    {
     "name": "stderr",
     "output_type": "stream",
     "text": [
      "/var/folders/sc/kmc7_9gn2hqd_lrnhdt_2s580000gn/T/ipykernel_36930/2556735345.py:60: UserWarning:\n",
      "\n",
      "This figure includes Axes that are not compatible with tight_layout, so results might be incorrect.\n",
      "\n"
     ]
    },
    {
     "name": "stdout",
     "output_type": "stream",
     "text": [
      "Warning: excludeThres option currently not supported. Resetting excludeThres to 0.\n",
      "Warning: excludeThres option currently not supported. Resetting excludeThres to 0.\n"
     ]
    },
    {
     "name": "stderr",
     "output_type": "stream",
     "text": [
      "/var/folders/sc/kmc7_9gn2hqd_lrnhdt_2s580000gn/T/ipykernel_36930/2556735345.py:60: UserWarning:\n",
      "\n",
      "This figure includes Axes that are not compatible with tight_layout, so results might be incorrect.\n",
      "\n"
     ]
    },
    {
     "name": "stdout",
     "output_type": "stream",
     "text": [
      "Warning: excludeThres option currently not supported. Resetting excludeThres to 0.\n",
      "Warning: excludeThres option currently not supported. Resetting excludeThres to 0.\n"
     ]
    },
    {
     "name": "stderr",
     "output_type": "stream",
     "text": [
      "/var/folders/sc/kmc7_9gn2hqd_lrnhdt_2s580000gn/T/ipykernel_36930/2556735345.py:60: UserWarning:\n",
      "\n",
      "This figure includes Axes that are not compatible with tight_layout, so results might be incorrect.\n",
      "\n"
     ]
    },
    {
     "name": "stdout",
     "output_type": "stream",
     "text": [
      "Warning: excludeThres option currently not supported. Resetting excludeThres to 0.\n",
      "Warning: excludeThres option currently not supported. Resetting excludeThres to 0.\n"
     ]
    },
    {
     "name": "stderr",
     "output_type": "stream",
     "text": [
      "/var/folders/sc/kmc7_9gn2hqd_lrnhdt_2s580000gn/T/ipykernel_36930/2556735345.py:60: UserWarning:\n",
      "\n",
      "This figure includes Axes that are not compatible with tight_layout, so results might be incorrect.\n",
      "\n"
     ]
    },
    {
     "name": "stdout",
     "output_type": "stream",
     "text": [
      "Warning: excludeThres option currently not supported. Resetting excludeThres to 0.\n",
      "Warning: excludeThres option currently not supported. Resetting excludeThres to 0.\n"
     ]
    },
    {
     "name": "stderr",
     "output_type": "stream",
     "text": [
      "/var/folders/sc/kmc7_9gn2hqd_lrnhdt_2s580000gn/T/ipykernel_36930/2556735345.py:60: UserWarning:\n",
      "\n",
      "This figure includes Axes that are not compatible with tight_layout, so results might be incorrect.\n",
      "\n"
     ]
    },
    {
     "name": "stdout",
     "output_type": "stream",
     "text": [
      "Warning: excludeThres option currently not supported. Resetting excludeThres to 0.\n",
      "Warning: excludeThres option currently not supported. Resetting excludeThres to 0.\n"
     ]
    },
    {
     "name": "stderr",
     "output_type": "stream",
     "text": [
      "/var/folders/sc/kmc7_9gn2hqd_lrnhdt_2s580000gn/T/ipykernel_36930/2556735345.py:60: UserWarning:\n",
      "\n",
      "This figure includes Axes that are not compatible with tight_layout, so results might be incorrect.\n",
      "\n"
     ]
    },
    {
     "name": "stdout",
     "output_type": "stream",
     "text": [
      "Warning: excludeThres option currently not supported. Resetting excludeThres to 0.\n",
      "Warning: excludeThres option currently not supported. Resetting excludeThres to 0.\n"
     ]
    },
    {
     "name": "stderr",
     "output_type": "stream",
     "text": [
      "/var/folders/sc/kmc7_9gn2hqd_lrnhdt_2s580000gn/T/ipykernel_36930/2556735345.py:60: UserWarning:\n",
      "\n",
      "This figure includes Axes that are not compatible with tight_layout, so results might be incorrect.\n",
      "\n"
     ]
    },
    {
     "name": "stdout",
     "output_type": "stream",
     "text": [
      "Warning: excludeThres option currently not supported. Resetting excludeThres to 0.\n",
      "Warning: excludeThres option currently not supported. Resetting excludeThres to 0.\n"
     ]
    },
    {
     "name": "stderr",
     "output_type": "stream",
     "text": [
      "/var/folders/sc/kmc7_9gn2hqd_lrnhdt_2s580000gn/T/ipykernel_36930/2556735345.py:60: UserWarning:\n",
      "\n",
      "This figure includes Axes that are not compatible with tight_layout, so results might be incorrect.\n",
      "\n"
     ]
    },
    {
     "name": "stdout",
     "output_type": "stream",
     "text": [
      "Warning: excludeThres option currently not supported. Resetting excludeThres to 0.\n",
      "Warning: excludeThres option currently not supported. Resetting excludeThres to 0.\n"
     ]
    },
    {
     "name": "stderr",
     "output_type": "stream",
     "text": [
      "/var/folders/sc/kmc7_9gn2hqd_lrnhdt_2s580000gn/T/ipykernel_36930/2556735345.py:60: UserWarning:\n",
      "\n",
      "This figure includes Axes that are not compatible with tight_layout, so results might be incorrect.\n",
      "\n"
     ]
    },
    {
     "name": "stdout",
     "output_type": "stream",
     "text": [
      "Warning: excludeThres option currently not supported. Resetting excludeThres to 0.\n",
      "Warning: excludeThres option currently not supported. Resetting excludeThres to 0.\n"
     ]
    },
    {
     "name": "stderr",
     "output_type": "stream",
     "text": [
      "/var/folders/sc/kmc7_9gn2hqd_lrnhdt_2s580000gn/T/ipykernel_36930/2556735345.py:60: UserWarning:\n",
      "\n",
      "This figure includes Axes that are not compatible with tight_layout, so results might be incorrect.\n",
      "\n"
     ]
    },
    {
     "name": "stdout",
     "output_type": "stream",
     "text": [
      "Warning: excludeThres option currently not supported. Resetting excludeThres to 0.\n",
      "Warning: excludeThres option currently not supported. Resetting excludeThres to 0.\n"
     ]
    },
    {
     "name": "stderr",
     "output_type": "stream",
     "text": [
      "/var/folders/sc/kmc7_9gn2hqd_lrnhdt_2s580000gn/T/ipykernel_36930/2556735345.py:60: UserWarning:\n",
      "\n",
      "This figure includes Axes that are not compatible with tight_layout, so results might be incorrect.\n",
      "\n"
     ]
    },
    {
     "name": "stdout",
     "output_type": "stream",
     "text": [
      "Warning: excludeThres option currently not supported. Resetting excludeThres to 0.\n",
      "Warning: excludeThres option currently not supported. Resetting excludeThres to 0.\n"
     ]
    },
    {
     "name": "stderr",
     "output_type": "stream",
     "text": [
      "/var/folders/sc/kmc7_9gn2hqd_lrnhdt_2s580000gn/T/ipykernel_36930/2556735345.py:60: UserWarning:\n",
      "\n",
      "This figure includes Axes that are not compatible with tight_layout, so results might be incorrect.\n",
      "\n"
     ]
    },
    {
     "name": "stdout",
     "output_type": "stream",
     "text": [
      "Warning: excludeThres option currently not supported. Resetting excludeThres to 0.\n",
      "Warning: excludeThres option currently not supported. Resetting excludeThres to 0.\n"
     ]
    },
    {
     "name": "stderr",
     "output_type": "stream",
     "text": [
      "/var/folders/sc/kmc7_9gn2hqd_lrnhdt_2s580000gn/T/ipykernel_36930/2556735345.py:60: UserWarning:\n",
      "\n",
      "This figure includes Axes that are not compatible with tight_layout, so results might be incorrect.\n",
      "\n"
     ]
    },
    {
     "name": "stdout",
     "output_type": "stream",
     "text": [
      "Warning: excludeThres option currently not supported. Resetting excludeThres to 0.\n",
      "Warning: excludeThres option currently not supported. Resetting excludeThres to 0.\n"
     ]
    },
    {
     "name": "stderr",
     "output_type": "stream",
     "text": [
      "/var/folders/sc/kmc7_9gn2hqd_lrnhdt_2s580000gn/T/ipykernel_36930/2556735345.py:60: UserWarning:\n",
      "\n",
      "This figure includes Axes that are not compatible with tight_layout, so results might be incorrect.\n",
      "\n"
     ]
    },
    {
     "name": "stdout",
     "output_type": "stream",
     "text": [
      "Warning: excludeThres option currently not supported. Resetting excludeThres to 0.\n",
      "Warning: excludeThres option currently not supported. Resetting excludeThres to 0.\n"
     ]
    },
    {
     "name": "stderr",
     "output_type": "stream",
     "text": [
      "/var/folders/sc/kmc7_9gn2hqd_lrnhdt_2s580000gn/T/ipykernel_36930/2556735345.py:60: UserWarning:\n",
      "\n",
      "This figure includes Axes that are not compatible with tight_layout, so results might be incorrect.\n",
      "\n"
     ]
    },
    {
     "name": "stdout",
     "output_type": "stream",
     "text": [
      "Warning: excludeThres option currently not supported. Resetting excludeThres to 0.\n",
      "Warning: excludeThres option currently not supported. Resetting excludeThres to 0.\n"
     ]
    },
    {
     "name": "stderr",
     "output_type": "stream",
     "text": [
      "/var/folders/sc/kmc7_9gn2hqd_lrnhdt_2s580000gn/T/ipykernel_36930/2556735345.py:60: UserWarning:\n",
      "\n",
      "This figure includes Axes that are not compatible with tight_layout, so results might be incorrect.\n",
      "\n"
     ]
    },
    {
     "name": "stdout",
     "output_type": "stream",
     "text": [
      "Warning: excludeThres option currently not supported. Resetting excludeThres to 0.\n",
      "Warning: excludeThres option currently not supported. Resetting excludeThres to 0.\n"
     ]
    },
    {
     "name": "stderr",
     "output_type": "stream",
     "text": [
      "/var/folders/sc/kmc7_9gn2hqd_lrnhdt_2s580000gn/T/ipykernel_36930/2556735345.py:60: UserWarning:\n",
      "\n",
      "This figure includes Axes that are not compatible with tight_layout, so results might be incorrect.\n",
      "\n"
     ]
    },
    {
     "name": "stdout",
     "output_type": "stream",
     "text": [
      "Warning: excludeThres option currently not supported. Resetting excludeThres to 0.\n",
      "Warning: excludeThres option currently not supported. Resetting excludeThres to 0.\n"
     ]
    },
    {
     "name": "stderr",
     "output_type": "stream",
     "text": [
      "/var/folders/sc/kmc7_9gn2hqd_lrnhdt_2s580000gn/T/ipykernel_36930/2556735345.py:60: UserWarning:\n",
      "\n",
      "This figure includes Axes that are not compatible with tight_layout, so results might be incorrect.\n",
      "\n"
     ]
    },
    {
     "name": "stdout",
     "output_type": "stream",
     "text": [
      "Warning: excludeThres option currently not supported. Resetting excludeThres to 0.\n",
      "Warning: excludeThres option currently not supported. Resetting excludeThres to 0.\n"
     ]
    },
    {
     "name": "stderr",
     "output_type": "stream",
     "text": [
      "/var/folders/sc/kmc7_9gn2hqd_lrnhdt_2s580000gn/T/ipykernel_36930/2556735345.py:60: UserWarning:\n",
      "\n",
      "This figure includes Axes that are not compatible with tight_layout, so results might be incorrect.\n",
      "\n"
     ]
    },
    {
     "name": "stdout",
     "output_type": "stream",
     "text": [
      "Warning: excludeThres option currently not supported. Resetting excludeThres to 0.\n",
      "Warning: excludeThres option currently not supported. Resetting excludeThres to 0.\n"
     ]
    },
    {
     "name": "stderr",
     "output_type": "stream",
     "text": [
      "/var/folders/sc/kmc7_9gn2hqd_lrnhdt_2s580000gn/T/ipykernel_36930/2556735345.py:60: UserWarning:\n",
      "\n",
      "This figure includes Axes that are not compatible with tight_layout, so results might be incorrect.\n",
      "\n"
     ]
    },
    {
     "name": "stdout",
     "output_type": "stream",
     "text": [
      "Warning: excludeThres option currently not supported. Resetting excludeThres to 0.\n",
      "Warning: excludeThres option currently not supported. Resetting excludeThres to 0.\n"
     ]
    },
    {
     "name": "stderr",
     "output_type": "stream",
     "text": [
      "/var/folders/sc/kmc7_9gn2hqd_lrnhdt_2s580000gn/T/ipykernel_36930/2556735345.py:60: UserWarning:\n",
      "\n",
      "This figure includes Axes that are not compatible with tight_layout, so results might be incorrect.\n",
      "\n"
     ]
    },
    {
     "name": "stdout",
     "output_type": "stream",
     "text": [
      "Warning: excludeThres option currently not supported. Resetting excludeThres to 0.\n",
      "Warning: excludeThres option currently not supported. Resetting excludeThres to 0.\n"
     ]
    },
    {
     "name": "stderr",
     "output_type": "stream",
     "text": [
      "/var/folders/sc/kmc7_9gn2hqd_lrnhdt_2s580000gn/T/ipykernel_36930/2556735345.py:60: UserWarning:\n",
      "\n",
      "This figure includes Axes that are not compatible with tight_layout, so results might be incorrect.\n",
      "\n"
     ]
    },
    {
     "name": "stdout",
     "output_type": "stream",
     "text": [
      "Warning: excludeThres option currently not supported. Resetting excludeThres to 0.\n",
      "Warning: excludeThres option currently not supported. Resetting excludeThres to 0.\n"
     ]
    },
    {
     "name": "stderr",
     "output_type": "stream",
     "text": [
      "/var/folders/sc/kmc7_9gn2hqd_lrnhdt_2s580000gn/T/ipykernel_36930/2556735345.py:60: UserWarning:\n",
      "\n",
      "This figure includes Axes that are not compatible with tight_layout, so results might be incorrect.\n",
      "\n"
     ]
    },
    {
     "name": "stdout",
     "output_type": "stream",
     "text": [
      "Warning: excludeThres option currently not supported. Resetting excludeThres to 0.\n",
      "Warning: excludeThres option currently not supported. Resetting excludeThres to 0.\n"
     ]
    },
    {
     "name": "stderr",
     "output_type": "stream",
     "text": [
      "/var/folders/sc/kmc7_9gn2hqd_lrnhdt_2s580000gn/T/ipykernel_36930/2556735345.py:60: UserWarning:\n",
      "\n",
      "This figure includes Axes that are not compatible with tight_layout, so results might be incorrect.\n",
      "\n"
     ]
    },
    {
     "name": "stdout",
     "output_type": "stream",
     "text": [
      "Warning: excludeThres option currently not supported. Resetting excludeThres to 0.\n",
      "Warning: excludeThres option currently not supported. Resetting excludeThres to 0.\n"
     ]
    },
    {
     "name": "stderr",
     "output_type": "stream",
     "text": [
      "/var/folders/sc/kmc7_9gn2hqd_lrnhdt_2s580000gn/T/ipykernel_36930/2556735345.py:60: UserWarning:\n",
      "\n",
      "This figure includes Axes that are not compatible with tight_layout, so results might be incorrect.\n",
      "\n"
     ]
    },
    {
     "name": "stdout",
     "output_type": "stream",
     "text": [
      "Warning: excludeThres option currently not supported. Resetting excludeThres to 0.\n",
      "Warning: excludeThres option currently not supported. Resetting excludeThres to 0.\n"
     ]
    },
    {
     "name": "stderr",
     "output_type": "stream",
     "text": [
      "/var/folders/sc/kmc7_9gn2hqd_lrnhdt_2s580000gn/T/ipykernel_36930/2556735345.py:60: UserWarning:\n",
      "\n",
      "This figure includes Axes that are not compatible with tight_layout, so results might be incorrect.\n",
      "\n"
     ]
    },
    {
     "name": "stdout",
     "output_type": "stream",
     "text": [
      "Warning: excludeThres option currently not supported. Resetting excludeThres to 0.\n",
      "Warning: excludeThres option currently not supported. Resetting excludeThres to 0.\n"
     ]
    },
    {
     "name": "stderr",
     "output_type": "stream",
     "text": [
      "/var/folders/sc/kmc7_9gn2hqd_lrnhdt_2s580000gn/T/ipykernel_36930/2556735345.py:60: UserWarning:\n",
      "\n",
      "This figure includes Axes that are not compatible with tight_layout, so results might be incorrect.\n",
      "\n"
     ]
    },
    {
     "name": "stdout",
     "output_type": "stream",
     "text": [
      "Warning: excludeThres option currently not supported. Resetting excludeThres to 0.\n",
      "Warning: excludeThres option currently not supported. Resetting excludeThres to 0.\n"
     ]
    },
    {
     "name": "stderr",
     "output_type": "stream",
     "text": [
      "/var/folders/sc/kmc7_9gn2hqd_lrnhdt_2s580000gn/T/ipykernel_36930/2556735345.py:60: UserWarning:\n",
      "\n",
      "This figure includes Axes that are not compatible with tight_layout, so results might be incorrect.\n",
      "\n"
     ]
    },
    {
     "name": "stdout",
     "output_type": "stream",
     "text": [
      "Warning: excludeThres option currently not supported. Resetting excludeThres to 0.\n",
      "Warning: excludeThres option currently not supported. Resetting excludeThres to 0.\n"
     ]
    },
    {
     "name": "stderr",
     "output_type": "stream",
     "text": [
      "/var/folders/sc/kmc7_9gn2hqd_lrnhdt_2s580000gn/T/ipykernel_36930/2556735345.py:60: UserWarning:\n",
      "\n",
      "This figure includes Axes that are not compatible with tight_layout, so results might be incorrect.\n",
      "\n"
     ]
    },
    {
     "name": "stdout",
     "output_type": "stream",
     "text": [
      "Warning: excludeThres option currently not supported. Resetting excludeThres to 0.\n",
      "Warning: excludeThres option currently not supported. Resetting excludeThres to 0.\n"
     ]
    },
    {
     "name": "stderr",
     "output_type": "stream",
     "text": [
      "/var/folders/sc/kmc7_9gn2hqd_lrnhdt_2s580000gn/T/ipykernel_36930/2556735345.py:60: UserWarning:\n",
      "\n",
      "This figure includes Axes that are not compatible with tight_layout, so results might be incorrect.\n",
      "\n"
     ]
    },
    {
     "name": "stdout",
     "output_type": "stream",
     "text": [
      "Warning: excludeThres option currently not supported. Resetting excludeThres to 0.\n",
      "Warning: excludeThres option currently not supported. Resetting excludeThres to 0.\n"
     ]
    },
    {
     "name": "stderr",
     "output_type": "stream",
     "text": [
      "/var/folders/sc/kmc7_9gn2hqd_lrnhdt_2s580000gn/T/ipykernel_36930/2556735345.py:60: UserWarning:\n",
      "\n",
      "This figure includes Axes that are not compatible with tight_layout, so results might be incorrect.\n",
      "\n"
     ]
    },
    {
     "name": "stdout",
     "output_type": "stream",
     "text": [
      "Warning: excludeThres option currently not supported. Resetting excludeThres to 0.\n",
      "Warning: excludeThres option currently not supported. Resetting excludeThres to 0.\n"
     ]
    },
    {
     "name": "stderr",
     "output_type": "stream",
     "text": [
      "/var/folders/sc/kmc7_9gn2hqd_lrnhdt_2s580000gn/T/ipykernel_36930/2556735345.py:60: UserWarning:\n",
      "\n",
      "This figure includes Axes that are not compatible with tight_layout, so results might be incorrect.\n",
      "\n"
     ]
    },
    {
     "name": "stdout",
     "output_type": "stream",
     "text": [
      "Warning: excludeThres option currently not supported. Resetting excludeThres to 0.\n",
      "Warning: excludeThres option currently not supported. Resetting excludeThres to 0.\n"
     ]
    },
    {
     "name": "stderr",
     "output_type": "stream",
     "text": [
      "/var/folders/sc/kmc7_9gn2hqd_lrnhdt_2s580000gn/T/ipykernel_36930/2556735345.py:60: UserWarning:\n",
      "\n",
      "This figure includes Axes that are not compatible with tight_layout, so results might be incorrect.\n",
      "\n"
     ]
    },
    {
     "name": "stdout",
     "output_type": "stream",
     "text": [
      "Warning: excludeThres option currently not supported. Resetting excludeThres to 0.\n",
      "Warning: excludeThres option currently not supported. Resetting excludeThres to 0.\n"
     ]
    },
    {
     "name": "stderr",
     "output_type": "stream",
     "text": [
      "/var/folders/sc/kmc7_9gn2hqd_lrnhdt_2s580000gn/T/ipykernel_36930/2556735345.py:60: UserWarning:\n",
      "\n",
      "This figure includes Axes that are not compatible with tight_layout, so results might be incorrect.\n",
      "\n"
     ]
    },
    {
     "name": "stdout",
     "output_type": "stream",
     "text": [
      "Warning: excludeThres option currently not supported. Resetting excludeThres to 0.\n",
      "Warning: excludeThres option currently not supported. Resetting excludeThres to 0.\n"
     ]
    },
    {
     "name": "stderr",
     "output_type": "stream",
     "text": [
      "/var/folders/sc/kmc7_9gn2hqd_lrnhdt_2s580000gn/T/ipykernel_36930/2556735345.py:60: UserWarning:\n",
      "\n",
      "This figure includes Axes that are not compatible with tight_layout, so results might be incorrect.\n",
      "\n"
     ]
    },
    {
     "name": "stdout",
     "output_type": "stream",
     "text": [
      "Warning: excludeThres option currently not supported. Resetting excludeThres to 0.\n",
      "Warning: excludeThres option currently not supported. Resetting excludeThres to 0.\n"
     ]
    },
    {
     "name": "stderr",
     "output_type": "stream",
     "text": [
      "/var/folders/sc/kmc7_9gn2hqd_lrnhdt_2s580000gn/T/ipykernel_36930/2556735345.py:60: UserWarning:\n",
      "\n",
      "This figure includes Axes that are not compatible with tight_layout, so results might be incorrect.\n",
      "\n"
     ]
    },
    {
     "name": "stdout",
     "output_type": "stream",
     "text": [
      "Warning: excludeThres option currently not supported. Resetting excludeThres to 0.\n",
      "Warning: excludeThres option currently not supported. Resetting excludeThres to 0.\n"
     ]
    },
    {
     "name": "stderr",
     "output_type": "stream",
     "text": [
      "/var/folders/sc/kmc7_9gn2hqd_lrnhdt_2s580000gn/T/ipykernel_36930/2556735345.py:60: UserWarning:\n",
      "\n",
      "This figure includes Axes that are not compatible with tight_layout, so results might be incorrect.\n",
      "\n"
     ]
    },
    {
     "name": "stdout",
     "output_type": "stream",
     "text": [
      "Warning: excludeThres option currently not supported. Resetting excludeThres to 0.\n",
      "Warning: excludeThres option currently not supported. Resetting excludeThres to 0.\n"
     ]
    },
    {
     "name": "stderr",
     "output_type": "stream",
     "text": [
      "/var/folders/sc/kmc7_9gn2hqd_lrnhdt_2s580000gn/T/ipykernel_36930/2556735345.py:60: UserWarning:\n",
      "\n",
      "This figure includes Axes that are not compatible with tight_layout, so results might be incorrect.\n",
      "\n"
     ]
    },
    {
     "name": "stdout",
     "output_type": "stream",
     "text": [
      "Warning: excludeThres option currently not supported. Resetting excludeThres to 0.\n",
      "Warning: excludeThres option currently not supported. Resetting excludeThres to 0.\n"
     ]
    },
    {
     "name": "stderr",
     "output_type": "stream",
     "text": [
      "/var/folders/sc/kmc7_9gn2hqd_lrnhdt_2s580000gn/T/ipykernel_36930/2556735345.py:60: UserWarning:\n",
      "\n",
      "This figure includes Axes that are not compatible with tight_layout, so results might be incorrect.\n",
      "\n"
     ]
    },
    {
     "name": "stdout",
     "output_type": "stream",
     "text": [
      "Warning: excludeThres option currently not supported. Resetting excludeThres to 0.\n",
      "Warning: excludeThres option currently not supported. Resetting excludeThres to 0.\n"
     ]
    },
    {
     "name": "stderr",
     "output_type": "stream",
     "text": [
      "/var/folders/sc/kmc7_9gn2hqd_lrnhdt_2s580000gn/T/ipykernel_36930/2556735345.py:60: UserWarning:\n",
      "\n",
      "This figure includes Axes that are not compatible with tight_layout, so results might be incorrect.\n",
      "\n"
     ]
    },
    {
     "name": "stdout",
     "output_type": "stream",
     "text": [
      "Warning: excludeThres option currently not supported. Resetting excludeThres to 0.\n",
      "Warning: excludeThres option currently not supported. Resetting excludeThres to 0.\n"
     ]
    },
    {
     "name": "stderr",
     "output_type": "stream",
     "text": [
      "/var/folders/sc/kmc7_9gn2hqd_lrnhdt_2s580000gn/T/ipykernel_36930/2556735345.py:60: UserWarning:\n",
      "\n",
      "This figure includes Axes that are not compatible with tight_layout, so results might be incorrect.\n",
      "\n"
     ]
    },
    {
     "name": "stdout",
     "output_type": "stream",
     "text": [
      "Warning: excludeThres option currently not supported. Resetting excludeThres to 0.\n",
      "Warning: excludeThres option currently not supported. Resetting excludeThres to 0.\n"
     ]
    },
    {
     "name": "stderr",
     "output_type": "stream",
     "text": [
      "/var/folders/sc/kmc7_9gn2hqd_lrnhdt_2s580000gn/T/ipykernel_36930/2556735345.py:60: UserWarning:\n",
      "\n",
      "This figure includes Axes that are not compatible with tight_layout, so results might be incorrect.\n",
      "\n"
     ]
    },
    {
     "name": "stdout",
     "output_type": "stream",
     "text": [
      "Warning: excludeThres option currently not supported. Resetting excludeThres to 0.\n",
      "Warning: excludeThres option currently not supported. Resetting excludeThres to 0.\n"
     ]
    },
    {
     "name": "stderr",
     "output_type": "stream",
     "text": [
      "/var/folders/sc/kmc7_9gn2hqd_lrnhdt_2s580000gn/T/ipykernel_36930/2556735345.py:60: UserWarning:\n",
      "\n",
      "This figure includes Axes that are not compatible with tight_layout, so results might be incorrect.\n",
      "\n"
     ]
    },
    {
     "name": "stdout",
     "output_type": "stream",
     "text": [
      "Warning: excludeThres option currently not supported. Resetting excludeThres to 0.\n",
      "Warning: excludeThres option currently not supported. Resetting excludeThres to 0.\n"
     ]
    },
    {
     "name": "stderr",
     "output_type": "stream",
     "text": [
      "/var/folders/sc/kmc7_9gn2hqd_lrnhdt_2s580000gn/T/ipykernel_36930/2556735345.py:60: UserWarning:\n",
      "\n",
      "This figure includes Axes that are not compatible with tight_layout, so results might be incorrect.\n",
      "\n"
     ]
    },
    {
     "name": "stdout",
     "output_type": "stream",
     "text": [
      "Warning: excludeThres option currently not supported. Resetting excludeThres to 0.\n",
      "Warning: excludeThres option currently not supported. Resetting excludeThres to 0.\n"
     ]
    },
    {
     "name": "stderr",
     "output_type": "stream",
     "text": [
      "/var/folders/sc/kmc7_9gn2hqd_lrnhdt_2s580000gn/T/ipykernel_36930/2556735345.py:60: UserWarning:\n",
      "\n",
      "This figure includes Axes that are not compatible with tight_layout, so results might be incorrect.\n",
      "\n"
     ]
    },
    {
     "name": "stdout",
     "output_type": "stream",
     "text": [
      "Warning: excludeThres option currently not supported. Resetting excludeThres to 0.\n",
      "Warning: excludeThres option currently not supported. Resetting excludeThres to 0.\n"
     ]
    },
    {
     "name": "stderr",
     "output_type": "stream",
     "text": [
      "/var/folders/sc/kmc7_9gn2hqd_lrnhdt_2s580000gn/T/ipykernel_36930/2556735345.py:60: UserWarning:\n",
      "\n",
      "This figure includes Axes that are not compatible with tight_layout, so results might be incorrect.\n",
      "\n"
     ]
    },
    {
     "name": "stdout",
     "output_type": "stream",
     "text": [
      "Warning: excludeThres option currently not supported. Resetting excludeThres to 0.\n",
      "Warning: excludeThres option currently not supported. Resetting excludeThres to 0.\n"
     ]
    },
    {
     "name": "stderr",
     "output_type": "stream",
     "text": [
      "/var/folders/sc/kmc7_9gn2hqd_lrnhdt_2s580000gn/T/ipykernel_36930/2556735345.py:60: UserWarning:\n",
      "\n",
      "This figure includes Axes that are not compatible with tight_layout, so results might be incorrect.\n",
      "\n"
     ]
    },
    {
     "name": "stdout",
     "output_type": "stream",
     "text": [
      "Warning: excludeThres option currently not supported. Resetting excludeThres to 0.\n",
      "Warning: excludeThres option currently not supported. Resetting excludeThres to 0.\n"
     ]
    },
    {
     "name": "stderr",
     "output_type": "stream",
     "text": [
      "/var/folders/sc/kmc7_9gn2hqd_lrnhdt_2s580000gn/T/ipykernel_36930/2556735345.py:60: UserWarning:\n",
      "\n",
      "This figure includes Axes that are not compatible with tight_layout, so results might be incorrect.\n",
      "\n"
     ]
    },
    {
     "name": "stdout",
     "output_type": "stream",
     "text": [
      "Warning: excludeThres option currently not supported. Resetting excludeThres to 0.\n",
      "Warning: excludeThres option currently not supported. Resetting excludeThres to 0.\n"
     ]
    },
    {
     "name": "stderr",
     "output_type": "stream",
     "text": [
      "/var/folders/sc/kmc7_9gn2hqd_lrnhdt_2s580000gn/T/ipykernel_36930/2556735345.py:60: UserWarning:\n",
      "\n",
      "This figure includes Axes that are not compatible with tight_layout, so results might be incorrect.\n",
      "\n"
     ]
    },
    {
     "name": "stdout",
     "output_type": "stream",
     "text": [
      "Warning: excludeThres option currently not supported. Resetting excludeThres to 0.\n",
      "Warning: excludeThres option currently not supported. Resetting excludeThres to 0.\n"
     ]
    },
    {
     "name": "stderr",
     "output_type": "stream",
     "text": [
      "/var/folders/sc/kmc7_9gn2hqd_lrnhdt_2s580000gn/T/ipykernel_36930/2556735345.py:60: UserWarning:\n",
      "\n",
      "This figure includes Axes that are not compatible with tight_layout, so results might be incorrect.\n",
      "\n"
     ]
    },
    {
     "name": "stdout",
     "output_type": "stream",
     "text": [
      "Warning: excludeThres option currently not supported. Resetting excludeThres to 0.\n",
      "Warning: excludeThres option currently not supported. Resetting excludeThres to 0.\n"
     ]
    },
    {
     "name": "stderr",
     "output_type": "stream",
     "text": [
      "/var/folders/sc/kmc7_9gn2hqd_lrnhdt_2s580000gn/T/ipykernel_36930/2556735345.py:60: UserWarning:\n",
      "\n",
      "This figure includes Axes that are not compatible with tight_layout, so results might be incorrect.\n",
      "\n"
     ]
    },
    {
     "name": "stdout",
     "output_type": "stream",
     "text": [
      "Warning: excludeThres option currently not supported. Resetting excludeThres to 0.\n",
      "Warning: excludeThres option currently not supported. Resetting excludeThres to 0.\n"
     ]
    },
    {
     "name": "stderr",
     "output_type": "stream",
     "text": [
      "/var/folders/sc/kmc7_9gn2hqd_lrnhdt_2s580000gn/T/ipykernel_36930/2556735345.py:60: UserWarning:\n",
      "\n",
      "This figure includes Axes that are not compatible with tight_layout, so results might be incorrect.\n",
      "\n"
     ]
    },
    {
     "name": "stdout",
     "output_type": "stream",
     "text": [
      "Warning: excludeThres option currently not supported. Resetting excludeThres to 0.\n",
      "Warning: excludeThres option currently not supported. Resetting excludeThres to 0.\n"
     ]
    },
    {
     "name": "stderr",
     "output_type": "stream",
     "text": [
      "/var/folders/sc/kmc7_9gn2hqd_lrnhdt_2s580000gn/T/ipykernel_36930/2556735345.py:60: UserWarning:\n",
      "\n",
      "This figure includes Axes that are not compatible with tight_layout, so results might be incorrect.\n",
      "\n"
     ]
    },
    {
     "name": "stdout",
     "output_type": "stream",
     "text": [
      "Warning: excludeThres option currently not supported. Resetting excludeThres to 0.\n",
      "Warning: excludeThres option currently not supported. Resetting excludeThres to 0.\n"
     ]
    },
    {
     "name": "stderr",
     "output_type": "stream",
     "text": [
      "/var/folders/sc/kmc7_9gn2hqd_lrnhdt_2s580000gn/T/ipykernel_36930/2556735345.py:60: UserWarning:\n",
      "\n",
      "This figure includes Axes that are not compatible with tight_layout, so results might be incorrect.\n",
      "\n"
     ]
    },
    {
     "name": "stdout",
     "output_type": "stream",
     "text": [
      "Warning: excludeThres option currently not supported. Resetting excludeThres to 0.\n",
      "Warning: excludeThres option currently not supported. Resetting excludeThres to 0.\n"
     ]
    },
    {
     "name": "stderr",
     "output_type": "stream",
     "text": [
      "/var/folders/sc/kmc7_9gn2hqd_lrnhdt_2s580000gn/T/ipykernel_36930/2556735345.py:60: UserWarning:\n",
      "\n",
      "This figure includes Axes that are not compatible with tight_layout, so results might be incorrect.\n",
      "\n"
     ]
    },
    {
     "name": "stdout",
     "output_type": "stream",
     "text": [
      "Warning: excludeThres option currently not supported. Resetting excludeThres to 0.\n",
      "Warning: excludeThres option currently not supported. Resetting excludeThres to 0.\n"
     ]
    },
    {
     "name": "stderr",
     "output_type": "stream",
     "text": [
      "/var/folders/sc/kmc7_9gn2hqd_lrnhdt_2s580000gn/T/ipykernel_36930/2556735345.py:60: UserWarning:\n",
      "\n",
      "This figure includes Axes that are not compatible with tight_layout, so results might be incorrect.\n",
      "\n"
     ]
    },
    {
     "name": "stdout",
     "output_type": "stream",
     "text": [
      "Warning: excludeThres option currently not supported. Resetting excludeThres to 0.\n",
      "Warning: excludeThres option currently not supported. Resetting excludeThres to 0.\n"
     ]
    },
    {
     "name": "stderr",
     "output_type": "stream",
     "text": [
      "/var/folders/sc/kmc7_9gn2hqd_lrnhdt_2s580000gn/T/ipykernel_36930/2556735345.py:60: UserWarning:\n",
      "\n",
      "This figure includes Axes that are not compatible with tight_layout, so results might be incorrect.\n",
      "\n"
     ]
    },
    {
     "name": "stdout",
     "output_type": "stream",
     "text": [
      "Warning: excludeThres option currently not supported. Resetting excludeThres to 0.\n",
      "Warning: excludeThres option currently not supported. Resetting excludeThres to 0.\n"
     ]
    },
    {
     "name": "stderr",
     "output_type": "stream",
     "text": [
      "/var/folders/sc/kmc7_9gn2hqd_lrnhdt_2s580000gn/T/ipykernel_36930/2556735345.py:60: UserWarning:\n",
      "\n",
      "This figure includes Axes that are not compatible with tight_layout, so results might be incorrect.\n",
      "\n"
     ]
    },
    {
     "name": "stdout",
     "output_type": "stream",
     "text": [
      "Warning: excludeThres option currently not supported. Resetting excludeThres to 0.\n",
      "Warning: excludeThres option currently not supported. Resetting excludeThres to 0.\n"
     ]
    },
    {
     "name": "stderr",
     "output_type": "stream",
     "text": [
      "/var/folders/sc/kmc7_9gn2hqd_lrnhdt_2s580000gn/T/ipykernel_36930/2556735345.py:60: UserWarning:\n",
      "\n",
      "This figure includes Axes that are not compatible with tight_layout, so results might be incorrect.\n",
      "\n"
     ]
    },
    {
     "name": "stdout",
     "output_type": "stream",
     "text": [
      "Warning: excludeThres option currently not supported. Resetting excludeThres to 0.\n",
      "Warning: excludeThres option currently not supported. Resetting excludeThres to 0.\n"
     ]
    },
    {
     "name": "stderr",
     "output_type": "stream",
     "text": [
      "/var/folders/sc/kmc7_9gn2hqd_lrnhdt_2s580000gn/T/ipykernel_36930/2556735345.py:60: UserWarning:\n",
      "\n",
      "This figure includes Axes that are not compatible with tight_layout, so results might be incorrect.\n",
      "\n"
     ]
    },
    {
     "name": "stdout",
     "output_type": "stream",
     "text": [
      "Warning: excludeThres option currently not supported. Resetting excludeThres to 0.\n",
      "Warning: excludeThres option currently not supported. Resetting excludeThres to 0.\n"
     ]
    },
    {
     "name": "stderr",
     "output_type": "stream",
     "text": [
      "/var/folders/sc/kmc7_9gn2hqd_lrnhdt_2s580000gn/T/ipykernel_36930/2556735345.py:60: UserWarning:\n",
      "\n",
      "This figure includes Axes that are not compatible with tight_layout, so results might be incorrect.\n",
      "\n"
     ]
    },
    {
     "name": "stdout",
     "output_type": "stream",
     "text": [
      "Warning: excludeThres option currently not supported. Resetting excludeThres to 0.\n",
      "Warning: excludeThres option currently not supported. Resetting excludeThres to 0.\n"
     ]
    },
    {
     "name": "stderr",
     "output_type": "stream",
     "text": [
      "/var/folders/sc/kmc7_9gn2hqd_lrnhdt_2s580000gn/T/ipykernel_36930/2556735345.py:60: UserWarning:\n",
      "\n",
      "This figure includes Axes that are not compatible with tight_layout, so results might be incorrect.\n",
      "\n"
     ]
    },
    {
     "name": "stdout",
     "output_type": "stream",
     "text": [
      "Warning: excludeThres option currently not supported. Resetting excludeThres to 0.\n",
      "Warning: excludeThres option currently not supported. Resetting excludeThres to 0.\n"
     ]
    },
    {
     "name": "stderr",
     "output_type": "stream",
     "text": [
      "/var/folders/sc/kmc7_9gn2hqd_lrnhdt_2s580000gn/T/ipykernel_36930/2556735345.py:60: UserWarning:\n",
      "\n",
      "This figure includes Axes that are not compatible with tight_layout, so results might be incorrect.\n",
      "\n"
     ]
    },
    {
     "name": "stdout",
     "output_type": "stream",
     "text": [
      "Warning: excludeThres option currently not supported. Resetting excludeThres to 0.\n",
      "Warning: excludeThres option currently not supported. Resetting excludeThres to 0.\n"
     ]
    },
    {
     "name": "stderr",
     "output_type": "stream",
     "text": [
      "/var/folders/sc/kmc7_9gn2hqd_lrnhdt_2s580000gn/T/ipykernel_36930/2556735345.py:60: UserWarning:\n",
      "\n",
      "This figure includes Axes that are not compatible with tight_layout, so results might be incorrect.\n",
      "\n"
     ]
    },
    {
     "name": "stdout",
     "output_type": "stream",
     "text": [
      "Warning: excludeThres option currently not supported. Resetting excludeThres to 0.\n",
      "Warning: excludeThres option currently not supported. Resetting excludeThres to 0.\n"
     ]
    },
    {
     "name": "stderr",
     "output_type": "stream",
     "text": [
      "/var/folders/sc/kmc7_9gn2hqd_lrnhdt_2s580000gn/T/ipykernel_36930/2556735345.py:60: UserWarning:\n",
      "\n",
      "This figure includes Axes that are not compatible with tight_layout, so results might be incorrect.\n",
      "\n"
     ]
    },
    {
     "name": "stdout",
     "output_type": "stream",
     "text": [
      "Warning: excludeThres option currently not supported. Resetting excludeThres to 0.\n",
      "Warning: excludeThres option currently not supported. Resetting excludeThres to 0.\n"
     ]
    },
    {
     "name": "stderr",
     "output_type": "stream",
     "text": [
      "/var/folders/sc/kmc7_9gn2hqd_lrnhdt_2s580000gn/T/ipykernel_36930/2556735345.py:60: UserWarning:\n",
      "\n",
      "This figure includes Axes that are not compatible with tight_layout, so results might be incorrect.\n",
      "\n"
     ]
    },
    {
     "name": "stdout",
     "output_type": "stream",
     "text": [
      "Warning: excludeThres option currently not supported. Resetting excludeThres to 0.\n",
      "Warning: excludeThres option currently not supported. Resetting excludeThres to 0.\n"
     ]
    },
    {
     "name": "stderr",
     "output_type": "stream",
     "text": [
      "/var/folders/sc/kmc7_9gn2hqd_lrnhdt_2s580000gn/T/ipykernel_36930/2556735345.py:60: UserWarning:\n",
      "\n",
      "This figure includes Axes that are not compatible with tight_layout, so results might be incorrect.\n",
      "\n"
     ]
    },
    {
     "name": "stdout",
     "output_type": "stream",
     "text": [
      "Warning: excludeThres option currently not supported. Resetting excludeThres to 0.\n",
      "Warning: excludeThres option currently not supported. Resetting excludeThres to 0.\n"
     ]
    },
    {
     "name": "stderr",
     "output_type": "stream",
     "text": [
      "/var/folders/sc/kmc7_9gn2hqd_lrnhdt_2s580000gn/T/ipykernel_36930/2556735345.py:60: UserWarning:\n",
      "\n",
      "This figure includes Axes that are not compatible with tight_layout, so results might be incorrect.\n",
      "\n"
     ]
    },
    {
     "name": "stdout",
     "output_type": "stream",
     "text": [
      "Warning: excludeThres option currently not supported. Resetting excludeThres to 0.\n",
      "Warning: excludeThres option currently not supported. Resetting excludeThres to 0.\n"
     ]
    },
    {
     "name": "stderr",
     "output_type": "stream",
     "text": [
      "/var/folders/sc/kmc7_9gn2hqd_lrnhdt_2s580000gn/T/ipykernel_36930/2556735345.py:60: UserWarning:\n",
      "\n",
      "This figure includes Axes that are not compatible with tight_layout, so results might be incorrect.\n",
      "\n"
     ]
    },
    {
     "name": "stdout",
     "output_type": "stream",
     "text": [
      "Warning: excludeThres option currently not supported. Resetting excludeThres to 0.\n",
      "Warning: excludeThres option currently not supported. Resetting excludeThres to 0.\n"
     ]
    },
    {
     "name": "stderr",
     "output_type": "stream",
     "text": [
      "/var/folders/sc/kmc7_9gn2hqd_lrnhdt_2s580000gn/T/ipykernel_36930/2556735345.py:60: UserWarning:\n",
      "\n",
      "This figure includes Axes that are not compatible with tight_layout, so results might be incorrect.\n",
      "\n"
     ]
    },
    {
     "name": "stdout",
     "output_type": "stream",
     "text": [
      "Warning: excludeThres option currently not supported. Resetting excludeThres to 0.\n",
      "Warning: excludeThres option currently not supported. Resetting excludeThres to 0.\n"
     ]
    },
    {
     "name": "stderr",
     "output_type": "stream",
     "text": [
      "/var/folders/sc/kmc7_9gn2hqd_lrnhdt_2s580000gn/T/ipykernel_36930/2556735345.py:60: UserWarning:\n",
      "\n",
      "This figure includes Axes that are not compatible with tight_layout, so results might be incorrect.\n",
      "\n"
     ]
    },
    {
     "name": "stdout",
     "output_type": "stream",
     "text": [
      "Warning: excludeThres option currently not supported. Resetting excludeThres to 0.\n",
      "Warning: excludeThres option currently not supported. Resetting excludeThres to 0.\n"
     ]
    },
    {
     "name": "stderr",
     "output_type": "stream",
     "text": [
      "/var/folders/sc/kmc7_9gn2hqd_lrnhdt_2s580000gn/T/ipykernel_36930/2556735345.py:60: UserWarning:\n",
      "\n",
      "This figure includes Axes that are not compatible with tight_layout, so results might be incorrect.\n",
      "\n"
     ]
    },
    {
     "name": "stdout",
     "output_type": "stream",
     "text": [
      "Warning: excludeThres option currently not supported. Resetting excludeThres to 0.\n",
      "Warning: excludeThres option currently not supported. Resetting excludeThres to 0.\n"
     ]
    },
    {
     "name": "stderr",
     "output_type": "stream",
     "text": [
      "/var/folders/sc/kmc7_9gn2hqd_lrnhdt_2s580000gn/T/ipykernel_36930/2556735345.py:60: UserWarning:\n",
      "\n",
      "This figure includes Axes that are not compatible with tight_layout, so results might be incorrect.\n",
      "\n"
     ]
    },
    {
     "name": "stdout",
     "output_type": "stream",
     "text": [
      "Warning: excludeThres option currently not supported. Resetting excludeThres to 0.\n",
      "Warning: excludeThres option currently not supported. Resetting excludeThres to 0.\n"
     ]
    },
    {
     "name": "stderr",
     "output_type": "stream",
     "text": [
      "/var/folders/sc/kmc7_9gn2hqd_lrnhdt_2s580000gn/T/ipykernel_36930/2556735345.py:60: UserWarning:\n",
      "\n",
      "This figure includes Axes that are not compatible with tight_layout, so results might be incorrect.\n",
      "\n"
     ]
    },
    {
     "name": "stdout",
     "output_type": "stream",
     "text": [
      "Warning: excludeThres option currently not supported. Resetting excludeThres to 0.\n",
      "Warning: excludeThres option currently not supported. Resetting excludeThres to 0.\n"
     ]
    },
    {
     "name": "stderr",
     "output_type": "stream",
     "text": [
      "/var/folders/sc/kmc7_9gn2hqd_lrnhdt_2s580000gn/T/ipykernel_36930/2556735345.py:60: UserWarning:\n",
      "\n",
      "This figure includes Axes that are not compatible with tight_layout, so results might be incorrect.\n",
      "\n"
     ]
    },
    {
     "name": "stdout",
     "output_type": "stream",
     "text": [
      "Warning: excludeThres option currently not supported. Resetting excludeThres to 0.\n",
      "Warning: excludeThres option currently not supported. Resetting excludeThres to 0.\n"
     ]
    },
    {
     "name": "stderr",
     "output_type": "stream",
     "text": [
      "/var/folders/sc/kmc7_9gn2hqd_lrnhdt_2s580000gn/T/ipykernel_36930/2556735345.py:60: UserWarning:\n",
      "\n",
      "This figure includes Axes that are not compatible with tight_layout, so results might be incorrect.\n",
      "\n"
     ]
    },
    {
     "name": "stdout",
     "output_type": "stream",
     "text": [
      "Warning: excludeThres option currently not supported. Resetting excludeThres to 0.\n",
      "Warning: excludeThres option currently not supported. Resetting excludeThres to 0.\n"
     ]
    },
    {
     "name": "stderr",
     "output_type": "stream",
     "text": [
      "/var/folders/sc/kmc7_9gn2hqd_lrnhdt_2s580000gn/T/ipykernel_36930/2556735345.py:60: UserWarning:\n",
      "\n",
      "This figure includes Axes that are not compatible with tight_layout, so results might be incorrect.\n",
      "\n"
     ]
    },
    {
     "name": "stdout",
     "output_type": "stream",
     "text": [
      "Warning: excludeThres option currently not supported. Resetting excludeThres to 0.\n",
      "Warning: excludeThres option currently not supported. Resetting excludeThres to 0.\n"
     ]
    },
    {
     "name": "stderr",
     "output_type": "stream",
     "text": [
      "/var/folders/sc/kmc7_9gn2hqd_lrnhdt_2s580000gn/T/ipykernel_36930/2556735345.py:60: UserWarning:\n",
      "\n",
      "This figure includes Axes that are not compatible with tight_layout, so results might be incorrect.\n",
      "\n"
     ]
    },
    {
     "name": "stdout",
     "output_type": "stream",
     "text": [
      "Warning: excludeThres option currently not supported. Resetting excludeThres to 0.\n",
      "Warning: excludeThres option currently not supported. Resetting excludeThres to 0.\n"
     ]
    },
    {
     "name": "stderr",
     "output_type": "stream",
     "text": [
      "/var/folders/sc/kmc7_9gn2hqd_lrnhdt_2s580000gn/T/ipykernel_36930/2556735345.py:60: UserWarning:\n",
      "\n",
      "This figure includes Axes that are not compatible with tight_layout, so results might be incorrect.\n",
      "\n"
     ]
    },
    {
     "name": "stdout",
     "output_type": "stream",
     "text": [
      "Warning: excludeThres option currently not supported. Resetting excludeThres to 0.\n",
      "Warning: excludeThres option currently not supported. Resetting excludeThres to 0.\n"
     ]
    },
    {
     "name": "stderr",
     "output_type": "stream",
     "text": [
      "/var/folders/sc/kmc7_9gn2hqd_lrnhdt_2s580000gn/T/ipykernel_36930/2556735345.py:60: UserWarning:\n",
      "\n",
      "This figure includes Axes that are not compatible with tight_layout, so results might be incorrect.\n",
      "\n"
     ]
    },
    {
     "name": "stdout",
     "output_type": "stream",
     "text": [
      "Warning: excludeThres option currently not supported. Resetting excludeThres to 0.\n",
      "Warning: excludeThres option currently not supported. Resetting excludeThres to 0.\n"
     ]
    },
    {
     "name": "stderr",
     "output_type": "stream",
     "text": [
      "/var/folders/sc/kmc7_9gn2hqd_lrnhdt_2s580000gn/T/ipykernel_36930/2556735345.py:60: UserWarning:\n",
      "\n",
      "This figure includes Axes that are not compatible with tight_layout, so results might be incorrect.\n",
      "\n"
     ]
    },
    {
     "name": "stdout",
     "output_type": "stream",
     "text": [
      "Warning: excludeThres option currently not supported. Resetting excludeThres to 0.\n",
      "Warning: excludeThres option currently not supported. Resetting excludeThres to 0.\n"
     ]
    },
    {
     "name": "stderr",
     "output_type": "stream",
     "text": [
      "/var/folders/sc/kmc7_9gn2hqd_lrnhdt_2s580000gn/T/ipykernel_36930/2556735345.py:60: UserWarning:\n",
      "\n",
      "This figure includes Axes that are not compatible with tight_layout, so results might be incorrect.\n",
      "\n"
     ]
    },
    {
     "name": "stdout",
     "output_type": "stream",
     "text": [
      "Warning: excludeThres option currently not supported. Resetting excludeThres to 0.\n",
      "Warning: excludeThres option currently not supported. Resetting excludeThres to 0.\n"
     ]
    },
    {
     "name": "stderr",
     "output_type": "stream",
     "text": [
      "/var/folders/sc/kmc7_9gn2hqd_lrnhdt_2s580000gn/T/ipykernel_36930/2556735345.py:60: UserWarning:\n",
      "\n",
      "This figure includes Axes that are not compatible with tight_layout, so results might be incorrect.\n",
      "\n"
     ]
    },
    {
     "name": "stdout",
     "output_type": "stream",
     "text": [
      "Warning: excludeThres option currently not supported. Resetting excludeThres to 0.\n",
      "Warning: excludeThres option currently not supported. Resetting excludeThres to 0.\n"
     ]
    },
    {
     "name": "stderr",
     "output_type": "stream",
     "text": [
      "/var/folders/sc/kmc7_9gn2hqd_lrnhdt_2s580000gn/T/ipykernel_36930/2556735345.py:60: UserWarning:\n",
      "\n",
      "This figure includes Axes that are not compatible with tight_layout, so results might be incorrect.\n",
      "\n"
     ]
    },
    {
     "name": "stdout",
     "output_type": "stream",
     "text": [
      "Warning: excludeThres option currently not supported. Resetting excludeThres to 0.\n",
      "Warning: excludeThres option currently not supported. Resetting excludeThres to 0.\n"
     ]
    },
    {
     "name": "stderr",
     "output_type": "stream",
     "text": [
      "/var/folders/sc/kmc7_9gn2hqd_lrnhdt_2s580000gn/T/ipykernel_36930/2556735345.py:60: UserWarning:\n",
      "\n",
      "This figure includes Axes that are not compatible with tight_layout, so results might be incorrect.\n",
      "\n"
     ]
    },
    {
     "name": "stdout",
     "output_type": "stream",
     "text": [
      "Warning: excludeThres option currently not supported. Resetting excludeThres to 0.\n",
      "Warning: excludeThres option currently not supported. Resetting excludeThres to 0.\n"
     ]
    },
    {
     "name": "stderr",
     "output_type": "stream",
     "text": [
      "/var/folders/sc/kmc7_9gn2hqd_lrnhdt_2s580000gn/T/ipykernel_36930/2556735345.py:60: UserWarning:\n",
      "\n",
      "This figure includes Axes that are not compatible with tight_layout, so results might be incorrect.\n",
      "\n"
     ]
    },
    {
     "name": "stdout",
     "output_type": "stream",
     "text": [
      "Warning: excludeThres option currently not supported. Resetting excludeThres to 0.\n",
      "Warning: excludeThres option currently not supported. Resetting excludeThres to 0.\n"
     ]
    },
    {
     "name": "stderr",
     "output_type": "stream",
     "text": [
      "/var/folders/sc/kmc7_9gn2hqd_lrnhdt_2s580000gn/T/ipykernel_36930/2556735345.py:60: UserWarning:\n",
      "\n",
      "This figure includes Axes that are not compatible with tight_layout, so results might be incorrect.\n",
      "\n"
     ]
    },
    {
     "name": "stdout",
     "output_type": "stream",
     "text": [
      "Warning: excludeThres option currently not supported. Resetting excludeThres to 0.\n",
      "Warning: excludeThres option currently not supported. Resetting excludeThres to 0.\n"
     ]
    },
    {
     "name": "stderr",
     "output_type": "stream",
     "text": [
      "/var/folders/sc/kmc7_9gn2hqd_lrnhdt_2s580000gn/T/ipykernel_36930/2556735345.py:60: UserWarning:\n",
      "\n",
      "This figure includes Axes that are not compatible with tight_layout, so results might be incorrect.\n",
      "\n"
     ]
    },
    {
     "name": "stdout",
     "output_type": "stream",
     "text": [
      "Warning: excludeThres option currently not supported. Resetting excludeThres to 0.\n",
      "Warning: excludeThres option currently not supported. Resetting excludeThres to 0.\n"
     ]
    },
    {
     "name": "stderr",
     "output_type": "stream",
     "text": [
      "/var/folders/sc/kmc7_9gn2hqd_lrnhdt_2s580000gn/T/ipykernel_36930/2556735345.py:60: UserWarning:\n",
      "\n",
      "This figure includes Axes that are not compatible with tight_layout, so results might be incorrect.\n",
      "\n"
     ]
    },
    {
     "name": "stdout",
     "output_type": "stream",
     "text": [
      "Warning: excludeThres option currently not supported. Resetting excludeThres to 0.\n",
      "Warning: excludeThres option currently not supported. Resetting excludeThres to 0.\n"
     ]
    },
    {
     "name": "stderr",
     "output_type": "stream",
     "text": [
      "/var/folders/sc/kmc7_9gn2hqd_lrnhdt_2s580000gn/T/ipykernel_36930/2556735345.py:60: UserWarning:\n",
      "\n",
      "This figure includes Axes that are not compatible with tight_layout, so results might be incorrect.\n",
      "\n"
     ]
    },
    {
     "name": "stdout",
     "output_type": "stream",
     "text": [
      "Warning: excludeThres option currently not supported. Resetting excludeThres to 0.\n",
      "Warning: excludeThres option currently not supported. Resetting excludeThres to 0.\n"
     ]
    },
    {
     "name": "stderr",
     "output_type": "stream",
     "text": [
      "/var/folders/sc/kmc7_9gn2hqd_lrnhdt_2s580000gn/T/ipykernel_36930/2556735345.py:60: UserWarning:\n",
      "\n",
      "This figure includes Axes that are not compatible with tight_layout, so results might be incorrect.\n",
      "\n"
     ]
    },
    {
     "name": "stdout",
     "output_type": "stream",
     "text": [
      "Warning: excludeThres option currently not supported. Resetting excludeThres to 0.\n",
      "Warning: excludeThres option currently not supported. Resetting excludeThres to 0.\n"
     ]
    },
    {
     "name": "stderr",
     "output_type": "stream",
     "text": [
      "/var/folders/sc/kmc7_9gn2hqd_lrnhdt_2s580000gn/T/ipykernel_36930/2556735345.py:60: UserWarning:\n",
      "\n",
      "This figure includes Axes that are not compatible with tight_layout, so results might be incorrect.\n",
      "\n"
     ]
    },
    {
     "name": "stdout",
     "output_type": "stream",
     "text": [
      "Warning: excludeThres option currently not supported. Resetting excludeThres to 0.\n",
      "Warning: excludeThres option currently not supported. Resetting excludeThres to 0.\n"
     ]
    },
    {
     "name": "stderr",
     "output_type": "stream",
     "text": [
      "/var/folders/sc/kmc7_9gn2hqd_lrnhdt_2s580000gn/T/ipykernel_36930/2556735345.py:60: UserWarning:\n",
      "\n",
      "This figure includes Axes that are not compatible with tight_layout, so results might be incorrect.\n",
      "\n"
     ]
    },
    {
     "name": "stdout",
     "output_type": "stream",
     "text": [
      "Warning: excludeThres option currently not supported. Resetting excludeThres to 0.\n",
      "Warning: excludeThres option currently not supported. Resetting excludeThres to 0.\n"
     ]
    },
    {
     "name": "stderr",
     "output_type": "stream",
     "text": [
      "/var/folders/sc/kmc7_9gn2hqd_lrnhdt_2s580000gn/T/ipykernel_36930/2556735345.py:60: UserWarning:\n",
      "\n",
      "This figure includes Axes that are not compatible with tight_layout, so results might be incorrect.\n",
      "\n"
     ]
    },
    {
     "name": "stdout",
     "output_type": "stream",
     "text": [
      "Warning: excludeThres option currently not supported. Resetting excludeThres to 0.\n",
      "Warning: excludeThres option currently not supported. Resetting excludeThres to 0.\n"
     ]
    },
    {
     "name": "stderr",
     "output_type": "stream",
     "text": [
      "/var/folders/sc/kmc7_9gn2hqd_lrnhdt_2s580000gn/T/ipykernel_36930/2556735345.py:60: UserWarning:\n",
      "\n",
      "This figure includes Axes that are not compatible with tight_layout, so results might be incorrect.\n",
      "\n"
     ]
    },
    {
     "name": "stdout",
     "output_type": "stream",
     "text": [
      "Warning: excludeThres option currently not supported. Resetting excludeThres to 0.\n",
      "Warning: excludeThres option currently not supported. Resetting excludeThres to 0.\n"
     ]
    },
    {
     "name": "stderr",
     "output_type": "stream",
     "text": [
      "/var/folders/sc/kmc7_9gn2hqd_lrnhdt_2s580000gn/T/ipykernel_36930/2556735345.py:60: UserWarning:\n",
      "\n",
      "This figure includes Axes that are not compatible with tight_layout, so results might be incorrect.\n",
      "\n"
     ]
    },
    {
     "name": "stdout",
     "output_type": "stream",
     "text": [
      "Warning: excludeThres option currently not supported. Resetting excludeThres to 0.\n",
      "Warning: excludeThres option currently not supported. Resetting excludeThres to 0.\n"
     ]
    },
    {
     "name": "stderr",
     "output_type": "stream",
     "text": [
      "/var/folders/sc/kmc7_9gn2hqd_lrnhdt_2s580000gn/T/ipykernel_36930/2556735345.py:60: UserWarning:\n",
      "\n",
      "This figure includes Axes that are not compatible with tight_layout, so results might be incorrect.\n",
      "\n"
     ]
    },
    {
     "name": "stdout",
     "output_type": "stream",
     "text": [
      "Warning: excludeThres option currently not supported. Resetting excludeThres to 0.\n",
      "Warning: excludeThres option currently not supported. Resetting excludeThres to 0.\n"
     ]
    },
    {
     "name": "stderr",
     "output_type": "stream",
     "text": [
      "/var/folders/sc/kmc7_9gn2hqd_lrnhdt_2s580000gn/T/ipykernel_36930/2556735345.py:60: UserWarning:\n",
      "\n",
      "This figure includes Axes that are not compatible with tight_layout, so results might be incorrect.\n",
      "\n"
     ]
    },
    {
     "name": "stdout",
     "output_type": "stream",
     "text": [
      "Warning: excludeThres option currently not supported. Resetting excludeThres to 0.\n",
      "Warning: excludeThres option currently not supported. Resetting excludeThres to 0.\n"
     ]
    },
    {
     "name": "stderr",
     "output_type": "stream",
     "text": [
      "/var/folders/sc/kmc7_9gn2hqd_lrnhdt_2s580000gn/T/ipykernel_36930/2556735345.py:60: UserWarning:\n",
      "\n",
      "This figure includes Axes that are not compatible with tight_layout, so results might be incorrect.\n",
      "\n"
     ]
    },
    {
     "name": "stdout",
     "output_type": "stream",
     "text": [
      "Warning: excludeThres option currently not supported. Resetting excludeThres to 0.\n",
      "Warning: excludeThres option currently not supported. Resetting excludeThres to 0.\n"
     ]
    },
    {
     "name": "stderr",
     "output_type": "stream",
     "text": [
      "/var/folders/sc/kmc7_9gn2hqd_lrnhdt_2s580000gn/T/ipykernel_36930/2556735345.py:60: UserWarning:\n",
      "\n",
      "This figure includes Axes that are not compatible with tight_layout, so results might be incorrect.\n",
      "\n"
     ]
    },
    {
     "name": "stdout",
     "output_type": "stream",
     "text": [
      "Warning: excludeThres option currently not supported. Resetting excludeThres to 0.\n",
      "Warning: excludeThres option currently not supported. Resetting excludeThres to 0.\n"
     ]
    },
    {
     "name": "stderr",
     "output_type": "stream",
     "text": [
      "/var/folders/sc/kmc7_9gn2hqd_lrnhdt_2s580000gn/T/ipykernel_36930/2556735345.py:60: UserWarning:\n",
      "\n",
      "This figure includes Axes that are not compatible with tight_layout, so results might be incorrect.\n",
      "\n"
     ]
    },
    {
     "name": "stdout",
     "output_type": "stream",
     "text": [
      "Warning: excludeThres option currently not supported. Resetting excludeThres to 0.\n",
      "Warning: excludeThres option currently not supported. Resetting excludeThres to 0.\n"
     ]
    },
    {
     "name": "stderr",
     "output_type": "stream",
     "text": [
      "/var/folders/sc/kmc7_9gn2hqd_lrnhdt_2s580000gn/T/ipykernel_36930/2556735345.py:60: UserWarning:\n",
      "\n",
      "This figure includes Axes that are not compatible with tight_layout, so results might be incorrect.\n",
      "\n"
     ]
    },
    {
     "name": "stdout",
     "output_type": "stream",
     "text": [
      "Warning: excludeThres option currently not supported. Resetting excludeThres to 0.\n",
      "Warning: excludeThres option currently not supported. Resetting excludeThres to 0.\n"
     ]
    },
    {
     "name": "stderr",
     "output_type": "stream",
     "text": [
      "/var/folders/sc/kmc7_9gn2hqd_lrnhdt_2s580000gn/T/ipykernel_36930/2556735345.py:60: UserWarning:\n",
      "\n",
      "This figure includes Axes that are not compatible with tight_layout, so results might be incorrect.\n",
      "\n"
     ]
    },
    {
     "name": "stdout",
     "output_type": "stream",
     "text": [
      "Warning: excludeThres option currently not supported. Resetting excludeThres to 0.\n",
      "Warning: excludeThres option currently not supported. Resetting excludeThres to 0.\n"
     ]
    },
    {
     "name": "stderr",
     "output_type": "stream",
     "text": [
      "/var/folders/sc/kmc7_9gn2hqd_lrnhdt_2s580000gn/T/ipykernel_36930/2556735345.py:60: UserWarning:\n",
      "\n",
      "This figure includes Axes that are not compatible with tight_layout, so results might be incorrect.\n",
      "\n"
     ]
    },
    {
     "name": "stdout",
     "output_type": "stream",
     "text": [
      "Warning: excludeThres option currently not supported. Resetting excludeThres to 0.\n",
      "Warning: excludeThres option currently not supported. Resetting excludeThres to 0.\n"
     ]
    },
    {
     "name": "stderr",
     "output_type": "stream",
     "text": [
      "/var/folders/sc/kmc7_9gn2hqd_lrnhdt_2s580000gn/T/ipykernel_36930/2556735345.py:60: UserWarning:\n",
      "\n",
      "This figure includes Axes that are not compatible with tight_layout, so results might be incorrect.\n",
      "\n"
     ]
    },
    {
     "name": "stdout",
     "output_type": "stream",
     "text": [
      "Warning: excludeThres option currently not supported. Resetting excludeThres to 0.\n",
      "Warning: excludeThres option currently not supported. Resetting excludeThres to 0.\n"
     ]
    },
    {
     "name": "stderr",
     "output_type": "stream",
     "text": [
      "/var/folders/sc/kmc7_9gn2hqd_lrnhdt_2s580000gn/T/ipykernel_36930/2556735345.py:60: UserWarning:\n",
      "\n",
      "This figure includes Axes that are not compatible with tight_layout, so results might be incorrect.\n",
      "\n"
     ]
    },
    {
     "name": "stdout",
     "output_type": "stream",
     "text": [
      "Warning: excludeThres option currently not supported. Resetting excludeThres to 0.\n",
      "Warning: excludeThres option currently not supported. Resetting excludeThres to 0.\n"
     ]
    },
    {
     "name": "stderr",
     "output_type": "stream",
     "text": [
      "/var/folders/sc/kmc7_9gn2hqd_lrnhdt_2s580000gn/T/ipykernel_36930/2556735345.py:60: UserWarning:\n",
      "\n",
      "This figure includes Axes that are not compatible with tight_layout, so results might be incorrect.\n",
      "\n"
     ]
    },
    {
     "name": "stdout",
     "output_type": "stream",
     "text": [
      "Warning: excludeThres option currently not supported. Resetting excludeThres to 0.\n",
      "Warning: excludeThres option currently not supported. Resetting excludeThres to 0.\n"
     ]
    },
    {
     "name": "stderr",
     "output_type": "stream",
     "text": [
      "/var/folders/sc/kmc7_9gn2hqd_lrnhdt_2s580000gn/T/ipykernel_36930/2556735345.py:60: UserWarning:\n",
      "\n",
      "This figure includes Axes that are not compatible with tight_layout, so results might be incorrect.\n",
      "\n"
     ]
    },
    {
     "name": "stdout",
     "output_type": "stream",
     "text": [
      "Warning: excludeThres option currently not supported. Resetting excludeThres to 0.\n",
      "Warning: excludeThres option currently not supported. Resetting excludeThres to 0.\n"
     ]
    },
    {
     "name": "stderr",
     "output_type": "stream",
     "text": [
      "/var/folders/sc/kmc7_9gn2hqd_lrnhdt_2s580000gn/T/ipykernel_36930/2556735345.py:60: UserWarning:\n",
      "\n",
      "This figure includes Axes that are not compatible with tight_layout, so results might be incorrect.\n",
      "\n"
     ]
    },
    {
     "name": "stdout",
     "output_type": "stream",
     "text": [
      "Warning: excludeThres option currently not supported. Resetting excludeThres to 0.\n",
      "Warning: excludeThres option currently not supported. Resetting excludeThres to 0.\n"
     ]
    },
    {
     "name": "stderr",
     "output_type": "stream",
     "text": [
      "/var/folders/sc/kmc7_9gn2hqd_lrnhdt_2s580000gn/T/ipykernel_36930/2556735345.py:60: UserWarning:\n",
      "\n",
      "This figure includes Axes that are not compatible with tight_layout, so results might be incorrect.\n",
      "\n"
     ]
    },
    {
     "name": "stdout",
     "output_type": "stream",
     "text": [
      "Warning: excludeThres option currently not supported. Resetting excludeThres to 0.\n",
      "Warning: excludeThres option currently not supported. Resetting excludeThres to 0.\n"
     ]
    },
    {
     "name": "stderr",
     "output_type": "stream",
     "text": [
      "/var/folders/sc/kmc7_9gn2hqd_lrnhdt_2s580000gn/T/ipykernel_36930/2556735345.py:60: UserWarning:\n",
      "\n",
      "This figure includes Axes that are not compatible with tight_layout, so results might be incorrect.\n",
      "\n"
     ]
    },
    {
     "name": "stdout",
     "output_type": "stream",
     "text": [
      "Warning: excludeThres option currently not supported. Resetting excludeThres to 0.\n",
      "Warning: excludeThres option currently not supported. Resetting excludeThres to 0.\n"
     ]
    },
    {
     "name": "stderr",
     "output_type": "stream",
     "text": [
      "/var/folders/sc/kmc7_9gn2hqd_lrnhdt_2s580000gn/T/ipykernel_36930/2556735345.py:60: UserWarning:\n",
      "\n",
      "This figure includes Axes that are not compatible with tight_layout, so results might be incorrect.\n",
      "\n"
     ]
    },
    {
     "name": "stdout",
     "output_type": "stream",
     "text": [
      "Warning: excludeThres option currently not supported. Resetting excludeThres to 0.\n",
      "Warning: excludeThres option currently not supported. Resetting excludeThres to 0.\n"
     ]
    },
    {
     "name": "stderr",
     "output_type": "stream",
     "text": [
      "/var/folders/sc/kmc7_9gn2hqd_lrnhdt_2s580000gn/T/ipykernel_36930/2556735345.py:60: UserWarning:\n",
      "\n",
      "This figure includes Axes that are not compatible with tight_layout, so results might be incorrect.\n",
      "\n"
     ]
    },
    {
     "name": "stdout",
     "output_type": "stream",
     "text": [
      "Warning: excludeThres option currently not supported. Resetting excludeThres to 0.\n",
      "Warning: excludeThres option currently not supported. Resetting excludeThres to 0.\n"
     ]
    },
    {
     "name": "stderr",
     "output_type": "stream",
     "text": [
      "/var/folders/sc/kmc7_9gn2hqd_lrnhdt_2s580000gn/T/ipykernel_36930/2556735345.py:60: UserWarning:\n",
      "\n",
      "This figure includes Axes that are not compatible with tight_layout, so results might be incorrect.\n",
      "\n"
     ]
    },
    {
     "name": "stdout",
     "output_type": "stream",
     "text": [
      "Warning: excludeThres option currently not supported. Resetting excludeThres to 0.\n",
      "Warning: excludeThres option currently not supported. Resetting excludeThres to 0.\n"
     ]
    },
    {
     "name": "stderr",
     "output_type": "stream",
     "text": [
      "/var/folders/sc/kmc7_9gn2hqd_lrnhdt_2s580000gn/T/ipykernel_36930/2556735345.py:60: UserWarning:\n",
      "\n",
      "This figure includes Axes that are not compatible with tight_layout, so results might be incorrect.\n",
      "\n"
     ]
    },
    {
     "name": "stdout",
     "output_type": "stream",
     "text": [
      "Warning: excludeThres option currently not supported. Resetting excludeThres to 0.\n",
      "Warning: excludeThres option currently not supported. Resetting excludeThres to 0.\n"
     ]
    },
    {
     "name": "stderr",
     "output_type": "stream",
     "text": [
      "/var/folders/sc/kmc7_9gn2hqd_lrnhdt_2s580000gn/T/ipykernel_36930/2556735345.py:60: UserWarning:\n",
      "\n",
      "This figure includes Axes that are not compatible with tight_layout, so results might be incorrect.\n",
      "\n"
     ]
    },
    {
     "name": "stdout",
     "output_type": "stream",
     "text": [
      "Warning: excludeThres option currently not supported. Resetting excludeThres to 0.\n",
      "Warning: excludeThres option currently not supported. Resetting excludeThres to 0.\n"
     ]
    },
    {
     "name": "stderr",
     "output_type": "stream",
     "text": [
      "/var/folders/sc/kmc7_9gn2hqd_lrnhdt_2s580000gn/T/ipykernel_36930/2556735345.py:60: UserWarning:\n",
      "\n",
      "This figure includes Axes that are not compatible with tight_layout, so results might be incorrect.\n",
      "\n"
     ]
    },
    {
     "name": "stdout",
     "output_type": "stream",
     "text": [
      "Warning: excludeThres option currently not supported. Resetting excludeThres to 0.\n",
      "Warning: excludeThres option currently not supported. Resetting excludeThres to 0.\n"
     ]
    },
    {
     "name": "stderr",
     "output_type": "stream",
     "text": [
      "/var/folders/sc/kmc7_9gn2hqd_lrnhdt_2s580000gn/T/ipykernel_36930/2556735345.py:60: UserWarning:\n",
      "\n",
      "This figure includes Axes that are not compatible with tight_layout, so results might be incorrect.\n",
      "\n"
     ]
    },
    {
     "name": "stdout",
     "output_type": "stream",
     "text": [
      "Warning: excludeThres option currently not supported. Resetting excludeThres to 0.\n",
      "Warning: excludeThres option currently not supported. Resetting excludeThres to 0.\n"
     ]
    },
    {
     "name": "stderr",
     "output_type": "stream",
     "text": [
      "/var/folders/sc/kmc7_9gn2hqd_lrnhdt_2s580000gn/T/ipykernel_36930/2556735345.py:60: UserWarning:\n",
      "\n",
      "This figure includes Axes that are not compatible with tight_layout, so results might be incorrect.\n",
      "\n"
     ]
    },
    {
     "name": "stdout",
     "output_type": "stream",
     "text": [
      "Warning: excludeThres option currently not supported. Resetting excludeThres to 0.\n",
      "Warning: excludeThres option currently not supported. Resetting excludeThres to 0.\n"
     ]
    },
    {
     "name": "stderr",
     "output_type": "stream",
     "text": [
      "/var/folders/sc/kmc7_9gn2hqd_lrnhdt_2s580000gn/T/ipykernel_36930/2556735345.py:60: UserWarning:\n",
      "\n",
      "This figure includes Axes that are not compatible with tight_layout, so results might be incorrect.\n",
      "\n"
     ]
    },
    {
     "name": "stdout",
     "output_type": "stream",
     "text": [
      "Warning: excludeThres option currently not supported. Resetting excludeThres to 0.\n",
      "Warning: excludeThres option currently not supported. Resetting excludeThres to 0.\n"
     ]
    },
    {
     "name": "stderr",
     "output_type": "stream",
     "text": [
      "/var/folders/sc/kmc7_9gn2hqd_lrnhdt_2s580000gn/T/ipykernel_36930/2556735345.py:60: UserWarning:\n",
      "\n",
      "This figure includes Axes that are not compatible with tight_layout, so results might be incorrect.\n",
      "\n"
     ]
    },
    {
     "name": "stdout",
     "output_type": "stream",
     "text": [
      "Warning: excludeThres option currently not supported. Resetting excludeThres to 0.\n",
      "Warning: excludeThres option currently not supported. Resetting excludeThres to 0.\n"
     ]
    },
    {
     "name": "stderr",
     "output_type": "stream",
     "text": [
      "/var/folders/sc/kmc7_9gn2hqd_lrnhdt_2s580000gn/T/ipykernel_36930/2556735345.py:60: UserWarning:\n",
      "\n",
      "This figure includes Axes that are not compatible with tight_layout, so results might be incorrect.\n",
      "\n"
     ]
    },
    {
     "name": "stdout",
     "output_type": "stream",
     "text": [
      "Warning: excludeThres option currently not supported. Resetting excludeThres to 0.\n",
      "Warning: excludeThres option currently not supported. Resetting excludeThres to 0.\n"
     ]
    },
    {
     "name": "stderr",
     "output_type": "stream",
     "text": [
      "/var/folders/sc/kmc7_9gn2hqd_lrnhdt_2s580000gn/T/ipykernel_36930/2556735345.py:60: UserWarning:\n",
      "\n",
      "This figure includes Axes that are not compatible with tight_layout, so results might be incorrect.\n",
      "\n"
     ]
    },
    {
     "name": "stdout",
     "output_type": "stream",
     "text": [
      "Warning: excludeThres option currently not supported. Resetting excludeThres to 0.\n",
      "Warning: excludeThres option currently not supported. Resetting excludeThres to 0.\n"
     ]
    },
    {
     "name": "stderr",
     "output_type": "stream",
     "text": [
      "/var/folders/sc/kmc7_9gn2hqd_lrnhdt_2s580000gn/T/ipykernel_36930/2556735345.py:60: UserWarning:\n",
      "\n",
      "This figure includes Axes that are not compatible with tight_layout, so results might be incorrect.\n",
      "\n"
     ]
    },
    {
     "name": "stdout",
     "output_type": "stream",
     "text": [
      "Warning: excludeThres option currently not supported. Resetting excludeThres to 0.\n",
      "Warning: excludeThres option currently not supported. Resetting excludeThres to 0.\n"
     ]
    },
    {
     "name": "stderr",
     "output_type": "stream",
     "text": [
      "/var/folders/sc/kmc7_9gn2hqd_lrnhdt_2s580000gn/T/ipykernel_36930/2556735345.py:60: UserWarning:\n",
      "\n",
      "This figure includes Axes that are not compatible with tight_layout, so results might be incorrect.\n",
      "\n"
     ]
    },
    {
     "name": "stdout",
     "output_type": "stream",
     "text": [
      "Warning: excludeThres option currently not supported. Resetting excludeThres to 0.\n",
      "Warning: excludeThres option currently not supported. Resetting excludeThres to 0.\n"
     ]
    },
    {
     "name": "stderr",
     "output_type": "stream",
     "text": [
      "/var/folders/sc/kmc7_9gn2hqd_lrnhdt_2s580000gn/T/ipykernel_36930/2556735345.py:60: UserWarning:\n",
      "\n",
      "This figure includes Axes that are not compatible with tight_layout, so results might be incorrect.\n",
      "\n"
     ]
    },
    {
     "name": "stdout",
     "output_type": "stream",
     "text": [
      "Warning: excludeThres option currently not supported. Resetting excludeThres to 0.\n",
      "Warning: excludeThres option currently not supported. Resetting excludeThres to 0.\n"
     ]
    },
    {
     "name": "stderr",
     "output_type": "stream",
     "text": [
      "/var/folders/sc/kmc7_9gn2hqd_lrnhdt_2s580000gn/T/ipykernel_36930/2556735345.py:60: UserWarning:\n",
      "\n",
      "This figure includes Axes that are not compatible with tight_layout, so results might be incorrect.\n",
      "\n"
     ]
    },
    {
     "name": "stdout",
     "output_type": "stream",
     "text": [
      "Warning: excludeThres option currently not supported. Resetting excludeThres to 0.\n",
      "Warning: excludeThres option currently not supported. Resetting excludeThres to 0.\n"
     ]
    },
    {
     "name": "stderr",
     "output_type": "stream",
     "text": [
      "/var/folders/sc/kmc7_9gn2hqd_lrnhdt_2s580000gn/T/ipykernel_36930/2556735345.py:60: UserWarning:\n",
      "\n",
      "This figure includes Axes that are not compatible with tight_layout, so results might be incorrect.\n",
      "\n"
     ]
    },
    {
     "name": "stdout",
     "output_type": "stream",
     "text": [
      "Warning: excludeThres option currently not supported. Resetting excludeThres to 0.\n",
      "Warning: excludeThres option currently not supported. Resetting excludeThres to 0.\n"
     ]
    },
    {
     "name": "stderr",
     "output_type": "stream",
     "text": [
      "/var/folders/sc/kmc7_9gn2hqd_lrnhdt_2s580000gn/T/ipykernel_36930/2556735345.py:60: UserWarning:\n",
      "\n",
      "This figure includes Axes that are not compatible with tight_layout, so results might be incorrect.\n",
      "\n"
     ]
    },
    {
     "name": "stdout",
     "output_type": "stream",
     "text": [
      "Warning: excludeThres option currently not supported. Resetting excludeThres to 0.\n",
      "Warning: excludeThres option currently not supported. Resetting excludeThres to 0.\n"
     ]
    },
    {
     "name": "stderr",
     "output_type": "stream",
     "text": [
      "/var/folders/sc/kmc7_9gn2hqd_lrnhdt_2s580000gn/T/ipykernel_36930/2556735345.py:60: UserWarning:\n",
      "\n",
      "This figure includes Axes that are not compatible with tight_layout, so results might be incorrect.\n",
      "\n"
     ]
    },
    {
     "name": "stdout",
     "output_type": "stream",
     "text": [
      "Warning: excludeThres option currently not supported. Resetting excludeThres to 0.\n",
      "Warning: excludeThres option currently not supported. Resetting excludeThres to 0.\n"
     ]
    },
    {
     "name": "stderr",
     "output_type": "stream",
     "text": [
      "/var/folders/sc/kmc7_9gn2hqd_lrnhdt_2s580000gn/T/ipykernel_36930/2556735345.py:60: UserWarning:\n",
      "\n",
      "This figure includes Axes that are not compatible with tight_layout, so results might be incorrect.\n",
      "\n"
     ]
    },
    {
     "name": "stdout",
     "output_type": "stream",
     "text": [
      "Warning: excludeThres option currently not supported. Resetting excludeThres to 0.\n",
      "Warning: excludeThres option currently not supported. Resetting excludeThres to 0.\n"
     ]
    },
    {
     "name": "stderr",
     "output_type": "stream",
     "text": [
      "/var/folders/sc/kmc7_9gn2hqd_lrnhdt_2s580000gn/T/ipykernel_36930/2556735345.py:60: UserWarning:\n",
      "\n",
      "This figure includes Axes that are not compatible with tight_layout, so results might be incorrect.\n",
      "\n"
     ]
    },
    {
     "name": "stdout",
     "output_type": "stream",
     "text": [
      "Warning: excludeThres option currently not supported. Resetting excludeThres to 0.\n",
      "Warning: excludeThres option currently not supported. Resetting excludeThres to 0.\n"
     ]
    },
    {
     "name": "stderr",
     "output_type": "stream",
     "text": [
      "/var/folders/sc/kmc7_9gn2hqd_lrnhdt_2s580000gn/T/ipykernel_36930/2556735345.py:60: UserWarning:\n",
      "\n",
      "This figure includes Axes that are not compatible with tight_layout, so results might be incorrect.\n",
      "\n"
     ]
    },
    {
     "name": "stdout",
     "output_type": "stream",
     "text": [
      "Warning: excludeThres option currently not supported. Resetting excludeThres to 0.\n",
      "Warning: excludeThres option currently not supported. Resetting excludeThres to 0.\n"
     ]
    },
    {
     "name": "stderr",
     "output_type": "stream",
     "text": [
      "/var/folders/sc/kmc7_9gn2hqd_lrnhdt_2s580000gn/T/ipykernel_36930/2556735345.py:60: UserWarning:\n",
      "\n",
      "This figure includes Axes that are not compatible with tight_layout, so results might be incorrect.\n",
      "\n"
     ]
    },
    {
     "name": "stdout",
     "output_type": "stream",
     "text": [
      "Warning: excludeThres option currently not supported. Resetting excludeThres to 0.\n",
      "Warning: excludeThres option currently not supported. Resetting excludeThres to 0.\n"
     ]
    },
    {
     "name": "stderr",
     "output_type": "stream",
     "text": [
      "/var/folders/sc/kmc7_9gn2hqd_lrnhdt_2s580000gn/T/ipykernel_36930/2556735345.py:60: UserWarning:\n",
      "\n",
      "This figure includes Axes that are not compatible with tight_layout, so results might be incorrect.\n",
      "\n"
     ]
    },
    {
     "name": "stdout",
     "output_type": "stream",
     "text": [
      "Warning: excludeThres option currently not supported. Resetting excludeThres to 0.\n",
      "Warning: excludeThres option currently not supported. Resetting excludeThres to 0.\n"
     ]
    },
    {
     "name": "stderr",
     "output_type": "stream",
     "text": [
      "/var/folders/sc/kmc7_9gn2hqd_lrnhdt_2s580000gn/T/ipykernel_36930/2556735345.py:60: UserWarning:\n",
      "\n",
      "This figure includes Axes that are not compatible with tight_layout, so results might be incorrect.\n",
      "\n"
     ]
    },
    {
     "name": "stdout",
     "output_type": "stream",
     "text": [
      "Warning: excludeThres option currently not supported. Resetting excludeThres to 0.\n",
      "Warning: excludeThres option currently not supported. Resetting excludeThres to 0.\n"
     ]
    },
    {
     "name": "stderr",
     "output_type": "stream",
     "text": [
      "/var/folders/sc/kmc7_9gn2hqd_lrnhdt_2s580000gn/T/ipykernel_36930/2556735345.py:60: UserWarning:\n",
      "\n",
      "This figure includes Axes that are not compatible with tight_layout, so results might be incorrect.\n",
      "\n"
     ]
    },
    {
     "name": "stdout",
     "output_type": "stream",
     "text": [
      "Warning: excludeThres option currently not supported. Resetting excludeThres to 0.\n",
      "Warning: excludeThres option currently not supported. Resetting excludeThres to 0.\n"
     ]
    },
    {
     "name": "stderr",
     "output_type": "stream",
     "text": [
      "/var/folders/sc/kmc7_9gn2hqd_lrnhdt_2s580000gn/T/ipykernel_36930/2556735345.py:60: UserWarning:\n",
      "\n",
      "This figure includes Axes that are not compatible with tight_layout, so results might be incorrect.\n",
      "\n"
     ]
    },
    {
     "name": "stdout",
     "output_type": "stream",
     "text": [
      "Warning: excludeThres option currently not supported. Resetting excludeThres to 0.\n",
      "Warning: excludeThres option currently not supported. Resetting excludeThres to 0.\n"
     ]
    },
    {
     "name": "stderr",
     "output_type": "stream",
     "text": [
      "/var/folders/sc/kmc7_9gn2hqd_lrnhdt_2s580000gn/T/ipykernel_36930/2556735345.py:60: UserWarning:\n",
      "\n",
      "This figure includes Axes that are not compatible with tight_layout, so results might be incorrect.\n",
      "\n"
     ]
    },
    {
     "name": "stdout",
     "output_type": "stream",
     "text": [
      "Warning: excludeThres option currently not supported. Resetting excludeThres to 0.\n",
      "Warning: excludeThres option currently not supported. Resetting excludeThres to 0.\n"
     ]
    },
    {
     "name": "stderr",
     "output_type": "stream",
     "text": [
      "/var/folders/sc/kmc7_9gn2hqd_lrnhdt_2s580000gn/T/ipykernel_36930/2556735345.py:60: UserWarning:\n",
      "\n",
      "This figure includes Axes that are not compatible with tight_layout, so results might be incorrect.\n",
      "\n"
     ]
    },
    {
     "name": "stdout",
     "output_type": "stream",
     "text": [
      "Warning: excludeThres option currently not supported. Resetting excludeThres to 0.\n",
      "Warning: excludeThres option currently not supported. Resetting excludeThres to 0.\n"
     ]
    },
    {
     "name": "stderr",
     "output_type": "stream",
     "text": [
      "/var/folders/sc/kmc7_9gn2hqd_lrnhdt_2s580000gn/T/ipykernel_36930/2556735345.py:60: UserWarning:\n",
      "\n",
      "This figure includes Axes that are not compatible with tight_layout, so results might be incorrect.\n",
      "\n"
     ]
    },
    {
     "name": "stdout",
     "output_type": "stream",
     "text": [
      "Warning: excludeThres option currently not supported. Resetting excludeThres to 0.\n",
      "Warning: excludeThres option currently not supported. Resetting excludeThres to 0.\n"
     ]
    },
    {
     "name": "stderr",
     "output_type": "stream",
     "text": [
      "/var/folders/sc/kmc7_9gn2hqd_lrnhdt_2s580000gn/T/ipykernel_36930/2556735345.py:60: UserWarning:\n",
      "\n",
      "This figure includes Axes that are not compatible with tight_layout, so results might be incorrect.\n",
      "\n"
     ]
    },
    {
     "name": "stdout",
     "output_type": "stream",
     "text": [
      "Warning: excludeThres option currently not supported. Resetting excludeThres to 0.\n",
      "Warning: excludeThres option currently not supported. Resetting excludeThres to 0.\n"
     ]
    },
    {
     "name": "stderr",
     "output_type": "stream",
     "text": [
      "/var/folders/sc/kmc7_9gn2hqd_lrnhdt_2s580000gn/T/ipykernel_36930/2556735345.py:60: UserWarning:\n",
      "\n",
      "This figure includes Axes that are not compatible with tight_layout, so results might be incorrect.\n",
      "\n"
     ]
    },
    {
     "name": "stdout",
     "output_type": "stream",
     "text": [
      "Warning: excludeThres option currently not supported. Resetting excludeThres to 0.\n",
      "Warning: excludeThres option currently not supported. Resetting excludeThres to 0.\n"
     ]
    },
    {
     "name": "stderr",
     "output_type": "stream",
     "text": [
      "/var/folders/sc/kmc7_9gn2hqd_lrnhdt_2s580000gn/T/ipykernel_36930/2556735345.py:60: UserWarning:\n",
      "\n",
      "This figure includes Axes that are not compatible with tight_layout, so results might be incorrect.\n",
      "\n"
     ]
    },
    {
     "name": "stdout",
     "output_type": "stream",
     "text": [
      "Warning: excludeThres option currently not supported. Resetting excludeThres to 0.\n",
      "Warning: excludeThres option currently not supported. Resetting excludeThres to 0.\n"
     ]
    },
    {
     "name": "stderr",
     "output_type": "stream",
     "text": [
      "/var/folders/sc/kmc7_9gn2hqd_lrnhdt_2s580000gn/T/ipykernel_36930/2556735345.py:60: UserWarning:\n",
      "\n",
      "This figure includes Axes that are not compatible with tight_layout, so results might be incorrect.\n",
      "\n"
     ]
    },
    {
     "name": "stdout",
     "output_type": "stream",
     "text": [
      "Warning: excludeThres option currently not supported. Resetting excludeThres to 0.\n",
      "Warning: excludeThres option currently not supported. Resetting excludeThres to 0.\n"
     ]
    },
    {
     "name": "stderr",
     "output_type": "stream",
     "text": [
      "/var/folders/sc/kmc7_9gn2hqd_lrnhdt_2s580000gn/T/ipykernel_36930/2556735345.py:60: UserWarning:\n",
      "\n",
      "This figure includes Axes that are not compatible with tight_layout, so results might be incorrect.\n",
      "\n"
     ]
    },
    {
     "name": "stdout",
     "output_type": "stream",
     "text": [
      "Warning: excludeThres option currently not supported. Resetting excludeThres to 0.\n",
      "Warning: excludeThres option currently not supported. Resetting excludeThres to 0.\n"
     ]
    },
    {
     "name": "stderr",
     "output_type": "stream",
     "text": [
      "/var/folders/sc/kmc7_9gn2hqd_lrnhdt_2s580000gn/T/ipykernel_36930/2556735345.py:60: UserWarning:\n",
      "\n",
      "This figure includes Axes that are not compatible with tight_layout, so results might be incorrect.\n",
      "\n"
     ]
    },
    {
     "name": "stdout",
     "output_type": "stream",
     "text": [
      "Warning: excludeThres option currently not supported. Resetting excludeThres to 0.\n",
      "Warning: excludeThres option currently not supported. Resetting excludeThres to 0.\n"
     ]
    },
    {
     "name": "stderr",
     "output_type": "stream",
     "text": [
      "/var/folders/sc/kmc7_9gn2hqd_lrnhdt_2s580000gn/T/ipykernel_36930/2556735345.py:60: UserWarning:\n",
      "\n",
      "This figure includes Axes that are not compatible with tight_layout, so results might be incorrect.\n",
      "\n"
     ]
    },
    {
     "name": "stdout",
     "output_type": "stream",
     "text": [
      "Warning: excludeThres option currently not supported. Resetting excludeThres to 0.\n",
      "Warning: excludeThres option currently not supported. Resetting excludeThres to 0.\n"
     ]
    },
    {
     "name": "stderr",
     "output_type": "stream",
     "text": [
      "/var/folders/sc/kmc7_9gn2hqd_lrnhdt_2s580000gn/T/ipykernel_36930/2556735345.py:60: UserWarning:\n",
      "\n",
      "This figure includes Axes that are not compatible with tight_layout, so results might be incorrect.\n",
      "\n"
     ]
    },
    {
     "name": "stdout",
     "output_type": "stream",
     "text": [
      "Warning: excludeThres option currently not supported. Resetting excludeThres to 0.\n",
      "Warning: excludeThres option currently not supported. Resetting excludeThres to 0.\n"
     ]
    },
    {
     "name": "stderr",
     "output_type": "stream",
     "text": [
      "/var/folders/sc/kmc7_9gn2hqd_lrnhdt_2s580000gn/T/ipykernel_36930/2556735345.py:60: UserWarning:\n",
      "\n",
      "This figure includes Axes that are not compatible with tight_layout, so results might be incorrect.\n",
      "\n"
     ]
    },
    {
     "name": "stdout",
     "output_type": "stream",
     "text": [
      "Warning: excludeThres option currently not supported. Resetting excludeThres to 0.\n",
      "Warning: excludeThres option currently not supported. Resetting excludeThres to 0.\n"
     ]
    },
    {
     "name": "stderr",
     "output_type": "stream",
     "text": [
      "/var/folders/sc/kmc7_9gn2hqd_lrnhdt_2s580000gn/T/ipykernel_36930/2556735345.py:60: UserWarning:\n",
      "\n",
      "This figure includes Axes that are not compatible with tight_layout, so results might be incorrect.\n",
      "\n"
     ]
    },
    {
     "name": "stdout",
     "output_type": "stream",
     "text": [
      "Warning: excludeThres option currently not supported. Resetting excludeThres to 0.\n",
      "Warning: excludeThres option currently not supported. Resetting excludeThres to 0.\n"
     ]
    },
    {
     "name": "stderr",
     "output_type": "stream",
     "text": [
      "/var/folders/sc/kmc7_9gn2hqd_lrnhdt_2s580000gn/T/ipykernel_36930/2556735345.py:60: UserWarning:\n",
      "\n",
      "This figure includes Axes that are not compatible with tight_layout, so results might be incorrect.\n",
      "\n"
     ]
    },
    {
     "name": "stdout",
     "output_type": "stream",
     "text": [
      "Warning: excludeThres option currently not supported. Resetting excludeThres to 0.\n",
      "Warning: excludeThres option currently not supported. Resetting excludeThres to 0.\n"
     ]
    },
    {
     "name": "stderr",
     "output_type": "stream",
     "text": [
      "/var/folders/sc/kmc7_9gn2hqd_lrnhdt_2s580000gn/T/ipykernel_36930/2556735345.py:60: UserWarning:\n",
      "\n",
      "This figure includes Axes that are not compatible with tight_layout, so results might be incorrect.\n",
      "\n"
     ]
    },
    {
     "name": "stdout",
     "output_type": "stream",
     "text": [
      "Warning: excludeThres option currently not supported. Resetting excludeThres to 0.\n",
      "Warning: excludeThres option currently not supported. Resetting excludeThres to 0.\n"
     ]
    },
    {
     "name": "stderr",
     "output_type": "stream",
     "text": [
      "/var/folders/sc/kmc7_9gn2hqd_lrnhdt_2s580000gn/T/ipykernel_36930/2556735345.py:60: UserWarning:\n",
      "\n",
      "This figure includes Axes that are not compatible with tight_layout, so results might be incorrect.\n",
      "\n"
     ]
    },
    {
     "name": "stdout",
     "output_type": "stream",
     "text": [
      "Warning: excludeThres option currently not supported. Resetting excludeThres to 0.\n",
      "Warning: excludeThres option currently not supported. Resetting excludeThres to 0.\n"
     ]
    },
    {
     "name": "stderr",
     "output_type": "stream",
     "text": [
      "/var/folders/sc/kmc7_9gn2hqd_lrnhdt_2s580000gn/T/ipykernel_36930/2556735345.py:60: UserWarning:\n",
      "\n",
      "This figure includes Axes that are not compatible with tight_layout, so results might be incorrect.\n",
      "\n"
     ]
    },
    {
     "name": "stdout",
     "output_type": "stream",
     "text": [
      "Warning: excludeThres option currently not supported. Resetting excludeThres to 0.\n",
      "Warning: excludeThres option currently not supported. Resetting excludeThres to 0.\n"
     ]
    },
    {
     "name": "stderr",
     "output_type": "stream",
     "text": [
      "/var/folders/sc/kmc7_9gn2hqd_lrnhdt_2s580000gn/T/ipykernel_36930/2556735345.py:60: UserWarning:\n",
      "\n",
      "This figure includes Axes that are not compatible with tight_layout, so results might be incorrect.\n",
      "\n"
     ]
    },
    {
     "name": "stdout",
     "output_type": "stream",
     "text": [
      "Warning: excludeThres option currently not supported. Resetting excludeThres to 0.\n",
      "Warning: excludeThres option currently not supported. Resetting excludeThres to 0.\n"
     ]
    },
    {
     "name": "stderr",
     "output_type": "stream",
     "text": [
      "/var/folders/sc/kmc7_9gn2hqd_lrnhdt_2s580000gn/T/ipykernel_36930/2556735345.py:60: UserWarning:\n",
      "\n",
      "This figure includes Axes that are not compatible with tight_layout, so results might be incorrect.\n",
      "\n"
     ]
    },
    {
     "name": "stdout",
     "output_type": "stream",
     "text": [
      "Warning: excludeThres option currently not supported. Resetting excludeThres to 0.\n",
      "Warning: excludeThres option currently not supported. Resetting excludeThres to 0.\n"
     ]
    },
    {
     "name": "stderr",
     "output_type": "stream",
     "text": [
      "/var/folders/sc/kmc7_9gn2hqd_lrnhdt_2s580000gn/T/ipykernel_36930/2556735345.py:60: UserWarning:\n",
      "\n",
      "This figure includes Axes that are not compatible with tight_layout, so results might be incorrect.\n",
      "\n"
     ]
    },
    {
     "name": "stdout",
     "output_type": "stream",
     "text": [
      "Warning: excludeThres option currently not supported. Resetting excludeThres to 0.\n",
      "Warning: excludeThres option currently not supported. Resetting excludeThres to 0.\n"
     ]
    },
    {
     "name": "stderr",
     "output_type": "stream",
     "text": [
      "/var/folders/sc/kmc7_9gn2hqd_lrnhdt_2s580000gn/T/ipykernel_36930/2556735345.py:60: UserWarning:\n",
      "\n",
      "This figure includes Axes that are not compatible with tight_layout, so results might be incorrect.\n",
      "\n"
     ]
    },
    {
     "name": "stdout",
     "output_type": "stream",
     "text": [
      "Warning: excludeThres option currently not supported. Resetting excludeThres to 0.\n",
      "Warning: excludeThres option currently not supported. Resetting excludeThres to 0.\n"
     ]
    },
    {
     "name": "stderr",
     "output_type": "stream",
     "text": [
      "/var/folders/sc/kmc7_9gn2hqd_lrnhdt_2s580000gn/T/ipykernel_36930/2556735345.py:60: UserWarning:\n",
      "\n",
      "This figure includes Axes that are not compatible with tight_layout, so results might be incorrect.\n",
      "\n"
     ]
    },
    {
     "name": "stdout",
     "output_type": "stream",
     "text": [
      "Warning: excludeThres option currently not supported. Resetting excludeThres to 0.\n",
      "Warning: excludeThres option currently not supported. Resetting excludeThres to 0.\n"
     ]
    },
    {
     "name": "stderr",
     "output_type": "stream",
     "text": [
      "/var/folders/sc/kmc7_9gn2hqd_lrnhdt_2s580000gn/T/ipykernel_36930/2556735345.py:60: UserWarning:\n",
      "\n",
      "This figure includes Axes that are not compatible with tight_layout, so results might be incorrect.\n",
      "\n"
     ]
    },
    {
     "name": "stdout",
     "output_type": "stream",
     "text": [
      "Warning: excludeThres option currently not supported. Resetting excludeThres to 0.\n",
      "Warning: excludeThres option currently not supported. Resetting excludeThres to 0.\n"
     ]
    },
    {
     "name": "stderr",
     "output_type": "stream",
     "text": [
      "/var/folders/sc/kmc7_9gn2hqd_lrnhdt_2s580000gn/T/ipykernel_36930/2556735345.py:60: UserWarning:\n",
      "\n",
      "This figure includes Axes that are not compatible with tight_layout, so results might be incorrect.\n",
      "\n"
     ]
    },
    {
     "name": "stdout",
     "output_type": "stream",
     "text": [
      "Warning: excludeThres option currently not supported. Resetting excludeThres to 0.\n",
      "Warning: excludeThres option currently not supported. Resetting excludeThres to 0.\n"
     ]
    },
    {
     "name": "stderr",
     "output_type": "stream",
     "text": [
      "/var/folders/sc/kmc7_9gn2hqd_lrnhdt_2s580000gn/T/ipykernel_36930/2556735345.py:60: UserWarning:\n",
      "\n",
      "This figure includes Axes that are not compatible with tight_layout, so results might be incorrect.\n",
      "\n"
     ]
    },
    {
     "name": "stdout",
     "output_type": "stream",
     "text": [
      "Warning: excludeThres option currently not supported. Resetting excludeThres to 0.\n",
      "Warning: excludeThres option currently not supported. Resetting excludeThres to 0.\n"
     ]
    },
    {
     "name": "stderr",
     "output_type": "stream",
     "text": [
      "/var/folders/sc/kmc7_9gn2hqd_lrnhdt_2s580000gn/T/ipykernel_36930/2556735345.py:60: UserWarning:\n",
      "\n",
      "This figure includes Axes that are not compatible with tight_layout, so results might be incorrect.\n",
      "\n"
     ]
    },
    {
     "name": "stdout",
     "output_type": "stream",
     "text": [
      "Warning: excludeThres option currently not supported. Resetting excludeThres to 0.\n",
      "Warning: excludeThres option currently not supported. Resetting excludeThres to 0.\n"
     ]
    },
    {
     "name": "stderr",
     "output_type": "stream",
     "text": [
      "/var/folders/sc/kmc7_9gn2hqd_lrnhdt_2s580000gn/T/ipykernel_36930/2556735345.py:60: UserWarning:\n",
      "\n",
      "This figure includes Axes that are not compatible with tight_layout, so results might be incorrect.\n",
      "\n"
     ]
    },
    {
     "name": "stdout",
     "output_type": "stream",
     "text": [
      "Warning: excludeThres option currently not supported. Resetting excludeThres to 0.\n",
      "Warning: excludeThres option currently not supported. Resetting excludeThres to 0.\n"
     ]
    },
    {
     "name": "stderr",
     "output_type": "stream",
     "text": [
      "/var/folders/sc/kmc7_9gn2hqd_lrnhdt_2s580000gn/T/ipykernel_36930/2556735345.py:60: UserWarning:\n",
      "\n",
      "This figure includes Axes that are not compatible with tight_layout, so results might be incorrect.\n",
      "\n"
     ]
    },
    {
     "name": "stdout",
     "output_type": "stream",
     "text": [
      "Warning: excludeThres option currently not supported. Resetting excludeThres to 0.\n",
      "Warning: excludeThres option currently not supported. Resetting excludeThres to 0.\n"
     ]
    },
    {
     "name": "stderr",
     "output_type": "stream",
     "text": [
      "/var/folders/sc/kmc7_9gn2hqd_lrnhdt_2s580000gn/T/ipykernel_36930/2556735345.py:60: UserWarning:\n",
      "\n",
      "This figure includes Axes that are not compatible with tight_layout, so results might be incorrect.\n",
      "\n"
     ]
    },
    {
     "name": "stdout",
     "output_type": "stream",
     "text": [
      "Warning: excludeThres option currently not supported. Resetting excludeThres to 0.\n",
      "Warning: excludeThres option currently not supported. Resetting excludeThres to 0.\n"
     ]
    },
    {
     "name": "stderr",
     "output_type": "stream",
     "text": [
      "/var/folders/sc/kmc7_9gn2hqd_lrnhdt_2s580000gn/T/ipykernel_36930/2556735345.py:60: UserWarning:\n",
      "\n",
      "This figure includes Axes that are not compatible with tight_layout, so results might be incorrect.\n",
      "\n"
     ]
    },
    {
     "name": "stdout",
     "output_type": "stream",
     "text": [
      "Warning: excludeThres option currently not supported. Resetting excludeThres to 0.\n",
      "Warning: excludeThres option currently not supported. Resetting excludeThres to 0.\n"
     ]
    },
    {
     "name": "stderr",
     "output_type": "stream",
     "text": [
      "/var/folders/sc/kmc7_9gn2hqd_lrnhdt_2s580000gn/T/ipykernel_36930/2556735345.py:60: UserWarning:\n",
      "\n",
      "This figure includes Axes that are not compatible with tight_layout, so results might be incorrect.\n",
      "\n"
     ]
    },
    {
     "name": "stdout",
     "output_type": "stream",
     "text": [
      "Warning: excludeThres option currently not supported. Resetting excludeThres to 0.\n",
      "Warning: excludeThres option currently not supported. Resetting excludeThres to 0.\n"
     ]
    },
    {
     "name": "stderr",
     "output_type": "stream",
     "text": [
      "/var/folders/sc/kmc7_9gn2hqd_lrnhdt_2s580000gn/T/ipykernel_36930/2556735345.py:60: UserWarning:\n",
      "\n",
      "This figure includes Axes that are not compatible with tight_layout, so results might be incorrect.\n",
      "\n"
     ]
    },
    {
     "name": "stdout",
     "output_type": "stream",
     "text": [
      "Warning: excludeThres option currently not supported. Resetting excludeThres to 0.\n",
      "Warning: excludeThres option currently not supported. Resetting excludeThres to 0.\n"
     ]
    },
    {
     "name": "stderr",
     "output_type": "stream",
     "text": [
      "/var/folders/sc/kmc7_9gn2hqd_lrnhdt_2s580000gn/T/ipykernel_36930/2556735345.py:60: UserWarning:\n",
      "\n",
      "This figure includes Axes that are not compatible with tight_layout, so results might be incorrect.\n",
      "\n"
     ]
    },
    {
     "name": "stdout",
     "output_type": "stream",
     "text": [
      "Warning: excludeThres option currently not supported. Resetting excludeThres to 0.\n",
      "Warning: excludeThres option currently not supported. Resetting excludeThres to 0.\n"
     ]
    },
    {
     "name": "stderr",
     "output_type": "stream",
     "text": [
      "/var/folders/sc/kmc7_9gn2hqd_lrnhdt_2s580000gn/T/ipykernel_36930/2556735345.py:60: UserWarning:\n",
      "\n",
      "This figure includes Axes that are not compatible with tight_layout, so results might be incorrect.\n",
      "\n"
     ]
    },
    {
     "name": "stdout",
     "output_type": "stream",
     "text": [
      "Warning: excludeThres option currently not supported. Resetting excludeThres to 0.\n",
      "Warning: excludeThres option currently not supported. Resetting excludeThres to 0.\n"
     ]
    },
    {
     "name": "stderr",
     "output_type": "stream",
     "text": [
      "/var/folders/sc/kmc7_9gn2hqd_lrnhdt_2s580000gn/T/ipykernel_36930/2556735345.py:60: UserWarning:\n",
      "\n",
      "This figure includes Axes that are not compatible with tight_layout, so results might be incorrect.\n",
      "\n"
     ]
    },
    {
     "name": "stdout",
     "output_type": "stream",
     "text": [
      "Warning: excludeThres option currently not supported. Resetting excludeThres to 0.\n",
      "Warning: excludeThres option currently not supported. Resetting excludeThres to 0.\n"
     ]
    },
    {
     "name": "stderr",
     "output_type": "stream",
     "text": [
      "/var/folders/sc/kmc7_9gn2hqd_lrnhdt_2s580000gn/T/ipykernel_36930/2556735345.py:60: UserWarning:\n",
      "\n",
      "This figure includes Axes that are not compatible with tight_layout, so results might be incorrect.\n",
      "\n"
     ]
    },
    {
     "name": "stdout",
     "output_type": "stream",
     "text": [
      "Warning: excludeThres option currently not supported. Resetting excludeThres to 0.\n",
      "Warning: excludeThres option currently not supported. Resetting excludeThres to 0.\n"
     ]
    },
    {
     "name": "stderr",
     "output_type": "stream",
     "text": [
      "/var/folders/sc/kmc7_9gn2hqd_lrnhdt_2s580000gn/T/ipykernel_36930/2556735345.py:60: UserWarning:\n",
      "\n",
      "This figure includes Axes that are not compatible with tight_layout, so results might be incorrect.\n",
      "\n"
     ]
    },
    {
     "name": "stdout",
     "output_type": "stream",
     "text": [
      "Warning: excludeThres option currently not supported. Resetting excludeThres to 0.\n",
      "Warning: excludeThres option currently not supported. Resetting excludeThres to 0.\n"
     ]
    },
    {
     "name": "stderr",
     "output_type": "stream",
     "text": [
      "/var/folders/sc/kmc7_9gn2hqd_lrnhdt_2s580000gn/T/ipykernel_36930/2556735345.py:60: UserWarning:\n",
      "\n",
      "This figure includes Axes that are not compatible with tight_layout, so results might be incorrect.\n",
      "\n"
     ]
    },
    {
     "name": "stdout",
     "output_type": "stream",
     "text": [
      "Warning: excludeThres option currently not supported. Resetting excludeThres to 0.\n",
      "Warning: excludeThres option currently not supported. Resetting excludeThres to 0.\n"
     ]
    },
    {
     "name": "stderr",
     "output_type": "stream",
     "text": [
      "/var/folders/sc/kmc7_9gn2hqd_lrnhdt_2s580000gn/T/ipykernel_36930/2556735345.py:60: UserWarning:\n",
      "\n",
      "This figure includes Axes that are not compatible with tight_layout, so results might be incorrect.\n",
      "\n"
     ]
    },
    {
     "name": "stdout",
     "output_type": "stream",
     "text": [
      "Warning: excludeThres option currently not supported. Resetting excludeThres to 0.\n",
      "Warning: excludeThres option currently not supported. Resetting excludeThres to 0.\n"
     ]
    },
    {
     "name": "stderr",
     "output_type": "stream",
     "text": [
      "/var/folders/sc/kmc7_9gn2hqd_lrnhdt_2s580000gn/T/ipykernel_36930/2556735345.py:60: UserWarning:\n",
      "\n",
      "This figure includes Axes that are not compatible with tight_layout, so results might be incorrect.\n",
      "\n"
     ]
    },
    {
     "name": "stdout",
     "output_type": "stream",
     "text": [
      "Warning: excludeThres option currently not supported. Resetting excludeThres to 0.\n",
      "Warning: excludeThres option currently not supported. Resetting excludeThres to 0.\n"
     ]
    },
    {
     "name": "stderr",
     "output_type": "stream",
     "text": [
      "/var/folders/sc/kmc7_9gn2hqd_lrnhdt_2s580000gn/T/ipykernel_36930/2556735345.py:60: UserWarning:\n",
      "\n",
      "This figure includes Axes that are not compatible with tight_layout, so results might be incorrect.\n",
      "\n"
     ]
    },
    {
     "name": "stdout",
     "output_type": "stream",
     "text": [
      "Warning: excludeThres option currently not supported. Resetting excludeThres to 0.\n",
      "Warning: excludeThres option currently not supported. Resetting excludeThres to 0.\n"
     ]
    },
    {
     "name": "stderr",
     "output_type": "stream",
     "text": [
      "/var/folders/sc/kmc7_9gn2hqd_lrnhdt_2s580000gn/T/ipykernel_36930/2556735345.py:60: UserWarning:\n",
      "\n",
      "This figure includes Axes that are not compatible with tight_layout, so results might be incorrect.\n",
      "\n"
     ]
    },
    {
     "name": "stdout",
     "output_type": "stream",
     "text": [
      "Warning: excludeThres option currently not supported. Resetting excludeThres to 0.\n",
      "Warning: excludeThres option currently not supported. Resetting excludeThres to 0.\n"
     ]
    },
    {
     "name": "stderr",
     "output_type": "stream",
     "text": [
      "/var/folders/sc/kmc7_9gn2hqd_lrnhdt_2s580000gn/T/ipykernel_36930/2556735345.py:60: UserWarning:\n",
      "\n",
      "This figure includes Axes that are not compatible with tight_layout, so results might be incorrect.\n",
      "\n"
     ]
    },
    {
     "name": "stdout",
     "output_type": "stream",
     "text": [
      "Warning: excludeThres option currently not supported. Resetting excludeThres to 0.\n",
      "Warning: excludeThres option currently not supported. Resetting excludeThres to 0.\n"
     ]
    },
    {
     "name": "stderr",
     "output_type": "stream",
     "text": [
      "/var/folders/sc/kmc7_9gn2hqd_lrnhdt_2s580000gn/T/ipykernel_36930/2556735345.py:60: UserWarning:\n",
      "\n",
      "This figure includes Axes that are not compatible with tight_layout, so results might be incorrect.\n",
      "\n"
     ]
    },
    {
     "name": "stdout",
     "output_type": "stream",
     "text": [
      "Warning: excludeThres option currently not supported. Resetting excludeThres to 0.\n",
      "Warning: excludeThres option currently not supported. Resetting excludeThres to 0.\n"
     ]
    },
    {
     "name": "stderr",
     "output_type": "stream",
     "text": [
      "/var/folders/sc/kmc7_9gn2hqd_lrnhdt_2s580000gn/T/ipykernel_36930/2556735345.py:60: UserWarning:\n",
      "\n",
      "This figure includes Axes that are not compatible with tight_layout, so results might be incorrect.\n",
      "\n"
     ]
    },
    {
     "name": "stdout",
     "output_type": "stream",
     "text": [
      "Warning: excludeThres option currently not supported. Resetting excludeThres to 0.\n",
      "Warning: excludeThres option currently not supported. Resetting excludeThres to 0.\n"
     ]
    },
    {
     "name": "stderr",
     "output_type": "stream",
     "text": [
      "/var/folders/sc/kmc7_9gn2hqd_lrnhdt_2s580000gn/T/ipykernel_36930/2556735345.py:60: UserWarning:\n",
      "\n",
      "This figure includes Axes that are not compatible with tight_layout, so results might be incorrect.\n",
      "\n"
     ]
    },
    {
     "name": "stdout",
     "output_type": "stream",
     "text": [
      "Warning: excludeThres option currently not supported. Resetting excludeThres to 0.\n",
      "Warning: excludeThres option currently not supported. Resetting excludeThres to 0.\n"
     ]
    },
    {
     "name": "stderr",
     "output_type": "stream",
     "text": [
      "/var/folders/sc/kmc7_9gn2hqd_lrnhdt_2s580000gn/T/ipykernel_36930/2556735345.py:60: UserWarning:\n",
      "\n",
      "This figure includes Axes that are not compatible with tight_layout, so results might be incorrect.\n",
      "\n"
     ]
    },
    {
     "name": "stdout",
     "output_type": "stream",
     "text": [
      "Warning: excludeThres option currently not supported. Resetting excludeThres to 0.\n",
      "Warning: excludeThres option currently not supported. Resetting excludeThres to 0.\n"
     ]
    },
    {
     "name": "stderr",
     "output_type": "stream",
     "text": [
      "/var/folders/sc/kmc7_9gn2hqd_lrnhdt_2s580000gn/T/ipykernel_36930/2556735345.py:60: UserWarning:\n",
      "\n",
      "This figure includes Axes that are not compatible with tight_layout, so results might be incorrect.\n",
      "\n"
     ]
    },
    {
     "name": "stdout",
     "output_type": "stream",
     "text": [
      "Warning: excludeThres option currently not supported. Resetting excludeThres to 0.\n",
      "Warning: excludeThres option currently not supported. Resetting excludeThres to 0.\n"
     ]
    },
    {
     "name": "stderr",
     "output_type": "stream",
     "text": [
      "/var/folders/sc/kmc7_9gn2hqd_lrnhdt_2s580000gn/T/ipykernel_36930/2556735345.py:60: UserWarning:\n",
      "\n",
      "This figure includes Axes that are not compatible with tight_layout, so results might be incorrect.\n",
      "\n"
     ]
    },
    {
     "name": "stdout",
     "output_type": "stream",
     "text": [
      "Warning: excludeThres option currently not supported. Resetting excludeThres to 0.\n",
      "Warning: excludeThres option currently not supported. Resetting excludeThres to 0.\n"
     ]
    },
    {
     "name": "stderr",
     "output_type": "stream",
     "text": [
      "/var/folders/sc/kmc7_9gn2hqd_lrnhdt_2s580000gn/T/ipykernel_36930/2556735345.py:60: UserWarning:\n",
      "\n",
      "This figure includes Axes that are not compatible with tight_layout, so results might be incorrect.\n",
      "\n"
     ]
    },
    {
     "name": "stdout",
     "output_type": "stream",
     "text": [
      "Warning: excludeThres option currently not supported. Resetting excludeThres to 0.\n",
      "Warning: excludeThres option currently not supported. Resetting excludeThres to 0.\n"
     ]
    },
    {
     "name": "stderr",
     "output_type": "stream",
     "text": [
      "/var/folders/sc/kmc7_9gn2hqd_lrnhdt_2s580000gn/T/ipykernel_36930/2556735345.py:60: UserWarning:\n",
      "\n",
      "This figure includes Axes that are not compatible with tight_layout, so results might be incorrect.\n",
      "\n"
     ]
    },
    {
     "name": "stdout",
     "output_type": "stream",
     "text": [
      "Warning: excludeThres option currently not supported. Resetting excludeThres to 0.\n",
      "Warning: excludeThres option currently not supported. Resetting excludeThres to 0.\n"
     ]
    },
    {
     "name": "stderr",
     "output_type": "stream",
     "text": [
      "/var/folders/sc/kmc7_9gn2hqd_lrnhdt_2s580000gn/T/ipykernel_36930/2556735345.py:60: UserWarning:\n",
      "\n",
      "This figure includes Axes that are not compatible with tight_layout, so results might be incorrect.\n",
      "\n"
     ]
    },
    {
     "name": "stdout",
     "output_type": "stream",
     "text": [
      "Warning: excludeThres option currently not supported. Resetting excludeThres to 0.\n",
      "Warning: excludeThres option currently not supported. Resetting excludeThres to 0.\n"
     ]
    },
    {
     "name": "stderr",
     "output_type": "stream",
     "text": [
      "/var/folders/sc/kmc7_9gn2hqd_lrnhdt_2s580000gn/T/ipykernel_36930/2556735345.py:60: UserWarning:\n",
      "\n",
      "This figure includes Axes that are not compatible with tight_layout, so results might be incorrect.\n",
      "\n"
     ]
    },
    {
     "name": "stdout",
     "output_type": "stream",
     "text": [
      "Warning: excludeThres option currently not supported. Resetting excludeThres to 0.\n",
      "Warning: excludeThres option currently not supported. Resetting excludeThres to 0.\n"
     ]
    },
    {
     "name": "stderr",
     "output_type": "stream",
     "text": [
      "/var/folders/sc/kmc7_9gn2hqd_lrnhdt_2s580000gn/T/ipykernel_36930/2556735345.py:60: UserWarning:\n",
      "\n",
      "This figure includes Axes that are not compatible with tight_layout, so results might be incorrect.\n",
      "\n"
     ]
    },
    {
     "name": "stdout",
     "output_type": "stream",
     "text": [
      "Warning: excludeThres option currently not supported. Resetting excludeThres to 0.\n",
      "Warning: excludeThres option currently not supported. Resetting excludeThres to 0.\n"
     ]
    },
    {
     "name": "stderr",
     "output_type": "stream",
     "text": [
      "/var/folders/sc/kmc7_9gn2hqd_lrnhdt_2s580000gn/T/ipykernel_36930/2556735345.py:60: UserWarning:\n",
      "\n",
      "This figure includes Axes that are not compatible with tight_layout, so results might be incorrect.\n",
      "\n"
     ]
    },
    {
     "name": "stdout",
     "output_type": "stream",
     "text": [
      "Warning: excludeThres option currently not supported. Resetting excludeThres to 0.\n",
      "Warning: excludeThres option currently not supported. Resetting excludeThres to 0.\n"
     ]
    },
    {
     "name": "stderr",
     "output_type": "stream",
     "text": [
      "/var/folders/sc/kmc7_9gn2hqd_lrnhdt_2s580000gn/T/ipykernel_36930/2556735345.py:60: UserWarning:\n",
      "\n",
      "This figure includes Axes that are not compatible with tight_layout, so results might be incorrect.\n",
      "\n"
     ]
    },
    {
     "name": "stdout",
     "output_type": "stream",
     "text": [
      "Warning: excludeThres option currently not supported. Resetting excludeThres to 0.\n",
      "Warning: excludeThres option currently not supported. Resetting excludeThres to 0.\n"
     ]
    },
    {
     "name": "stderr",
     "output_type": "stream",
     "text": [
      "/var/folders/sc/kmc7_9gn2hqd_lrnhdt_2s580000gn/T/ipykernel_36930/2556735345.py:60: UserWarning:\n",
      "\n",
      "This figure includes Axes that are not compatible with tight_layout, so results might be incorrect.\n",
      "\n"
     ]
    },
    {
     "name": "stdout",
     "output_type": "stream",
     "text": [
      "Warning: excludeThres option currently not supported. Resetting excludeThres to 0.\n",
      "Warning: excludeThres option currently not supported. Resetting excludeThres to 0.\n"
     ]
    },
    {
     "name": "stderr",
     "output_type": "stream",
     "text": [
      "/var/folders/sc/kmc7_9gn2hqd_lrnhdt_2s580000gn/T/ipykernel_36930/2556735345.py:60: UserWarning:\n",
      "\n",
      "This figure includes Axes that are not compatible with tight_layout, so results might be incorrect.\n",
      "\n"
     ]
    },
    {
     "name": "stdout",
     "output_type": "stream",
     "text": [
      "Warning: excludeThres option currently not supported. Resetting excludeThres to 0.\n",
      "Warning: excludeThres option currently not supported. Resetting excludeThres to 0.\n"
     ]
    },
    {
     "name": "stderr",
     "output_type": "stream",
     "text": [
      "/var/folders/sc/kmc7_9gn2hqd_lrnhdt_2s580000gn/T/ipykernel_36930/2556735345.py:60: UserWarning:\n",
      "\n",
      "This figure includes Axes that are not compatible with tight_layout, so results might be incorrect.\n",
      "\n"
     ]
    },
    {
     "name": "stdout",
     "output_type": "stream",
     "text": [
      "Warning: excludeThres option currently not supported. Resetting excludeThres to 0.\n",
      "Warning: excludeThres option currently not supported. Resetting excludeThres to 0.\n"
     ]
    },
    {
     "name": "stderr",
     "output_type": "stream",
     "text": [
      "/var/folders/sc/kmc7_9gn2hqd_lrnhdt_2s580000gn/T/ipykernel_36930/2556735345.py:60: UserWarning:\n",
      "\n",
      "This figure includes Axes that are not compatible with tight_layout, so results might be incorrect.\n",
      "\n"
     ]
    },
    {
     "name": "stdout",
     "output_type": "stream",
     "text": [
      "Warning: excludeThres option currently not supported. Resetting excludeThres to 0.\n",
      "Warning: excludeThres option currently not supported. Resetting excludeThres to 0.\n"
     ]
    },
    {
     "name": "stderr",
     "output_type": "stream",
     "text": [
      "/var/folders/sc/kmc7_9gn2hqd_lrnhdt_2s580000gn/T/ipykernel_36930/2556735345.py:60: UserWarning:\n",
      "\n",
      "This figure includes Axes that are not compatible with tight_layout, so results might be incorrect.\n",
      "\n"
     ]
    },
    {
     "name": "stdout",
     "output_type": "stream",
     "text": [
      "Warning: excludeThres option currently not supported. Resetting excludeThres to 0.\n",
      "Warning: excludeThres option currently not supported. Resetting excludeThres to 0.\n"
     ]
    },
    {
     "name": "stderr",
     "output_type": "stream",
     "text": [
      "/var/folders/sc/kmc7_9gn2hqd_lrnhdt_2s580000gn/T/ipykernel_36930/2556735345.py:60: UserWarning:\n",
      "\n",
      "This figure includes Axes that are not compatible with tight_layout, so results might be incorrect.\n",
      "\n"
     ]
    },
    {
     "name": "stdout",
     "output_type": "stream",
     "text": [
      "Warning: excludeThres option currently not supported. Resetting excludeThres to 0.\n",
      "Warning: excludeThres option currently not supported. Resetting excludeThres to 0.\n"
     ]
    },
    {
     "name": "stderr",
     "output_type": "stream",
     "text": [
      "/var/folders/sc/kmc7_9gn2hqd_lrnhdt_2s580000gn/T/ipykernel_36930/2556735345.py:60: UserWarning:\n",
      "\n",
      "This figure includes Axes that are not compatible with tight_layout, so results might be incorrect.\n",
      "\n"
     ]
    },
    {
     "name": "stdout",
     "output_type": "stream",
     "text": [
      "Warning: excludeThres option currently not supported. Resetting excludeThres to 0.\n",
      "Warning: excludeThres option currently not supported. Resetting excludeThres to 0.\n"
     ]
    },
    {
     "name": "stderr",
     "output_type": "stream",
     "text": [
      "/var/folders/sc/kmc7_9gn2hqd_lrnhdt_2s580000gn/T/ipykernel_36930/2556735345.py:60: UserWarning:\n",
      "\n",
      "This figure includes Axes that are not compatible with tight_layout, so results might be incorrect.\n",
      "\n"
     ]
    },
    {
     "name": "stdout",
     "output_type": "stream",
     "text": [
      "Warning: excludeThres option currently not supported. Resetting excludeThres to 0.\n",
      "Warning: excludeThres option currently not supported. Resetting excludeThres to 0.\n"
     ]
    },
    {
     "name": "stderr",
     "output_type": "stream",
     "text": [
      "/var/folders/sc/kmc7_9gn2hqd_lrnhdt_2s580000gn/T/ipykernel_36930/2556735345.py:60: UserWarning:\n",
      "\n",
      "This figure includes Axes that are not compatible with tight_layout, so results might be incorrect.\n",
      "\n"
     ]
    },
    {
     "name": "stdout",
     "output_type": "stream",
     "text": [
      "Warning: excludeThres option currently not supported. Resetting excludeThres to 0.\n",
      "Warning: excludeThres option currently not supported. Resetting excludeThres to 0.\n"
     ]
    },
    {
     "name": "stderr",
     "output_type": "stream",
     "text": [
      "/var/folders/sc/kmc7_9gn2hqd_lrnhdt_2s580000gn/T/ipykernel_36930/2556735345.py:60: UserWarning:\n",
      "\n",
      "This figure includes Axes that are not compatible with tight_layout, so results might be incorrect.\n",
      "\n"
     ]
    }
   ],
   "source": [
    "glm = 1\n",
    "participants = [101,102,103,104,106,107,108,109,110,111,112,113,114,115]\n",
    "conds = ['lhand', 'rhand', 'bi']\n",
    "\n",
    "for cnt, sn in enumerate(participants):\n",
    "    spmT_names = sorted(glob.glob(os.path.join(baseDir, f'glm{glm}', f's{sn}', \"spmT_*.nii\")))\n",
    "    for spmT in spmT_names:\n",
    "        # 2. Define the relevant gifti files for both left and right hemisphere:\n",
    "        surf_white = [] # White -gray matter surface \n",
    "        surf_pial = []  # Pial surface\n",
    "        surf_sulc = []  # Sulcal depth \n",
    "        hemN = ['L','R']\n",
    "        for h,hem in enumerate(hemN):\n",
    "            surf_white.append(os.path.join(baseDir,surfacewbDir, f's{sn}', f's{sn}.{hem}.white.32k.surf.gii'))\n",
    "            surf_pial.append(os.path.join(baseDir,surfacewbDir, f's{sn}', f's{sn}.{hem}.pial.32k.surf.gii'))\n",
    "            surf_sulc.append(os.path.join(baseDir,surfacewbDir, f's{sn}', f's{sn}.{hem}.sulc.32k.shape.gii'))\n",
    "\n",
    "        # Map a Nifti to the surface of left hemisphere\n",
    "        DL = surf.map.vol_to_surf([spmT],surf_pial[0], surf_white[0], excludeThres=0.9)\n",
    "        # Map a Nifti to the surface of right hemisphere\n",
    "        DR = surf.map.vol_to_surf([spmT],surf_pial[1],surf_white[1],  excludeThres=0.9)\n",
    "\n",
    "        D = {'L':DL, 'R':DR}\n",
    "\n",
    "        Hem = ['L', 'R']\n",
    "        region_names = ['?', 'S1', 'M1', 'PMd', 'PMv', 'SMA', 'V1', 'SPLa', '?']\n",
    "        borders = {'L': '/Users/aghavamp/Desktop/Projects/surfAnalysisPy/standard_mesh/fs_L/fs_LR.32k.L.border',\n",
    "                   'R': '/Users/aghavamp/Desktop/Projects/surfAnalysisPy/standard_mesh/fs_R/fs_LR.32k.R.border'}\n",
    "        \n",
    "        # Combine data from both hemispheres\n",
    "        all_data = np.concatenate([D['L'].flatten(), D['R'].flatten()])\n",
    "        # Use percentiles\n",
    "        # vmin = np.nanpercentile(all_data,20)\n",
    "        vmax = np.nanpercentile(all_data, 99)\n",
    "        vmin = -vmax\n",
    "        \n",
    "        fig, axs = plt.subplots(1, 2, figsize=(12, 6))\n",
    "        for ax, H in zip(axs, Hem):\n",
    "            plt.sca(ax)\n",
    "            surf.plot.plotmap(D[H].mean(axis=1), f'fs32k_{H}',\n",
    "                                underlay=None,\n",
    "                                borders=borders[H],\n",
    "                                cscale=[vmin, vmax],\n",
    "                                cmap='jet',\n",
    "                                underscale=[-1.5, 1],\n",
    "                                alpha=.5,\n",
    "                                new_figure=False,\n",
    "                                colorbar=False,\n",
    "                                # frame=[xlim[0], xlim[1], ylim[0], ylim[1]]\n",
    "                                )\n",
    "        # make colorbar\n",
    "        norm = plt.Normalize(vmin=vmin, vmax=vmax)\n",
    "        sm = ScalarMappable(norm=norm, cmap='jet')\n",
    "        cbar = fig.colorbar(sm, ax=[axs[0], axs[1]], orientation='horizontal', fraction=0.03)\n",
    "        cbar.set_label('t-value')\n",
    "\n",
    "        axs[0].set_title('Left hemisphere')\n",
    "        axs[1].set_title('Right hemisphere')\n",
    "        fig.suptitle(f'avg t-maps, s{sn}, glm{glm}, {spmT}')\n",
    "        fig.tight_layout()\n",
    "        plt.savefig(f'../figures/tmaps/tmap_glm{glm}_s{sn}_{os.path.splitext(os.path.basename(spmT))[0]}.pdf', bbox_inches=\"tight\")\n",
    "        if cnt == 0:\n",
    "            plt.close()\n",
    "        else:\n",
    "            plt.close()\n",
    "        \n"
   ]
  },
  {
   "cell_type": "markdown",
   "metadata": {},
   "source": [
    "## Check ROI definition"
   ]
  },
  {
   "cell_type": "code",
   "execution_count": null,
   "metadata": {},
   "outputs": [
    {
     "data": {
      "image/png": "[encoded data removed]",
      "text/plain": [
       "<Figure size 1200x800 with 2 Axes>"
      ]
     },
     "metadata": {},
     "output_type": "display_data"
    }
   ],
   "source": [
    "from matplotlib.patches import Patch\n",
    "\n",
    "atlas = 'ROI'\n",
    "Hem = ['L', 'R']\n",
    "region_names = ['?', 'S1', 'M1', 'PMd', 'PMv', 'SMA', 'V1', 'SPLa', 'SPLp']\n",
    "borders = {'L': '/Users/aghavamp/Desktop/Projects/surfAnalysisPy/standard_mesh/fs_L/fs_LR.32k.L.border',\n",
    "           'R': '/Users/aghavamp/Desktop/Projects/surfAnalysisPy/standard_mesh/fs_R/fs_LR.32k.R.border'}\n",
    "region_colors = np.array([[0.        , 0.        , 0.        ],\n",
    "                        [1.        , 0.15686275, 1.        ],\n",
    "                        [0.15686275, 0.15686275, 1.        ],\n",
    "                        [0.15686275, 1.        , 0.15686275],\n",
    "                        [0.        , 0.8       , 1.        ],\n",
    "                        [1.        , 1.        , 0.15686275],\n",
    "                        [0.8       , 0.6       , 0.        ],\n",
    "                        [1.        , 0.36862745, 0.15686275],\n",
    "                        [0.90196078, 0.15686275, 0.36862745]])\n",
    "fig, axs = plt.subplots(1, 2, figsize=(12, 8))\n",
    "for ax, H in zip(axs, Hem):\n",
    "    D = nb.load(os.path.join(atlasDir, f'{atlas}.32k.{H}.label.gii'))\n",
    "    darray = nt.get_gifti_data_matrix(D)\n",
    "    plt.sca(ax)\n",
    "    surf.plot.plotmap(darray, f'fs32k_{H}',\n",
    "                      underlay=None,\n",
    "                      borders=borders[H],\n",
    "                      cmap=region_colors,\n",
    "                      underscale=[-1.5, 1],\n",
    "                      alpha=0.5,\n",
    "                      new_figure=False,\n",
    "                      colorbar=False,\n",
    "                      )\n",
    "axs[0].set_title('Left hemisphere')\n",
    "axs[1].set_title('Right hemisphere')\n",
    "\n",
    "legend_elements = [\n",
    "    Patch(facecolor=color, edgecolor='black', label=name)\n",
    "    for color, name in zip(region_colors, region_names)\n",
    "]\n",
    "plt.legend(handles=legend_elements, loc='lower left', title='Regions')\n",
    "\n",
    "fig.tight_layout()\n",
    "plt.savefig(f'../figures/ROI_def.pdf', bbox_inches=\"tight\")\n"
   ]
  }
 ],
 "metadata": {
  "kernelspec": {
   "display_name": "Python 3",
   "language": "python",
   "name": "python3"
  },
  "language_info": {
   "codemirror_mode": {
    "name": "ipython",
    "version": 3
   },
   "file_extension": ".py",
   "mimetype": "text/x-python",
   "name": "python",
   "nbconvert_exporter": "python",
   "pygments_lexer": "ipython3",
   "version": "3.11.11"
  }
 },
 "nbformat": 4,
 "nbformat_minor": 2
}
