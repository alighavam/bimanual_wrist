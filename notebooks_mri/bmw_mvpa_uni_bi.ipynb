{
 "cells": [
  {
   "cell_type": "code",
   "execution_count": 3,
   "id": "1fdc37e8",
   "metadata": {},
   "outputs": [],
   "source": [
    "import os\n",
    "import sys\n",
    "sys.path.append('/Users/aghavamp/Desktop/Projects')\n",
    "sys.path.append('/Users/aghavamp/Desktop/Projects/bimanual_wrist')\n",
    "sys.path.append('/Users/aghavamp/Desktop/Projects/Functional_Fusion')\n",
    "import getpass\n",
    "import importlib\n",
    "import tqdm\n",
    "\n",
    "import scipy.io as sio\n",
    "import rsatoolbox as rsa\n",
    "from rsatoolbox.io import spm as spm_io\n",
    "import matplotlib.pyplot as plt\n",
    "import numpy as np\n",
    "import pandas as pd\n",
    "import surfAnalysisPy as surf\n",
    "import SUITPy as suit\n",
    "import nibabel as nb\n",
    "import nitools as nt\n",
    "from matplotlib.cm import ScalarMappable\n",
    "import matplotlib.cm as cm\n",
    "import matplotlib.colors as mcolors\n",
    "from pathlib import Path\n",
    "import seaborn as sns\n",
    "import PcmPy as pcm\n",
    "import Functional_Fusion.atlas_map as am\n",
    "import Functional_Fusion.reliability as rel\n",
    "import glob\n",
    "import matplotlib.patches as patches\n",
    "\n",
    "import utils\n",
    "importlib.reload(utils)\n",
    "\n",
    "# SET PATHS:\n",
    "baseDir = os.path.join('/Users', getpass.getuser(), 'Desktop', 'Projects', 'bimanual_wrist', 'data', 'fMRI')\n",
    "bidsDir = 'BIDS'\n",
    "anatomicalDir = 'anatomicals'\n",
    "freesurferDir = 'surfaceFreesurfer'\n",
    "surfacewbDir = 'surfaceWB' \n",
    "behavDir = 'behavioural'\n",
    "regDir = 'ROI'\n",
    "atlasDir = '/Volumes/diedrichsen_data$/data/Atlas_templates/fs_LR_32'\n",
    "analysisDir = os.path.join(os.path.dirname(os.path.dirname(baseDir)), 'analysis')\n"
   ]
  },
  {
   "cell_type": "markdown",
   "id": "85e4c28a",
   "metadata": {},
   "source": [
    "In the contralateral hemisphere, average the bimanual activity when a hand moved to a certain direction (e.g., leftHand-rightHand: 0-0, 0-60, 0-120, 0-180, 0-240, 0-300) with the unimanual condittion in which that hand moved to the same direction (e.g., leftHand 0)."
   ]
  },
  {
   "cell_type": "code",
   "execution_count": null,
   "id": "d3fa6ca3",
   "metadata": {},
   "outputs": [],
   "source": []
  }
 ],
 "metadata": {
  "kernelspec": {
   "display_name": "Python 3",
   "language": "python",
   "name": "python3"
  },
  "language_info": {
   "codemirror_mode": {
    "name": "ipython",
    "version": 3
   },
   "file_extension": ".py",
   "mimetype": "text/x-python",
   "name": "python",
   "nbconvert_exporter": "python",
   "pygments_lexer": "ipython3",
   "version": "3.11.11"
  }
 },
 "nbformat": 4,
 "nbformat_minor": 5
}
