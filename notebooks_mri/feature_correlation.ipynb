{
 "cells": [
  {
   "cell_type": "code",
   "execution_count": 71,
   "id": "55063340",
   "metadata": {},
   "outputs": [],
   "source": [
    "# Feature models and correlations of patterns"
   ]
  },
  {
   "cell_type": "code",
   "execution_count": 1,
   "id": "9480791b",
   "metadata": {},
   "outputs": [],
   "source": [
    "import PcmPy as pcm\n",
    "import numpy as np\n",
    "import matplotlib.pyplot as plt\n",
    "from numpy import sqrt"
   ]
  },
  {
   "cell_type": "code",
   "execution_count": 2,
   "id": "32541c73",
   "metadata": {},
   "outputs": [],
   "source": [
    "def plot_features(model):\n",
    "    num_feature = model.Ac.shape[0]\n",
    "    for i in range(num_feature):\n",
    "        plt.subplot(1, num_feature, i+1)\n",
    "        plt.imshow(model.Ac[i], cmap='seismic',vmin=-1, vmax=1)"
   ]
  },
  {
   "cell_type": "markdown",
   "id": "46d68f0d",
   "metadata": {},
   "source": [
    "# Demonstrate that a Feature-correlation model with 4 components is redundant\n",
    "We should be able to get the same predictions with a feature model that has three components\n",
    " "
   ]
  },
  {
   "cell_type": "code",
   "execution_count": null,
   "id": "6e9d118b",
   "metadata": {},
   "outputs": [
    {
     "data": {
      "image/png": "[encoded data removed]",
      "text/plain": [
       "<Figure size 640x480 with 4 Axes>"
      ]
     },
     "metadata": {},
     "output_type": "display_data"
    }
   ],
   "source": [
    "# Simple case with 2 patterns (x and y) and\n",
    "Ac= np.zeros((4,2,3))\n",
    "Ac[0,0,0] = 1\n",
    "Ac[1,0,1] = 1\n",
    "Ac[2,1,1] = 1\n",
    "Ac[3,1,2] = 1\n",
    "M=pcm.FeatureModel('model',Ac)\n",
    "plot_features(M)"
   ]
  },
  {
   "cell_type": "code",
   "execution_count": 74,
   "id": "4bad7326",
   "metadata": {},
   "outputs": [
    {
     "data": {
      "text/plain": [
       "array([[ 2.  , -0.5 ],\n",
       "       [-0.5 ,  1.25]])"
      ]
     },
     "execution_count": 74,
     "metadata": {},
     "output_type": "execute_result"
    }
   ],
   "source": [
    "# The same G-matrix can be predicted by different settings of the parameters \n",
    "theta1 = np.array([1,-1,0.5,1])\n",
    "G,_ = M.predict(theta1)\n",
    "G"
   ]
  },
  {
   "cell_type": "code",
   "execution_count": 75,
   "id": "fe7eebbf",
   "metadata": {},
   "outputs": [
    {
     "data": {
      "text/plain": [
       "array([[ 2.  , -0.5 ],\n",
       "       [-0.5 ,  1.25]])"
      ]
     },
     "execution_count": 75,
     "metadata": {},
     "output_type": "execute_result"
    }
   ],
   "source": [
    "# Alternative solution \n",
    "theta2 = np.array([sqrt(1.75),-0.5,1,0.5])\n",
    "G,_ = M.predict(np.array(theta2))\n",
    "G"
   ]
  },
  {
   "cell_type": "code",
   "execution_count": 5,
   "id": "04ccbc38",
   "metadata": {},
   "outputs": [
    {
     "data": {
      "image/png": "[encoded data removed]",
      "text/plain": [
       "<Figure size 640x480 with 3 Axes>"
      ]
     },
     "metadata": {},
     "output_type": "display_data"
    }
   ],
   "source": [
    "# More restricted feature model using only three features achieves the same G-matrix\n",
    "Ac= np.zeros((3,2,2))\n",
    "Ac[0,0,0] = 1\n",
    "Ac[1,0,1] = 1\n",
    "Ac[2,1,1] = 1\n",
    "Mr=pcm.FeatureModel('model',Ac)\n",
    "plot_features(Mr)"
   ]
  },
  {
   "cell_type": "code",
   "execution_count": 77,
   "id": "59dfc8a8",
   "metadata": {},
   "outputs": [
    {
     "data": {
      "text/plain": [
       "array([[ 2.  , -0.5 ],\n",
       "       [-0.5 ,  1.25]])"
      ]
     },
     "execution_count": 77,
     "metadata": {},
     "output_type": "execute_result"
    }
   ],
   "source": [
    "theta3 = np.array([sqrt(2-0.2),-0.5/sqrt(1.25),sqrt(1.25)])\n",
    "G,_ = Mr.predict(theta3)\n",
    "G"
   ]
  },
  {
   "cell_type": "code",
   "execution_count": null,
   "id": "d3ac2836",
   "metadata": {},
   "outputs": [
    {
     "name": "stdout",
     "output_type": "stream",
     "text": [
      "var1(theta1) = [2.0, 1.25, -0.5]\n",
      "var1(theta2) = [2.0, 1.25, -0.5]\n",
      "var3(theta3) = [2.0, 1.2500000000000002, -0.5]\n"
     ]
    }
   ],
   "source": [
    "# Equivalence on the level of the paramters\n",
    "def var1(theta):\n",
    "    \"\"\" This is for the redundant 4-parameter version of the model \"\"\"\n",
    "    return [theta[0]**2 + theta[1]**2, theta[2]**2 + theta[3]**2, theta[1]*theta[2]]\n",
    "\n",
    "def var3(theta):\n",
    "    \"\"\" This is for the reducted 3-parameter version of the model \"\"\"\n",
    "    return [theta[0]**2 + theta[1]**2, theta[2]**2, theta[1]*theta[2]]\n",
    "\n",
    "v1 = var1(theta1)\n",
    "v2 = var1(theta2)\n",
    "v3 = var3(theta3)\n",
    "\n",
    "print('var1(theta1) =', v1)\n",
    "print('var1(theta2) =', v2)\n",
    "print('var3(theta3) =', v3)"
   ]
  },
  {
   "cell_type": "markdown",
   "id": "c6e1c569",
   "metadata": {},
   "source": [
    "## Going into full feature space: does the overall amount of variance change? "
   ]
  },
  {
   "cell_type": "code",
   "execution_count": 79,
   "id": "bf413f0a",
   "metadata": {},
   "outputs": [],
   "source": [
    "f1 = np.array([1,1,1,1,1,-1,-1,-1,-1,-1])\n",
    "c1 = np.array([2,1,0,-1,-2,2,1,0,-1,-2])\n",
    "f1=f1/sqrt(np.sum(f1**2))\n",
    "c1=c1/sqrt(np.sum(c1**2))\n",
    "Z = np.c_[f1,c1]"
   ]
  },
  {
   "cell_type": "code",
   "execution_count": 80,
   "id": "14c8645e",
   "metadata": {},
   "outputs": [],
   "source": [
    "Bc= np.zeros((3,10,2))\n",
    "Bc[0] = Z @ Mr.Ac[0]\n",
    "Bc[1] = Z @ Mr.Ac[1]\n",
    "Bc[2] = Z @ Mr.Ac[2]\n",
    "Mf=pcm.FeatureModel('model',Bc)"
   ]
  },
  {
   "cell_type": "code",
   "execution_count": null,
   "id": "56af5f5b",
   "metadata": {},
   "outputs": [
    {
     "data": {
      "image/png": "[encoded data removed]",
      "text/plain": [
       "<Figure size 640x480 with 3 Axes>"
      ]
     },
     "metadata": {},
     "output_type": "display_data"
    }
   ],
   "source": [
    "\n",
    "\n",
    "plot_features(Mf)"
   ]
  },
  {
   "cell_type": "code",
   "execution_count": null,
   "id": "59abbf30",
   "metadata": {},
   "outputs": [
    {
     "name": "stdout",
     "output_type": "stream",
     "text": [
      "var3(th3) = [1.04, 0.6400000000000001, -0.16000000000000003]\n",
      "Trace of G matrix 1.68\n"
     ]
    },
    {
     "data": {
      "image/png": "[encoded data removed]",
      "text/plain": [
       "<Figure size 640x480 with 1 Axes>"
      ]
     },
     "metadata": {},
     "output_type": "display_data"
    }
   ],
   "source": [
    "th3 = np.array([sqrt(2-0.2),0.5/sqrt(1.25),sqrt(1.25)])\n",
    "th3 = np.array([1,-0.2,0.8])\n",
    "G,_ = Mf.predict(th3)\n",
    "plt.imshow(pcm.util.G_to_dist(G), cmap='seismic', vmin=-1, vmax=1)\n",
    "vx = var3(th3)\n",
    "print('var3(th3) =', vx)\n",
    "print('Trace of G matrix',np.trace(G))\n",
    "\n",
    "\n"
   ]
  },
  {
   "cell_type": "markdown",
   "id": "3a4ba477",
   "metadata": {},
   "source": [
    "## What if the two feature vectors are not orthogonal? "
   ]
  },
  {
   "cell_type": "code",
   "execution_count": 83,
   "id": "eb309985",
   "metadata": {},
   "outputs": [],
   "source": [
    "f1 = np.array([1,1,1,1,-1,-1,-1,-1])\n",
    "c1 = np.array([2,1,0,-1,1,0,-1,-2])\n",
    "c1 = c1 - np.mean(c1)\n",
    "f1=f1/sqrt(np.sum(f1**2))\n",
    "c1=c1/sqrt(np.sum(c1**2))\n",
    "Z = np.c_[f1,c1]"
   ]
  },
  {
   "cell_type": "code",
   "execution_count": 84,
   "id": "e1311d61",
   "metadata": {},
   "outputs": [
    {
     "data": {
      "text/plain": [
       "array([[1.        , 0.40824829],\n",
       "       [0.40824829, 1.        ]])"
      ]
     },
     "execution_count": 84,
     "metadata": {},
     "output_type": "execute_result"
    }
   ],
   "source": [
    "Z.T @ Z"
   ]
  },
  {
   "cell_type": "code",
   "execution_count": 85,
   "id": "d13c7e03",
   "metadata": {},
   "outputs": [
    {
     "data": {
      "image/png": "[encoded data removed]",
      "text/plain": [
       "<Figure size 640x480 with 3 Axes>"
      ]
     },
     "metadata": {},
     "output_type": "display_data"
    }
   ],
   "source": [
    "Cc= np.zeros((3,8,2))\n",
    "Cc[0] = Z @ Mr.Ac[0]\n",
    "Cc[1] = Z @ Mr.Ac[1]\n",
    "Cc[2] = Z @ Mr.Ac[2]\n",
    "Mn=pcm.FeatureModel('model',Cc)\n",
    "plot_features(Mn)"
   ]
  },
  {
   "cell_type": "code",
   "execution_count": null,
   "id": "3833c3e2",
   "metadata": {},
   "outputs": [
    {
     "name": "stdout",
     "output_type": "stream",
     "text": [
      "var3(th3) = [1.3599999999999999, 0.6400000000000001, -0.48]\n",
      "Trace of G matrix 1.6080816411546914\n"
     ]
    },
    {
     "data": {
      "image/png": "[encoded data removed]",
      "text/plain": [
       "<Figure size 640x480 with 1 Axes>"
      ]
     },
     "metadata": {},
     "output_type": "display_data"
    }
   ],
   "source": [
    "th3 = np.array([1,-0.6,0.8])\n",
    "G,_ = Mn.predict(th3)\n",
    "plt.imshow(G, cmap='seismic', vmin=-1, vmax=1)\n",
    "vx = var3(th3)\n",
    "print('var3(th3) =', vx)\n",
    "print('Trace of G matrix',np.trace(G))"
   ]
  },
  {
   "cell_type": "code",
   "execution_count": 90,
   "id": "d956c209",
   "metadata": {},
   "outputs": [
    {
     "name": "stdout",
     "output_type": "stream",
     "text": [
      "varX = [1.0, 0.6080816411546914]\n",
      "Trace of G matrix 1.6080816411546914\n"
     ]
    }
   ],
   "source": [
    "# We can get the correct result overall, if we take into account the inner product of the features \n",
    "cv= f1@c1 # Inner product of the features\n",
    "varX = [th3[0]**2, th3[1]**2 + th3[2]**2 + 2*cv*th3[1]*th3[2]]  \n",
    "print('varX =', varX)\n",
    "print('Trace of G matrix',np.trace(G))\n"
   ]
  }
 ],
 "metadata": {
  "kernelspec": {
   "display_name": "base",
   "language": "python",
   "name": "python3"
  },
  "language_info": {
   "codemirror_mode": {
    "name": "ipython",
    "version": 3
   },
   "file_extension": ".py",
   "mimetype": "text/x-python",
   "name": "python",
   "nbconvert_exporter": "python",
   "pygments_lexer": "ipython3",
   "version": "3.11.8"
  }
 },
 "nbformat": 4,
 "nbformat_minor": 5
}
