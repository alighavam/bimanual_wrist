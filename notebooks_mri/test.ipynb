{
 "cells": [
  {
   "cell_type": "code",
   "execution_count": 4,
   "id": "de76c9cc",
   "metadata": {},
   "outputs": [],
   "source": [
    "import glob\n",
    "import os\n",
    "import sys\n",
    "import getpass\n",
    "# sys.path.append('/Users/aghavamp/Desktop/Projects')\n",
    "# sys.path.append('/Users/aghavamp/Desktop/Projects/bimanual_wrist')\n",
    "sys.path.append('/Users/aghavamp/Desktop/Projects/GLMsingle')\n",
    "\n",
    "import numpy as np\n",
    "import pandas as pd\n",
    "import scipy\n",
    "import scipy.stats as stats\n",
    "import scipy.io as sio\n",
    "import matplotlib.pyplot as plt\n",
    "import nibabel as nib\n",
    "\n",
    "import os\n",
    "from os.path import join, exists, split\n",
    "import sys\n",
    "import time\n",
    "import urllib.request\n",
    "import copy\n",
    "import warnings\n",
    "from tqdm import tqdm\n",
    "from pprint import pprint\n",
    "warnings.filterwarnings('ignore')\n",
    "\n",
    "import glmsingle\n",
    "from glmsingle.glmsingle import GLM_single\n",
    "\n",
    "# note: the fracridge repository is also necessary to run this code\n",
    "# for example, you could do:\n",
    "#      git clone https://github.com/nrdg/fracridge.git"
   ]
  },
  {
   "cell_type": "code",
   "execution_count": 9,
   "id": "1eddb6f6",
   "metadata": {},
   "outputs": [
    {
     "name": "stdout",
     "output_type": "stream",
     "text": [
      "directory to save example dataset:\n",
      "\t/Users/aghavamp/Desktop/Projects/bimanual_wrist/examples/data\n",
      "\n",
      "directory to save example1 outputs:\n",
      "\t/Users/aghavamp/Desktop/Projects/bimanual_wrist/examples/example1outputs\n",
      "\n"
     ]
    }
   ],
   "source": [
    "# get path to the directory to which GLMsingle was installed\n",
    "homedir = split(os.getcwd())[0]\n",
    "\n",
    "# create directory for saving data\n",
    "datadir = join(homedir,'examples','data')\n",
    "os.makedirs(datadir,exist_ok=True)\n",
    "\n",
    "# create directory for saving outputs from example 1\n",
    "outputdir = join(homedir,'examples','example1outputs')\n",
    "\n",
    "print(f'directory to save example dataset:\\n\\t{datadir}\\n')\n",
    "print(f'directory to save example1 outputs:\\n\\t{outputdir}\\n')"
   ]
  },
  {
   "cell_type": "code",
   "execution_count": null,
   "id": "086eb6d4",
   "metadata": {},
   "outputs": [],
   "source": []
  }
 ],
 "metadata": {
  "kernelspec": {
   "display_name": "Python 3",
   "language": "python",
   "name": "python3"
  },
  "language_info": {
   "codemirror_mode": {
    "name": "ipython",
    "version": 3
   },
   "file_extension": ".py",
   "mimetype": "text/x-python",
   "name": "python",
   "nbconvert_exporter": "python",
   "pygments_lexer": "ipython3",
   "version": "3.11.11"
  }
 },
 "nbformat": 4,
 "nbformat_minor": 5
}
