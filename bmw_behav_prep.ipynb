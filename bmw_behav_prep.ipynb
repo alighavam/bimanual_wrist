{
 "cells": [
  {
   "cell_type": "markdown",
   "id": "c074c90c",
   "metadata": {},
   "source": [
    "Subject's behavioural data during the training sessions and fMRI is preprocessed. The output of this pipeline is analysis dataframes"
   ]
  },
  {
   "cell_type": "code",
   "execution_count": 1,
   "id": "84436d69",
   "metadata": {},
   "outputs": [],
   "source": [
    "import os\n",
    "import sys\n",
    "from pathlib import Path\n",
    "import glob\n",
    "import getpass\n",
    "import importlib\n",
    "\n",
    "import numpy as np\n",
    "import pandas as pd\n",
    "import scipy.io as sio\n",
    "\n",
    "import seaborn as sns\n",
    "import matplotlib.pyplot as plt\n",
    "import matplotlib.patches as patches\n",
    "from matplotlib.cm import ScalarMappable\n",
    "import matplotlib.cm as cm\n",
    "import matplotlib.colors as mcolors\n",
    "\n",
    "import utils\n",
    "importlib.reload(utils)\n",
    "\n",
    "# SET PATHS:\n",
    "baseDir = os.path.join('/Users', getpass.getuser(), 'Desktop', 'Projects', 'bimanual_wrist')\n",
    "fMRI_behavDir = os.path.join(baseDir,'data','fMRI','behavioural')\n",
    "train_behavDir = os.path.join(baseDir,'data','training')\n",
    "anaDir = os.path.join(baseDir,'analysis')\n",
    "figDir = os.path.join(baseDir,'figures')\n",
    "\n",
    "path = {'baseDir': baseDir,\n",
    "        'fMRI_behavDir': fMRI_behavDir,\n",
    "        'train_behavDir': train_behavDir,\n",
    "        'anaDir': anaDir}\n",
    "\n"
   ]
  },
  {
   "cell_type": "markdown",
   "id": "3ae1f211",
   "metadata": {},
   "source": [
    "## Subject routine and prep"
   ]
  },
  {
   "cell_type": "code",
   "execution_count": 2,
   "id": "88ccc219",
   "metadata": {},
   "outputs": [
    {
     "name": "stdout",
     "output_type": "stream",
     "text": [
      "Processing block 1\n",
      "Processing trial 1\n",
      "Processing trial 2\n"
     ]
    },
    {
     "ename": "AttributeError",
     "evalue": "'numpy.ndarray' object has no attribute 'values'",
     "output_type": "error",
     "traceback": [
      "\u001b[31m---------------------------------------------------------------------------\u001b[39m",
      "\u001b[31mAttributeError\u001b[39m                            Traceback (most recent call last)",
      "\u001b[36mCell\u001b[39m\u001b[36m \u001b[39m\u001b[32mIn[2]\u001b[39m\u001b[32m, line 7\u001b[39m\n\u001b[32m      4\u001b[39m train = pd.read_table(os.path.join(train_behavDir, \u001b[33mf\u001b[39m\u001b[33m'\u001b[39m\u001b[33ms\u001b[39m\u001b[38;5;132;01m{\u001b[39;00msn\u001b[38;5;132;01m:\u001b[39;00m\u001b[33m02d\u001b[39m\u001b[38;5;132;01m}\u001b[39;00m\u001b[33m'\u001b[39m, \u001b[33mf\u001b[39m\u001b[33m'\u001b[39m\u001b[33mBimanualWrist_MR_\u001b[39m\u001b[38;5;132;01m{\u001b[39;00msn\u001b[38;5;132;01m}\u001b[39;00m\u001b[33m.dat\u001b[39m\u001b[33m'\u001b[39m))\n\u001b[32m      5\u001b[39m fMRI = pd.read_table(os.path.join(fMRI_behavDir, \u001b[33mf\u001b[39m\u001b[33m'\u001b[39m\u001b[33ms\u001b[39m\u001b[38;5;132;01m{\u001b[39;00msn\u001b[38;5;132;01m:\u001b[39;00m\u001b[33m02d\u001b[39m\u001b[38;5;132;01m}\u001b[39;00m\u001b[33m'\u001b[39m, \u001b[33mf\u001b[39m\u001b[33m'\u001b[39m\u001b[33mBimanualWrist_MR_\u001b[39m\u001b[38;5;132;01m{\u001b[39;00msn\u001b[38;5;132;01m}\u001b[39;00m\u001b[33m.dat\u001b[39m\u001b[33m'\u001b[39m))\n\u001b[32m----> \u001b[39m\u001b[32m7\u001b[39m \u001b[43mutils\u001b[49m\u001b[43m.\u001b[49m\u001b[43mdataset\u001b[49m\u001b[43m.\u001b[49m\u001b[43msubject_routine\u001b[49m\u001b[43m(\u001b[49m\u001b[43msn\u001b[49m\u001b[43m,\u001b[49m\u001b[43m \u001b[49m\u001b[43mpath\u001b[49m\u001b[43m,\u001b[49m\u001b[43m \u001b[49m\u001b[43msmooth_win_sz\u001b[49m\u001b[43m=\u001b[49m\u001b[32;43m0\u001b[39;49m\u001b[43m,\u001b[49m\u001b[43m \u001b[49m\u001b[43mfs\u001b[49m\u001b[43m=\u001b[49m\u001b[32;43m200\u001b[39;49m\u001b[43m)\u001b[49m\n",
      "\u001b[36mFile \u001b[39m\u001b[32m~/Desktop/Projects/bimanual_wrist/utils/dataset.py:206\u001b[39m, in \u001b[36msubject_routine\u001b[39m\u001b[34m(sn, path, smooth_win_sz, fs)\u001b[39m\n\u001b[32m    201\u001b[39m \u001b[38;5;66;03m# Find pre_RT and post_RT indices:\u001b[39;00m\n\u001b[32m    202\u001b[39m \u001b[38;5;66;03m# MAY DEVELOP LATER.\u001b[39;00m\n\u001b[32m    203\u001b[39m \n\u001b[32m    204\u001b[39m \u001b[38;5;66;03m# Calculate mean deviation for the trial:\u001b[39;00m\n\u001b[32m    205\u001b[39m \u001b[38;5;28;01mif\u001b[39;00m C.GoodMovement[\u001b[32m0\u001b[39m]:\n\u001b[32m--> \u001b[39m\u001b[32m206\u001b[39m     radius_l = trial_mov[:,\u001b[32m5\u001b[39m].flatten()[idx_gocue[i]:idx_endReach[i]]\n\u001b[32m    207\u001b[39m     radius_r = trial_mov[:,\u001b[32m6\u001b[39m].flatten()[idx_gocue[i]:idx_endReach[i]]\n\u001b[32m    208\u001b[39m     angle_l = trial_mov[:,\u001b[32m7\u001b[39m].flatten()[idx_gocue[i]:idx_endReach[i]]\n",
      "\u001b[31mAttributeError\u001b[39m: 'numpy.ndarray' object has no attribute 'values'"
     ]
    }
   ],
   "source": [
    "sn = 4\n",
    "\n",
    "# load the behavioural dta of subject:\n",
    "train = pd.read_table(os.path.join(train_behavDir, f's{sn:02d}', f'BimanualWrist_MR_{sn}.dat'))\n",
    "fMRI = pd.read_table(os.path.join(fMRI_behavDir, f's{sn:02d}', f'BimanualWrist_MR_{sn}.dat'))\n",
    "\n",
    "utils.dataset.subject_routine(sn, path, smooth_win_sz=0, fs=200)\n"
   ]
  },
  {
   "cell_type": "code",
   "execution_count": null,
   "id": "694f9ce7",
   "metadata": {},
   "outputs": [],
   "source": [
    "sn = 8\n",
    "D = pd.read_csv(os.path.join(anaDir, f'bmw_train_{sn}.csv'))\n",
    "D = D[D.GoodMovement == 1]\n",
    "D_mov = pd.read_csv(os.path.join(anaDir, f'bmw_train_{sn}_mov.csv'))\n",
    "\n",
    "# plot unimanual movements:\n",
    "conds = D.cond_name.unique()\n",
    "left_conds = [cond for cond in conds if 'left_' in cond]\n",
    "right_conds = [cond for cond in conds if 'right_' in cond]\n",
    "\n",
    "for cond in conds:\n",
    "    BNs = D.BN[D.cond_name==cond].values.flatten()\n",
    "    TNs = D.TN[D.cond_name==cond].values.flatten()\n",
    "    \n",
    "    # plot kinematic traces for left and right hands:\n",
    "    fix, ax = plt.subplots(figsize=(10, 5))\n",
    "    utils.please.draw_board(ax=ax)\n",
    "    for i in range(len(BNs)):\n",
    "        BN = BNs[i]\n",
    "        TN = TNs[i]\n",
    "        idx_gocue = D.idx_gocue[(D.BN==BN) & (D.TN==TN)].values[0]\n",
    "        idx_endReach = D.idx_endReach[(D.BN==BN) & (D.TN==TN)].values[0]\n",
    "        \n",
    "        # kinematic traces:\n",
    "        trial_mov = D_mov[(D_mov.BN==BN) & (D_mov.TN==TN)]\n",
    "        radius_l = trial_mov['mov_5'].values.flatten()[idx_gocue:idx_endReach]\n",
    "        radius_r = trial_mov['mov_6'].values.flatten()[idx_gocue:idx_endReach]\n",
    "        angle_l = trial_mov['mov_7'].values.flatten()[idx_gocue:idx_endReach]\n",
    "        angle_r = trial_mov['mov_8'].values.flatten()[idx_gocue:idx_endReach]\n",
    "        \n",
    "        radius = 5\n",
    "        x_offset = radius+2\n",
    "        y_offset = 0\n",
    "        x_l = radius_l * np.cos(np.deg2rad(angle_l)) - x_offset\n",
    "        y_l = radius_l * np.sin(np.deg2rad(angle_l)) + y_offset\n",
    "        x_r = radius_r * np.cos(np.deg2rad(angle_r)) + x_offset\n",
    "        y_r = radius_r * np.sin(np.deg2rad(angle_r)) + y_offset\n",
    "\n",
    "        plt.plot(x_l, y_l, color='red', alpha=0.5)\n",
    "        plt.plot(x_r, y_r, color='blue', alpha=0.5)\n",
    "    plt.title(f'{cond}, subject {sn}')\n",
    "    plt.xlabel('x')\n",
    "    plt.ylabel('y')\n",
    "    ax.set_xlim(-14, 14)\n",
    "    ax.set_ylim(-7, 7)\n",
    "    plt.savefig(os.path.join(figDir, 'behaviour', f'training_{sn}_{cond}.pdf'), bbox_inches=\"tight\")\n",
    "    plt.close()\n"
   ]
  }
 ],
 "metadata": {
  "kernelspec": {
   "display_name": "Python 3",
   "language": "python",
   "name": "python3"
  },
  "language_info": {
   "codemirror_mode": {
    "name": "ipython",
    "version": 3
   },
   "file_extension": ".py",
   "mimetype": "text/x-python",
   "name": "python",
   "nbconvert_exporter": "python",
   "pygments_lexer": "ipython3",
   "version": "3.11.11"
  }
 },
 "nbformat": 4,
 "nbformat_minor": 5
}
