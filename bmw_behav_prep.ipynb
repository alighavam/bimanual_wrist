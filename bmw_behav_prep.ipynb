{
 "cells": [
  {
   "cell_type": "markdown",
   "id": "c074c90c",
   "metadata": {},
   "source": [
    "Subject's behavioural data during the training sessions and fMRI is preprocessed. The output of this pipeline is analysis dataframes"
   ]
  },
  {
   "cell_type": "code",
   "execution_count": 1,
   "id": "84436d69",
   "metadata": {},
   "outputs": [],
   "source": [
    "import os\n",
    "import sys\n",
    "from pathlib import Path\n",
    "import glob\n",
    "import getpass\n",
    "import importlib\n",
    "\n",
    "import numpy as np\n",
    "import pandas as pd\n",
    "import scipy.io as sio\n",
    "\n",
    "import seaborn as sns\n",
    "import matplotlib.pyplot as plt\n",
    "import matplotlib.patches as patches\n",
    "from matplotlib.cm import ScalarMappable\n",
    "import matplotlib.cm as cm\n",
    "import matplotlib.colors as mcolors\n",
    "\n",
    "import utils\n",
    "importlib.reload(utils)\n",
    "\n",
    "# SET PATHS:\n",
    "baseDir = os.path.join('/Users', getpass.getuser(), 'Desktop', 'Projects', 'bimanual_wrist')\n",
    "fMRI_behavDir = os.path.join(baseDir,'data','fMRI','behavioural')\n",
    "train_behavDir = os.path.join(baseDir,'data','training')\n",
    "anaDir = os.path.join(baseDir,'analysis')\n",
    "figDir = os.path.join(baseDir,'figures')\n",
    "\n",
    "path = {'baseDir': baseDir,\n",
    "        'fMRI_behavDir': fMRI_behavDir,\n",
    "        'train_behavDir': train_behavDir,\n",
    "        'anaDir': anaDir}\n",
    "\n"
   ]
  },
  {
   "cell_type": "markdown",
   "id": "3ae1f211",
   "metadata": {},
   "source": [
    "## Subject routine and prep"
   ]
  },
  {
   "cell_type": "code",
   "execution_count": null,
   "id": "88ccc219",
   "metadata": {},
   "outputs": [
    {
     "name": "stderr",
     "output_type": "stream",
     "text": [
      "100%|██████████| 1152/1152 [01:20<00:00, 14.23it/s]\n",
      "100%|██████████| 960/960 [00:56<00:00, 16.87it/s]\n"
     ]
    }
   ],
   "source": [
    "sn = 7\n",
    "\n",
    "# load the behavioural dta of subject:\n",
    "train = pd.read_table(os.path.join(train_behavDir, f's{sn:02d}', f'BimanualWrist_MR_{sn}.dat'))\n",
    "fMRI = pd.read_table(os.path.join(fMRI_behavDir, f's{sn:02d}', f'BimanualWrist_MR_{sn}.dat'))\n",
    "\n",
    "utils.dataset.subject_routine(sn, path, smooth_win_sz=0, fs=200)\n"
   ]
  },
  {
   "cell_type": "markdown",
   "id": "99a37b35",
   "metadata": {},
   "source": [
    "## all dataframe"
   ]
  },
  {
   "cell_type": "code",
   "execution_count": null,
   "id": "faa2fef4",
   "metadata": {},
   "outputs": [],
   "source": []
  }
 ],
 "metadata": {
  "kernelspec": {
   "display_name": "Python 3",
   "language": "python",
   "name": "python3"
  },
  "language_info": {
   "codemirror_mode": {
    "name": "ipython",
    "version": 3
   },
   "file_extension": ".py",
   "mimetype": "text/x-python",
   "name": "python",
   "nbconvert_exporter": "python",
   "pygments_lexer": "ipython3",
   "version": "3.11.11"
  }
 },
 "nbformat": 4,
 "nbformat_minor": 5
}
