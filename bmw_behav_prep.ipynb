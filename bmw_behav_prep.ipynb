{
 "cells": [
  {
   "cell_type": "markdown",
   "id": "c074c90c",
   "metadata": {},
   "source": [
    "Subject's behavioural data during the training sessions and fMRI is preprocessed. The output of this pipeline is analysis dataframes"
   ]
  },
  {
   "cell_type": "code",
   "execution_count": 1,
   "id": "84436d69",
   "metadata": {},
   "outputs": [],
   "source": [
    "import os\n",
    "import sys\n",
    "from pathlib import Path\n",
    "import glob\n",
    "import getpass\n",
    "import importlib\n",
    "\n",
    "import numpy as np\n",
    "import pandas as pd\n",
    "import scipy.io as sio\n",
    "\n",
    "import seaborn as sns\n",
    "import matplotlib.pyplot as plt\n",
    "import matplotlib.patches as patches\n",
    "from matplotlib.cm import ScalarMappable\n",
    "import matplotlib.cm as cm\n",
    "import matplotlib.colors as mcolors\n",
    "\n",
    "import utils\n",
    "importlib.reload(utils)\n",
    "\n",
    "# SET PATHS:\n",
    "baseDir = os.path.join('/Users', getpass.getuser(), 'Desktop', 'Projects', 'bimanual_wrist')\n",
    "fMRI_behavDir = os.path.join(baseDir,'data','fMRI','behavioural')\n",
    "train_behavDir = os.path.join(baseDir,'data','training')\n",
    "anaDir = os.path.join(baseDir,'analysis')\n",
    "\n",
    "path = {'baseDir': baseDir,\n",
    "        'fMRI_behavDir': fMRI_behavDir,\n",
    "        'train_behavDir': train_behavDir,\n",
    "        'anaDir': anaDir}"
   ]
  },
  {
   "cell_type": "markdown",
   "id": "3ae1f211",
   "metadata": {},
   "source": [
    "## Subject routine and prep"
   ]
  },
  {
   "cell_type": "code",
   "execution_count": null,
   "id": "88ccc219",
   "metadata": {},
   "outputs": [],
   "source": [
    "sn = 4\n",
    "\n",
    "# load the behavioural data of subject:\n",
    "train = pd.read_table(os.path.join(train_behavDir, f's{sn:02d}', f'BimanualWrist_MR_{sn}.dat'))\n",
    "fMRI = pd.read_table(os.path.join(fMRI_behavDir, f's{sn:02d}', f'BimanualWrist_MR_{sn}.dat'))\n",
    "\n",
    "utils.dataset.subject_routine(sn, path, smooth_win_sz=0, fs=200)"
   ]
  },
  {
   "cell_type": "code",
   "execution_count": null,
   "id": "694f9ce7",
   "metadata": {},
   "outputs": [
    {
     "data": {
      "text/plain": [
       "(-7.0, 7.0)"
      ]
     },
     "execution_count": 3,
     "metadata": {},
     "output_type": "execute_result"
    },
    {
     "data": {
      "image/png": "[encoded data removed]",
      "text/plain": [
       "<Figure size 1000x500 with 1 Axes>"
      ]
     },
     "metadata": {},
     "output_type": "display_data"
    }
   ],
   "source": [
    "sn = 4\n",
    "D = pd.read_csv(os.path.join(anaDir, f'bmw_train_{sn}.csv'))\n",
    "D_mov = pd.read_csv(os.path.join(anaDir, f'bmw_train_{sn}_mov.csv'))\n",
    "\n",
    "# plot unimanual movements:\n",
    "rows = (D.Uni_or_Bi==0) & (D.cond_name=='left')\n",
    "\n",
    "BN = 1\n",
    "TN = 1\n",
    "# kinematic traces:\n",
    "trial_mov = D_mov[(D_mov.BN==BN) & (D_mov.TN==TN)]\n",
    "radius_l = trial_mov['mov_5'].values.flatten()\n",
    "radius_r = trial_mov['mov_6'].values.flatten()\n",
    "angle_l = trial_mov['mov_7'].values.flatten()\n",
    "angle_r = trial_mov['mov_8'].values.flatten()\n",
    "\n",
    "radius = 5\n",
    "x_offset = radius+2\n",
    "y_offset = 0\n",
    "x_l = radius_l * np.cos(np.deg2rad(angle_l)) - x_offset\n",
    "y_l = radius_l * np.sin(np.deg2rad(angle_l)) + y_offset\n",
    "x_r = radius_r * np.cos(np.deg2rad(angle_r)) + x_offset\n",
    "y_r = radius_r * np.sin(np.deg2rad(angle_r)) + y_offset\n",
    "\n",
    "# plot kinematic traces for left and right hands:\n",
    "fix, ax = plt.subplots(figsize=(10, 5))\n",
    "utils.please.draw_board(ax=ax)\n",
    "plt.plot(x_l, y_l, color='red', alpha=0.5)\n",
    "plt.plot(x_r, y_r, color='blue', alpha=0.5)\n",
    "ax.set_xlim(-14, 14)\n",
    "ax.set_ylim(-7, 7)\n"
   ]
  }
 ],
 "metadata": {
  "kernelspec": {
   "display_name": "Python 3",
   "language": "python",
   "name": "python3"
  },
  "language_info": {
   "codemirror_mode": {
    "name": "ipython",
    "version": 3
   },
   "file_extension": ".py",
   "mimetype": "text/x-python",
   "name": "python",
   "nbconvert_exporter": "python",
   "pygments_lexer": "ipython3",
   "version": "3.11.11"
  }
 },
 "nbformat": 4,
 "nbformat_minor": 5
}
