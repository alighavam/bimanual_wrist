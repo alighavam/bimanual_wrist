{
 "cells": [
  {
   "cell_type": "markdown",
   "id": "8b756b9f",
   "metadata": {},
   "source": [
    "1- Behavioural plots for all conditions.\n",
    "\n",
    "2- Unimanual: comparing RT, MT, MD, between different directions and Right and Left hands.\n",
    "\n",
    "3- Bimanual: comparing RT, MT, MD of the same reach across matched, mirror, mirror-diagonal, unrelated conditions."
   ]
  }
 ],
 "metadata": {
  "language_info": {
   "name": "python"
  }
 },
 "nbformat": 4,
 "nbformat_minor": 5
}
