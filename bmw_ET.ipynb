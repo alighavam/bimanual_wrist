{
 "cells": [
  {
   "cell_type": "markdown",
   "id": "d506f6a2",
   "metadata": {},
   "source": [
    "In unimanual, the speed of which reach is performed could be different across hands and directions. The bimanual reaches I anticipate to be overall slower. Furthermore, I hypothesize that mathced and mirror are similar to each other but different from unmatched."
   ]
  },
  {
   "cell_type": "code",
   "execution_count": 9,
   "id": "01f42f0d",
   "metadata": {},
   "outputs": [],
   "source": [
    "import os\n",
    "import sys\n",
    "from pathlib import Path\n",
    "import glob\n",
    "import getpass\n",
    "import importlib\n",
    "\n",
    "import numpy as np\n",
    "import pandas as pd\n",
    "import scipy.io as sio\n",
    "from statsmodels.stats.anova import AnovaRM\n",
    "\n",
    "import seaborn as sns\n",
    "import matplotlib.pyplot as plt\n",
    "import matplotlib.patches as patches\n",
    "from matplotlib.cm import ScalarMappable\n",
    "import matplotlib.cm as cm\n",
    "import matplotlib.colors as mcolors\n",
    "\n",
    "import utils\n",
    "importlib.reload(utils)\n",
    "\n",
    "# SET PATHS:\n",
    "baseDir = os.path.join('/Users', getpass.getuser(), 'Desktop', 'Projects', 'bimanual_wrist')\n",
    "fMRI_behavDir = os.path.join(baseDir,'data','fMRI','behavioural')\n",
    "train_behavDir = os.path.join(baseDir,'data','training')\n",
    "anaDir = os.path.join(baseDir,'analysis')\n",
    "figDir = os.path.join(baseDir,'figures')\n",
    "\n",
    "path = {'baseDir': baseDir,\n",
    "        'fMRI_behavDir': fMRI_behavDir,\n",
    "        'train_behavDir': train_behavDir,\n",
    "        'anaDir': anaDir}\n",
    "\n"
   ]
  },
  {
   "cell_type": "markdown",
   "id": "4c6474d7",
   "metadata": {},
   "source": [
    "## Unimanual MT"
   ]
  },
  {
   "cell_type": "code",
   "execution_count": 10,
   "id": "5f6a871c",
   "metadata": {},
   "outputs": [
    {
     "data": {
      "image/png": "[encoded data removed]",
      "text/plain": [
       "<Figure size 600x300 with 1 Axes>"
      ]
     },
     "metadata": {},
     "output_type": "display_data"
    },
    {
     "name": "stdout",
     "output_type": "stream",
     "text": [
      "                     Anova\n",
      "================================================\n",
      "                   F Value Num DF  Den DF Pr > F\n",
      "------------------------------------------------\n",
      "targetAngle_L      16.0549 5.0000 30.0000 0.0000\n",
      "Hand                0.0016 1.0000  6.0000 0.9692\n",
      "targetAngle_L:Hand  3.6088 5.0000 30.0000 0.0113\n",
      "================================================\n",
      "\n"
     ]
    }
   ],
   "source": [
    "ana = pd.read_csv(os.path.join(anaDir, 'bmw.csv'))\n",
    "df_uni = ana[ana.Uni_or_Bi == 0]\n",
    "\n",
    "fig, ax = plt.subplots(figsize=(6, 3))\n",
    "sns.boxplot(data=df_uni, x=\"targetAngle_L\", y=\"MT\", hue=\"Hand\", width=0.5, fliersize=0)\n",
    "plt.xlabel('target angle (degrees)')\n",
    "plt.title(f'MT')\n",
    "plt.ylim((0,1000))\n",
    "utils.please.make_it_pretty(ax=ax)\n",
    "# plt.savefig(os.path.join(figDir, 'behaviour', f'unimanual_MT.pdf'), bbox_inches=\"tight\")\n",
    "plt.show()\n",
    "\n",
    "# ANOVA RM:\n",
    "table = AnovaRM(data=df_uni, depvar='MT', subject='sn', within=['targetAngle_L', 'Hand'])\n",
    "results = table.fit()\n",
    "print(results)\n",
    "\n"
   ]
  }
 ],
 "metadata": {
  "kernelspec": {
   "display_name": "Python 3",
   "language": "python",
   "name": "python3"
  },
  "language_info": {
   "codemirror_mode": {
    "name": "ipython",
    "version": 3
   },
   "file_extension": ".py",
   "mimetype": "text/x-python",
   "name": "python",
   "nbconvert_exporter": "python",
   "pygments_lexer": "ipython3",
   "version": "3.11.11"
  }
 },
 "nbformat": 4,
 "nbformat_minor": 5
}
